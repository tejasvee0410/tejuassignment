{
 "cells": [
  {
   "cell_type": "markdown",
   "id": "44b58825",
   "metadata": {},
   "source": [
    "# 1. What does RGBA stand for?"
   ]
  },
  {
   "cell_type": "markdown",
   "id": "8b8179c3",
   "metadata": {},
   "source": [
    "RGBA stand for Red,Green,Blue,Alpha which use for grahical representation."
   ]
  },
  {
   "cell_type": "markdown",
   "id": "d31e6fd1",
   "metadata": {},
   "source": [
    "# 2. From the Pillow module, how do you get the RGBA value of any images?"
   ]
  },
  {
   "cell_type": "markdown",
   "id": "08f69cd4",
   "metadata": {},
   "source": [
    "From the Pillow module to get the RGBA value of any images steps are given below :\n",
    "    \n",
    "    1) open the image by using \"Image.open()\".\n",
    "    \n",
    "    2) Convert the image in RGBA mode by using '.convert(\"RGBA\")'.\n",
    "    \n",
    "    3) Access pixel data which include RGBA value by using \".getpixel()\" or \".load()\"."
   ]
  },
  {
   "cell_type": "markdown",
   "id": "ccee3893",
   "metadata": {},
   "source": [
    "# 3. What is a box tuple, and how does it work?"
   ]
  },
  {
   "cell_type": "markdown",
   "id": "6eafb52f",
   "metadata": {},
   "source": [
    "A box tuple is an argument in pillow library that expect tuple of 4 integer coordinates which represent rectangular ragion in an image.\n",
    "\n",
    "The format of the box tuple is (left,upper,right,lower).\n",
    "\n",
    "    left : The x-coordinate of the left edge of the box.\n",
    "\n",
    "    upper : The y-coordinate of the top edge of the box.\n",
    "\n",
    "    right : The x-coordinate of the right edge of the box.\n",
    "\n",
    "    lower : The y-coordinate of the bottom edge of the box.\n",
    "\n",
    "The coordinates are 0 based and the origin '(0,0)' is at the top-left corner of the image.\n",
    "\n",
    "Box tuple work for cropping, pasting and resizing images.\n",
    "\n",
    "'Image.crop()' method uses the box tuple to specify the area to be crop from image.\n",
    "\n",
    "'Image.paste()' method uses the box tuple to specify the area where image will be pasted.\n",
    "\n",
    "'Image.thumbnail()' method uses the box tuple to maintain the aspect ration during resizing an image.\n"
   ]
  },
  {
   "cell_type": "markdown",
   "id": "fef42bda",
   "metadata": {},
   "source": [
    "# 4. Use your image and load in notebook then, How can you find out the width and height of an Image object?"
   ]
  },
  {
   "cell_type": "code",
   "execution_count": 1,
   "id": "0906952b",
   "metadata": {},
   "outputs": [],
   "source": [
    "# To install Pillow librabry\n",
    "#pip install Pillow"
   ]
  },
  {
   "cell_type": "code",
   "execution_count": 2,
   "id": "b31afed1",
   "metadata": {},
   "outputs": [
    {
     "name": "stdout",
     "output_type": "stream",
     "text": [
      "width =  1366\n",
      "height =  768\n"
     ]
    }
   ],
   "source": [
    "# To get image import image module from PIL\n",
    "from PIL import Image\n",
    "\n",
    "# Path to open image\n",
    "image = Image.open(\"OneDrive/Pictures/Screenshots/2020-08-16.png\") \n",
    "\n",
    "# To get width and height of image \n",
    "width, height = image.size\n",
    "\n",
    "# To print width and height of image\n",
    "print(\"width = \", width)\n",
    "print(\"height = \", height)"
   ]
  },
  {
   "cell_type": "markdown",
   "id": "0ace6151",
   "metadata": {},
   "source": [
    "# 5. What method would you call to get Image object for a 100×100 image, excluding the lower-left quarter of it?"
   ]
  },
  {
   "cell_type": "markdown",
   "id": "a0e68a5d",
   "metadata": {},
   "source": [
    "'Image.crop()' method will be use to get image object for a 100*100 image,excluding the lower-left quarter of it."
   ]
  },
  {
   "cell_type": "markdown",
   "id": "7a0e1e81",
   "metadata": {},
   "source": [
    "# 6. After making changes to an Image object, how could you save it as an image file?"
   ]
  },
  {
   "cell_type": "markdown",
   "id": "c2b00c8e",
   "metadata": {},
   "source": [
    "After making changes to an Image object using 'save()' method we can save it as an image file."
   ]
  },
  {
   "cell_type": "markdown",
   "id": "f5fb9eae",
   "metadata": {},
   "source": [
    "# 7. What module contains Pillow’s shape-drawing code?"
   ]
  },
  {
   "cell_type": "markdown",
   "id": "2bf15c93",
   "metadata": {},
   "source": [
    "'ImageDraw' module contains Pillow's shape-drawing code."
   ]
  },
  {
   "cell_type": "markdown",
   "id": "86b3527a",
   "metadata": {},
   "source": [
    "# 8. Image objects do not have drawing methods. What kind of object does? How do you get this kind of object?"
   ]
  },
  {
   "cell_type": "markdown",
   "id": "82aa496f",
   "metadata": {},
   "source": [
    "Image object do not have built in drawing methods. To draw shapes, lines we use 'ImageDraw' object from Pillow librabry. \n",
    "\n",
    "To get this kind of object we import it from Pillow library."
   ]
  }
 ],
 "metadata": {
  "kernelspec": {
   "display_name": "Python 3 (ipykernel)",
   "language": "python",
   "name": "python3"
  },
  "language_info": {
   "codemirror_mode": {
    "name": "ipython",
    "version": 3
   },
   "file_extension": ".py",
   "mimetype": "text/x-python",
   "name": "python",
   "nbconvert_exporter": "python",
   "pygments_lexer": "ipython3",
   "version": "3.9.13"
  }
 },
 "nbformat": 4,
 "nbformat_minor": 5
}
