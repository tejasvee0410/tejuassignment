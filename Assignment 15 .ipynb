{
 "cells": [
  {
   "cell_type": "markdown",
   "id": "ad59aaf0-09cf-4dfc-80db-e40b5fc72b3b",
   "metadata": {},
   "source": [
    "# 1.How many seconds are in an hour? Use the interactive interpreter as a calculator and multiply the number of seconds in a minute (60) by the number of minutes in an hour (also 60).\n",
    "    sol. 60"
   ]
  },
  {
   "cell_type": "code",
   "execution_count": 1,
   "id": "f9bcb68b-0b45-48e9-983d-d9475e3d22f1",
   "metadata": {},
   "outputs": [
    {
     "name": "stdout",
     "output_type": "stream",
     "text": [
      "seconds in hour is : 3600\n"
     ]
    }
   ],
   "source": [
    "# To find how many seconds in an hour\n",
    "seconds_in_minute = 60\n",
    "minutes_in_hour = 60\n",
    "seconds_in_hour = seconds_in_minute * minutes_in_hour\n",
    "print(\"seconds in hour is :\",seconds_in_hour)"
   ]
  },
  {
   "cell_type": "markdown",
   "id": "33c5ed05-ae2f-4911-b923-acb4479c07a2",
   "metadata": {},
   "source": [
    "# 2. Assign the result from the previous task (seconds in an hour) to a variable called seconds_per_hour."
   ]
  },
  {
   "cell_type": "code",
   "execution_count": 3,
   "id": "9b82cd31-6ebb-4544-addc-eaa57888bffd",
   "metadata": {},
   "outputs": [
    {
     "name": "stdout",
     "output_type": "stream",
     "text": [
      "seconds per hour is : 3600\n"
     ]
    }
   ],
   "source": [
    "seconds_in_minute = 60\n",
    "minutes_in_hour = 60\n",
    "seconds_per_hour = seconds_in_minute * minutes_in_hour\n",
    "print(\"seconds per hour is :\",seconds_per_hour)"
   ]
  },
  {
   "cell_type": "markdown",
   "id": "f0c91f11-376a-4ebb-8e58-d6b0e0b2513b",
   "metadata": {},
   "source": [
    "# 3. How many seconds do you think there are in a day? Make use of the variables seconds per hour and minutes per hour."
   ]
  },
  {
   "cell_type": "code",
   "execution_count": 5,
   "id": "d29fe23d-2bae-4e0c-8611-08aafc315093",
   "metadata": {},
   "outputs": [
    {
     "name": "stdout",
     "output_type": "stream",
     "text": [
      "seconds in a day are : 86400\n"
     ]
    }
   ],
   "source": [
    "seconds_per_minute = 60\n",
    "minutes_per_hour = 60 \n",
    "hours_in_day = 24\n",
    "seconds_in_day = hours_in_day * minutes_per_hour * seconds_per_minute\n",
    "print(\"seconds in a day are :\", seconds_in_day)"
   ]
  },
  {
   "cell_type": "markdown",
   "id": "a6cd0e48-57bf-4a20-8c58-4642dead82e7",
   "metadata": {},
   "source": [
    "# 4. Calculate seconds per day again, but this time save the result in a variable called seconds_per_day"
   ]
  },
  {
   "cell_type": "code",
   "execution_count": 7,
   "id": "c656e696-1e2b-4549-88e6-5f18a7beb9e3",
   "metadata": {},
   "outputs": [
    {
     "name": "stdout",
     "output_type": "stream",
     "text": [
      "seconds per day are : 86400\n"
     ]
    }
   ],
   "source": [
    "seconds_per_minute = 60\n",
    "minutes_per_hour = 60 \n",
    "hours_per_day = 24\n",
    "seconds_per_day = hours_per_day * minutes_per_hour * seconds_per_minute\n",
    "print(\"seconds per day are :\", seconds_per_day)"
   ]
  },
  {
   "cell_type": "markdown",
   "id": "349749f8-f271-43e7-b09d-ddbaa9d44421",
   "metadata": {},
   "source": [
    "# 5. Divide seconds_per_day by seconds_per_hour. Use floating-point (/) division."
   ]
  },
  {
   "cell_type": "code",
   "execution_count": 9,
   "id": "04c59f6d-b608-46e1-8255-29dd96899f3f",
   "metadata": {},
   "outputs": [
    {
     "name": "stdout",
     "output_type": "stream",
     "text": [
      "24.0\n"
     ]
    }
   ],
   "source": [
    "seconds_per_day = 86400\n",
    "seconds_per_hour = 3600\n",
    "result = seconds_per_day / seconds_per_hour\n",
    "print(result)"
   ]
  },
  {
   "cell_type": "markdown",
   "id": "e9b42ce1-8250-4bc7-9206-0248159be72b",
   "metadata": {},
   "source": [
    "# 6. Divide seconds_per_day by seconds_per_hour, using integer (//) division. Did this number agree with the floating-point value from the previous question, aside from the final .0?"
   ]
  },
  {
   "cell_type": "code",
   "execution_count": 11,
   "id": "a185572a-da3f-4023-a2ef-916482b924ae",
   "metadata": {},
   "outputs": [
    {
     "name": "stdout",
     "output_type": "stream",
     "text": [
      "24\n"
     ]
    }
   ],
   "source": [
    "seconds_per_day = 86400\n",
    "seconds_per_hour = 3600\n",
    "result = seconds_per_day // seconds_per_hour\n",
    "print(result)"
   ]
  },
  {
   "cell_type": "markdown",
   "id": "da27e710-1368-41e6-9c61-c83d20fff33b",
   "metadata": {},
   "source": [
    "Yes,this number is agree with the floating point value from the previous queation. "
   ]
  },
  {
   "cell_type": "markdown",
   "id": "6a7670c2-a998-4016-adc3-b157d53c64f9",
   "metadata": {},
   "source": [
    "# 7. Write a generator, genPrimes, that returns the sequence of prime numbers on successive calls to its next() method: 2, 3, 5, 7, 11, ..."
   ]
  },
  {
   "cell_type": "code",
   "execution_count": 13,
   "id": "5457c8b5-abc1-4a45-95ed-4359e2b5d93a",
   "metadata": {},
   "outputs": [],
   "source": [
    "def genPrimes():\n",
    "    n = 2\n",
    "    while True :\n",
    "      is_prime = True\n",
    "      for i in range(2,n):\n",
    "        if (n % i) == 0 :\n",
    "            is_prime = False\n",
    "            break\n",
    "      if is_prime :\n",
    "        yield n\n",
    "      n+= 1"
   ]
  },
  {
   "cell_type": "code",
   "execution_count": 15,
   "id": "eaf53c5b-e314-48e3-9fb6-fc85e1deb5c7",
   "metadata": {},
   "outputs": [
    {
     "name": "stdout",
     "output_type": "stream",
     "text": [
      "2\n",
      "3\n",
      "5\n",
      "7\n",
      "11\n",
      "13\n",
      "17\n",
      "19\n",
      "23\n",
      "29\n"
     ]
    }
   ],
   "source": [
    "gen_primes = genPrimes()\n",
    "for i in range(10):\n",
    "    print(next(gen_primes))"
   ]
  }
 ],
 "metadata": {
  "kernelspec": {
   "display_name": "Python [conda env:base] *",
   "language": "python",
   "name": "conda-base-py"
  },
  "language_info": {
   "codemirror_mode": {
    "name": "ipython",
    "version": 3
   },
   "file_extension": ".py",
   "mimetype": "text/x-python",
   "name": "python",
   "nbconvert_exporter": "python",
   "pygments_lexer": "ipython3",
   "version": "3.12.7"
  }
 },
 "nbformat": 4,
 "nbformat_minor": 5
}
