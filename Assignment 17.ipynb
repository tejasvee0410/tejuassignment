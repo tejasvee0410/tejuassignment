{
 "cells": [
  {
   "cell_type": "markdown",
   "id": "df658d37-c196-4672-b9f1-04659491e74a",
   "metadata": {},
   "source": [
    "# 1.Assign the value 7 to the variable guess_me. Then, write the conditional tests (if, else, and elif) to print the string 'too low' if guess_me is less than 7, 'too high' if greater than 7, and 'just right' if equal to 7."
   ]
  },
  {
   "cell_type": "code",
   "execution_count": 1,
   "id": "bf29798a-b5a5-48db-83cf-82071ee165ac",
   "metadata": {},
   "outputs": [
    {
     "name": "stdout",
     "output_type": "stream",
     "text": [
      "just right\n"
     ]
    }
   ],
   "source": [
    "# variable\n",
    "guess_me = 7\n",
    "# Conditions\n",
    "if guess_me < 7 :\n",
    "    print('too low')\n",
    "elif guess_me > 7:\n",
    "    print('too high')\n",
    "else :\n",
    "    print('just right')"
   ]
  },
  {
   "cell_type": "markdown",
   "id": "1a11d33d-ed68-4433-87f5-ccc5b8779f6f",
   "metadata": {},
   "source": [
    "# 2. Assign the value 7 to the variable guess_me and the value 1 to the variable start. Write a while loop that compares start with guess_me. Print too low if start is less than guess me. If start equals guess_me, print 'found it!' and exit the loop. If start is greater than guess_me, print 'oops' and exit the loop. Increment start at the end of the loop."
   ]
  },
  {
   "cell_type": "code",
   "execution_count": 3,
   "id": "0e0f8d65-1cc7-4f6b-b269-9411bd2423ee",
   "metadata": {},
   "outputs": [
    {
     "name": "stdout",
     "output_type": "stream",
     "text": [
      "too low\n",
      "too low\n",
      "too low\n",
      "too low\n",
      "too low\n",
      "too low\n",
      "found it!\n"
     ]
    }
   ],
   "source": [
    "# variables\n",
    "guess_me = 7\n",
    "start = 1\n",
    "# while loop \n",
    "while start <= guess_me or start > guess_me:\n",
    "    if start < guess_me :\n",
    "        print('too low')\n",
    "    elif start == guess_me :\n",
    "       print('found it!')\n",
    "       break  \n",
    "    else :\n",
    "      print('oops')\n",
    "    start += 1"
   ]
  },
  {
   "cell_type": "markdown",
   "id": "12fdacff-01bb-4b24-a443-ca1d195be850",
   "metadata": {},
   "source": [
    "# 3. Print the following values of the list [3, 2, 1, 0] using a for loop."
   ]
  },
  {
   "cell_type": "code",
   "execution_count": 5,
   "id": "35d868b8-b949-497f-abc6-dd0d85590951",
   "metadata": {},
   "outputs": [
    {
     "name": "stdout",
     "output_type": "stream",
     "text": [
      "3\n",
      "2\n",
      "1\n",
      "0\n"
     ]
    }
   ],
   "source": [
    "# list\n",
    "l = [3,2,1,0]\n",
    "# loop\n",
    "for i in l:\n",
    "      print(i)"
   ]
  },
  {
   "cell_type": "markdown",
   "id": "7c20cef7-68c9-41c2-827a-939fe9e72b90",
   "metadata": {},
   "source": [
    "# 4. Use a list comprehension to make a list of the even numbers in range(10)"
   ]
  },
  {
   "cell_type": "code",
   "execution_count": 7,
   "id": "37baa236-cb05-434b-88b9-ffa4379b123f",
   "metadata": {},
   "outputs": [
    {
     "name": "stdout",
     "output_type": "stream",
     "text": [
      "[0, 2, 4, 6, 8]\n"
     ]
    }
   ],
   "source": [
    "# list comprehension method\n",
    "l = [i for i in range(10) if i % 2 == 0 ]\n",
    "print(l) # To print"
   ]
  },
  {
   "cell_type": "markdown",
   "id": "fd15b790-3a5d-4a75-b949-1915f7a3517c",
   "metadata": {},
   "source": [
    "# 5. Use a dictionary comprehension to create the dictionary squares. Use range(10) to return the keys, and use the square of each key as its value."
   ]
  },
  {
   "cell_type": "code",
   "execution_count": 9,
   "id": "73f634d8-1878-40be-b8ea-89e91e222b07",
   "metadata": {},
   "outputs": [
    {
     "name": "stdout",
     "output_type": "stream",
     "text": [
      "{0: 0, 1: 1, 2: 4, 3: 9, 4: 16, 5: 25, 6: 36, 7: 49, 8: 64, 9: 81}\n"
     ]
    }
   ],
   "source": [
    "# dictionary comprehension method\n",
    "d = { i : i**2 for i in range(10)}\n",
    "print(d) # To print"
   ]
  },
  {
   "cell_type": "markdown",
   "id": "7f9f7f33-f150-4fe1-a43c-2333646a5143",
   "metadata": {},
   "source": [
    "# 6. Construct the set odd from the odd numbers in the range using a set comprehension (10)."
   ]
  },
  {
   "cell_type": "code",
   "execution_count": 11,
   "id": "096e4c62-9b49-4e9c-b8b9-65adb3042d77",
   "metadata": {},
   "outputs": [
    {
     "name": "stdout",
     "output_type": "stream",
     "text": [
      "{1, 3, 5, 7, 9}\n"
     ]
    }
   ],
   "source": [
    "# set comprehension method\n",
    "s = { i for i in range(10) if i % 2 != 0 }\n",
    "print(s) # To print"
   ]
  },
  {
   "cell_type": "markdown",
   "id": "85b77a38-2ebf-4ee5-95a2-fda8458f7e5c",
   "metadata": {},
   "source": [
    "# 7. Use a generator comprehension to return the string &#39;Got &#39; and a number for the numbers in range(10). Iterate through this by using a for loop."
   ]
  },
  {
   "cell_type": "code",
   "execution_count": 13,
   "id": "1f153191-632e-40a2-8962-7fdf231e46d1",
   "metadata": {},
   "outputs": [
    {
     "name": "stdout",
     "output_type": "stream",
     "text": [
      "Got 0\n",
      "Got 1\n",
      "Got 2\n",
      "Got 3\n",
      "Got 4\n",
      "Got 5\n",
      "Got 6\n",
      "Got 7\n",
      "Got 8\n",
      "Got 9\n"
     ]
    }
   ],
   "source": [
    "# generator comprehension method\n",
    "generator_comprehension = ('Got ' + str(i) for i in range(10) )\n",
    "# for loop \n",
    "for i in generator_comprehension :\n",
    "    print(i) "
   ]
  },
  {
   "cell_type": "markdown",
   "id": "69c41104-de50-4455-80f7-9a58e2a3a216",
   "metadata": {},
   "source": [
    "# 8. Define a function called good that returns the list [\"Harry\", \"Ron\", \"Hermione\"]."
   ]
  },
  {
   "cell_type": "code",
   "execution_count": 15,
   "id": "f0f4c563-5eef-499a-972b-835f65ab1e8c",
   "metadata": {},
   "outputs": [
    {
     "name": "stdout",
     "output_type": "stream",
     "text": [
      "['Harry', 'Ron', 'Hermione']\n"
     ]
    }
   ],
   "source": [
    "# defining funtion\n",
    "def good():\n",
    "    return [\"Harry\", \"Ron\", \"Hermione\"]\n",
    "# To print\n",
    "print(good())"
   ]
  },
  {
   "cell_type": "markdown",
   "id": "d54521ed-1920-4c95-ad63-98688e5b9884",
   "metadata": {},
   "source": [
    "# 9. Define a generator function called get_odds that returns the odd numbers from range(10). Use a for loop to find and print the third value returned."
   ]
  },
  {
   "cell_type": "code",
   "execution_count": 17,
   "id": "78114262-7f58-4875-89e1-fc980111d431",
   "metadata": {},
   "outputs": [
    {
     "name": "stdout",
     "output_type": "stream",
     "text": [
      "5\n"
     ]
    }
   ],
   "source": [
    "# generator function\n",
    "def get_odds():\n",
    "    for i in range(10) :\n",
    "        if i % 2 != 0:\n",
    "            yield i\n",
    "\n",
    "# To find and print 3rd value\n",
    "n = 0 \n",
    "for i in get_odds() :\n",
    "    n += 1\n",
    "    if n == 3:\n",
    "      print(i)"
   ]
  },
  {
   "cell_type": "markdown",
   "id": "9dd8fad6-98c5-4702-b300-a28f0862cd87",
   "metadata": {},
   "source": [
    "# 10. Define an exception called OopsException. Raise this exception to see what happens. Then write the code to catch this exception and print \"Caught an oops\"."
   ]
  },
  {
   "cell_type": "code",
   "execution_count": 21,
   "id": "5d5c7351-df26-4520-b097-516fef2feda6",
   "metadata": {},
   "outputs": [],
   "source": [
    "# Define OopsException\n",
    "class OopsException(Exception):\n",
    "    pass"
   ]
  },
  {
   "cell_type": "code",
   "execution_count": 23,
   "id": "bcd74e34-6ac3-4585-9c97-53669523b034",
   "metadata": {},
   "outputs": [
    {
     "name": "stdout",
     "output_type": "stream",
     "text": [
      "Caught an oops : Something went wrong!\n"
     ]
    }
   ],
   "source": [
    "# The code to catch exception\n",
    "try :\n",
    "    raise OopsException(\"Something went wrong!\")\n",
    "except OopsException as e:\n",
    "    print(\"Caught an oops :\", e)"
   ]
  },
  {
   "cell_type": "markdown",
   "id": "a42527ac-8d1f-4bad-b838-431f73e7c040",
   "metadata": {},
   "source": [
    "# 11. Use zip() to make a dictionary called movies that pairs these lists: titles = [\"Creature of Habit\", \"Crewel Fate\"] and plots = [\"A nun turns into a monster\",\"A haunted yarn shop\"]."
   ]
  },
  {
   "cell_type": "code",
   "execution_count": 44,
   "id": "fe3ec0ac-35cc-4015-883c-ab8a0c7fa41f",
   "metadata": {},
   "outputs": [
    {
     "name": "stdout",
     "output_type": "stream",
     "text": [
      "{'Creature of Habit': 'A nun turns into a monster', 'Crewel Fate': 'A haunted yarn shop'}\n"
     ]
    }
   ],
   "source": [
    "# Two lists\n",
    "titles = [\"Creature of Habit\", \"Crewel Fate\"] \n",
    "plots = [\"A nun turns into a monster\",\"A haunted yarn shop\"]\n",
    "# using Zip \n",
    "zip(titles,plots)\n",
    "movie = dict(zip(titles,plots))\n",
    "print(movie)"
   ]
  }
 ],
 "metadata": {
  "kernelspec": {
   "display_name": "Python [conda env:base] *",
   "language": "python",
   "name": "conda-base-py"
  },
  "language_info": {
   "codemirror_mode": {
    "name": "ipython",
    "version": 3
   },
   "file_extension": ".py",
   "mimetype": "text/x-python",
   "name": "python",
   "nbconvert_exporter": "python",
   "pygments_lexer": "ipython3",
   "version": "3.12.7"
  }
 },
 "nbformat": 4,
 "nbformat_minor": 5
}
