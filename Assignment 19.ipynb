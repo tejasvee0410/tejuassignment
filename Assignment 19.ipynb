{
 "cells": [
  {
   "cell_type": "markdown",
   "id": "2b12c3ff-48a5-48de-92bb-56a84d835938",
   "metadata": {},
   "source": [
    "# 1. Make a class called Thing with no contents and print it. Then, create an object called example from this class and also print it. Are the printed values the same or different?"
   ]
  },
  {
   "cell_type": "code",
   "execution_count": 1,
   "id": "d5bf4719-31bb-4242-9f05-0ec33f67329c",
   "metadata": {},
   "outputs": [
    {
     "name": "stdout",
     "output_type": "stream",
     "text": [
      "<class '__main__.Thing'>\n",
      "<__main__.Thing object at 0x00000185904647A0>\n"
     ]
    }
   ],
   "source": [
    "# Creat the class without contents\n",
    "class Thing:\n",
    "   pass\n",
    "# To print \n",
    "print(Thing)\n",
    "\n",
    "#object\n",
    "example= Thing()\n",
    "# To print\n",
    "print(example)"
   ]
  },
  {
   "cell_type": "markdown",
   "id": "053297b0-81ba-4fa2-bf8a-e93b04274433",
   "metadata": {},
   "source": [
    "The printed values are different"
   ]
  },
  {
   "cell_type": "markdown",
   "id": "9e3df1a8-1661-45c0-9d93-b4c9cbf975af",
   "metadata": {},
   "source": [
    "# 2. Create a new class called Thing2 and add the value &#39;abc&#39; to the letters class attribute. Letters should be printed."
   ]
  },
  {
   "cell_type": "code",
   "execution_count": 3,
   "id": "5e070310-49f7-48fc-aa05-911f15e9e461",
   "metadata": {},
   "outputs": [
    {
     "name": "stdout",
     "output_type": "stream",
     "text": [
      "abc\n"
     ]
    }
   ],
   "source": [
    "# Creat the class\n",
    "class Thing2 :\n",
    "    letters = 'abc'\n",
    "# To print\n",
    "print(Thing2.letters)   "
   ]
  },
  {
   "cell_type": "markdown",
   "id": "8472b666-6cfa-4fae-b910-40fdaf4e9bfc",
   "metadata": {},
   "source": [
    "# 3. Make yet another class called, of course, Thing3. This time, assign the value &#39;xyz&#39; to an instance (object) attribute called letters. Print letters. Do you need to make an object from the class to do this?"
   ]
  },
  {
   "cell_type": "code",
   "execution_count": 5,
   "id": "3d1d688a-56ef-4c36-8e7c-0e547d2edb42",
   "metadata": {},
   "outputs": [
    {
     "name": "stdout",
     "output_type": "stream",
     "text": [
      "xyz\n"
     ]
    }
   ],
   "source": [
    "# Creat the class\n",
    "class Thing3:\n",
    "    letters = 'xyz'\n",
    "print(Thing3.letters) # To print"
   ]
  },
  {
   "cell_type": "code",
   "execution_count": 7,
   "id": "c5521f13-83c3-4551-a64a-39199c1e1c44",
   "metadata": {},
   "outputs": [
    {
     "name": "stdout",
     "output_type": "stream",
     "text": [
      "xyz\n"
     ]
    }
   ],
   "source": [
    "# Creat the class\n",
    "class Thing3 :\n",
    "    # main method\n",
    "    def __init__(self) :\n",
    "        self.letters = 'xyz'\n",
    "# Object\n",
    "example = Thing3()\n",
    "# To print\n",
    "print(example.letters)"
   ]
  },
  {
   "cell_type": "markdown",
   "id": "ad3abff7-6e41-4725-90f8-ff511046337e",
   "metadata": {},
   "source": [
    "Yes, we need to make an object from the class to do this."
   ]
  },
  {
   "cell_type": "markdown",
   "id": "881b8c7e-1435-4d06-9689-6c3aa97f971e",
   "metadata": {},
   "source": [
    "# 4. Create an Element class with the instance attributes name, symbol, and number. Create a class object with the values \"Hydrogen\", \"H\" and 1."
   ]
  },
  {
   "cell_type": "code",
   "execution_count": 9,
   "id": "48e4850b-930f-4a8d-9da1-9066440c3b97",
   "metadata": {},
   "outputs": [
    {
     "name": "stdout",
     "output_type": "stream",
     "text": [
      "Hydrogen\n",
      "H\n",
      "1\n"
     ]
    }
   ],
   "source": [
    "# Creat the class\n",
    "class Element :\n",
    "    # method\n",
    "    def __init__(self,name,symbol,number):\n",
    "        self.name = \"Hydrogen\"\n",
    "        self.symbol = \"H\"\n",
    "        self.number = 1\n",
    "# Object\n",
    "element = Element(\"hydrogen\",\"H\",1)\n",
    "# To print\n",
    "print(element.name)\n",
    "print(element.symbol)\n",
    "print(element.number)"
   ]
  },
  {
   "cell_type": "markdown",
   "id": "2ce6e53c-7a13-4694-b8b7-7bb1502a1827",
   "metadata": {},
   "source": [
    "# 5. Make a dictionary with these keys and values: 'name': 'Hydrogen', 'symbol': 'H','number': 1. Then, create an object called hydrogen from class Element using this dictionary."
   ]
  },
  {
   "cell_type": "code",
   "execution_count": 11,
   "id": "798a87ca-706d-4e92-8aed-43fc1f833f22",
   "metadata": {},
   "outputs": [
    {
     "name": "stdout",
     "output_type": "stream",
     "text": [
      "Hydrogen\n",
      "H\n",
      "1\n"
     ]
    }
   ],
   "source": [
    "#Creat the class\n",
    "class Element :\n",
    "    # method \n",
    "    def __init__(self,name,symbol,number) :\n",
    "        self.name = name\n",
    "        self.symbol = symbol\n",
    "        self.number = number\n",
    "\n",
    "d = {'name' : 'Hydrogen' , 'symbol' : 'H' , 'number' : 1} # Dictionary\n",
    "# Object\n",
    "hydrogen = Element(**d)\n",
    "# To print\n",
    "print(hydrogen.name)\n",
    "print(hydrogen.symbol)\n",
    "print(hydrogen.number)"
   ]
  },
  {
   "cell_type": "markdown",
   "id": "fc17356a-7390-4b93-8cb4-df3cabb1bc4b",
   "metadata": {},
   "source": [
    "# 6. For the Element class, define a method called dump() that prints the values of the object’s attributes (name, symbol, and number). Create the hydrogen object from this new definition and use dump() to print its attributes."
   ]
  },
  {
   "cell_type": "code",
   "execution_count": 15,
   "id": "6e54b316-3c65-4f36-9303-99053947f1ca",
   "metadata": {},
   "outputs": [
    {
     "name": "stdout",
     "output_type": "stream",
     "text": [
      "{'name': 'Hydrogen', 'symbol': 'H', 'number': 1}\n"
     ]
    }
   ],
   "source": [
    "# Creat the class\n",
    "class Element :\n",
    "    # methods\n",
    "    def __init__(self,name,symbol,number) :\n",
    "        self.name = name\n",
    "        self.symbol = symbol\n",
    "        self.number = number\n",
    "\n",
    "    def dump(self):\n",
    "       print({\"name\" : self.name , \"symbol\" : self.symbol, \"number\" :self.number})\n",
    "\n",
    "d = {'name' : 'Hydrogen' , 'symbol' : 'H' , 'number' : 1} # dictionary\n",
    "# object\n",
    "hydrogen = Element(**d)\n",
    "# calling dump() method\n",
    "hydrogen.dump()"
   ]
  },
  {
   "cell_type": "markdown",
   "id": "3e40337a-15fb-4cbd-873a-fb1d4b210e20",
   "metadata": {},
   "source": [
    "# 7. Call print(hydrogen). In the definition of Element, change the name of method dump to __str__, create a new hydrogen object, and call print(hydrogen) again."
   ]
  },
  {
   "cell_type": "code",
   "execution_count": 17,
   "id": "8961585c-15ca-49cd-b7fe-7b959d080164",
   "metadata": {},
   "outputs": [
    {
     "name": "stdout",
     "output_type": "stream",
     "text": [
      "{'name': 'Hydrogen', 'symbol': 'H', 'number': 1}\n"
     ]
    }
   ],
   "source": [
    "# Creat the class\n",
    "class Element :\n",
    "    # methods\n",
    "    def __init__(self,name,symbol,number) :\n",
    "        self.name = name\n",
    "        self.symbol = symbol\n",
    "        self.number = number\n",
    "\n",
    "    def str(self) :\n",
    "        print({\"name\" : self.name , \"symbol\" : self.symbol , \"number\" : self.number})\n",
    "\n",
    "dict = {'name' : 'Hydrogen', 'symbol' : 'H', 'number': 1} # dictionary\n",
    "#object\n",
    "hydrogen = Element(**d)\n",
    "# calling str() method \n",
    "hydrogen.str()"
   ]
  },
  {
   "cell_type": "markdown",
   "id": "e069579b-51d4-41a4-bd82-fd3cd7ccf0e8",
   "metadata": {},
   "source": [
    "# 8. Modify Element to make the attributes name, symbol, and number private. Define a getter property for each to return its value."
   ]
  },
  {
   "cell_type": "code",
   "execution_count": 25,
   "id": "b6bd6ad4-0dea-4f4b-b70b-60c76de61549",
   "metadata": {},
   "outputs": [
    {
     "name": "stdout",
     "output_type": "stream",
     "text": [
      "Hydrogen\n",
      "H\n",
      "1\n",
      "{'name': 'Hydrogen', 'symbol': 'H', 'number': 1}\n"
     ]
    }
   ],
   "source": [
    "# Creat the class \n",
    "class Element :\n",
    "    # methods\n",
    "    def __init__(self,name, symbol, number) :\n",
    "        self.__name = name\n",
    "        self.__symbol = symbol\n",
    "        self.__number = number\n",
    "        \n",
    "    # getter property method    \n",
    "    def get_name(self) :\n",
    "       return self.__name\n",
    "\n",
    "    def get_symbol(self) :\n",
    "      return self.__symbol\n",
    "\n",
    "    def get_number(self) :\n",
    "       return self.__number\n",
    "\n",
    "    def __str__(self) :\n",
    "      return str({'name' : self.__name , 'symbol' : self.__symbol , 'number' : self.__number})\n",
    "        \n",
    "# object\n",
    "hydrogen = Element('Hydrogen', 'H', 1)\n",
    "\n",
    "# To print \n",
    "print(hydrogen.get_name())\n",
    "print(hydrogen.get_symbol())\n",
    "print(hydrogen.get_number())\n",
    "print(hydrogen)"
   ]
  },
  {
   "cell_type": "markdown",
   "id": "f61d598f-20b8-4167-8313-ae349ebd6cc7",
   "metadata": {},
   "source": [
    "# 9. Define three classes: Bear, Rabbit, and Octothorpe. For each, define only one method: eats(). This should return \"berries\" (Bear),\"clover\" (Rabbit), or \"campers\" (Octothorpe). Create one object from each and print what it eats."
   ]
  },
  {
   "cell_type": "code",
   "execution_count": 27,
   "id": "70c230af-eb97-4edd-a15e-82e3e0b4e93a",
   "metadata": {},
   "outputs": [
    {
     "name": "stdout",
     "output_type": "stream",
     "text": [
      "berries\n",
      "clover\n",
      "campers\n"
     ]
    }
   ],
   "source": [
    "# Creat the three classes with only one method\n",
    "class Bear :\n",
    "    def eats(self):\n",
    "        return \"berries\"\n",
    "        \n",
    "class Rabbit:\n",
    "    def eats(self):\n",
    "        return \"clover\"\n",
    "\n",
    "class Octothorpe :\n",
    "    def eats(self):\n",
    "        return \"campers\"\n",
    "# objects\n",
    "b = Bear()\n",
    "r = Rabbit()\n",
    "o = Octothorpe()\n",
    "# To print \n",
    "print(b.eats())\n",
    "print(r.eats())\n",
    "print(o.eats())"
   ]
  },
  {
   "cell_type": "markdown",
   "id": "8a97bee7-88fa-4c7b-a577-c90b92e3032b",
   "metadata": {},
   "source": [
    "# 10. Define these classes: Laser, Claw, and SmartPhone. Each has only one method: does(). This returns \"disintegrate\" (Laser),\"crush\" (Claw), or \"ring\" (SmartPhone). Then, define the class Robot that has one instance (object) of each of these. Define a does() method for the Robot that prints what its component objects do."
   ]
  },
  {
   "cell_type": "code",
   "execution_count": 56,
   "id": "eae8565a-cc09-479f-88dc-31e6b1d35421",
   "metadata": {},
   "outputs": [
    {
     "name": "stdout",
     "output_type": "stream",
     "text": [
      "disintegrate\n",
      "crush\n",
      "ring\n",
      "('Laser :disintegrate', 'Claw :crush', 'Smartphone :ring')\n"
     ]
    }
   ],
   "source": [
    "# Creat the different classes with only one m\n",
    "class Laser :\n",
    "    def does(self) :\n",
    "        return \"disintegrate\"\n",
    "\n",
    "class Claw :\n",
    "    def does(self) :\n",
    "        return \"crush\"\n",
    "\n",
    "class Smartphone :\n",
    "    def does(self) :\n",
    "        return \"ring\"\n",
    "\n",
    "class Robot :\n",
    "    def __init__(self):\n",
    "        self.laser = Laser()\n",
    "        self.claw = Claw()\n",
    "        self.smartphone = Smartphone()\n",
    "\n",
    "    def does(self) :\n",
    "        return (\"Laser :\" + self.laser.does(), \"Claw :\" + self.claw.does(), \"Smartphone :\" + self.smartphone.does())\n",
    "\n",
    "l = Laser()\n",
    "c = Claw()\n",
    "s = Smartphone()\n",
    "r = Robot()\n",
    "print(l.does())\n",
    "print(c.does())\n",
    "print(s.does())\n",
    "print(r.does())\n",
    "             "
   ]
  }
 ],
 "metadata": {
  "kernelspec": {
   "display_name": "Python [conda env:base] *",
   "language": "python",
   "name": "conda-base-py"
  },
  "language_info": {
   "codemirror_mode": {
    "name": "ipython",
    "version": 3
   },
   "file_extension": ".py",
   "mimetype": "text/x-python",
   "name": "python",
   "nbconvert_exporter": "python",
   "pygments_lexer": "ipython3",
   "version": "3.12.7"
  }
 },
 "nbformat": 4,
 "nbformat_minor": 5
}
