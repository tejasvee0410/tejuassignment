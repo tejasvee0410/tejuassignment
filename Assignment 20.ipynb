{
 "cells": [
  {
   "cell_type": "markdown",
   "id": "b8b2310c-c80a-4363-bf64-988f1eaa9f7b",
   "metadata": {},
   "source": [
    "# 1. Set the variable test1 to the string &#39;This is a test of the emergency text system,&#39; and save test1 to a file named test.txt."
   ]
  },
  {
   "cell_type": "code",
   "execution_count": 1,
   "id": "97f37284-5fab-4837-a15f-5ef8a6f65b44",
   "metadata": {},
   "outputs": [
    {
     "name": "stdout",
     "output_type": "stream",
     "text": [
      "This is a test of the emergency text system\n"
     ]
    }
   ],
   "source": [
    "# To save the variable to a file\n",
    "test1 = 'This is a test of the emergency text system'\n",
    "f = open(\"test.txt\", \"a\")\n",
    "f.write(test1)\n",
    "f.close()\n",
    "\n",
    "# To read the file\n",
    "f = open(\"test.txt\", \"r\")\n",
    "print(f.read())"
   ]
  },
  {
   "cell_type": "markdown",
   "id": "fa58cd2a-a779-4279-b08a-662853337ffc",
   "metadata": {},
   "source": [
    "# 2. Read the contents of the file test.txt into the variable test2. Is there a difference between test 1 and test 2?"
   ]
  },
  {
   "cell_type": "code",
   "execution_count": 3,
   "id": "280dde76-57d0-45a5-96ca-3e5f920a77aa",
   "metadata": {},
   "outputs": [
    {
     "name": "stdout",
     "output_type": "stream",
     "text": [
      "test1 = This is a test of the emergency text system\n",
      "test2 = This is a test of the emergency text system\n"
     ]
    }
   ],
   "source": [
    "f = open(\"test.txt\" , \"r\")\n",
    "test2 = f.read()\n",
    "print(\"test1 =\", test1)\n",
    "print(\"test2 =\", test2)"
   ]
  },
  {
   "cell_type": "markdown",
   "id": "0dea3fa3-afbe-45c5-b99a-e6eb013e27db",
   "metadata": {},
   "source": [
    "No, there is no difference between test1 and test2."
   ]
  },
  {
   "cell_type": "markdown",
   "id": "6843196b-5614-40e6-a43e-3fa72aa65059",
   "metadata": {},
   "source": [
    "# 3. Create a CSV file called books.csv by using these lines:\n",
    "        title,author,year\n",
    "        The Weirdstone of Brisingamen,Alan Garner,1960\n",
    "        Perdido Street Station,China Miéville,2000\n",
    "        Thud!,Terry Pratchett,2005\n",
    "        The Spellman Files,Lisa Lutz,2007\n",
    "        Small Gods,Terry Pratchett,1992"
   ]
  },
  {
   "cell_type": "code",
   "execution_count": 5,
   "id": "707c89f7-5fc2-4ad7-832d-eaa5f41fbaec",
   "metadata": {},
   "outputs": [
    {
     "name": "stdout",
     "output_type": "stream",
     "text": [
      "title,author,year\n",
      "The Weirdstone of Brisingamen,Alan Garner,1960\n",
      "Perdido Street Station,China Mieville,2000\n",
      "Thud!,Terry Pratchett,2005\n",
      "The Spellman Files,Lisa Lutz,2007\n",
      "Small Gods,Terry Pratchett,1992\n",
      "\n"
     ]
    }
   ],
   "source": [
    "import csv\n",
    "data = [['title', 'author', 'year'],\n",
    "        ['The Weirdstone of Brisingamen', 'Alan Garner', 1960],\n",
    "        ['Perdido Street Station', 'China Mieville', 2000],\n",
    "        ['Thud!', 'Terry Pratchett', 2005],\n",
    "        ['The Spellman Files', 'Lisa Lutz', 2007],\n",
    "        ['Small Gods', 'Terry Pratchett', 1992]]\n",
    "\n",
    "with open(\"books.csv\", \"w\", newline = \"\" ) as CSVfile :\n",
    "    writer = csv.writer(CSVfile)\n",
    "    writer.writerows(data)\n",
    "\n",
    "f = open(\"books.csv\", \"r\") \n",
    "print(f.read())"
   ]
  },
  {
   "cell_type": "markdown",
   "id": "bbfee762-3acb-4f41-9854-33fc5c3f3b54",
   "metadata": {},
   "source": [
    "# 4. Use the sqlite3 module to create a SQLite database called books.db, and a table called books with these fields: title (text), author (text), and year (integer)."
   ]
  },
  {
   "cell_type": "code",
   "execution_count": 11,
   "id": "e3582dc9-6b16-45d1-869c-0dc4a91673bd",
   "metadata": {},
   "outputs": [
    {
     "name": "stdout",
     "output_type": "stream",
     "text": [
      "Database and Table created sucessfully\n",
      "[(0, 'title', 'TEXT', 0, None, 0), (1, 'author', 'TEXT', 0, None, 0), (2, 'year', 'INTEGER', 0, None, 0)]\n"
     ]
    }
   ],
   "source": [
    "# impoting sqlite3 \n",
    "import sqlite3\n",
    "\n",
    "# Create database\n",
    "conn = sqlite3.connect(\"books.db\")\n",
    "cursor = conn.cursor()\n",
    "\n",
    "# Create the book table \n",
    "\n",
    "cursor.execute(\"\"\" CREATE Table books (title text ,author text, year integer)\"\"\")\n",
    "cursor.execute(\"PRAGMA table_info(books);\")\n",
    "\n",
    "# Commit changes \n",
    "conn.commit()\n",
    "\n",
    "# To print\n",
    "print(\"Database and Table created sucessfully\")\n",
    "print(cursor.fetchall())\n",
    "\n",
    "# Close the connection\n",
    "conn.close()"
   ]
  },
  {
   "cell_type": "markdown",
   "id": "683a9be5-4db2-4810-b48d-a065022fcfd7",
   "metadata": {},
   "source": [
    "# 5. Read books.csv and insert its data into the book table."
   ]
  },
  {
   "cell_type": "code",
   "execution_count": 13,
   "id": "862d46e5-ed9d-4c94-ae1e-e76995921533",
   "metadata": {},
   "outputs": [
    {
     "name": "stdout",
     "output_type": "stream",
     "text": [
      "Database and Table created sucessfully\n",
      "[('The Weirdstone of Brisingamen', 'Alan Garner', 1960), ('Perdido Street Station', 'China Mieville', 2000), ('Thud!', 'Terry Pratchett', 2005), ('The Spellman Files', 'Lisa Lutz', 2007), ('Small Gods', 'Terry Pratchett', 1992)]\n"
     ]
    }
   ],
   "source": [
    "# import sqlite3 and csvfile\n",
    "import sqlite3\n",
    "import csv\n",
    "\n",
    "# Create database\n",
    "conn = sqlite3.connect(\"books.db\")\n",
    "cursor = conn.cursor()\n",
    "\n",
    "# To open and read the csv file\n",
    "f = open(\"books.csv\", \"r\", encoding = \"utf-8\")\n",
    "reader = csv.reader(f)\n",
    "next(reader)\n",
    "for row in reader:\n",
    "    cursor.execute(\"INSERT INTO books (title, author, year) VALUES (?, ?, ?)\", (row[0], row[1], int(row[2])))\n",
    "\n",
    "# Create the book table \n",
    "cursor.execute(\"SELECT * FROM books\")\n",
    "\n",
    "# Commit changes \n",
    "conn.commit()\n",
    "\n",
    "# To print\n",
    "print(\"Database and Table created sucessfully\")\n",
    "print(cursor.fetchall())\n",
    "\n",
    "# Close the connection\n",
    "conn.close()"
   ]
  },
  {
   "cell_type": "markdown",
   "id": "3939d13c-19b7-4d51-aa25-93e39e46a62c",
   "metadata": {},
   "source": [
    "# 6. Select and print the title column from the book table in alphabetical order."
   ]
  },
  {
   "cell_type": "code",
   "execution_count": 15,
   "id": "c62effaf-94b8-4b5c-8118-639de3b8ca2f",
   "metadata": {},
   "outputs": [
    {
     "name": "stdout",
     "output_type": "stream",
     "text": [
      "BOOK Titles (Alphabetic Order):\n",
      "Perdido Street Station\n",
      "Small Gods\n",
      "The Spellman Files\n",
      "The Weirdstone of Brisingamen\n",
      "Thud!\n"
     ]
    }
   ],
   "source": [
    "# importing sqlite3\n",
    "import sqlite3\n",
    "\n",
    "# Create database\n",
    "conn = sqlite3.connect(\"books.db\")\n",
    "cursor = conn.cursor()\n",
    "\n",
    "#select the title column and print \n",
    "cursor.execute(\"SELECT title FROM books ORDER BY title ASC\")\n",
    "print(\"BOOK Titles (Alphabetic Order):\")\n",
    "\n",
    "# Fetch and print all titles\n",
    "for row in cursor.fetchall():\n",
    "    print(row[0])\n",
    "\n",
    "# Close the connection\n",
    "conn.close()"
   ]
  },
  {
   "cell_type": "markdown",
   "id": "decda0fd-eed5-4217-8693-ccfa0cc4d224",
   "metadata": {},
   "source": [
    "# 7. From the book table, select and print all columns in the order of publication."
   ]
  },
  {
   "cell_type": "code",
   "execution_count": 17,
   "id": "f58b87f6-40de-4e21-a1db-5bf7c207312b",
   "metadata": {},
   "outputs": [
    {
     "name": "stdout",
     "output_type": "stream",
     "text": [
      "Books Ordered BY year of Publication :\n",
      "The Weirdstone of Brisingamen , Alan Garner , 1960\n",
      "Small Gods , Terry Pratchett , 1992\n",
      "Perdido Street Station , China Mieville , 2000\n",
      "Thud! , Terry Pratchett , 2005\n",
      "The Spellman Files , Lisa Lutz , 2007\n"
     ]
    }
   ],
   "source": [
    "# Importing sqlite3\n",
    "import sqlite3\n",
    "\n",
    "# Create database\n",
    "conn = sqlite3.connect(\"books.db\")\n",
    "cursor = conn.cursor()\n",
    "\n",
    "#Select all the columns in the order of publication\n",
    "cursor.execute(\"SELECT * FROM books ORDER BY year ASC\")\n",
    "\n",
    "# Fetch and print books\n",
    "print(\"Books Ordered BY year of Publication :\")\n",
    "\n",
    "for row in cursor.fetchall() :\n",
    "    print(row[0], \",\", row[1], \",\", row[2])\n",
    "\n",
    "# Close the connection\n",
    "conn.close()"
   ]
  },
  {
   "cell_type": "markdown",
   "id": "5c63cca4-fbb6-45e0-9b1f-19bf9257214e",
   "metadata": {},
   "source": [
    "# 8. Use the sqlalchemy module to connect to the sqlite3 database books.db that you just made in exercise 6."
   ]
  },
  {
   "cell_type": "code",
   "execution_count": 19,
   "id": "13bf2cec-00db-4692-8806-c04bae5e9121",
   "metadata": {},
   "outputs": [
    {
     "name": "stdout",
     "output_type": "stream",
     "text": [
      "Requirement already satisfied: sqlalchemy in c:\\users\\kalpe\\anaconda3\\lib\\site-packages (2.0.34)\n",
      "Requirement already satisfied: typing-extensions>=4.6.0 in c:\\users\\kalpe\\anaconda3\\lib\\site-packages (from sqlalchemy) (4.11.0)\n",
      "Requirement already satisfied: greenlet!=0.4.17 in c:\\users\\kalpe\\anaconda3\\lib\\site-packages (from sqlalchemy) (3.0.1)\n"
     ]
    }
   ],
   "source": [
    "# install sqlalchemy\n",
    "!pip install sqlalchemy"
   ]
  },
  {
   "cell_type": "code",
   "execution_count": 21,
   "id": "e92bd131-dd6a-4c94-8cbc-b53f537df2df",
   "metadata": {},
   "outputs": [
    {
     "name": "stdout",
     "output_type": "stream",
     "text": [
      "BOOK Titles (Alphabetic Order):\n",
      "Perdido Street Station\n",
      "Small Gods\n",
      "The Spellman Files\n",
      "The Weirdstone of Brisingamen\n",
      "Thud!\n"
     ]
    }
   ],
   "source": [
    "# import a function from sqlalchemy module\n",
    "from sqlalchemy import create_engine, text\n",
    "\n",
    "# Create a connection to sqlite3 database\n",
    "engine = create_engine(\"sqlite:///books.db\")\n",
    "\n",
    "# Establish connection\n",
    "connection = engine.connect()\n",
    "\n",
    "# Result\n",
    "result = connection.execute(text(\"SELECT title FROM books ORDER BY title ASC\"))\n",
    "print(\"BOOK Titles (Alphabetic Order):\")\n",
    "\n",
    "# To print\n",
    "for row in result :\n",
    "    print(row[0])   "
   ]
  },
  {
   "cell_type": "markdown",
   "id": "e7cd51d4-b822-4fb8-b488-e5aa4912aa2b",
   "metadata": {},
   "source": [
    "# 9. Install the Redis server and the Python redis library (pip install redis) on your computer. Create a Redis hash called test with the fields count (1) and name (\"Fester Bestertester\"). Print all the fields for test."
   ]
  },
  {
   "cell_type": "code",
   "execution_count": null,
   "id": "5f728468-3adc-41ac-8c09-ed1006037271",
   "metadata": {},
   "outputs": [],
   "source": [
    "pip install redis"
   ]
  },
  {
   "cell_type": "code",
   "execution_count": 1,
   "id": "307837e2-18a2-4fd2-b898-f8c0d9a151d9",
   "metadata": {},
   "outputs": [
    {
     "name": "stdout",
     "output_type": "stream",
     "text": [
      "Name: redisNote: you may need to restart the kernel to use updated packages.\n",
      "\n",
      "Version: 5.2.1\n",
      "Summary: Python client for Redis database and key-value store\n",
      "Home-page: https://github.com/redis/redis-py\n",
      "Author: Redis Inc.\n",
      "Author-email: oss@redis.com\n",
      "License: MIT\n",
      "Location: C:\\Users\\kalpe\\anaconda3\\Lib\\site-packages\n",
      "Requires: \n",
      "Required-by: \n"
     ]
    }
   ],
   "source": [
    "pip show redis"
   ]
  },
  {
   "cell_type": "code",
   "execution_count": 1,
   "id": "c80e7500-1460-4801-b2ac-a0f616534e74",
   "metadata": {},
   "outputs": [
    {
     "name": "stdout",
     "output_type": "stream",
     "text": [
      "{'count': '1', 'name': 'Fester Bestertester'}\n"
     ]
    }
   ],
   "source": [
    "# importing redis\n",
    "import redis\n",
    "\n",
    "# Connect to redis server\n",
    "r = redis.Redis(host = 'localhost', port = 6379, decode_responses = True)\n",
    "\n",
    "# Create a redis hash\n",
    "r.hset(\"test\", \"count\", 1)\n",
    "r.hset(\"test\", \"name\", \"Fester Bestertester\")\n",
    "\n",
    "# get and print all values\n",
    "test_data = r.hgetall(\"test\")\n",
    "print(test_data)"
   ]
  },
  {
   "cell_type": "markdown",
   "id": "d04e3004-b8cd-4e19-be0e-a3429cbd3f70",
   "metadata": {},
   "source": [
    "# 10. Increment the count field of test and print it."
   ]
  },
  {
   "cell_type": "code",
   "execution_count": 3,
   "id": "41a88d30-3c81-4782-a651-559309d092d4",
   "metadata": {},
   "outputs": [
    {
     "name": "stdout",
     "output_type": "stream",
     "text": [
      "Updated count: 2\n"
     ]
    }
   ],
   "source": [
    "# importing redis\n",
    "import redis\n",
    "\n",
    "# Connect to redis server\n",
    "r = redis.Redis(host = 'localhost', port = 6379, decode_responses = True)\n",
    "\n",
    "# To increment the count\n",
    "r.hincrby(\"test\", \"count\", 1)\n",
    "\n",
    "updated_count = r.hget(\"test\", \"count\")\n",
    "print(\"Updated count:\", updated_count)"
   ]
  }
 ],
 "metadata": {
  "kernelspec": {
   "display_name": "Python [conda env:base] *",
   "language": "python",
   "name": "conda-base-py"
  },
  "language_info": {
   "codemirror_mode": {
    "name": "ipython",
    "version": 3
   },
   "file_extension": ".py",
   "mimetype": "text/x-python",
   "name": "python",
   "nbconvert_exporter": "python",
   "pygments_lexer": "ipython3",
   "version": "3.12.7"
  }
 },
 "nbformat": 4,
 "nbformat_minor": 5
}
