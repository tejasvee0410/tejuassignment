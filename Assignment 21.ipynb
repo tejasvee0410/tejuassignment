{
 "cells": [
  {
   "cell_type": "markdown",
   "id": "82a7067b-34dd-4c19-a396-e569e792ca9a",
   "metadata": {},
   "source": [
    "# 1. Add the current date to the text file today.txt as a string."
   ]
  },
  {
   "cell_type": "code",
   "execution_count": 1,
   "id": "b59f8baf-72f1-49a9-b282-a54a0329613b",
   "metadata": {},
   "outputs": [
    {
     "name": "stdout",
     "output_type": "stream",
     "text": [
      "12-03-2025\n"
     ]
    }
   ],
   "source": [
    "# import date \n",
    "from datetime import date\n",
    "# Creat file \n",
    "f = open(\"today.txt\", \"w\")\n",
    "# Add current date to file\n",
    "current_date = date.today().strftime(\"%d-%m-%Y\")\n",
    "f.write(current_date)\n",
    "#Close the file\n",
    "f.close()\n",
    "\n",
    "# Read the file and print it \n",
    "f= open(\"today.txt\",\"r\")\n",
    "print(f.read())"
   ]
  },
  {
   "cell_type": "markdown",
   "id": "fd077dd7-f828-4c52-9e93-7daf691bc052",
   "metadata": {},
   "source": [
    "# 2. Read the text file today.txt into the string today_string."
   ]
  },
  {
   "cell_type": "code",
   "execution_count": 3,
   "id": "939fc836-8f9b-45cb-b63f-5e7356e42e44",
   "metadata": {},
   "outputs": [
    {
     "name": "stdout",
     "output_type": "stream",
     "text": [
      "12-03-2025\n"
     ]
    }
   ],
   "source": [
    "# To read into string \n",
    "f = open(\"today.txt\",\"r\")\n",
    "today_string = f.read()\n",
    "print(today_string)"
   ]
  },
  {
   "cell_type": "markdown",
   "id": "9de23fc8-28c4-4ed5-8e85-fe2db427218d",
   "metadata": {},
   "source": [
    "# 3. Parse the date from today_string."
   ]
  },
  {
   "cell_type": "code",
   "execution_count": 5,
   "id": "b0867976-ed08-4ea5-873f-b97874af6070",
   "metadata": {},
   "outputs": [
    {
     "name": "stdout",
     "output_type": "stream",
     "text": [
      "2025-03-12 00:00:00\n"
     ]
    }
   ],
   "source": [
    "# To convert string to original datetime formate\n",
    "from datetime import datetime\n",
    "today_string = \"12-03-2025\"\n",
    "parse_date = datetime.strptime(today_string, \"%d-%m-%Y\")\n",
    "print(parse_date)"
   ]
  },
  {
   "cell_type": "markdown",
   "id": "a1428ee6-387a-41a9-b258-bc71b4d21382",
   "metadata": {},
   "source": [
    "# 4. List the files in your current directory."
   ]
  },
  {
   "cell_type": "code",
   "execution_count": 7,
   "id": "97544198-8647-4850-9405-5355b905b6ad",
   "metadata": {},
   "outputs": [
    {
     "name": "stdout",
     "output_type": "stream",
     "text": [
      "['.anaconda', '.conda', '.condarc', '.continuum', '.ipynb_checkpoints', '.ipython', '.jupyter', '3D Objects', 'anaconda3', 'anaconda_projects', 'AppData', 'Application Data', 'Assignment 15 .ipynb', 'assignment 16.ipynb', 'Assignment 17.ipynb', 'Assignment 19.ipynb', 'Assignment 20.ipynb', 'Assignment 21.ipynb', 'Assignment18.ipynb', 'books.csv', 'books.db', 'Contacts', 'Cookies', 'Documents', 'Downloads', 'Favorites', 'Intel', 'IntelGraphicsProfiles', 'Links', 'Local Settings', 'Music', 'My Documents', 'NetHood', 'NTUSER.DAT', 'ntuser.dat.LOG1', 'ntuser.dat.LOG2', 'NTUSER.DAT{53b39e88-18c4-11ea-a811-000d3aa4692b}.TM.blf', 'NTUSER.DAT{53b39e88-18c4-11ea-a811-000d3aa4692b}.TMContainer00000000000000000001.regtrans-ms', 'NTUSER.DAT{53b39e88-18c4-11ea-a811-000d3aa4692b}.TMContainer00000000000000000002.regtrans-ms', 'ntuser.ini', 'OneDrive', 'PrintHood', 'Programing assignment 14.ipynb', 'Programing Assignment 16.ipynb', 'Programing Assignment 17.ipynb', 'Programing Assignment 18.ipynb', 'Programing Assignment 19.ipynb', 'Programing Assignment 20.ipynb', 'Programing_Assignment 15.ipynb', 'Recent', 'Saved Games', 'Searches', 'SendTo', 'Start Menu', 'Templates', 'test.txt', 'today.txt', 'Videos', 'zoo.py', '__pycache__']\n"
     ]
    }
   ],
   "source": [
    "# To see files in current directory\n",
    "import os\n",
    "files = os.listdir()\n",
    "print(files)"
   ]
  },
  {
   "cell_type": "markdown",
   "id": "22c016c3-387b-4e5f-a805-ba4e37b419c2",
   "metadata": {},
   "source": [
    "# 5. Create a list of all of the files in your parent directory (minimum five files should be available)."
   ]
  },
  {
   "cell_type": "code",
   "execution_count": 9,
   "id": "fa3ab599-ed08-45f1-a46b-3c6dd9d53298",
   "metadata": {},
   "outputs": [
    {
     "name": "stdout",
     "output_type": "stream",
     "text": [
      "['All Users', 'Default', 'Default User', 'desktop.ini', 'kalpe', 'Public']\n"
     ]
    }
   ],
   "source": [
    "# To see files in parent directory\n",
    "import os\n",
    "parent_dir = os.path.abspath(\"..\")\n",
    "files = os.listdir(parent_dir)\n",
    "print(files)"
   ]
  },
  {
   "cell_type": "markdown",
   "id": "1647f02b-9360-4798-b283-a9f75acf8cc6",
   "metadata": {},
   "source": [
    "# 6. Use multiprocessing to create three separate processes. Make each one wait a random number of seconds between one and five, print the current time, and then exit."
   ]
  },
  {
   "cell_type": "code",
   "execution_count": 11,
   "id": "b05477f1-4aec-4902-8450-0158bb63c877",
   "metadata": {},
   "outputs": [
    {
     "name": "stdout",
     "output_type": "stream",
     "text": [
      "Process: Worker-3 finished at: 18:47:24 after waiting for 1 second\n",
      "Process: Worker-1 finished at: 18:47:25 after waiting for 2 seconds\n",
      "Process: Worker-2 finished at: 18:47:26 after waiting for 3 seconds\n",
      "All Processes have finished\n"
     ]
    }
   ],
   "source": [
    "# import time, random, datetime, threading to do 3 separate process \n",
    "import time\n",
    "import random\n",
    "from datetime import datetime\n",
    "import threading\n",
    "\n",
    "# Function\n",
    "def worker():\n",
    "    \"worker function wait for random number , print the current time and then exit.\"\n",
    "    wait_time = random.randint(1,5) # To get wait time\n",
    "    time.sleep(wait_time) # To pause for some seconds\n",
    "    print(\"Process:\", threading.current_thread().name , \"finished at:\", datetime.now().strftime(\"%H:%M:%S\"), \"after waiting for\", wait_time, (\"second\" if wait_time == 1 else \"seconds\"))\n",
    "\n",
    "# Condition\n",
    "if __name__ == \"__main__\" :\n",
    "\n",
    " # Create 3 separate processes\n",
    "   process1 = threading.Thread(target=worker, name = \"Worker-1\")\n",
    "   process2 = threading.Thread(target=worker, name = \"Worker-2\")\n",
    "   process3 = threading.Thread(target=worker, name = \"Worker-3\")\n",
    "\n",
    " # Start processes\n",
    "   process1.start()\n",
    "   process2.start()\n",
    "   process3.start()\n",
    "    \n",
    " # To complete processes\n",
    "   process1.join()\n",
    "   process2.join()\n",
    "   process3.join()\n",
    "    \n",
    " # To print that all processes finished\n",
    "   print(\"All Processes have finished\")"
   ]
  },
  {
   "cell_type": "markdown",
   "id": "98e33403-15ce-4f7f-b2df-b6c835858903",
   "metadata": {},
   "source": [
    "# 7. Create a date object of your day of birth."
   ]
  },
  {
   "cell_type": "code",
   "execution_count": 14,
   "id": "72a4a33a-88b2-49e5-9b1a-c9a1361b7c87",
   "metadata": {},
   "outputs": [
    {
     "name": "stdout",
     "output_type": "stream",
     "text": [
      "Your date of birth is : 1998-02-25\n"
     ]
    }
   ],
   "source": [
    "from datetime import date\n",
    "birth_date = date(1998, 2, 25)\n",
    "print(\"Your date of birth is :\", birth_date)"
   ]
  },
  {
   "cell_type": "markdown",
   "id": "76ef5b79-4aaa-4d51-adcc-e3f8676390a8",
   "metadata": {},
   "source": [
    "# 8. What day of the week was your day of birth?"
   ]
  },
  {
   "cell_type": "code",
   "execution_count": 9,
   "id": "62872eb7-8f99-443b-9762-e6d9972a0177",
   "metadata": {},
   "outputs": [
    {
     "name": "stdout",
     "output_type": "stream",
     "text": [
      "You were born on : Wednesday\n"
     ]
    }
   ],
   "source": [
    "from datetime import date\n",
    "birth_date = date(1998,2,25)\n",
    "day_of_week = birth_date.strftime(\"%A\")\n",
    "print(\"You were born on :\", day_of_week)"
   ]
  },
  {
   "cell_type": "markdown",
   "id": "7be40569-3fa0-434d-84cb-881f90c18eb7",
   "metadata": {},
   "source": [
    "# 9. When will you be (or when were you) 10,000 days old?"
   ]
  },
  {
   "cell_type": "code",
   "execution_count": 16,
   "id": "24382452-d949-46a7-9ad2-aa90beb30693",
   "metadata": {},
   "outputs": [
    {
     "name": "stdout",
     "output_type": "stream",
     "text": [
      "You will be 10,000 days old on : 2025-07-13\n"
     ]
    }
   ],
   "source": [
    "from datetime import date , timedelta\n",
    "birth_date = date(1998,2,25)\n",
    "days_10k = birth_date + timedelta(days= 10000)\n",
    "print(\"You will be 10,000 days old on :\", days_10k)"
   ]
  },
  {
   "cell_type": "code",
   "execution_count": null,
   "id": "28eb874f-6b67-4c71-9759-af5e2f0e7611",
   "metadata": {},
   "outputs": [],
   "source": []
  }
 ],
 "metadata": {
  "kernelspec": {
   "display_name": "Python [conda env:base] *",
   "language": "python",
   "name": "conda-base-py"
  },
  "language_info": {
   "codemirror_mode": {
    "name": "ipython",
    "version": 3
   },
   "file_extension": ".py",
   "mimetype": "text/x-python",
   "name": "python",
   "nbconvert_exporter": "python",
   "pygments_lexer": "ipython3",
   "version": "3.12.7"
  }
 },
 "nbformat": 4,
 "nbformat_minor": 5
}
