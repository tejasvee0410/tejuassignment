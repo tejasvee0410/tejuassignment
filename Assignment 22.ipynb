{
 "cells": [
  {
   "cell_type": "markdown",
   "id": "34bf475a-932f-4582-95ba-0c6fb6c7d6e2",
   "metadata": {},
   "source": [
    "# 1. What is the result of the code, and explain?\n",
    "\n",
    ">>> X = \"iNeuron\"\n",
    "\n",
    ">>> def func():\n",
    "    \n",
    "print(X)\n",
    "\n",
    "\n",
    ">>> func()"
   ]
  },
  {
   "cell_type": "code",
   "execution_count": 1,
   "id": "3da23731-7910-48f4-832a-a9c7371c23ce",
   "metadata": {},
   "outputs": [
    {
     "name": "stdout",
     "output_type": "stream",
     "text": [
      "iNeuron\n"
     ]
    }
   ],
   "source": [
    "X = \"iNeuron\"\n",
    "\n",
    "def func():\n",
    "\n",
    "   print(X)\n",
    "\n",
    "func()"
   ]
  },
  {
   "cell_type": "markdown",
   "id": "06f82cd0-c93b-46ef-b681-743387c2064c",
   "metadata": {},
   "source": [
    "Here, Variable 'X' is defined globally. \n",
    "\n",
    "Function func() is defined.\n",
    "\n",
    "Then we try to print variable 'X' but it not print because it does not have local variable.\n",
    "    \n",
    "So, we call the function which find out the variable 'X' in global scope.\n"
   ]
  },
  {
   "cell_type": "markdown",
   "id": "02112c71-989b-4b08-aa09-9123dd82ac65",
   "metadata": {},
   "source": [
    "# 2. What is the result of the code, and explain?\n",
    "\n",
    ">>> X = \"iNeuron\"\n",
    "\n",
    ">>> def func():\n",
    "    \n",
    "X =\"NI!\"\n",
    "\n",
    "\n",
    ">>> func()\n",
    "\n",
    ">>> print(X)\n"
   ]
  },
  {
   "cell_type": "code",
   "execution_count": 3,
   "id": "a7e03f4e-88e4-42e0-9bf5-3e141877cb29",
   "metadata": {},
   "outputs": [
    {
     "name": "stdout",
     "output_type": "stream",
     "text": [
      "iNeuron\n"
     ]
    }
   ],
   "source": [
    "X = \"iNeuron\"\n",
    "\n",
    "def func():\n",
    "\n",
    "   X =\"NI!\"\n",
    "\n",
    "func()\n",
    "\n",
    "\n",
    "print(X)"
   ]
  },
  {
   "cell_type": "markdown",
   "id": "4d5d3845-c1c7-407d-a797-75ab7da8ca40",
   "metadata": {},
   "source": [
    "Here, Variable 'X' is defined globally. \n",
    "\n",
    "Then Function func() created in which local variable 'X' is available. \n",
    "\n",
    "When we call the func() it does not affect global varible after that when we execut print(X) it print global variable because func() did not modify it."
   ]
  },
  {
   "cell_type": "markdown",
   "id": "2af1673f-9245-4743-9da3-b1ae10ccc7a5",
   "metadata": {},
   "source": [
    "# 3. What does this code print, and why?\n",
    "\n",
    ">>> X = \"iNeuron\"\n",
    "\n",
    ">>> def func():\n",
    "    \n",
    "X = \"NI\"\n",
    "\n",
    "print(X)\n",
    "\n",
    ">>> func()\n",
    "\n",
    ">>> print(X)"
   ]
  },
  {
   "cell_type": "code",
   "execution_count": 3,
   "id": "cfdb35a4-c5c6-477d-bcd6-a8ae449e44b3",
   "metadata": {},
   "outputs": [
    {
     "name": "stdout",
     "output_type": "stream",
     "text": [
      "NI\n",
      "iNeuron\n"
     ]
    }
   ],
   "source": [
    "X = \"iNeuron\"\n",
    "def func():\n",
    "   X = \"NI\"\n",
    "   print(X)\n",
    "\n",
    "func()\n",
    "print(X)"
   ]
  },
  {
   "cell_type": "markdown",
   "id": "bc16ff1a-1a11-428e-abd9-e9b3a3bda5f7",
   "metadata": {},
   "source": [
    "Here,Variable 'X' is defined globally.\n",
    "\n",
    "Function func() created in which local variable 'X' is available.\n",
    "    \n",
    "When we execute print(X) inside the function it will print local variable.\n",
    "    \n",
    "After funtion call the local variable is destroyed.\n",
    "\n",
    "After that when we execute print(X) it will print global variable .\n",
    "\n",
    "So, we get both local variable \"NI\" and global variable \"iNeuron\" as output."
   ]
  },
  {
   "cell_type": "markdown",
   "id": "b3ae1b8d-e82a-4bbd-a4c4-901dd3baf4df",
   "metadata": {},
   "source": [
    "# 4. What output does this code produce? Why?\n",
    "\n",
    ">>> X = \"iNeuron\"\n",
    "\n",
    ">>> def func():\n",
    "    \n",
    "global X\n",
    "\n",
    "X = \"NI\"\n",
    "\n",
    ">>> func()\n",
    "\n",
    ">>> print(X)"
   ]
  },
  {
   "cell_type": "code",
   "execution_count": 47,
   "id": "ecfeb39a-09e9-4098-aca9-31cbfbcd9af6",
   "metadata": {},
   "outputs": [
    {
     "name": "stdout",
     "output_type": "stream",
     "text": [
      "NI\n"
     ]
    }
   ],
   "source": [
    "X = \"iNeuron\"\n",
    "\n",
    "def func():\n",
    "\n",
    "   global X\n",
    "\n",
    "   X = \"NI\"\n",
    "\n",
    "func()\n",
    "\n",
    "print(X)"
   ]
  },
  {
   "cell_type": "markdown",
   "id": "f3e6af39-de34-47f4-bb81-67b84aabc062",
   "metadata": {},
   "source": [
    "Here, Variable 'X' is defined globally.\n",
    "\n",
    "After creating the function func() we use global variable 'X' inside the function.\n",
    "    \n",
    "Now we assign new value to global variable as X = \"NI\".\n",
    "\n",
    "When we call the function globle variable value changes from \"iNeuron\" to \"NI\".\n",
    "\n",
    "When we execute print statement it will print new value of variable. \n",
    "\n",
    "So, we get \"NI\" as output.\n"
   ]
  },
  {
   "cell_type": "markdown",
   "id": "5a239146-577a-4dff-b58f-0ba3920d23fd",
   "metadata": {},
   "source": [
    "# 5. What about this code—what’s the output, and why?\n",
    "\n",
    ">>> X = \"iNeuron\"\n",
    "\n",
    ">>> def func():\n",
    "    \n",
    "X = \"NI\"\n",
    "\n",
    "def nested():\n",
    "    \n",
    "print(X)\n",
    "\n",
    "nested()\n",
    "\n",
    ">>> func()\n",
    "\n",
    ">>> X"
   ]
  },
  {
   "cell_type": "code",
   "execution_count": 86,
   "id": "da12f6c6-390d-4cb8-9fe0-e70939e86807",
   "metadata": {},
   "outputs": [
    {
     "name": "stdout",
     "output_type": "stream",
     "text": [
      "NI\n"
     ]
    },
    {
     "data": {
      "text/plain": [
       "'iNeuron'"
      ]
     },
     "execution_count": 86,
     "metadata": {},
     "output_type": "execute_result"
    }
   ],
   "source": [
    "X = \"iNeuron\"\n",
    "\n",
    "def func():\n",
    "\n",
    "   X = \"NI\"\n",
    "\n",
    "   def nested():\n",
    "\n",
    "      print(X)\n",
    "\n",
    "   nested()\n",
    "\n",
    "func()\n",
    "\n",
    "X"
   ]
  },
  {
   "cell_type": "markdown",
   "id": "4ec70000-bc94-47bf-9360-12c45c55fc28",
   "metadata": {},
   "source": [
    "Here, global variable 'X' is defined as \"iNeuron\".\n",
    "\n",
    "First we create a function func() and inside this function local variable X is available.\n",
    "\n",
    "After that we created another function nested() inside this function.\n",
    "\n",
    "After that we call nested() function which try to print local variable X but nested() is inside the fun().\n",
    "\n",
    "When we call func() function it calls nested() function where local variable X is stored which print \"NI\".\n",
    "\n",
    "After func() finished local variable destroyed.\n",
    "    \n",
    "when global variable 'X' reffered it returns  \"iNeuron\" ."
   ]
  },
  {
   "cell_type": "markdown",
   "id": "cf0e4b66-7560-4359-bc22-40df6cba5343",
   "metadata": {},
   "source": [
    "# 6. How about this code: what is its output in Python 3, and explain?\n",
    "\n",
    ">>> def func():\n",
    "    \n",
    "       X = \"NI\"\n",
    "    \n",
    "       def nested():\n",
    "           \n",
    "          nonlocal X\n",
    "           \n",
    "          X = \"Spam\"\n",
    "           \n",
    "       nested()\n",
    "    \n",
    "       print(X)\n",
    "\n",
    ">>> func()"
   ]
  },
  {
   "cell_type": "code",
   "execution_count": 103,
   "id": "924de8c7-761f-4b96-9d93-6103f01d730c",
   "metadata": {},
   "outputs": [
    {
     "name": "stdout",
     "output_type": "stream",
     "text": [
      "Spam\n"
     ]
    }
   ],
   "source": [
    "def func():\n",
    "\n",
    "   X = \"NI\"\n",
    "\n",
    "   def nested():\n",
    "       \n",
    "      nonlocal X\n",
    "       \n",
    "      X = \"Spam\"\n",
    "       \n",
    "   nested()\n",
    "\n",
    "   print(X)\n",
    "    \n",
    "func()"
   ]
  },
  {
   "cell_type": "markdown",
   "id": "62f6f93e-63ee-46f4-812b-56a0a4ed390f",
   "metadata": {},
   "source": [
    "Here, we create a function func().\n",
    "\n",
    "Inside this function we have local variable X = \"NI\".\n",
    "\n",
    "Another function nested() is inside this function func().\n",
    "\n",
    "This nested() function has nonlocal variable X which refers to local variable inside the func().\n",
    "\n",
    "When we call nested() function it modify the value of X from \"NI\" to \"Spam\". \n",
    "    \n",
    "Then we execute print() statement inside func() which print \"Spam\".\n",
    "\n",
    "When finally we call func() it returns \"Spam\" as output. "
   ]
  }
 ],
 "metadata": {
  "kernelspec": {
   "display_name": "Python [conda env:base] *",
   "language": "python",
   "name": "conda-base-py"
  },
  "language_info": {
   "codemirror_mode": {
    "name": "ipython",
    "version": 3
   },
   "file_extension": ".py",
   "mimetype": "text/x-python",
   "name": "python",
   "nbconvert_exporter": "python",
   "pygments_lexer": "ipython3",
   "version": "3.12.7"
  }
 },
 "nbformat": 4,
 "nbformat_minor": 5
}
