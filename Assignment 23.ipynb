{
 "cells": [
  {
   "cell_type": "markdown",
   "id": "b63825a8-2d7c-4cff-8dcb-9f94c4176735",
   "metadata": {},
   "source": [
    "1. What is the result of the code, and why?\n",
    "\n",
    ">>> def func(a, b=6, c=8):\n",
    "    \n",
    "print(a, b, c)\n",
    "\n",
    ">>> func(1, 2)"
   ]
  },
  {
   "cell_type": "code",
   "execution_count": 7,
   "id": "c335f6c2-d431-49fc-9255-fabdab8a9915",
   "metadata": {},
   "outputs": [
    {
     "name": "stdout",
     "output_type": "stream",
     "text": [
      "1 2 8\n"
     ]
    }
   ],
   "source": [
    "def func(a, b=6, c=8):\n",
    "    print(a, b, c)\n",
    "\n",
    "func(1, 2)"
   ]
  },
  {
   "cell_type": "markdown",
   "id": "1c03820f-ca62-48ed-92d7-220e4f136cfc",
   "metadata": {},
   "source": [
    "The function has 3 parameters a,b,c where a required argument and b and c has default value.\n",
    "    \n",
    "print function print the value of a,b,c inside the function.\n",
    "\n",
    "when we call the function it returns the value of a,b,c where a = 1 is passed b = 2 is overriding and c = 8 defalut values.\n",
    "\n",
    "so, it returns 1,2,8."
   ]
  },
  {
   "cell_type": "markdown",
   "id": "b92e880a-f08a-4d8f-8f8a-ecd22f36e1fd",
   "metadata": {},
   "source": [
    "# 2. What is the result of this code, and why?\n",
    "\n",
    ">>> def func(a, b, c=5):\n",
    "    \n",
    "print(a, b, c)\n",
    "\n",
    ">>> func(1, c=3, b=2)\n"
   ]
  },
  {
   "cell_type": "code",
   "execution_count": 16,
   "id": "488877c3-4307-4100-9b72-e28f46325e11",
   "metadata": {},
   "outputs": [
    {
     "name": "stdout",
     "output_type": "stream",
     "text": [
      "1 2 3\n"
     ]
    }
   ],
   "source": [
    "def func(a, b, c=5):\n",
    "   print(a, b, c)\n",
    "\n",
    "func(1, c=3, b=2)"
   ]
  },
  {
   "cell_type": "markdown",
   "id": "8afa9e37-4d48-485d-b7b1-ad269d250adb",
   "metadata": {},
   "source": [
    "The function has 3 parameters a,b,c where a  and b required arguments and c has default value.\n",
    "\n",
    "print function print the value of a,b,c inside the function.\n",
    "\n",
    "when we call the function it returns the value of a,b,c where a = 1 and  b = 2 passed and c = 3 is overriding values.\n",
    "\n",
    "so, it return 1,2,3."
   ]
  },
  {
   "cell_type": "markdown",
   "id": "de065af0-8446-4678-abcc-90d34ec62bc2",
   "metadata": {},
   "source": [
    "# 3. How about this code: what is its result, and why?\n",
    "\n",
    ">>> def func(a, *pargs):\n",
    "    \n",
    "print(a, pargs)\n",
    "\n",
    ">>> func(1, 2, 3)"
   ]
  },
  {
   "cell_type": "code",
   "execution_count": 22,
   "id": "d5429543-7da0-49a8-8e46-73be5debc89f",
   "metadata": {},
   "outputs": [
    {
     "name": "stdout",
     "output_type": "stream",
     "text": [
      "1 (2, 3)\n"
     ]
    }
   ],
   "source": [
    "def func(a, *pargs):\n",
    "    print(a, pargs)\n",
    "\n",
    "func(1, 2, 3)"
   ]
  },
  {
   "cell_type": "markdown",
   "id": "a08ae067-3cb7-407b-96ba-54e484fbf749",
   "metadata": {},
   "source": [
    "The function has 2 parameters a and *pargs where * means multiple values.\n",
    "\n",
    "When we call the the function it returns the value of a and *pargs where a = 1 and *pargs = (2,3) passed.\n",
    "\n",
    "so it returns 1 (2,3)."
   ]
  },
  {
   "cell_type": "markdown",
   "id": "584aa5c9-ca1e-4d01-aacc-a49c8b5da061",
   "metadata": {},
   "source": [
    "# 4. What does this code print, and why?\n",
    "\n",
    ">>> def func(a, **kargs):\n",
    "    \n",
    "print(a, kargs)\n",
    "\n",
    ">>> func(a=1, c=3, b=2)"
   ]
  },
  {
   "cell_type": "code",
   "execution_count": 35,
   "id": "d80ee111-0a9f-4642-aba8-fd37f8aa7741",
   "metadata": {},
   "outputs": [
    {
     "name": "stdout",
     "output_type": "stream",
     "text": [
      "1 {'c': 3, 'b': 2}\n"
     ]
    }
   ],
   "source": [
    "def func(a, **kargs):\n",
    "    print(a, kargs)\n",
    "\n",
    "func(a=1, c=3, b=2)"
   ]
  },
  {
   "cell_type": "markdown",
   "id": "96928fc2-cd5f-4c4d-924a-c30fc19a24ab",
   "metadata": {},
   "source": [
    "The function has 2 parameters a and **kargs.\n",
    "\n",
    "When we call the function it returns the value of a and **kargs where **kargs is stored in dictionary form.\n",
    "\n",
    "Here a = 1, c = 3 and b = 2 is passed.so, we get the output 1 {'c' : 3, 'b': 2}. "
   ]
  },
  {
   "cell_type": "markdown",
   "id": "99506a1f-7714-4360-a03a-170665a858bb",
   "metadata": {},
   "source": [
    "# 5. What gets printed by this, and explain?\n",
    "\n",
    ">>> def func(a, b, c=8, d=5): \n",
    "    \n",
    "    print(a, b, c, d)\n",
    "    \n",
    ">>> func(1, *(5, 6))"
   ]
  },
  {
   "cell_type": "code",
   "execution_count": 45,
   "id": "236cc9bf-dd7f-449e-908c-dcff5712a301",
   "metadata": {},
   "outputs": [
    {
     "name": "stdout",
     "output_type": "stream",
     "text": [
      "1 5 6 5\n"
     ]
    }
   ],
   "source": [
    "def func(a, b, c=8, d=5):\n",
    "   print(a, b, c, d)\n",
    "    \n",
    "func(1, *(5, 6))"
   ]
  },
  {
   "cell_type": "markdown",
   "id": "80622b5b-7478-47e6-9cf8-4b24f0465f3f",
   "metadata": {},
   "source": [
    "The function has 4 parameters a,b,c,d where a,b are required arguments and c=8 & d=5 are default values.\n",
    "\n",
    "When we call the function we passed a = 1 , *(5,6) unpack as b = 5 and c = 6 is overriding and d has default value.\n",
    "\n",
    "So,we get the output 1,5,6,5."
   ]
  },
  {
   "cell_type": "markdown",
   "id": "3d8fdc3d-a667-49ac-9c0d-2fd794bfa678",
   "metadata": {},
   "source": [
    "# 6. what is the result of this, and explain?\n",
    "\n",
    ">>> def func(a, b, c): \n",
    "    \n",
    "    a = 2; b[0] = \"x\" ; c[\"a\"] = \"y\"\n",
    "    \n",
    ">>> l=1; m=[1]; n={\"a\":0}\n",
    "\n",
    ">>> func(l, m, n)\n",
    "\n",
    ">>> l, m, n"
   ]
  },
  {
   "cell_type": "code",
   "execution_count": 66,
   "id": "5623d44b-59f4-4e1d-b894-0b189f104bb7",
   "metadata": {},
   "outputs": [
    {
     "data": {
      "text/plain": [
       "(1, ['x'], {'a': 'y'})"
      ]
     },
     "execution_count": 66,
     "metadata": {},
     "output_type": "execute_result"
    }
   ],
   "source": [
    "def func(a, b, c):\n",
    "\n",
    "   a = 2\n",
    "   b[0] = \"x\" \n",
    "   c[\"a\"] = \"y\"\n",
    "\n",
    "l=1\n",
    "m=[1]\n",
    "n={\"a\":0}\n",
    "\n",
    "func(l, m, n)\n",
    "\n",
    "l, m, n"
   ]
  },
  {
   "cell_type": "code",
   "execution_count": null,
   "id": "ffe0aec8-05a3-444e-bd07-8e6da7f86521",
   "metadata": {},
   "outputs": [],
   "source": [
    "The function func has 3 parameters a,b,c. \n",
    "\n",
    "When calling the func(l,m,n) a gets copy of l while b refers to same list as m and c refers to same dictionary as n.\n",
    "\n",
    "That means l remain unchanged while b[0] = \"x\"  modifies m and c[\"a\"] = \"y\" modifies n.\n",
    "\n",
    "so, we get the output l = 1, m = ['x'] , n = {'a' : 'y'}."
   ]
  },
  {
   "cell_type": "code",
   "execution_count": null,
   "id": "91cff4be-2973-47b1-a902-b75edf00f2a7",
   "metadata": {},
   "outputs": [],
   "source": []
  }
 ],
 "metadata": {
  "kernelspec": {
   "display_name": "Python [conda env:base] *",
   "language": "python",
   "name": "conda-base-py"
  },
  "language_info": {
   "codemirror_mode": {
    "name": "ipython",
    "version": 3
   },
   "file_extension": ".py",
   "mimetype": "text/x-python",
   "name": "python",
   "nbconvert_exporter": "python",
   "pygments_lexer": "ipython3",
   "version": "3.12.7"
  }
 },
 "nbformat": 4,
 "nbformat_minor": 5
}
