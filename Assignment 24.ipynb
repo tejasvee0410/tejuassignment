{
 "cells": [
  {
   "cell_type": "markdown",
   "id": "54b1ce32-fe9d-49ff-a2b5-7bd574a50486",
   "metadata": {},
   "source": [
    "# 1. What is the relationship between def statements and lambda expressions ?"
   ]
  },
  {
   "cell_type": "markdown",
   "id": "8f5abd98-6795-422d-bfbb-660a4bf3107c",
   "metadata": {},
   "source": [
    "The relationship between def statements and lambda expression is that both are used to define a function in python.\n",
    "    \n",
    "Every lambda can be written as def but not every def can be written as lambda.\n",
    "    \n",
    "Both behave similarly but different in readability and flexibility."
   ]
  },
  {
   "cell_type": "markdown",
   "id": "0c28520a-5659-4922-91b2-2fde6448292c",
   "metadata": {},
   "source": [
    "# 2. What is the benefit of lambda?"
   ]
  },
  {
   "cell_type": "markdown",
   "id": "ce31c992-8a28-4b83-8934-2aff939ee9c1",
   "metadata": {},
   "source": [
    "The benefit of lambda is as follows:\n",
    "\n",
    "No need name to define it.\n",
    "    \n",
    "Useful for sort and simple operation so, that we can save memory.\n",
    "\n",
    "Often used in functional programming with built in functions."
   ]
  },
  {
   "cell_type": "markdown",
   "id": "386ac91a-dc14-4436-9cb4-091dac31f66d",
   "metadata": {},
   "source": [
    "# 3. Compare and contrast map, filter, and reduce."
   ]
  },
  {
   "cell_type": "markdown",
   "id": "89a549e4-dc20-4be8-816f-2111553bb18b",
   "metadata": {},
   "source": [
    "map() : It is used to modify each element in a list.\n",
    "    \n",
    "     It returns same number of elements as input.\n",
    "\n",
    "     It is used for data transformation.\n",
    "\n",
    "filter() : It is used to filter selected element based on condition.\n",
    "            \n",
    "        It returns equal or fewer elements than input.\n",
    "            \n",
    "        It is used for selecting data.\n",
    "\n",
    "reduce() : It is used to reduce data.\n",
    "            \n",
    "        It returns a single value.\n",
    "\n",
    "        It is used for combining data.\n",
    "         "
   ]
  },
  {
   "cell_type": "markdown",
   "id": "8b175ecb-139c-4adb-8c71-2ab29053c7e5",
   "metadata": {},
   "source": [
    "# 4. What are function annotations, and how are they used?"
   ]
  },
  {
   "cell_type": "markdown",
   "id": "6c27139d-9558-4e5c-b5fd-019601bc1e8d",
   "metadata": {},
   "source": [
    "Function annotations are way to attach types to function parameters and return values. \n",
    "\n",
    "They provide additional information about what type of data is expected.\n",
    "\n",
    "They used as follow :\n",
    "\n",
    "1) They placed after function parameters and return type using colon(:) and -> .\n",
    "\n",
    "2) We can annoted function with different types like int,float,str,list etc.\n",
    "\n",
    "3) It can be used with default parameter values.\n",
    "\n",
    "Examples are as below:"
   ]
  },
  {
   "cell_type": "code",
   "execution_count": 16,
   "id": "df095593-851f-490f-878a-b0c06529098c",
   "metadata": {},
   "outputs": [
    {
     "name": "stdout",
     "output_type": "stream",
     "text": [
      "50\n"
     ]
    }
   ],
   "source": [
    "# 1 \n",
    "def prod(x: int, y: int) -> int:\n",
    "    return x * y\n",
    "\n",
    "print(prod(5, 10))  \n"
   ]
  },
  {
   "cell_type": "code",
   "execution_count": 18,
   "id": "f4f8d9cd-3140-4c08-8faf-e208aa5fe816",
   "metadata": {},
   "outputs": [
    {
     "name": "stdout",
     "output_type": "stream",
     "text": [
      "Hello, Alice!\n"
     ]
    }
   ],
   "source": [
    "# 2\n",
    "def greet(name: str) -> str:\n",
    "    return \"Hello, \" + name + \"!\"\n",
    "\n",
    "print(greet(\"Alice\"))  "
   ]
  },
  {
   "cell_type": "code",
   "execution_count": 22,
   "id": "1c86af57-06e2-4d9f-ba52-bea19ddd4a2a",
   "metadata": {},
   "outputs": [
    {
     "name": "stdout",
     "output_type": "stream",
     "text": [
      "5\n"
     ]
    }
   ],
   "source": [
    "# 3\n",
    "def add(a: int, b: int = 2) -> int:\n",
    "    return a + b\n",
    "\n",
    "print(add(3)) \n"
   ]
  },
  {
   "cell_type": "markdown",
   "id": "453753c0-2b4f-463f-8e83-41309ff9019b",
   "metadata": {},
   "source": [
    "# 5. What are recursive functions, and how are they used?"
   ]
  },
  {
   "cell_type": "markdown",
   "id": "a96af7b8-1818-4f3f-893e-34fa8b408ae2",
   "metadata": {},
   "source": [
    "A function that calls itself again and again within the code until it reach the condition which stop it.\n",
    "    \n",
    "Define a condition means base case which can stop recursion.\n",
    "    \n",
    "It breaks the problem into smaller subproblems.\n",
    "    \n",
    "Call the function itself with a smaller problem size.\n",
    "    \n",
    "Ensure it moves toward the base case to avoid infinite loops."
   ]
  },
  {
   "cell_type": "markdown",
   "id": "5892fe54-d4be-4e01-aa53-afec1f535489",
   "metadata": {},
   "source": [
    "# 6. What are some general design guidelines for coding functions?"
   ]
  },
  {
   "cell_type": "markdown",
   "id": "10f2d7ae-b3aa-4963-ad7f-c8ab251f8058",
   "metadata": {},
   "source": [
    "Some general design guidelines for coding functions are as follows :\n",
    "                              \n",
    "1) Define meaningful function name.\n",
    "\n",
    "2) Keep function small so that it perform well.\n",
    "    \n",
    "3) Pass only necessary argument to function.\n",
    "\n",
    "4) Use exception handling to manage errors.\n",
    "\n",
    "5) Use proper indentation.\n",
    "\n",
    "6) Remember, function should always return same output for same input.\n",
    "    \n",
    "7) Document the function's purpose ,parameters and return values."
   ]
  },
  {
   "cell_type": "markdown",
   "id": "503072db-0bfe-4648-a8cc-a9b1bcc1ab9b",
   "metadata": {},
   "source": [
    "# 7. Name three or more ways that functions can communicate results to a caller."
   ]
  },
  {
   "cell_type": "code",
   "execution_count": null,
   "id": "7b32b975-1126-4c8e-b09a-bde7d3b6274f",
   "metadata": {},
   "outputs": [],
   "source": [
    "1) Using return statement\n"
   ]
  }
 ],
 "metadata": {
  "kernelspec": {
   "display_name": "Python [conda env:base] *",
   "language": "python",
   "name": "conda-base-py"
  },
  "language_info": {
   "codemirror_mode": {
    "name": "ipython",
    "version": 3
   },
   "file_extension": ".py",
   "mimetype": "text/x-python",
   "name": "python",
   "nbconvert_exporter": "python",
   "pygments_lexer": "ipython3",
   "version": "3.12.7"
  }
 },
 "nbformat": 4,
 "nbformat_minor": 5
}
