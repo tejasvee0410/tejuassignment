{
 "cells": [
  {
   "cell_type": "markdown",
   "id": "e2fc9052-2778-4d52-a7aa-1f1d844fe2f1",
   "metadata": {},
   "source": [
    "# 1. What is the difference between enclosing a list comprehension in square brackets and parentheses?"
   ]
  },
  {
   "cell_type": "markdown",
   "id": "14a5a397-a0c6-49bd-b0ce-f7ba552b5fbc",
   "metadata": {},
   "source": [
    "# Enclosing a list comprehension in square brackets []:\n",
    "\n",
    "Square brackets creates list comprehension which store all the elements in memory immediately. \n",
    "    \n",
    "For small data it perform faster.\n",
    "\n",
    "We can access all elements multiple times.\n",
    "    \n",
    "We can modify it later.\n",
    "\n",
    "# Enclosing a list comprehension in parentheses ():\n",
    "\n",
    "Parentheses creates a generator expression which yeild element one at a time.\n",
    "    \n",
    "Memory efficient for large data.\n",
    "    \n",
    "Sligthly slower for small data.\n",
    "               \n",
    "We can't modify it after once created."
   ]
  },
  {
   "cell_type": "markdown",
   "id": "e707df0b-6320-4b16-9e98-1e7dd91cf5d5",
   "metadata": {},
   "source": [
    "# 2. What is the relationship between generators and iterators?"
   ]
  },
  {
   "cell_type": "markdown",
   "id": "d6b80046-9def-4008-ba77-c576cbbcb87d",
   "metadata": {},
   "source": [
    "Every generators are iterators but not every iterators are generators.\n",
    "\n",
    "Generators are simpler way to create a iterator with define function and using yield keyword."
   ]
  },
  {
   "cell_type": "markdown",
   "id": "bb21c310-0e4c-424f-9e66-ad6c9fed3407",
   "metadata": {},
   "source": [
    "# 3. What are the signs that a function is a generator function?"
   ]
  },
  {
   "cell_type": "markdown",
   "id": "a6946985-9da7-42eb-b4a2-65146d0843df",
   "metadata": {},
   "source": [
    "A function uses yield keyword instead of return.\n",
    "    \n",
    "When generator function called it does not execute immediately and returns generator object.\n",
    "    \n",
    "It implement iterator protocol.\n",
    "    \n",
    "Maintain its state between calls."
   ]
  },
  {
   "cell_type": "markdown",
   "id": "0e74d478-d063-482c-b789-4c7245658ff4",
   "metadata": {},
   "source": [
    "# 4. What is the purpose of a yield statement?"
   ]
  },
  {
   "cell_type": "markdown",
   "id": "02d097d2-73b9-43fb-ad11-713c1dce5c9d",
   "metadata": {},
   "source": [
    "The purpose of a yield statement is to create a generator so it can return item one at a time instead of storing all items in a memory which is memory efficient."
   ]
  },
  {
   "cell_type": "markdown",
   "id": "be0275a3-ea50-4526-b9de-7b600ecca6c0",
   "metadata": {},
   "source": [
    "# 5. What is the relationship between map calls and list comprehensions? Make a comparison and contrast between the two."
   ]
  },
  {
   "cell_type": "markdown",
   "id": "c653cb1b-9934-4fd4-9a7c-47766581574c",
   "metadata": {},
   "source": [
    "# Relationship between map calls and list comprehension:\n",
    "\n",
    "Both map() calls and list comprehensions tranform each item in a list and return new list.\n",
    "\n",
    "Both returns the same value but theire syntax are different.\n",
    "    \n",
    "# Comparison and contrast :\n",
    "# map() :\n",
    "    \n",
    "syntax : map(function,iterable)\n",
    "    \n",
    "Require built-in or lambda function.\n",
    "\n",
    "Slightly faster in some cases.\n",
    "\n",
    "Returns a map object.\n",
    "\n",
    "less readable for complex operation.\n",
    "             \n",
    "# list comprehension :\n",
    "    \n",
    "syntax : [expression for item in iterable]\n",
    "             \n",
    "Require only expression.\n",
    "             \n",
    "Faster for simple operation.\n",
    "    \n",
    "Returns a list.\n",
    "    \n",
    "More readable."
   ]
  }
 ],
 "metadata": {
  "kernelspec": {
   "display_name": "Python [conda env:base] *",
   "language": "python",
   "name": "conda-base-py"
  },
  "language_info": {
   "codemirror_mode": {
    "name": "ipython",
    "version": 3
   },
   "file_extension": ".py",
   "mimetype": "text/x-python",
   "name": "python",
   "nbconvert_exporter": "python",
   "pygments_lexer": "ipython3",
   "version": "3.12.7"
  }
 },
 "nbformat": 4,
 "nbformat_minor": 5
}
