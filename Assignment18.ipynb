{
 "cells": [
  {
   "cell_type": "markdown",
   "id": "db2cf42b-61a6-4608-b791-98b6a9b8a942",
   "metadata": {},
   "source": [
    "# 1. Create a zoo.py file first. Define the hours() function, which prints the string \"Open 9-5 daily\".Then, use the interactive interpreter to import the zoo module and call its hours() function."
   ]
  },
  {
   "cell_type": "code",
   "execution_count": 1,
   "id": "4b2f616c-ff66-4f5e-b639-7de008490fe8",
   "metadata": {},
   "outputs": [],
   "source": [
    "# To create and write in file\n",
    "with open(\"zoo.py\" , \"w\") as f :\n",
    "    f.write(\"def hours() : \\n \")\n",
    "    f.write(\"     print('Open 9-5 daily') \\n\")"
   ]
  },
  {
   "cell_type": "code",
   "execution_count": 2,
   "id": "b6ff7307-83cc-4235-bd17-7222a41e20ee",
   "metadata": {},
   "outputs": [
    {
     "name": "stdout",
     "output_type": "stream",
     "text": [
      "Open 9-5 daily\n"
     ]
    }
   ],
   "source": [
    "# To import zoo module\n",
    "import zoo\n",
    "zoo.hours()"
   ]
  },
  {
   "cell_type": "markdown",
   "id": "7eb957b2-2849-46ad-bfb9-939e3fd725ff",
   "metadata": {},
   "source": [
    "# 2. In the interactive interpreter, import the zoo module as menagerie and call its hours() function."
   ]
  },
  {
   "cell_type": "code",
   "execution_count": 5,
   "id": "24063539-769f-4958-85ab-3235ddfb2563",
   "metadata": {},
   "outputs": [
    {
     "name": "stdout",
     "output_type": "stream",
     "text": [
      "Open 9-5 daily\n"
     ]
    }
   ],
   "source": [
    "# In the interactive interpreter\n",
    "import zoo as menagerie\n",
    "menagerie.hours()"
   ]
  },
  {
   "cell_type": "markdown",
   "id": "a4bc2ed4-ca41-45dd-9d3e-a7455fbd6644",
   "metadata": {},
   "source": [
    "# 3. Using the interpreter, explicitly import and call the hours() function from zoo."
   ]
  },
  {
   "cell_type": "code",
   "execution_count": 7,
   "id": "d4496c4a-4306-42a5-801c-beed24259a3b",
   "metadata": {},
   "outputs": [
    {
     "name": "stdout",
     "output_type": "stream",
     "text": [
      "Open 9-5 daily\n"
     ]
    }
   ],
   "source": [
    "# In explicit \n",
    "from zoo import hours\n",
    "hours()"
   ]
  },
  {
   "cell_type": "markdown",
   "id": "fb46f955-5a43-49a6-9bd7-b649bbba5873",
   "metadata": {},
   "source": [
    "# 4. Import the hours() function as info and call it."
   ]
  },
  {
   "cell_type": "code",
   "execution_count": 9,
   "id": "8ac2dad2-cb78-4fad-952c-304ab63099b8",
   "metadata": {},
   "outputs": [
    {
     "name": "stdout",
     "output_type": "stream",
     "text": [
      "Open 9-5 daily\n"
     ]
    }
   ],
   "source": [
    "# importing hours function as info\n",
    "from zoo import hours as info\n",
    "info()"
   ]
  },
  {
   "cell_type": "markdown",
   "id": "783f3c58-aa5b-4a90-8fea-5af4fa2f6e8b",
   "metadata": {},
   "source": [
    "# 5. Create a plain dictionary with the key-value pairs \"a\": 1, \"b\": 2, and \"c\": 3, and print it out."
   ]
  },
  {
   "cell_type": "code",
   "execution_count": 11,
   "id": "ab7fc401-9465-467b-8b18-c10a6281c767",
   "metadata": {},
   "outputs": [
    {
     "name": "stdout",
     "output_type": "stream",
     "text": [
      "{'a': 1, 'b': 2, 'c': 3}\n"
     ]
    }
   ],
   "source": [
    "# Create a plain dictionary\n",
    "dict = {\"a\":1 ,\"b\":2 , \"c\":3}\n",
    "print(dict)"
   ]
  },
  {
   "cell_type": "markdown",
   "id": "a6ef0cf0-e2be-46fc-9bca-79dc126cd3d9",
   "metadata": {},
   "source": [
    "# 6.Make an OrderedDict called fancy from the same pairs listed in 5 and print it. Did it print in the same order as plain?"
   ]
  },
  {
   "cell_type": "code",
   "execution_count": 13,
   "id": "bc480d86-538f-457f-8f8c-b882bbd6e910",
   "metadata": {},
   "outputs": [
    {
     "name": "stdout",
     "output_type": "stream",
     "text": [
      "OrderedDict({'a': 1, 'b': 2, 'c': 3})\n"
     ]
    }
   ],
   "source": [
    "# To check is plain dict and ordereddict print key&value in same order\n",
    "from collections import OrderedDict\n",
    "fancy = OrderedDict([('a',1),('b',2),('c',3)])\n",
    "print(fancy)"
   ]
  },
  {
   "cell_type": "markdown",
   "id": "fb23f476-9c54-4bad-a08b-379a574440fb",
   "metadata": {},
   "source": [
    "Yes,it print in the same order as plain"
   ]
  },
  {
   "cell_type": "markdown",
   "id": "390eb47d-d8b8-43b7-bf65-2829107cffb7",
   "metadata": {},
   "source": [
    "# 7. Make a default dictionary called dict_of_lists and pass it the argument list. Make the list dict_of_lists[\"a\"] and append the value \"something for\" to it in one assignment. Print dict_of_lists[\"a\"]."
   ]
  },
  {
   "cell_type": "code",
   "execution_count": 34,
   "id": "d5af27c1-5c49-4601-95bc-65e0dae8e90a",
   "metadata": {},
   "outputs": [
    {
     "name": "stdout",
     "output_type": "stream",
     "text": [
      "['something for']\n"
     ]
    }
   ],
   "source": [
    "# To assign many value to one key and than print it\n",
    "from collections import defaultdict\n",
    "dict_of_lists = defaultdict(list)\n",
    "dict_of_lists[\"a\"].append(\"something for\")\n",
    "print(dict_of_lists[\"a\"])"
   ]
  }
 ],
 "metadata": {
  "kernelspec": {
   "display_name": "Python [conda env:base] *",
   "language": "python",
   "name": "conda-base-py"
  },
  "language_info": {
   "codemirror_mode": {
    "name": "ipython",
    "version": 3
   },
   "file_extension": ".py",
   "mimetype": "text/x-python",
   "name": "python",
   "nbconvert_exporter": "python",
   "pygments_lexer": "ipython3",
   "version": "3.12.7"
  }
 },
 "nbformat": 4,
 "nbformat_minor": 5
}
