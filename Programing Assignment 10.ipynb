{
 "cells": [
  {
   "cell_type": "markdown",
   "id": "48d09928",
   "metadata": {},
   "source": [
    "# 1. Write a Python program to find sum of elements in list?"
   ]
  },
  {
   "cell_type": "code",
   "execution_count": 1,
   "id": "1efd62fb",
   "metadata": {},
   "outputs": [
    {
     "name": "stdout",
     "output_type": "stream",
     "text": [
      "sum of list is :  3497\n"
     ]
    }
   ],
   "source": [
    "l = [51,92,35,78,458,985,563,428,751,56]\n",
    "\n",
    "# sum of elements in list \n",
    "total = sum(l)\n",
    "print(\"sum of list is : \", total)"
   ]
  },
  {
   "cell_type": "markdown",
   "id": "b06cf9e6",
   "metadata": {},
   "source": [
    "# 2. Write a Python program to Multiply all numbers in the list?"
   ]
  },
  {
   "cell_type": "code",
   "execution_count": 2,
   "id": "84d7e239",
   "metadata": {},
   "outputs": [
    {
     "name": "stdout",
     "output_type": "stream",
     "text": [
      "58560191311815343987200\n"
     ]
    }
   ],
   "source": [
    "# multiply all the number \n",
    "m = 1\n",
    "for i in l :\n",
    "    m = m*i\n",
    "print(m)"
   ]
  },
  {
   "cell_type": "markdown",
   "id": "70c0580a",
   "metadata": {},
   "source": [
    "# 3. Write a Python program to find smallest number in a list?"
   ]
  },
  {
   "cell_type": "code",
   "execution_count": 3,
   "id": "47c6707b",
   "metadata": {},
   "outputs": [
    {
     "name": "stdout",
     "output_type": "stream",
     "text": [
      "smallest number is : 35\n"
     ]
    }
   ],
   "source": [
    "# To find smallest number\n",
    "small_num = min(l) # built in function\n",
    "print(\"smallest number is :\", small_num)"
   ]
  },
  {
   "cell_type": "markdown",
   "id": "1b2d2e63",
   "metadata": {},
   "source": [
    "# 4. Write a Python program to find largest number in a list?"
   ]
  },
  {
   "cell_type": "code",
   "execution_count": 4,
   "id": "12b99df1",
   "metadata": {},
   "outputs": [
    {
     "name": "stdout",
     "output_type": "stream",
     "text": [
      "largest number is : 985\n"
     ]
    }
   ],
   "source": [
    "# To find largest number\n",
    "largest_num = max(l)\n",
    "print(\"largest number is :\" , largest_num)"
   ]
  },
  {
   "cell_type": "markdown",
   "id": "1ef2d631",
   "metadata": {},
   "source": [
    "# 5. Write a Python program to find second largest number in a list?"
   ]
  },
  {
   "cell_type": "code",
   "execution_count": 5,
   "id": "7ccc2d22",
   "metadata": {},
   "outputs": [
    {
     "name": "stdout",
     "output_type": "stream",
     "text": [
      "smallest number is :  35 \n",
      " largest number is :  751\n",
      "second largest number is : 563\n"
     ]
    }
   ],
   "source": [
    "# list to find second lagre number\n",
    "l = [51,92,35,78,458,85,563,428,751,56]\n",
    "\n",
    "# find small and large number\n",
    "smallest_num = min(l)\n",
    "largest_num = max(l)\n",
    "print(\"smallest number is : \", smallest_num, \"\\n\", \"largest number is : \", largest_num)\n",
    "\n",
    "# method to find second largest number\n",
    "second_large = smallest_num\n",
    "for i in l :\n",
    "    if i > second_large  and i != largest_num:\n",
    "        second_large = i \n",
    "        \n",
    "if second_large != smallest_num:\n",
    "    print(\"second largest number is :\", second_large)"
   ]
  },
  {
   "cell_type": "markdown",
   "id": "5d47c621",
   "metadata": {},
   "source": [
    "# 6. Write a Python program to find N largest elements from a list?"
   ]
  },
  {
   "cell_type": "code",
   "execution_count": 6,
   "id": "4fb14db6",
   "metadata": {},
   "outputs": [
    {
     "name": "stdout",
     "output_type": "stream",
     "text": [
      "N largest elements are : [751, 563, 458]\n"
     ]
    }
   ],
   "source": [
    "# List to find N largest elements\n",
    "l = [51, 92, 35, 78, 458, 85, 563, 428, 751, 56]\n",
    "\n",
    "# To find N largest number use heapq method\n",
    "import heapq\n",
    "N = 3  # number of largest elements \n",
    "largest_elements = heapq.nlargest(N,l)\n",
    "print(\"N largest elements are :\", largest_elements)"
   ]
  },
  {
   "cell_type": "markdown",
   "id": "e997a128",
   "metadata": {},
   "source": [
    "# 7. Write a Python program to print even numbers in a list?"
   ]
  },
  {
   "cell_type": "code",
   "execution_count": 7,
   "id": "437c86af",
   "metadata": {},
   "outputs": [
    {
     "name": "stdout",
     "output_type": "stream",
     "text": [
      "The list of even number is :  [92, 78, 458, 428, 56]\n"
     ]
    }
   ],
   "source": [
    "l = [51, 92, 35, 78, 458, 85, 563, 428, 751, 56]\n",
    "\n",
    "# To find even number \n",
    "l1 = []\n",
    "for i in l:\n",
    "    if i%2 == 0:\n",
    "        l1.append(i)\n",
    "print(\"The list of even number is : \", l1)"
   ]
  },
  {
   "cell_type": "markdown",
   "id": "09aaeeef",
   "metadata": {},
   "source": [
    "# 8. Write a Python program to print odd numbers in a List?"
   ]
  },
  {
   "cell_type": "code",
   "execution_count": 8,
   "id": "2bd7ca81",
   "metadata": {},
   "outputs": [
    {
     "name": "stdout",
     "output_type": "stream",
     "text": [
      "The list of odd number is :  [51, 35, 85, 563, 751]\n"
     ]
    }
   ],
   "source": [
    "l = [51, 92, 35, 78, 458, 85, 563, 428, 751, 56]\n",
    "\n",
    "# To find odd number \n",
    "l1 = []\n",
    "for i in l:\n",
    "    if i%2 != 0:\n",
    "        l1.append(i)\n",
    "print(\"The list of odd number is : \", l1)"
   ]
  },
  {
   "cell_type": "markdown",
   "id": "05c82d20",
   "metadata": {},
   "source": [
    "# 9. Write a Python program to Remove empty List from List?"
   ]
  },
  {
   "cell_type": "code",
   "execution_count": 9,
   "id": "ae65fc2e",
   "metadata": {},
   "outputs": [
    {
     "data": {
      "text/plain": [
       "[51, 92, 35, 78, 458, 985, [14, 51, 89, 63, 421], 92, 78, 59, 458, 142]"
      ]
     },
     "execution_count": 9,
     "metadata": {},
     "output_type": "execute_result"
    }
   ],
   "source": [
    "l = [51,92,35,78,458,985,[],[14,51,89,63,421],92,78,59,458,142]\n",
    "\n",
    "# To remove empty list\n",
    "l.remove([])\n",
    "l"
   ]
  },
  {
   "cell_type": "markdown",
   "id": "1b1e4244",
   "metadata": {},
   "source": [
    "# 10. Write a Python program to Cloning or Copying a list?"
   ]
  },
  {
   "cell_type": "code",
   "execution_count": 10,
   "id": "8cc4827c",
   "metadata": {},
   "outputs": [
    {
     "name": "stdout",
     "output_type": "stream",
     "text": [
      "original list is : [51, [92, 35, 78, 40], [458, 85, 563, 428, 751, 56]]\n",
      "cloning list is : [51, [92, 35, 78, 40], [458, 85, 563, 428, 751, 56]]\n"
     ]
    }
   ],
   "source": [
    "l = [51, [92, 35, 78], [458, 85, 563, 428, 751, 56]]\n",
    "\n",
    "# for Cloning a list\n",
    "import copy\n",
    "cloning = copy.copy(l)\n",
    "cloning[1].append(40)\n",
    "\n",
    "# print original list and cloning list\n",
    "print(\"original list is :\", l)\n",
    "print(\"cloning list is :\", cloning)"
   ]
  },
  {
   "cell_type": "markdown",
   "id": "ec9688df",
   "metadata": {},
   "source": [
    "# 11. Write a Python program to Count occurrences of an element in a list?"
   ]
  },
  {
   "cell_type": "code",
   "execution_count": 11,
   "id": "5ccec275",
   "metadata": {},
   "outputs": [
    {
     "name": "stdout",
     "output_type": "stream",
     "text": [
      "89 : 1\n",
      "35 : 1\n",
      "421 : 1\n",
      "458 : 2\n",
      "78 : 3\n",
      "14 : 1\n",
      "142 : 1\n",
      "51 : 2\n",
      "985 : 1\n",
      "59 : 1\n",
      "92 : 2\n",
      "63 : 1\n"
     ]
    }
   ],
   "source": [
    "l = [51,92,35,78,458,985,14,51,89,63,421,92,78,59,458,142,78]\n",
    "\n",
    "# To count occurrences of element\n",
    "for i in set(l):\n",
    "    print(i, \":\", l.count(i))"
   ]
  }
 ],
 "metadata": {
  "kernelspec": {
   "display_name": "Python 3 (ipykernel)",
   "language": "python",
   "name": "python3"
  },
  "language_info": {
   "codemirror_mode": {
    "name": "ipython",
    "version": 3
   },
   "file_extension": ".py",
   "mimetype": "text/x-python",
   "name": "python",
   "nbconvert_exporter": "python",
   "pygments_lexer": "ipython3",
   "version": "3.9.13"
  }
 },
 "nbformat": 4,
 "nbformat_minor": 5
}
