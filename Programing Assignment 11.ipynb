{
 "cells": [
  {
   "cell_type": "markdown",
   "id": "a383b360",
   "metadata": {},
   "source": [
    "# 1. Write a Python program to find words which are greater than given length            k?"
   ]
  },
  {
   "cell_type": "code",
   "execution_count": 1,
   "id": "b1316f8c",
   "metadata": {},
   "outputs": [
    {
     "name": "stdout",
     "output_type": "stream",
     "text": [
      "['science', 'interdisciplinary', 'academic', 'statistics,', 'scientific', 'computing,', 'scientific', 'methods,', 'processes,', 'scientific', 'visualization,', 'algorithms', 'systems', 'extract', 'extrapolate', 'knowledge', 'insights', 'potentially', 'noisy,', 'structured,', 'unstructured']\n"
     ]
    }
   ],
   "source": [
    "# string as given\n",
    "s = \"Data science is an interdisciplinary academic field that uses statistics, scientific computing, scientific methods, processes, scientific visualization, algorithms and systems to extract or extrapolate knowledge and insights from potentially noisy, structured, or unstructured data.\"\n",
    "\n",
    "# for lisiting all words greater than k\n",
    "l = []\n",
    "k = 5  # length of k\n",
    "\n",
    "# split the words from string  \n",
    "word = s.split(\" \")\n",
    "\n",
    "# method for finding words greater than k\n",
    "for i in word :\n",
    "    if len(i) > k :\n",
    "        l.append(i)\n",
    "print(l)\n",
    "\n"
   ]
  },
  {
   "cell_type": "markdown",
   "id": "31c617c7",
   "metadata": {},
   "source": [
    "# 2. Write a Python program for removing i-th character from a string?"
   ]
  },
  {
   "cell_type": "code",
   "execution_count": 2,
   "id": "46065e3c",
   "metadata": {},
   "outputs": [
    {
     "name": "stdout",
     "output_type": "stream",
     "text": [
      "interdsciplinary\n"
     ]
    }
   ],
   "source": [
    "# To remove i-th character from string\n",
    "s = \"interdisciplinary\"\n",
    "i = 6\n",
    "# use slicing method\n",
    "s1 = s[:i] + s[i+1:]\n",
    "print(s1)"
   ]
  },
  {
   "cell_type": "markdown",
   "id": "d2d48c6c",
   "metadata": {},
   "source": [
    "# 3. Write a Python program to split and join a string?"
   ]
  },
  {
   "cell_type": "code",
   "execution_count": 3,
   "id": "65711aae",
   "metadata": {},
   "outputs": [
    {
     "data": {
      "text/plain": [
       "['in', 'erdisciplinary']"
      ]
     },
     "execution_count": 3,
     "metadata": {},
     "output_type": "execute_result"
    }
   ],
   "source": [
    "# To split a string\n",
    "s = \"interdisciplinary\"\n",
    "s.split(\"t\")"
   ]
  },
  {
   "cell_type": "code",
   "execution_count": 4,
   "id": "b19bea76",
   "metadata": {},
   "outputs": [
    {
     "data": {
      "text/plain": [
       "'dtattta'"
      ]
     },
     "execution_count": 4,
     "metadata": {},
     "output_type": "execute_result"
    }
   ],
   "source": [
    "# To join a string\n",
    "'t'.join(\"data\")"
   ]
  },
  {
   "cell_type": "markdown",
   "id": "5c167b31",
   "metadata": {},
   "source": [
    "# 4. Write a Python to check if a given string is binary string or not?"
   ]
  },
  {
   "cell_type": "code",
   "execution_count": 5,
   "id": "b976c953",
   "metadata": {},
   "outputs": [
    {
     "name": "stdout",
     "output_type": "stream",
     "text": [
      "string is not binary\n"
     ]
    }
   ],
   "source": [
    "# To check string is binary string or not\n",
    "s = \"12111011\"\n",
    "b = {'0','1'} # set\n",
    "\n",
    "# convert string into set\n",
    "s1 = set(s)\n",
    "\n",
    "# Condition\n",
    "if s1 == b:\n",
    "    print(\"string is binary\")\n",
    "else :\n",
    "    print(\"string is not binary\")"
   ]
  },
  {
   "cell_type": "markdown",
   "id": "118eae2c",
   "metadata": {},
   "source": [
    "# 5. Write a Python program to find uncommon words from two Strings?"
   ]
  },
  {
   "cell_type": "code",
   "execution_count": 6,
   "id": "e714b35f",
   "metadata": {},
   "outputs": [
    {
     "name": "stdout",
     "output_type": "stream",
     "text": [
      "list of uncommon words : ['decimal', 'octal']\n"
     ]
    }
   ],
   "source": [
    "# To find uncommon words from two strings\n",
    "s1 = \"binary to decimal convert\"\n",
    "s2 = \"octal to binary convert\"\n",
    "\n",
    "# split both the strings\n",
    "a = s1.split()\n",
    "b = s2.split()\n",
    "\n",
    "x = [] # for creating new list\n",
    "\n",
    "# method to find uncommon words\n",
    "for i in a :\n",
    "    if i not in b :      # To check i in a is in b or not if not than add in list x\n",
    "        x.append(i)\n",
    "        \n",
    "for i in b :\n",
    "    if i not in a :     # To check i in b is in a or not if not than add in list x\n",
    "        x.append(i)\n",
    "        \n",
    "print(\"list of uncommon words :\" , x)     # print x  "
   ]
  },
  {
   "cell_type": "markdown",
   "id": "8711fc0c",
   "metadata": {},
   "source": [
    "# 6. Write a Python to find all duplicate characters in string?"
   ]
  },
  {
   "cell_type": "code",
   "execution_count": 7,
   "id": "3e15776b",
   "metadata": {},
   "outputs": [
    {
     "name": "stdout",
     "output_type": "stream",
     "text": [
      "All duplicate characters are : ['i', 'n', 'a', 'r', ' ', 't', 'o', ' ', 'e', 'c', 'i', 'a', ' ', 'c', 'o', 'n', 'e', 'r', 't']\n"
     ]
    }
   ],
   "source": [
    "# To find all duplicate characters in string\n",
    "s = \"binary to decimal convert\"\n",
    "l = [] # create list for duplicate characters\n",
    "\n",
    "# method to find duplicate characters\n",
    "for x in s :\n",
    "    s.count(x)  # for counting repetition of characters\n",
    "    if s.count(x) > 1 :   # condition\n",
    "        l.append(x)       # for adding characters which are repeated more than 1 time in list x \n",
    "print(\"All duplicate characters are :\", l)  # print duplicate characters"
   ]
  },
  {
   "cell_type": "markdown",
   "id": "5712cacf",
   "metadata": {},
   "source": [
    "# 7. Write a Python Program to check if a string contains any special character?"
   ]
  },
  {
   "cell_type": "code",
   "execution_count": 8,
   "id": "575c33e8",
   "metadata": {},
   "outputs": [
    {
     "name": "stdout",
     "output_type": "stream",
     "text": [
      "contains special character\n"
     ]
    }
   ],
   "source": [
    "# To check if string contains any special character\n",
    "a = \"binary to decimal @ convert\"   # string\n",
    "b = \"!@#$%^&\"        # special character\n",
    "\n",
    "# method to check special character in string\n",
    "for x in a:\n",
    "    if x in b:\n",
    "        print(\"contains special character\")\n",
    "        break\n",
    "else :\n",
    "    print(\"not contains special character\")"
   ]
  }
 ],
 "metadata": {
  "kernelspec": {
   "display_name": "Python 3 (ipykernel)",
   "language": "python",
   "name": "python3"
  },
  "language_info": {
   "codemirror_mode": {
    "name": "ipython",
    "version": 3
   },
   "file_extension": ".py",
   "mimetype": "text/x-python",
   "name": "python",
   "nbconvert_exporter": "python",
   "pygments_lexer": "ipython3",
   "version": "3.9.13"
  }
 },
 "nbformat": 4,
 "nbformat_minor": 5
}
