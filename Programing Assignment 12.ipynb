{
 "cells": [
  {
   "cell_type": "markdown",
   "id": "4abf2731",
   "metadata": {},
   "source": [
    "# 1. Write a Python program to Extract Unique values dictionary values?"
   ]
  },
  {
   "cell_type": "code",
   "execution_count": 1,
   "id": "ee1e5081",
   "metadata": {},
   "outputs": [
    {
     "name": "stdout",
     "output_type": "stream",
     "text": [
      "list of dict_values : [145, [12, 4, 89, 50], (78, 4, 89, 23, 1, 0, 54)]\n"
     ]
    },
    {
     "data": {
      "text/plain": [
       "{0, 1, 4, 12, 23, 50, 54, 78, 89, 145}"
      ]
     },
     "execution_count": 1,
     "metadata": {},
     "output_type": "execute_result"
    }
   ],
   "source": [
    "# Extract Unique values\n",
    "d = {'A' : 145 , 'B' : [12,4,89,50] , 'C' : (78,4,89,23,1,0,54)}\n",
    "l = [] # list to append extracted value\n",
    "d.values()\n",
    "l1 = list(d.values())\n",
    "l.append(l1[0])\n",
    "print(\"list of dict_values :\" , l1)\n",
    "for i in l1 :\n",
    "    if type(i) == list or type(i) == tuple :\n",
    "        for j in i:\n",
    "            if type(j) == int :\n",
    "                l.append(j)\n",
    "l\n",
    "set(l) # for unique value"
   ]
  },
  {
   "cell_type": "markdown",
   "id": "85816fd8",
   "metadata": {},
   "source": [
    "# 2. Write a Python program to find the sum of all items in a dictionary?"
   ]
  },
  {
   "cell_type": "code",
   "execution_count": 2,
   "id": "f5baaf20",
   "metadata": {},
   "outputs": [
    {
     "name": "stdout",
     "output_type": "stream",
     "text": [
      "list of dict_values : [145, [12, 4, 89, 50], (78, 4, 89, 23, 1, 0, 54)]\n",
      "sum of all items in dict : 549\n"
     ]
    }
   ],
   "source": [
    "# To sum of all items in dictionary\n",
    "d = {'A' : 145 , 'B' : [12,4,89,50] , 'C' : (78,4,89,23,1,0,54)}\n",
    "l = []\n",
    "d.values()\n",
    "l1 = list(d.values())\n",
    "l.append(l1[0])\n",
    "print(\"list of dict_values :\" , l1)\n",
    "for i in l1 :\n",
    "    if type(i) == list or type(i) == tuple :\n",
    "        for j in i:\n",
    "            if type(j) == int :\n",
    "                l.append(j)\n",
    "l\n",
    "print(\"sum of all items in dict :\", sum(l))"
   ]
  },
  {
   "cell_type": "markdown",
   "id": "98fd1f5d",
   "metadata": {},
   "source": [
    "# 3. Write a Python program to Merging two Dictionaries?"
   ]
  },
  {
   "cell_type": "code",
   "execution_count": 3,
   "id": "2bbce94c",
   "metadata": {},
   "outputs": [
    {
     "data": {
      "text/plain": [
       "{'sweta': 35464,\n",
       " '456': 'fergre',\n",
       " 'query_no': 7894,\n",
       " 456: 7893,\n",
       " 'plot': 896,\n",
       " 'reg': 'trim'}"
      ]
     },
     "execution_count": 3,
     "metadata": {},
     "output_type": "execute_result"
    }
   ],
   "source": [
    "# To merge two dictionaries\n",
    "d1 = {\"sweta\" : 35464 , \"456\" : \"fergre\" , \"query_no\" : 7894}\n",
    "d2 = {456:7893 , \"plot\" : 896 , \"reg\" : \"trim\"}\n",
    "dict(d1|d2)"
   ]
  },
  {
   "cell_type": "markdown",
   "id": "e13dcb9a",
   "metadata": {},
   "source": [
    "# 4. Write a Python program to convert key-values list to flat dictionary?"
   ]
  },
  {
   "cell_type": "code",
   "execution_count": 4,
   "id": "56f7fda5",
   "metadata": {},
   "outputs": [
    {
     "name": "stdout",
     "output_type": "stream",
     "text": [
      "{'try': 333, 'star': 789, 'cry': 842}\n"
     ]
    }
   ],
   "source": [
    "# To convert key-values list to flat dictionary\n",
    "l = [\"try\",333,\"star\",789,\"cry\",842]\n",
    "dict = {}\n",
    "for i in range(0, len(l), 2) :\n",
    "    dict[l[i]] = l[i + 1]\n",
    "print(dict)"
   ]
  },
  {
   "cell_type": "markdown",
   "id": "eaf72864",
   "metadata": {},
   "source": [
    "# 5. Write a Python program to insertion at the beginning in OrderedDict?"
   ]
  },
  {
   "cell_type": "code",
   "execution_count": 5,
   "id": "13887607",
   "metadata": {},
   "outputs": [
    {
     "name": "stdout",
     "output_type": "stream",
     "text": [
      "After insertion : {'Urmi': 6800, 'abdul': 1234, 'Neha': 890, 'fry': 456}\n"
     ]
    }
   ],
   "source": [
    "# To insertion at the beginning in OrderedDict\n",
    "from collections import OrderedDict\n",
    "\n",
    "# original dict\n",
    "ordered_dict = {'abdul' : 1234 , 'Neha' : 890 , 'fry' : 456}\n",
    "\n",
    "# new dict\n",
    "new_ordered_dict = OrderedDict([('Urmi',6800)])\n",
    "new_ordered_dict.update(ordered_dict)\n",
    "\n",
    "# After insertion\n",
    "new_dict = dict(new_ordered_dict)\n",
    "print(\"After insertion :\" , new_dict)"
   ]
  },
  {
   "cell_type": "markdown",
   "id": "b6408a56",
   "metadata": {},
   "source": [
    "# 6. Write a Python program to check order of character in string using OrderedDict()?"
   ]
  },
  {
   "cell_type": "code",
   "execution_count": 6,
   "id": "9747225d",
   "metadata": {},
   "outputs": [
    {
     "name": "stdout",
     "output_type": "stream",
     "text": [
      "The string contain the character not in order\n"
     ]
    }
   ],
   "source": [
    "# To check order of character in string\n",
    "from collections import OrderedDict\n",
    "ordered_dict = OrderedDict.fromkeys(\"high alert due to heavy rainfall.\")\n",
    "\n",
    "pattern = \"arde\"\n",
    "pattern_index = 0\n",
    "\n",
    "for key in ordered_dict :\n",
    "    if key == pattern[pattern_index]:\n",
    "        pattern_index += 1\n",
    "    if pattern_index == len(pattern):\n",
    "        print(\"The string contain the character in order\")\n",
    "        break\n",
    "else :\n",
    "    if pattern_index != len(pattern):\n",
    "         print(\"The string contain the character not in order\")"
   ]
  },
  {
   "cell_type": "markdown",
   "id": "30ccc513",
   "metadata": {},
   "source": [
    "# 7. Write a Python program to sort Python Dictionaries by Key or Value?"
   ]
  },
  {
   "cell_type": "code",
   "execution_count": 7,
   "id": "82f17f09",
   "metadata": {},
   "outputs": [
    {
     "name": "stdout",
     "output_type": "stream",
     "text": [
      "sorted by key : {'4664': 3366, 'k': 'school', 'reg': 667}\n"
     ]
    }
   ],
   "source": [
    "# To sort dictionary by Key\n",
    "d = {\"k\" :\"school\" , \"4664\" : 3366 , \"reg\" : 667}\n",
    "sorted_key = dict(sorted(d.items()))\n",
    "print(\"sorted by key :\", sorted_key)"
   ]
  },
  {
   "cell_type": "code",
   "execution_count": 8,
   "id": "4322c1fb",
   "metadata": {},
   "outputs": [
    {
     "name": "stdout",
     "output_type": "stream",
     "text": [
      "sorted by value : {'reg': 667, '4664': 3366, 'k': 4346}\n"
     ]
    }
   ],
   "source": [
    "# To sort dictionary by value\n",
    "d = {\"k\" :4346 , \"4664\" : 3366 , \"reg\" : 667}\n",
    "sorted_value = dict(sorted(d.items() , key = lambda item:item[1]))\n",
    "print(\"sorted by value :\", sorted_value)"
   ]
  }
 ],
 "metadata": {
  "kernelspec": {
   "display_name": "Python 3 (ipykernel)",
   "language": "python",
   "name": "python3"
  },
  "language_info": {
   "codemirror_mode": {
    "name": "ipython",
    "version": 3
   },
   "file_extension": ".py",
   "mimetype": "text/x-python",
   "name": "python",
   "nbconvert_exporter": "python",
   "pygments_lexer": "ipython3",
   "version": "3.9.13"
  }
 },
 "nbformat": 4,
 "nbformat_minor": 5
}
