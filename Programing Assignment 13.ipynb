{
 "cells": [
  {
   "cell_type": "markdown",
   "id": "65c475c3",
   "metadata": {},
   "source": [
    "\n",
    "# Question 1:\n",
    "\n",
    "Write a program that calculates and prints the value according to the given formula:\n",
    "    \n",
    "Q = Square root of [(2 * C * D)/H]\n",
    "\n",
    "Following are the fixed values of C and H:\n",
    "    \n",
    "C is 50. H is 30.\n",
    "\n",
    "D is the variable whose values should be input to your program in a comma-separated\n",
    "\n",
    "sequence.\n",
    "\n",
    "Example\n",
    "\n",
    "Let us assume the following comma separated input sequence is given to the program:\n",
    "\n",
    "    100,150,180\n",
    "\n",
    "    The output of the program should be:\n",
    "\n",
    "        18,22,24"
   ]
  },
  {
   "cell_type": "code",
   "execution_count": 1,
   "id": "05813b04",
   "metadata": {},
   "outputs": [
    {
     "name": "stdout",
     "output_type": "stream",
     "text": [
      "enter the coma-separated value of D :100,150,180\n",
      "18,22,24\n"
     ]
    }
   ],
   "source": [
    "# importing math module\n",
    "import math\n",
    "C = 50  \n",
    "H = 30\n",
    "Q_values = []\n",
    "# enter the value of D\n",
    "D_values = input(\"enter the coma-separated value of D :\")\n",
    "for D in D_values.split(','): # To add value more than one\n",
    "    D = int(D)\n",
    "    Q = str(int(math.sqrt((2*C*D)/H)))  # formula\n",
    "    Q_values.append(Q)\n",
    "print(\",\".join(Q_values))"
   ]
  },
  {
   "cell_type": "markdown",
   "id": "207d0516",
   "metadata": {},
   "source": [
    "# Question 2:\n",
    "\n",
    "Write a program which takes 2 digits, X,Y as input and generates a 2-dimensional array. The\n",
    "\n",
    "element value in the i-th row and j-th column of the array should be i*j.\n",
    "\n",
    "Note: i=0,1.., X-1; j=0,1,¡Y-1.\n",
    "\n",
    "    Example\n",
    "\n",
    "      Suppose the following inputs are given to the program:\n",
    "\n",
    "            3,5\n",
    "\n",
    "        Then, the output of the program should be:\n",
    "\n",
    "          [[0, 0, 0, 0, 0], [0, 1, 2, 3, 4], [0, 2, 4, 6, 8]]"
   ]
  },
  {
   "cell_type": "code",
   "execution_count": 2,
   "id": "bd877cee",
   "metadata": {},
   "outputs": [
    {
     "name": "stdout",
     "output_type": "stream",
     "text": [
      "Enter the number :3\n",
      "Enter the number :5\n"
     ]
    },
    {
     "data": {
      "text/plain": [
       "[[0, 0, 0, 0, 0], [0, 1, 2, 3, 4], [0, 2, 4, 6, 8]]"
      ]
     },
     "execution_count": 2,
     "metadata": {},
     "output_type": "execute_result"
    }
   ],
   "source": [
    "# importing array \n",
    "import array as arr\n",
    "arr = []\n",
    "X = int(input(\"Enter the number :\"))  # for row\n",
    "Y = int(input(\"Enter the number :\"))  # for column\n",
    "for i in range(X) :\n",
    "    row = []\n",
    "    for j in range(Y) :\n",
    "        row.append(i*j)\n",
    "    arr.append(row)    \n",
    "arr"
   ]
  },
  {
   "cell_type": "markdown",
   "id": "b2a19402",
   "metadata": {},
   "source": [
    "# Question 3:\n",
    "\n",
    "Write a program that accepts a comma separated sequence of words as input and prints the\n",
    "\n",
    "words in a comma-separated sequence after sorting them alphabetically.\n",
    "\n",
    "Suppose the following input is supplied to the program:\n",
    "\n",
    "    without,hello,bag,world\n",
    "\n",
    "    Then, the output should be:\n",
    "\n",
    "        bag,hello,without,world"
   ]
  },
  {
   "cell_type": "code",
   "execution_count": 3,
   "id": "4f0ff6cd",
   "metadata": {},
   "outputs": [
    {
     "name": "stdout",
     "output_type": "stream",
     "text": [
      "Enter the comma-separated words :without,hello,bag,world\n",
      "bag,hello,without,world\n"
     ]
    }
   ],
   "source": [
    "# Enter words \n",
    "Words = input(\"Enter the comma-separated words :\")\n",
    "words = Words.split(',') # split the word by comma\n",
    "words_sorted = sorted(words)  # sort the words by alphabetically\n",
    "sorted_words = ','.join(words_sorted)\n",
    "print(sorted_words)  # print the sorted words"
   ]
  },
  {
   "cell_type": "markdown",
   "id": "a2935b93",
   "metadata": {},
   "source": [
    "# Question 4:\n",
    "\n",
    "Write a program that accepts a sequence of whitespace separated words as input and prints the words after removing all duplicate words and sorting them alphanumerically.\n",
    "\n",
    "Suppose the following input is supplied to the program:\n",
    "\n",
    "    hello world and practice makes perfect and hello world again\n",
    "\n",
    "    Then, the output should be:\n",
    "\n",
    "        again and hello makes perfect practice world"
   ]
  },
  {
   "cell_type": "code",
   "execution_count": 4,
   "id": "13638ebb",
   "metadata": {},
   "outputs": [
    {
     "name": "stdout",
     "output_type": "stream",
     "text": [
      "Enter the whitespace separated words :hello world and practice makes perfect and hello world again\n",
      "again and hello makes perfect practice world\n"
     ]
    }
   ],
   "source": [
    "# enter the words \n",
    "Words = input(\"Enter the whitespace separated words :\")\n",
    "words = Words.split(' ') # split the words with whitespace\n",
    "words_sorted = sorted(set(words))  # sort the set words\n",
    "sorted_words = ' '.join(words_sorted)\n",
    "print(sorted_words) # print sorted words"
   ]
  },
  {
   "cell_type": "markdown",
   "id": "7e93a2f2",
   "metadata": {},
   "source": [
    "# Question 5:\n",
    "\n",
    "Write a program that accepts a sentence and calculate the number of letters and digits.\n",
    "\n",
    "Suppose the following input is supplied to the program:\n",
    "\n",
    "    hello world! 123\n",
    "\n",
    "    Then, the output should be:\n",
    "\n",
    "        LETTERS 10\n",
    "        DIGITS 3"
   ]
  },
  {
   "cell_type": "code",
   "execution_count": 5,
   "id": "67d3c1e4",
   "metadata": {},
   "outputs": [
    {
     "name": "stdout",
     "output_type": "stream",
     "text": [
      "enter the sentence :hello world! 123\n",
      "LETTERS : 10\n",
      "DIGIT : 3\n"
     ]
    }
   ],
   "source": [
    "# enter alphanumeric word\n",
    "s = input(\"enter the sentence :\")\n",
    "LETTERS = 0\n",
    "DIGIT = 0\n",
    "for i in s: \n",
    "    if i.isalpha() :\n",
    "        LETTERS += 1\n",
    "    elif i.isdigit() :\n",
    "        DIGIT += 1\n",
    "print(\"LETTERS :\", LETTERS) # print counted letters\n",
    "print(\"DIGIT :\", DIGIT)    # print counted digit"
   ]
  },
  {
   "cell_type": "markdown",
   "id": "0d658ae0",
   "metadata": {},
   "source": [
    "# Question 6:\n",
    "\n",
    "A website requires the users to input username and password to register. Write a program to check the validity of password input by users.\n",
    "\n",
    "Following are the criteria for checking the password:\n",
    "\n",
    "    1. At least 1 letter between [a-z]\n",
    "       At least 1 letter between [A-Z]\n",
    "\n",
    "    2. At least 1 number between [0-9]\n",
    "\n",
    "    3. At least 1 character from [$#@]\n",
    "\n",
    "    4. Minimum length of transaction password: 6\n",
    "\n",
    "    5. Maximum length of transaction password: 12\n",
    "\n",
    "Your program should accept a sequence of comma separated passwords and will check them according to the above criteria. \n",
    "\n",
    "Passwords that match the criteria are to be printed, each separated by a comma.\n",
    "\n",
    "    Example\n",
    "\n",
    "        If the following passwords are given as input to the program:\n",
    "\n",
    "            ABd1234@1,a F1#,2w3E*,2We3345\n",
    "\n",
    "        Then, the output of the program should be:\n",
    "\n",
    "            ABd1234@1"
   ]
  },
  {
   "cell_type": "code",
   "execution_count": 6,
   "id": "3a0ffe0e",
   "metadata": {},
   "outputs": [
    {
     "name": "stdout",
     "output_type": "stream",
     "text": [
      "enter the password :ABd1234@1,a F1#,2w3E*,2We3345\n",
      "password is valid : ABd1234@1\n"
     ]
    }
   ],
   "source": [
    "# import re module \n",
    "import re\n",
    "Password = input(\"enter the password :\") # enter passwords \n",
    "pattern = r'^[a-zA-Z0-9]+[$#@]+[a-zA-Z0-9]*$' # pattern for password \n",
    "min_len = 6\n",
    "max_len = 12\n",
    "valid_password = []\n",
    "password = Password.split(',')  # paswords separated by comma  \n",
    "for i in password :\n",
    "    if min_len <= len(i) <= max_len :   # To check len of password between 6 to 12\n",
    "        if re.match(pattern,i) :\n",
    "            valid_password.append(i)   # Append valid password \n",
    "if valid_password :\n",
    "    print(\"password is valid :\", \",\".join(valid_password))  \n",
    "else :\n",
    "    print(\"password is invalid\")"
   ]
  }
 ],
 "metadata": {
  "kernelspec": {
   "display_name": "Python 3 (ipykernel)",
   "language": "python",
   "name": "python3"
  },
  "language_info": {
   "codemirror_mode": {
    "name": "ipython",
    "version": 3
   },
   "file_extension": ".py",
   "mimetype": "text/x-python",
   "name": "python",
   "nbconvert_exporter": "python",
   "pygments_lexer": "ipython3",
   "version": "3.9.13"
  }
 },
 "nbformat": 4,
 "nbformat_minor": 5
}
