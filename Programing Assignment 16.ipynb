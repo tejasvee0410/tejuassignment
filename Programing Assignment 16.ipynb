{
 "cells": [
  {
   "cell_type": "markdown",
   "id": "6dd3cbb6-ce89-443a-9642-d2ee07680529",
   "metadata": {},
   "source": [
    "# 1.Write a function that stutters a word as if someone is struggling to read it. The first two letters are repeated twice with an ellipsis ... and space after each, and then the word is pronounced with a question mark ?.\n",
    "        Examples\n",
    "        stutter(\"incredible\") ➞\"in... in... incredible?\"\n",
    "        stutter(\"enthusiastic\") ➞ \"en... en... enthusiastic?\"\n",
    "        stutter(\"outstanding\") ➞ \"ou... ou... outstanding?\"\n",
    "        \n",
    "        Hint :- Assume all input is in lower case and at least two characters long.\n"
   ]
  },
  {
   "cell_type": "code",
   "execution_count": 1,
   "id": "3676531b-8ae5-4072-8ec5-45297edabae4",
   "metadata": {},
   "outputs": [
    {
     "name": "stdout",
     "output_type": "stream",
     "text": [
      "in...in...incredible?\n",
      "en...en...enthusiastic?\n",
      "ou...ou...outstanding?\n"
     ]
    }
   ],
   "source": [
    "# To get stutter words \n",
    "def stutter(word):\n",
    "    stutter_part = word[:2] + \"...\" + word[:2] + \"...\"  #method \n",
    "    return stutter_part + word + \"?\"\n",
    "\n",
    "# printing stutter words\n",
    "print(stutter(\"incredible\"))\n",
    "print(stutter(\"enthusiastic\"))\n",
    "print(stutter(\"outstanding\"))\n",
    "\n"
   ]
  },
  {
   "cell_type": "markdown",
   "id": "cb369302-9edb-4603-b40c-670bea70d29c",
   "metadata": {},
   "source": [
    "# 2.Create a function that takes an angle in radians and returns the corresponding angle in degrees rounded to one decimal place.\n",
    "    Examples\n",
    "    radians_to_degrees(1) ➞ 57.3\n",
    "    radians_to_degrees(20) ➞ 1145.9\n",
    "    radians_to_degrees(50) ➞ 2864.8"
   ]
  },
  {
   "cell_type": "code",
   "execution_count": 3,
   "id": "a2e5c6d9-513a-4713-8c4f-88985a8d72fc",
   "metadata": {},
   "outputs": [
    {
     "name": "stdout",
     "output_type": "stream",
     "text": [
      "57.3\n",
      "1145.9\n",
      "2864.8\n"
     ]
    }
   ],
   "source": [
    "# To convert radians into degerees \n",
    "import math\n",
    "def radians_to_degrees(radians):\n",
    "    return round(math.degrees(radians), 1) \n",
    "\n",
    "# To print \n",
    "print(radians_to_degrees(1))\n",
    "print(radians_to_degrees(20))\n",
    "print(radians_to_degrees(50))"
   ]
  },
  {
   "cell_type": "markdown",
   "id": "89dd9e37-e0a6-414a-866b-2227cbe0be46",
   "metadata": {},
   "source": [
    "# 3. In this challenge, establish if a given integer num is a Curzon number. \n",
    "     If 1 plus 2 elevated to num is exactly divisible by 1 plus 2 multiplied by num, then num is a Curzon number.\n",
    "     Given a non-negative integer num, implement a function that returns True if num is a Curzon number, or False otherwise.\n",
    "            Examples\n",
    "            is_curzon(5) ➞ True\n",
    "            # 2 ** 5 + 1 = 33\n",
    "            # 2 * 5 + 1 = 11\n",
    "            # 33 is a multiple of 11\n",
    "            is_curzon(10) ➞ False\n",
    "            # 2 ** 10 + 1 = 1025\n",
    "            # 2 * 10 + 1 = 21\n",
    "            # 1025 is not a multiple of 21\n",
    "            is_curzon(14) ➞ True\n",
    "            # 2 ** 14 + 1 = 16385\n",
    "            # 2 * 14 + 1 = 29\n",
    "            # 16385 is a multiple of 29"
   ]
  },
  {
   "cell_type": "code",
   "execution_count": 5,
   "id": "889bf7d4-41e1-47f2-963e-275e72055515",
   "metadata": {},
   "outputs": [
    {
     "name": "stdout",
     "output_type": "stream",
     "text": [
      "True\n",
      "False\n",
      "True\n"
     ]
    }
   ],
   "source": [
    "# To check curzon number\n",
    "def is_curzon(n):\n",
    "    \n",
    "    power_term , product_term = 0, 0\n",
    "    power_term = pow(2, n) + 1\n",
    "    product_term = 2*n + 1\n",
    "    \n",
    "    if (power_term % product_term == 0) :  # condition\n",
    "        return True\n",
    "    else :\n",
    "        return False\n",
    "\n",
    "# To print \n",
    "print(is_curzon(5))\n",
    "print(is_curzon(10))\n",
    "print(is_curzon(14))"
   ]
  },
  {
   "cell_type": "markdown",
   "id": "3a9edcd7-7c81-416f-b083-ba0f3513c810",
   "metadata": {},
   "source": [
    "# 4.Given the side length x find the area of a hexagon.\n",
    "      A = (3√3s²)/2\n",
    "     Examples :\n",
    "        area_of_hexagon(1) ➞ 2.6\n",
    "        area_of_hexagon(2) ➞ 10.4\n",
    "        area_of_hexagon(3) ➞ 23.4"
   ]
  },
  {
   "cell_type": "code",
   "execution_count": 47,
   "id": "7de990d0-89e3-4102-8a45-8779db687af6",
   "metadata": {},
   "outputs": [
    {
     "name": "stdout",
     "output_type": "stream",
     "text": [
      "2.6\n",
      "10.4\n",
      "23.4\n"
     ]
    }
   ],
   "source": [
    "# To find area of hexagon\n",
    "def area_of_hexagon(x):\n",
    "    A = (3*1.73*x**2)/2  # Formula\n",
    "    return round(A, 1)\n",
    "\n",
    "# \n",
    "print(area_of_hexagon(1))\n",
    "print(area_of_hexagon(2))\n",
    "print(area_of_hexagon(3))"
   ]
  },
  {
   "cell_type": "markdown",
   "id": "37b32dbb-d0d8-4a4f-8017-b43e8551f0cc",
   "metadata": {},
   "source": [
    "# 5. Create a function that returns a base-2 (binary) representation of a base-10 (decimal) string number. To convert is simple: ((2) means base-2 and (10) means base-10) 010101001(2) = 1 + 8 + 32 + 128.\n",
    "    Going from right to left, the value of the most right bit is 1, now from that every bit to the left will be x2 the value, value of an 8 bit binary numbers are (256, 128, 64, 32, 16, 8, 4, 2, 1).\n",
    "    Examples\n",
    "        binary(1) ➞ \"1\"\n",
    "        # 1*1 = 1\n",
    "        binary(5) ➞ \"101\"\n",
    "        # 1*1 + 1*4 = 5\n",
    "        binary(10) ➞ \"1010\"\n",
    "        # 1*2 + 1*8 = 10"
   ]
  },
  {
   "cell_type": "code",
   "execution_count": 71,
   "id": "f2f9e474-a74a-4488-9f08-1e7a16d62c88",
   "metadata": {},
   "outputs": [
    {
     "name": "stdout",
     "output_type": "stream",
     "text": [
      "1\n",
      "101\n",
      "1010\n"
     ]
    }
   ],
   "source": [
    "\n",
    "def decimal_to_binary(n):\n",
    "    return bin(n)[2:]\n",
    "\n",
    "print(decimal_to_binary(1))\n",
    "print(decimal_to_binary(5))\n",
    "print(decimal_to_binary(10))"
   ]
  },
  {
   "cell_type": "code",
   "execution_count": null,
   "id": "d8000054-1ee7-4a3d-81f9-08315e37ea84",
   "metadata": {},
   "outputs": [],
   "source": []
  }
 ],
 "metadata": {
  "kernelspec": {
   "display_name": "Python [conda env:base] *",
   "language": "python",
   "name": "conda-base-py"
  },
  "language_info": {
   "codemirror_mode": {
    "name": "ipython",
    "version": 3
   },
   "file_extension": ".py",
   "mimetype": "text/x-python",
   "name": "python",
   "nbconvert_exporter": "python",
   "pygments_lexer": "ipython3",
   "version": "3.12.7"
  }
 },
 "nbformat": 4,
 "nbformat_minor": 5
}
