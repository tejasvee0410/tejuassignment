{
 "cells": [
  {
   "cell_type": "markdown",
   "id": "f09aaf39-8d52-4fd2-a93e-58d740c5b4d4",
   "metadata": {},
   "source": [
    "# 1.Create a function that takes three arguments a, b, c and returns the sum of the numbers that are evenly divided by c from the range a, b inclusive.\n",
    "        Examples\n",
    "        evenly_divisible(1, 10, 20) ➞ 0\n",
    "        # No number between 1 and 10 can be evenly divided by 20.\n",
    "        evenly_divisible(1, 10, 2) ➞ 30\n",
    "        # 2 + 4 + 6 + 8 + 10 = 30\n",
    "        evenly_divisible(1, 10, 3) ➞ 18\n",
    "        # 3 + 6 + 9 = 18"
   ]
  },
  {
   "cell_type": "code",
   "execution_count": 1,
   "id": "ca67a344-d464-4248-89ef-bf9fc9b28e05",
   "metadata": {},
   "outputs": [
    {
     "name": "stdout",
     "output_type": "stream",
     "text": [
      "result: 0\n",
      "result: 30\n",
      "result: 18\n"
     ]
    }
   ],
   "source": [
    "# To returns the sum of the numbers from range of a,b that are evenly divided by c\n",
    "def evenly_divisible(a,b,c):\n",
    "    Total = 0\n",
    "    for i in range(a, b+1):\n",
    "        if i % c == 0 :\n",
    "            Total += i\n",
    "    return Total\n",
    "\n",
    "# To print result\n",
    "result = evenly_divisible(1,10,20) \n",
    "print(\"result:\", result)\n",
    "\n",
    "result = evenly_divisible(1,10,2)\n",
    "print(\"result:\", result)\n",
    "\n",
    "result = evenly_divisible(1,10,3)\n",
    "print(\"result:\", result)\n"
   ]
  },
  {
   "cell_type": "markdown",
   "id": "1550c71d-ba48-4b9c-bcb3-0e7f96832e48",
   "metadata": {},
   "source": [
    "# 2.Create a function that returns True if a given inequality expression is correct and False otherwise.\n",
    "        Examples\n",
    "        correct_signs(\"3 < 7 < 11\") ➞ True\n",
    "        correct_signs(\"13 > 44 > 33 > 1\") ➞ False\n",
    "        correct_signs(\"1 < 2 < 6 < 9 > 3\") ➞ True"
   ]
  },
  {
   "cell_type": "code",
   "execution_count": 63,
   "id": "f49e2a61-abbb-45c2-b71d-b92cbf008171",
   "metadata": {},
   "outputs": [
    {
     "name": "stdout",
     "output_type": "stream",
     "text": [
      "True\n",
      "False\n",
      "True\n"
     ]
    }
   ],
   "source": [
    "# To get True if inequality expression is correct and \n",
    "def correct_signs(expression):\n",
    "     return eval(expression)\n",
    "\n",
    "print(correct_signs(\"3 < 7 < 11\")) \n",
    "print(correct_signs(\"13 > 44 > 33 > 1\"))\n",
    "print(correct_signs(\"1 < 2 < 6 < 9 > 3\"))"
   ]
  },
  {
   "cell_type": "markdown",
   "id": "d6bc5826-8267-474b-8235-8845bcde551f",
   "metadata": {},
   "source": [
    "# 4.Create a function that replaces all the vowels in a string with a specified character.\n",
    "        Examples\n",
    "        replace_vowels(\"the aardvark\", \"#\") ➞\"th# ##rdv#rk\"\n",
    "        replace_vowels\"minnie mouse\", \"?\") ➞ \"m?nn?? m??s?\"\n",
    "        replace_vowels(\"shakespeare\", \"*\") ➞ \"sh*k*sp**r*\""
   ]
  },
  {
   "cell_type": "code",
   "execution_count": 89,
   "id": "5bdb2f4b-d49f-4539-88a3-4a8ce4e4511b",
   "metadata": {},
   "outputs": [
    {
     "name": "stdout",
     "output_type": "stream",
     "text": [
      "th# ##rdv#rk\n",
      "m?nn?? m??s?\n",
      "sh*k*sp**r*\n"
     ]
    }
   ],
   "source": [
    "def replace_vowels(text,replace):\n",
    "    vowels = \"aeiouAEIOU\"\n",
    "    for vowel in vowels:\n",
    "       text = text.replace(vowel,replace)\n",
    "    return text\n",
    "    \n",
    "print(replace_vowels(\"the aardvark\", \"#\"))\n",
    "print(replace_vowels(\"minnie mouse\", \"?\"))\n",
    "print(replace_vowels(\"shakespeare\", \"*\"))      "
   ]
  },
  {
   "cell_type": "markdown",
   "id": "dcdc5abd-fd3b-4b02-bba0-f6f703935ec1",
   "metadata": {},
   "source": [
    "# 5. Hamming distance is the number of characters that differ between two strings.\n",
    "\n",
    "        To illustrate:\n",
    "\n",
    "        String1: \"abcbba\"\n",
    "        String2: \"abcbda\"\n",
    "        \n",
    "        Hamming Distance: 1 - \"b\" vs. \"d\" is the only difference.\n",
    "        \n",
    "        Create a function that computes the hamming distance between two strings.\n",
    "        \n",
    "                Examples\n",
    "                hamming_distance(\"abcde\", \"bcdef\") ➞ 5\n",
    "                hamming_distance(\"abcde\", \"abcde\") ➞ 0\n",
    "                hamming_distance(\"strong\", \"strung\") ➞ 1"
   ]
  },
  {
   "cell_type": "code",
   "execution_count": 1,
   "id": "8beda390-d6b1-46f7-9178-6462c17c7ecd",
   "metadata": {},
   "outputs": [
    {
     "name": "stdout",
     "output_type": "stream",
     "text": [
      "5\n",
      "0\n",
      "1\n"
     ]
    }
   ],
   "source": [
    "# To computes the hamming distance\n",
    "def hamming_distance(String1, String2):\n",
    "    i = 0  # To count letters in string\n",
    "    n = 0  # To count hamming distance\n",
    "    # Condition\n",
    "    while i < len(String1) :\n",
    "        if String1[i] != String2[i] :\n",
    "            n += 1\n",
    "        i += 1\n",
    "    return n\n",
    "\n",
    "# Strings\n",
    "String1 = \"abcde\"\n",
    "String2 = \"bcdef\"\n",
    "print(hamming_distance(String1, String2)) # To print hamming distance between 2 string\n",
    "\n",
    "String1 = \"abcde\"\n",
    "String2 = \"abcde\"\n",
    "print(hamming_distance(String1, String2))\n",
    "\n",
    "String1 = \"strong\"\n",
    "String2 = \"strung\"\n",
    "print(hamming_distance(String1, String2))"
   ]
  },
  {
   "cell_type": "code",
   "execution_count": null,
   "id": "cb1f5741-0218-472b-983c-73365d5b5da1",
   "metadata": {},
   "outputs": [],
   "source": []
  }
 ],
 "metadata": {
  "kernelspec": {
   "display_name": "Python [conda env:base] *",
   "language": "python",
   "name": "conda-base-py"
  },
  "language_info": {
   "codemirror_mode": {
    "name": "ipython",
    "version": 3
   },
   "file_extension": ".py",
   "mimetype": "text/x-python",
   "name": "python",
   "nbconvert_exporter": "python",
   "pygments_lexer": "ipython3",
   "version": "3.12.7"
  }
 },
 "nbformat": 4,
 "nbformat_minor": 5
}
