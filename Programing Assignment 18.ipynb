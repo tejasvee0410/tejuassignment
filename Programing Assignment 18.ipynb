{
 "cells": [
  {
   "cell_type": "markdown",
   "id": "8464e413-6a7e-4613-9d0e-067d167b096c",
   "metadata": {},
   "source": [
    "# 1.Create a function that takes a list of non-negative integers and strings and return a new list without the strings.\n",
    "        Examples\n",
    "        filter_list([1, 2, \"a\", \"b\"]) ➞ [1, 2]\n",
    "        filter_list([1, \"a\", \"b\", 0, 15]) ➞ [1, 0, 15]\n",
    "        filter_list([1, 2, \"aasf\",\"1\",\"123\", 123]) ➞ [1, 2, 123]"
   ]
  },
  {
   "cell_type": "code",
   "execution_count": 1,
   "id": "54a93630-fb11-42ad-8e4e-45eb347e6e13",
   "metadata": {},
   "outputs": [
    {
     "name": "stdout",
     "output_type": "stream",
     "text": [
      "[1, 2]\n",
      "[1, 0, 15]\n",
      "[1, 2, 123]\n"
     ]
    }
   ],
   "source": [
    "# To create the list without string\n",
    "def filter_list(l):\n",
    "    return [i for i in l if isinstance(i,int)]\n",
    "\n",
    "# To print the list\n",
    "l = [1,2,\"a\",\"b\"]\n",
    "print(filter_list(l))\n",
    "\n",
    "l = [1, \"a\", \"b\", 0, 15]\n",
    "print(filter_list(l))\n",
    "\n",
    "l = [1, 2, \"aasf\",\"1\",\"123\", 123]\n",
    "print(filter_list(l))"
   ]
  },
  {
   "cell_type": "markdown",
   "id": "e37da404-ab19-474e-a11b-ff92ff4284b1",
   "metadata": {},
   "source": [
    "# 2.The \"Reverser\" takes a string as input and returns that string in reverse order, with the opposite case.\n",
    "        Examples: \n",
    "          reverse(\"Hello World\") ➞ \"DLROw OLLEh\"\n",
    "          reverse(\"ReVeRsE\") ➞ \"eSrEvEr\"\n",
    "          reverse(\"Radar\") ➞ \"RADAr\""
   ]
  },
  {
   "cell_type": "code",
   "execution_count": 3,
   "id": "12b19ef4-6c94-4f78-a2be-7cc66c84c8aa",
   "metadata": {},
   "outputs": [
    {
     "name": "stdout",
     "output_type": "stream",
     "text": [
      "DLROw OLLEh\n",
      "eSrEvEr\n",
      "RADAr\n"
     ]
    }
   ],
   "source": [
    "# To reverse the string in opposite case\n",
    "def reverser(s):\n",
    "    return s[ : : -1].swapcase()\n",
    "\n",
    "# To print\n",
    "s = \"Hello World\"\n",
    "print(reverser(s))\n",
    "\n",
    "s = \"ReVeRsE\"\n",
    "print(reverser(s))\n",
    "\n",
    "s = \"Radar\"\n",
    "print(reverser(s))"
   ]
  },
  {
   "cell_type": "markdown",
   "id": "6377d2e5-86e8-4896-9a46-0b32530fb33a",
   "metadata": {},
   "source": [
    "# 3.You can assign variables from lists like this:\n",
    "        lst = [1, 2, 3, 4, 5, 6]\n",
    "        first = lst[0]\n",
    "        middle = lst[1:-1]\n",
    "        last = lst[-1]\n",
    "        print(first) ➞ outputs 1\n",
    "        print(middle) ➞ outputs [2, 3, 4, 5]\n",
    "        print(last) ➞ outputs 6\n",
    "With Python 3, you can assign variables from lists in a much more succinct way. Create variables first, middle and last from the given list using destructuring assignment (check the Resources tab for some examples), \n",
    "where:\n",
    "\n",
    "        first ➞ 1\n",
    "        middle ➞ [2, 3, 4, 5]\n",
    "        last ➞ 6\n",
    "\n",
    "Your task is to unpack the list writeyourcodehere into three variables, being first, middle, and last, with middle being everything in between the first and last element. Then print all three variables.\n",
    "\n"
   ]
  },
  {
   "cell_type": "code",
   "execution_count": 5,
   "id": "1932b5fd-1c94-4a7c-b8a3-3854b3211a1b",
   "metadata": {},
   "outputs": [
    {
     "name": "stdout",
     "output_type": "stream",
     "text": [
      "1\n",
      "[2, 3, 4, 5]\n",
      "6\n"
     ]
    }
   ],
   "source": [
    "# To print first,middle,last from list\n",
    "writeyourcodehere = [1,2,3,4,5,6]\n",
    "first, *middle, last = writeyourcodehere\n",
    "print(first)\n",
    "print(middle)\n",
    "print(last)"
   ]
  },
  {
   "cell_type": "markdown",
   "id": "e44f43d8-c6fa-41f9-819f-5a221b24c21d",
   "metadata": {},
   "source": [
    "# 4. Write a function that calculates the factorial of a number recursively.\n",
    "        Examples :\n",
    "            factorial(5) ➞ 120\n",
    "            factorial(3) ➞ 6\n",
    "            factorial(1) ➞ 1\n",
    "            factorial(0) ➞ 1"
   ]
  },
  {
   "cell_type": "code",
   "execution_count": 5,
   "id": "21945348-7cd6-4af3-955f-38e991928997",
   "metadata": {},
   "outputs": [
    {
     "name": "stdout",
     "output_type": "stream",
     "text": [
      "120\n",
      "6\n",
      "1\n",
      "1\n"
     ]
    }
   ],
   "source": [
    "# To calculte the f\n",
    "def factorial(n) :\n",
    "    if n == 0 or n == 1 :\n",
    "        return 1\n",
    "    return n*factorial(n-1)\n",
    "\n",
    "print(factorial(5))\n",
    "print(factorial(3))\n",
    "print(factorial(1))\n",
    "print(factorial(0))"
   ]
  },
  {
   "cell_type": "markdown",
   "id": "cebc29bc-dde4-4fcb-abea-13273f675fc6",
   "metadata": {},
   "source": [
    "# 5. Write a function that moves all elements of one type to the end of the list.\n",
    "      Examples :\n",
    "         move_to_end([1, 3, 2, 4, 4, 1], 1) ➞ [3, 2, 4, 4, 1, 1]\n",
    "         # Move all the 1s to the end of the array.\n",
    "           move_to_end([7, 8, 9, 1, 2, 3, 4], 9) ➞ [7, 8, 1, 2, 3, 4, 9]\n",
    "           move_to_end([\"a\", \"a\", \"a\", \"b\"],\"a\") ➞ [\"b\", \"a\", \"a\",\"a\"]"
   ]
  },
  {
   "cell_type": "code",
   "execution_count": 12,
   "id": "3bc46ebc-fbd5-45fa-b8dd-a59a4deecbfd",
   "metadata": {},
   "outputs": [
    {
     "name": "stdout",
     "output_type": "stream",
     "text": [
      "[3, 2, 4, 4, 1, 1]\n",
      "[7, 8, 1, 2, 3, 4, 9]\n",
      "['b', 'a', 'a', 'a']\n"
     ]
    }
   ],
   "source": [
    "def move_to_end(list,element) :\n",
    "    return [i for i in list if i!= element] + [i for i in list if i== element]\n",
    "\n",
    "print(move_to_end([1,3,2,4,4,1],1))\n",
    "print(move_to_end([7,8,9,1,2,3,4],9))\n",
    "print(move_to_end([\"a\",\"a\",\"a\",\"b\"],\"a\"))\n"
   ]
  }
 ],
 "metadata": {
  "kernelspec": {
   "display_name": "Python [conda env:base] *",
   "language": "python",
   "name": "conda-base-py"
  },
  "language_info": {
   "codemirror_mode": {
    "name": "ipython",
    "version": 3
   },
   "file_extension": ".py",
   "mimetype": "text/x-python",
   "name": "python",
   "nbconvert_exporter": "python",
   "pygments_lexer": "ipython3",
   "version": "3.12.7"
  }
 },
 "nbformat": 4,
 "nbformat_minor": 5
}
