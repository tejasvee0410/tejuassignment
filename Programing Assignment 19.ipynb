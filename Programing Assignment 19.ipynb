{
 "cells": [
  {
   "cell_type": "markdown",
   "id": "d6267dad-e855-4068-9d9b-cccdb1d3b9bf",
   "metadata": {},
   "source": [
    "# 1.Create a function that takes a string and returns a string in which each character is repeated once.\n",
    "        Examples\n",
    "        double_char(\"String\") ➞ \"SSttrriinngg\"\n",
    "        double_char(\"Hello World!\") ➞ \"HHeelllloo WWoorrlldd!!\"\n",
    "        double_char(\"1234!_ \") ➞ \"11223344!!__ \""
   ]
  },
  {
   "cell_type": "code",
   "execution_count": 1,
   "id": "15855b63-66ea-43de-b431-e1f21516199b",
   "metadata": {},
   "outputs": [
    {
     "name": "stdout",
     "output_type": "stream",
     "text": [
      "SSttrriinngg\n",
      "HHeelllloo  WWoorrlldd!!\n",
      "11223344!!__  \n"
     ]
    }
   ],
   "source": [
    "# Create a function \n",
    "def double_char(str):\n",
    "    n = 2\n",
    "    return \"\".join([char*n for char in str]) # To return a string with each repeated character\n",
    "\n",
    "# To print the result\n",
    "result = double_char(\"String\")\n",
    "print(result)\n",
    "\n",
    "result = double_char(\"Hello World!\")\n",
    "print(result)\n",
    "\n",
    "result = double_char(\"1234!_ \")\n",
    "print(result)"
   ]
  },
  {
   "cell_type": "markdown",
   "id": "656554dc-ec0c-45d4-a8e3-bfb6a9545e88",
   "metadata": {},
   "source": [
    "# 2.Create a function that reverses a boolean value and returns the string \"boolean expected\" if another variable type is given.\n",
    "        Examples\n",
    "        reverse(True) ➞ False\n",
    "        reverse(False) ➞ True\n",
    "        reverse(0) ➞ \"boolean expected\"\n",
    "        reverse(None) ➞ \"boolean expected\""
   ]
  },
  {
   "cell_type": "code",
   "execution_count": 3,
   "id": "870d3bf0-df84-4977-b305-2f5b1fe4b827",
   "metadata": {},
   "outputs": [
    {
     "name": "stdout",
     "output_type": "stream",
     "text": [
      "False\n",
      "True\n",
      "boolean expected\n",
      "boolean expected\n"
     ]
    }
   ],
   "source": [
    "# Create a function which reverse the boolean value\n",
    "def reverse(value):\n",
    "    if type(value) == bool  :\n",
    "       return (not value)\n",
    "    return \"boolean expected\" \n",
    "\n",
    "# To print the result\n",
    "result = reverse(True)\n",
    "print(result)\n",
    "\n",
    "result = reverse(False)\n",
    "print(result)\n",
    "\n",
    "result = reverse(0)\n",
    "print(result)\n",
    "\n",
    "result = reverse(None)\n",
    "print(result)"
   ]
  },
  {
   "cell_type": "markdown",
   "id": "044cc6b2-d369-4631-9cb4-8e43132a0f02",
   "metadata": {},
   "source": [
    "# 3. Create a function that returns the thickness (in meters) of a piece of paper after folding it n number of times. The paper starts off with a thickness of 0.5mm.\n",
    "            Examples\n",
    "            num_layers(1) ➞ \"0.001m\"\n",
    "            # Paper folded once is 1mm (equal to 0.001m)\n",
    "            num_layers(4) ➞ \"0.008m\"\n",
    "            # Paper folded 4 times is 8mm (equal to 0.008m)\n",
    "            num_layers(21) ➞ \"1048.576m\"\n",
    "            # Paper folded 21 times is 1048576mm (equal to 1048.576m)"
   ]
  },
  {
   "cell_type": "code",
   "execution_count": 5,
   "id": "d2fab063-266a-4200-bfb9-6394aca98661",
   "metadata": {},
   "outputs": [
    {
     "name": "stdout",
     "output_type": "stream",
     "text": [
      "0.001 m\n",
      "0.008 m\n",
      "1048.576 m\n"
     ]
    }
   ],
   "source": [
    "# Create a function that return the thickness of a piece of paper\n",
    "def num_layers(n) :\n",
    "    Ts = 0.0005 # in meter   \n",
    "    T = Ts * 2**n\n",
    "    return T \n",
    "# To print result\n",
    "result = num_layers(1)\n",
    "print(result,\"m\")\n",
    "\n",
    "result = num_layers(4)\n",
    "print(result,\"m\")\n",
    "\n",
    "result = num_layers(21)\n",
    "print(result,\"m\")"
   ]
  },
  {
   "cell_type": "markdown",
   "id": "69fad24f-8909-419c-9633-1ce4cef84b0b",
   "metadata": {},
   "source": [
    "# 4. Create a function that takes a single string as argument and returns an ordered list containing the indices of all capital letters in the string.\n",
    "        Examples\n",
    "        index_of_caps(\"eDaBiT\") ➞ [1, 3, 5]\n",
    "        index_of_caps(\"eQuINoX\") ➞ [1, 3, 4, 6]\n",
    "        index_of_caps(\"determine\") ➞ []\n",
    "        index_of_caps(\"STRIKE\") ➞ [0, 1, 2, 3, 4, 5]\n",
    "        index_of_caps(\"sUn\") ➞ [1]"
   ]
  },
  {
   "cell_type": "code",
   "execution_count": 7,
   "id": "a1001938-49b0-4569-ad2b-57469b5c11af",
   "metadata": {},
   "outputs": [
    {
     "name": "stdout",
     "output_type": "stream",
     "text": [
      "[1, 5]\n",
      "[1, 3, 4, 6]\n",
      "[]\n",
      "[0, 1, 2, 3, 4, 5]\n",
      "[1]\n"
     ]
    }
   ],
   "source": [
    "# Create a function that return a list which contains the index of capital letters in the string\n",
    "def index_of_caps(str) :\n",
    "    l = []\n",
    "    for i in range(len(str)) :\n",
    "        if str[i].isupper() :\n",
    "            l.append(i)\n",
    "    return l \n",
    "\n",
    "# TO print result\n",
    "result = index_of_caps(\"eDabiT\")\n",
    "print(result)\n",
    "\n",
    "result = index_of_caps(\"eQuINoX\")\n",
    "print(result)\n",
    "\n",
    "result = index_of_caps(\"determine\")\n",
    "print(result)\n",
    "\n",
    "result = index_of_caps(\"STRIKE\")\n",
    "print(result)\n",
    "\n",
    "result = index_of_caps(\"sUn\")\n",
    "print(result)"
   ]
  },
  {
   "cell_type": "markdown",
   "id": "3e930a2c-af0c-4a17-8986-b2ec6d34dd2d",
   "metadata": {},
   "source": [
    "# 5.Using list comprehensions, create a function that finds all even numbers from 1 to the given number.\n",
    "        Examples\n",
    "        find_even_nums(8) ➞ [2, 4, 6, 8]\n",
    "        find_even_nums(4) ➞ [2, 4]\n",
    "        find_even_nums(2) ➞ [2]"
   ]
  },
  {
   "cell_type": "code",
   "execution_count": 9,
   "id": "45d7be54-3eca-4379-8502-db03b4292a58",
   "metadata": {},
   "outputs": [
    {
     "name": "stdout",
     "output_type": "stream",
     "text": [
      "[2, 4, 6, 8]\n",
      "[2, 4]\n"
     ]
    },
    {
     "ename": "NameError",
     "evalue": "name 'f' is not defined",
     "output_type": "error",
     "traceback": [
      "\u001b[1;31m---------------------------------------------------------------------------\u001b[0m",
      "\u001b[1;31mNameError\u001b[0m                                 Traceback (most recent call last)",
      "Cell \u001b[1;32mIn[9], line 12\u001b[0m\n\u001b[0;32m      9\u001b[0m result \u001b[38;5;241m=\u001b[39m find_even_nums(\u001b[38;5;241m4\u001b[39m)\n\u001b[0;32m     10\u001b[0m \u001b[38;5;28mprint\u001b[39m(result)\n\u001b[1;32m---> 12\u001b[0m result \u001b[38;5;241m=\u001b[39m f\n",
      "\u001b[1;31mNameError\u001b[0m: name 'f' is not defined"
     ]
    }
   ],
   "source": [
    "# Create function and use list comprehensions to find even numver\n",
    "def find_even_nums(n) :\n",
    "    return [i for i in range(1,n+1) if i % 2 == 0 ]\n",
    "\n",
    "# To print result\n",
    "result = find_even_nums(8)\n",
    "print(result)\n",
    "\n",
    "result = find_even_nums(4)\n",
    "print(result)\n",
    "\n",
    "result = find_even_nums(2)\n",
    "print(result)\n"
   ]
  },
  {
   "cell_type": "code",
   "execution_count": null,
   "id": "a87e6c55-df84-4dff-b9db-496c4b914036",
   "metadata": {},
   "outputs": [],
   "source": []
  }
 ],
 "metadata": {
  "kernelspec": {
   "display_name": "Python [conda env:base] *",
   "language": "python",
   "name": "conda-base-py"
  },
  "language_info": {
   "codemirror_mode": {
    "name": "ipython",
    "version": 3
   },
   "file_extension": ".py",
   "mimetype": "text/x-python",
   "name": "python",
   "nbconvert_exporter": "python",
   "pygments_lexer": "ipython3",
   "version": "3.12.7"
  }
 },
 "nbformat": 4,
 "nbformat_minor": 5
}
