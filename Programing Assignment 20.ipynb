{
 "cells": [
  {
   "cell_type": "markdown",
   "id": "74f96f22-546c-4769-a0af-d09b4c2f30c4",
   "metadata": {},
   "source": [
    "# 1.Create a function that takes a list of strings and integers, and filters out the list so that it returns a list of integers only.\n",
    "         Examples\n",
    "            filter_list([1, 2, 3, \"a\", \"b\", 4]) ➞ [1, 2, 3, 4]\n",
    "            filter_list([\"A\", 0, \"Edabit\", 1729, \"Python\", \"1729\"]) ➞ [0, 1729]\n",
    "            filter_list([\"Nothing\", \"here\"]) ➞ []   "
   ]
  },
  {
   "cell_type": "code",
   "execution_count": 1,
   "id": "8ebc88f3-d0cf-4d58-a83f-f16261c01ab0",
   "metadata": {},
   "outputs": [
    {
     "name": "stdout",
     "output_type": "stream",
     "text": [
      "[1, 2, 3, 4]\n",
      "[0, 1729]\n",
      "[]\n"
     ]
    }
   ],
   "source": [
    "# Create a function to filter a list \n",
    "def filter_list(l):\n",
    "    l1 = []\n",
    "    for i in l :         \n",
    "        if type(i) == int :\n",
    "            l1.append(i)\n",
    "    return l1\n",
    "\n",
    "# To print a new list  \n",
    "result = filter_list([1, 2, 3, \"a\", \"b\", 4])\n",
    "print(result)\n",
    "\n",
    "result = filter_list([\"A\", 0, \"Edabit\", 1729, \"Python\", \"1729\"])\n",
    "print(result)\n",
    "\n",
    "result = filter_list([\"Nothing\", \"here\"])\n",
    "print(result)"
   ]
  },
  {
   "cell_type": "markdown",
   "id": "38609283-f60f-4ca3-b514-b574e1f748cf",
   "metadata": {},
   "source": [
    "# 2. Given a list of numbers, create a function which returns the list but with each element's index in the list added to itself. This means you add 0 to the number at index 0, add 1 to the number at index 1, etc...\n",
    "        Examples\n",
    "        add_indexes([0, 0, 0, 0, 0]) ➞ [0, 1, 2, 3, 4]\n",
    "        add_indexes([1, 2, 3, 4, 5]) ➞ [1, 3, 5, 7, 9]\n",
    "        add_indexes([5, 4, 3, 2, 1]) ➞ [5, 5, 5, 5, 5]"
   ]
  },
  {
   "cell_type": "code",
   "execution_count": 3,
   "id": "f750b238-eb65-4475-9fbc-fe47c47ec0e2",
   "metadata": {},
   "outputs": [
    {
     "name": "stdout",
     "output_type": "stream",
     "text": [
      "[0, 1, 2, 3, 4]\n",
      "[1, 3, 5, 7, 9]\n",
      "[5, 5, 5, 5, 5]\n"
     ]
    }
   ],
   "source": [
    "# Create a function which return list of sum of each element's index with each element itself\n",
    "def add_indexes(l):\n",
    "    l1 = []\n",
    "    for i in range(len(l)) :\n",
    "       i = i + l[i]\n",
    "       l1.append(i)\n",
    "    return l1\n",
    "    \n",
    "# To print\n",
    "result = add_indexes([0, 0, 0, 0, 0])\n",
    "print(result)\n",
    "\n",
    "result = add_indexes([1, 2, 3, 4, 5])\n",
    "print(result)\n",
    "\n",
    "result = add_indexes([5, 4, 3, 2, 1])\n",
    "print(result)"
   ]
  },
  {
   "cell_type": "markdown",
   "id": "a89371df-9042-4bf3-bfbe-4217253b6f85",
   "metadata": {},
   "source": [
    "# 3.Create a function that takes the height and radius of a cone as arguments and returns the volume of the cone rounded to the nearest hundredth. See the resources tab for the formula.\n",
    "     Examples :\n",
    "        cone_volume(3, 2) ➞ 12.57\n",
    "        cone_volume(15, 6) ➞ 565.49\n",
    "        cone_volume(18, 0) ➞ 0"
   ]
  },
  {
   "cell_type": "code",
   "execution_count": 5,
   "id": "0512eae2-efbe-4cf7-96b1-318fe75b9580",
   "metadata": {},
   "outputs": [
    {
     "name": "stdout",
     "output_type": "stream",
     "text": [
      "12.57\n",
      "565.49\n",
      "0.0\n"
     ]
    }
   ],
   "source": [
    "# import math\n",
    "import math\n",
    "\n",
    "# Create a function which return volume of cone\n",
    "def cone_volume(H,r) :\n",
    "    v = (1/3)*(math.pi)*(r**2)*H   # Formula\n",
    "    return round(v,2)\n",
    "\n",
    "# To print \n",
    "result = cone_volume(3,2)\n",
    "print(result)\n",
    "\n",
    "result = cone_volume(15,6)\n",
    "print(result)\n",
    "\n",
    "result = cone_volume(18,0)\n",
    "print(result)"
   ]
  },
  {
   "cell_type": "markdown",
   "id": "6f062df5-fa18-4c65-abf3-ba894cec657b",
   "metadata": {},
   "source": [
    "# 4.This Triangular Number Sequence is generated from a pattern of dots that form a triangle.\n",
    "    The first 5 numbers of the sequence, or dots, are:\n",
    "            1, 3, 6, 10, 15\n",
    "    This means that the first triangle has just one dot, the second one has three dots, the third one has 6 dots and so on.\n",
    "    Write a function that gives the number of dots with its corresponding triangle number of the sequence.\n",
    "    Examples\n",
    "        triangle(1) ➞ 1\n",
    "        triangle(6) ➞ 21\n",
    "        triangle(215) ➞ 23220"
   ]
  },
  {
   "cell_type": "code",
   "execution_count": 7,
   "id": "352241a3-59ea-433f-a639-c9a7336400d3",
   "metadata": {},
   "outputs": [
    {
     "name": "stdout",
     "output_type": "stream",
     "text": [
      "1\n",
      "21\n",
      "23220\n"
     ]
    }
   ],
   "source": [
    "# Create a function which return number of dots from traingle number \n",
    "def triangle(n) :\n",
    "    number_of_dots = (n*(n+1))//2  # Formula\n",
    "    return number_of_dots\n",
    "\n",
    "# To print\n",
    "result = triangle(1)\n",
    "print(result)\n",
    "\n",
    "result = triangle(6)\n",
    "print(result)\n",
    "\n",
    "result = triangle(215)\n",
    "print(result)\n",
    "            "
   ]
  },
  {
   "cell_type": "markdown",
   "id": "d8ebc659-3afb-467d-8369-53542ab83667",
   "metadata": {},
   "source": [
    "# 5.Create a function that takes a list of numbers between 1 and 10 (excluding one number) and returns the missing number.\n",
    "    Examples\n",
    "        missing_num([1, 2, 3, 4, 6, 7, 8, 9, 10]) ➞ 5\n",
    "        missing_num([7, 2, 3, 6, 5, 9, 1, 4, 8]) ➞ 10\n",
    "        missing_num([10, 5, 1, 2, 4, 6, 8, 3, 9]) ➞ 7"
   ]
  },
  {
   "cell_type": "code",
   "execution_count": 39,
   "id": "dae7fee7-8a6c-4daf-a4b9-531440bf692a",
   "metadata": {},
   "outputs": [
    {
     "name": "stdout",
     "output_type": "stream",
     "text": [
      "5\n",
      "10\n",
      "7\n"
     ]
    }
   ],
   "source": [
    "# Create a function that find out missing number from list of range of 10 numbers\n",
    "def missing_num(l,N):\n",
    "    expected_sum = (N*(N+1))//2  #\n",
    "    actual_sum = sum(l)\n",
    "    return expected_sum - actual_sum\n",
    "    \n",
    "result = missing_num([1, 2, 3, 4, 6, 7, 8, 9, 10],10)\n",
    "print(result)\n",
    "\n",
    "result = missing_num([7, 2, 3, 6, 5, 9, 1, 4, 8],10)\n",
    "print(result)\n",
    "\n",
    "result = missing_num([10, 5, 1, 2, 4, 6, 8, 3, 9],10)\n",
    "print(result)"
   ]
  }
 ],
 "metadata": {
  "kernelspec": {
   "display_name": "Python [conda env:base] *",
   "language": "python",
   "name": "conda-base-py"
  },
  "language_info": {
   "codemirror_mode": {
    "name": "ipython",
    "version": 3
   },
   "file_extension": ".py",
   "mimetype": "text/x-python",
   "name": "python",
   "nbconvert_exporter": "python",
   "pygments_lexer": "ipython3",
   "version": "3.12.7"
  }
 },
 "nbformat": 4,
 "nbformat_minor": 5
}
