{
 "cells": [
  {
   "cell_type": "markdown",
   "id": "243dcaca-5d46-4008-b56e-e0c656047930",
   "metadata": {},
   "source": [
    "# 1.Write a function that takes a list and a number as arguments. Add the number to the end of the list, then remove the first element of the list. The function should then return the updated list.\n",
    "    Examples\n",
    "        next_in_line([5, 6, 7, 8, 9], 1) ➞ [6, 7, 8, 9, 1]\n",
    "        next_in_line([7, 6, 3, 23, 17], 10) ➞ [6, 3, 23, 17, 10]\n",
    "        next_in_line([1, 10, 20, 42 ], 6) ➞ [10, 20, 42, 6]\n",
    "        next_in_line([], 6) ➞ \"No list has been selected\""
   ]
  },
  {
   "cell_type": "code",
   "execution_count": 1,
   "id": "6f29c522-3956-4601-84df-223330ef0b5b",
   "metadata": {},
   "outputs": [
    {
     "name": "stdout",
     "output_type": "stream",
     "text": [
      "[6, 7, 8, 9, 1]\n",
      "[6, 3, 23, 17, 10]\n",
      "[10, 20, 42, 6]\n",
      "No list has been selected\n"
     ]
    }
   ],
   "source": [
    "# Create a function that return updated list\n",
    "def next_in_line(l,n):\n",
    "    if not l:   # Check list is empty or not\n",
    "       return \"No list has been selected\"\n",
    "    l.append(n)  # Add new element at the end\n",
    "    l.pop(0)    # Remove first element\n",
    "    return l    # Return updated list\n",
    "    \n",
    "# Test and print updated list\n",
    "l = [5, 6, 7, 8, 9]\n",
    "n = 1\n",
    "print(next_in_line(l,n))\n",
    "\n",
    "    \n",
    "l = [7, 6, 3, 23, 17]\n",
    "n = 10\n",
    "print(next_in_line(l,n))\n",
    "\n",
    "l = [1, 10, 20, 42 ]\n",
    "n = 6\n",
    "print(next_in_line(l,n))\n",
    "\n",
    "l = []\n",
    "n = 6\n",
    "print(next_in_line(l,n))"
   ]
  },
  {
   "cell_type": "markdown",
   "id": "eb05a725-b6f0-4ee5-bab6-01b7d1c0f17d",
   "metadata": {},
   "source": [
    "# 2.Create the function that takes a list of dictionaries and returns the sum of people's budgets.\n",
    "     Examples\n",
    "        get_budgets([\n",
    "        { \"name\": \"John\", \"age\": 21, \"budget\": 23000 },\n",
    "        {\"name\":\"Steve\", \"age\": 32, \"budget\": 40000 },\n",
    "        { \"name\": \"Martin\", \"age\": 16, \"budget\": 2700 }\n",
    "        ]) ➞ 65700\n",
    "        get_budgets([\n",
    "        { \"name\":\"John\", \"age\": 21, \"budget\": 29000 },\n",
    "        { \"name\": \"Steve\", \"age\": 32, \"budget\": 32000 },\n",
    "        {\" name\": \"Martin\", \"age\": 16, \"budget\": 1600 }\n",
    "        ]) ➞ 62600"
   ]
  },
  {
   "cell_type": "code",
   "execution_count": 3,
   "id": "ec9ccb56-1604-4248-b5fa-25a4ee03defb",
   "metadata": {},
   "outputs": [
    {
     "name": "stdout",
     "output_type": "stream",
     "text": [
      "65700\n",
      "62600\n"
     ]
    }
   ],
   "source": [
    "# Create the function to get sum of people's budgets\n",
    "def get_budgets(l):\n",
    "    return sum(people[\"budget\"] for people in l)\n",
    "    \n",
    "# Test given examples \n",
    "l = [{ \"name\": \"John\", \"age\": 21, \"budget\": 23000 },\n",
    "     {\"name\":\"Steve\", \"age\": 32, \"budget\": 40000 },\n",
    "     { \"name\": \"Martin\", \"age\": 16, \"budget\": 2700 }]\n",
    "print(get_budgets(l))\n",
    "\n",
    "l = [ { \"name\":\"John\", \"age\": 21, \"budget\": 29000 },\n",
    "    { \"name\": \"Steve\", \"age\": 32, \"budget\": 32000 },\n",
    "    {\" name\": \"Martin\", \"age\": 16, \"budget\": 1600 }]\n",
    "print(get_budgets(l))"
   ]
  },
  {
   "cell_type": "markdown",
   "id": "1bc457ef-9240-4960-9cd0-871b85ef989e",
   "metadata": {},
   "source": [
    "# 3. Create a function that takes a string and returns a string with its letters in alphabetical order.\n",
    "     Examples :\n",
    "        alphabet_soup(\"hello\") ➞ \"ehllo\"\n",
    "        alphabet_soup(\"edabit\") ➞ \"abdeit\"\n",
    "        alphabet_soup(\"hacker\") ➞ \"acehkr\"\n",
    "        alphabet_soup(\"geek\") ➞ \"eegk\"\n",
    "        alphabet_soup(\"javascript\") ➞ \"aacijprstv\""
   ]
  },
  {
   "cell_type": "code",
   "execution_count": 5,
   "id": "6f2f042c-246a-4b59-8dae-c888d703415d",
   "metadata": {},
   "outputs": [
    {
     "name": "stdout",
     "output_type": "stream",
     "text": [
      "ehllo\n",
      "abdeit\n",
      "acehkr\n",
      "eegk\n",
      "aacijprstv\n"
     ]
    }
   ],
   "source": [
    "# Create a function to return a string in alphabetic order\n",
    "def alphabet_soup(str):\n",
    "    return \"\".join(sorted(str))\n",
    "\n",
    "# To print the string in alphabetic order\n",
    "print(alphabet_soup(\"hello\"))\n",
    "print(alphabet_soup(\"edabit\"))\n",
    "print(alphabet_soup(\"hacker\"))\n",
    "print(alphabet_soup(\"geek\"))\n",
    "print(alphabet_soup(\"javascript\"))"
   ]
  },
  {
   "cell_type": "markdown",
   "id": "0882b295-e8af-456d-b390-9516f8484ee4",
   "metadata": {},
   "source": [
    "# 4.Suppose that you invest $10,000 for 10 years at an interest rate of 6% compounded monthly.What will be the value of your investment at the end of the 10 year period?\n",
    "    Create a function that accepts the principal p, the term in years t, the interest rate r, and the number of compounding periods per year n. The function returns the value at the end of term rounded to the nearest cent.\n",
    "    For the example above:\n",
    "       compound_interest(10000, 10, 0.06, 12) ➞ 18193.97\n",
    "    Note that the interest rate is given as a decimal and n=12 because with monthly compounding there are 12 periods per year. Compounding can also be done annually, quarterly, weekly, or daily.\n",
    "    Examples\n",
    "        compound_interest(100, 1, 0.05, 1) ➞ 105.0\n",
    "        compound_interest(3500, 15, 0.1, 4) ➞ 15399.26\n",
    "        compound_interest(100000, 20, 0.15, 365) ➞ 2007316.26"
   ]
  },
  {
   "cell_type": "code",
   "execution_count": 128,
   "id": "d6442cb0-6d36-46a4-bac5-ffe777d6de1d",
   "metadata": {},
   "outputs": [
    {
     "name": "stdout",
     "output_type": "stream",
     "text": [
      "105.0\n",
      "15399.26\n",
      "2007316.26\n"
     ]
    }
   ],
   "source": [
    "# Create a function to calculate compound interest\n",
    "def compound_interest(P,t,r,n):\n",
    "    A = P*(1+r/n)**(n*t)\n",
    "    return A\n",
    "\n",
    "# To te\n",
    "print(round(compound_interest(100, 1, 0.05, 1),2))\n",
    "print(round(compound_interest(3500, 15, 0.1, 4),2))\n",
    "print(round(compound_interest(100000, 20, 0.15, 365),2))"
   ]
  },
  {
   "cell_type": "markdown",
   "id": "5efd52ed-714a-404c-bb65-190899dff3bb",
   "metadata": {},
   "source": [
    "# 5.Write a function that takes a list of elements and returns only the integers.\n",
    "    Examples\n",
    "        return_only_integer([9, 2, \"space\", \"car\", \"lion\", 16]) ➞ [9, 2, 16]\n",
    "        return_only_integer([\"hello\", 81, \"basketball\", 123, \"fox\"]) ➞ [81, 123]\n",
    "        return_only_integer([10, \"121\", 56, 20, \"car\", 3, \"lion\"]) ➞ [10, 56, 20,3]\n",
    "        return_only_integer([\"String\", True, 3.3, 1]) ➞ [1]"
   ]
  },
  {
   "cell_type": "code",
   "execution_count": 140,
   "id": "7b0dc493-0bbd-4b38-8bcd-770b27741e4c",
   "metadata": {},
   "outputs": [
    {
     "name": "stdout",
     "output_type": "stream",
     "text": [
      "[9, 2, 16]\n",
      "[81, 123]\n",
      "[10, 56, 20, 3]\n",
      "[1]\n"
     ]
    }
   ],
   "source": [
    "def return_only_integer(l):\n",
    "    return [i for i in l if type(i) == int]\n",
    "\n",
    "print(return_only_integer([9, 2, \"space\", \"car\", \"lion\", 16]))\n",
    "print(return_only_integer([\"hello\", 81, \"basketball\", 123, \"fox\"]))\n",
    "print(return_only_integer([10, \"121\", 56, 20, \"car\", 3, \"lion\"]))\n",
    "print(return_only_integer([\"String\", True, 3.3, 1]))\n"
   ]
  }
 ],
 "metadata": {
  "kernelspec": {
   "display_name": "Python [conda env:base] *",
   "language": "python",
   "name": "conda-base-py"
  },
  "language_info": {
   "codemirror_mode": {
    "name": "ipython",
    "version": 3
   },
   "file_extension": ".py",
   "mimetype": "text/x-python",
   "name": "python",
   "nbconvert_exporter": "python",
   "pygments_lexer": "ipython3",
   "version": "3.12.7"
  }
 },
 "nbformat": 4,
 "nbformat_minor": 5
}
