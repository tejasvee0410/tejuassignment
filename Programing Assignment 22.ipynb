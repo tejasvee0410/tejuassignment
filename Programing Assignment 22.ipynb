{
 "cells": [
  {
   "cell_type": "markdown",
   "id": "1c7eb2a1-2466-44f7-b2b7-6038d10b671e",
   "metadata": {},
   "source": [
    "# 1.Create a function that takes three parameters where:\n",
    "         x is the start of the range (inclusive).\n",
    "         y is the end of the range (inclusive).\n",
    "         n is the divisor to be checked against.\n",
    "\n",
    "   Return an ordered list with numbers in the range that are divisible by the third parameter n.\n",
    "       \n",
    "   Return an empty list if there are no numbers that are divisible by n.\n",
    "       \n",
    "   Examples\n",
    "   \n",
    "        list_operation(1, 10, 3) ➞ [3, 6, 9]\n",
    "       \n",
    "        list_operation(7, 9, 2) ➞ [8]\n",
    "       \n",
    "        list_operation(15, 20, 7) ➞ []"
   ]
  },
  {
   "cell_type": "code",
   "execution_count": 1,
   "id": "d1a4622b-a562-4b0d-890e-ea1ad2ccc6ff",
   "metadata": {},
   "outputs": [
    {
     "name": "stdout",
     "output_type": "stream",
     "text": [
      "[3, 6, 9]\n",
      "[8]\n",
      "[]\n"
     ]
    }
   ],
   "source": [
    "# Create a function \n",
    "def list_operation (x,y,n):\n",
    "    for i in range(x,y):  # method \n",
    "        if i % n == 0 :   # condition \n",
    "            yield i       \n",
    "\n",
    "# To print \n",
    "result = list(list_operation(1,10,3))\n",
    "print(result)\n",
    "\n",
    "result = list(list_operation(7,9,2))\n",
    "print(result)\n",
    "\n",
    "result = list(list_operation(15,20,7))\n",
    "print(result)"
   ]
  },
  {
   "cell_type": "markdown",
   "id": "4205e165-2199-4e09-822f-81924da92074",
   "metadata": {},
   "source": [
    "# 2.Create a function that takes in two lists and returns True if the second list follows the first list by one element, and False otherwise. In other words, determine if the second list is the first list shifted to the right by 1.\n",
    "     Examples :\n",
    "        simon_says([1, 2], [5, 1]) ➞ True\n",
    "        simon_says([1, 2], [5, 5]) ➞ False\n",
    "        simon_says([1, 2, 3, 4, 5], [0, 1, 2, 3, 4]) ➞ True\n",
    "        simon_says([1, 2, 3, 4, 5], [5, 5, 1, 2, 3]) ➞ False\n",
    "   Notes :\n",
    "\n",
    "     Both input lists will be of the same length, and will have a minimum length of 2.\n",
    "\n",
    "     The values of the 0-indexed element in the second list and the n-1th indexed element in the first list do not matter."
   ]
  },
  {
   "cell_type": "code",
   "execution_count": 3,
   "id": "d10ab2eb-aaa9-4a36-90f1-0355876c60a7",
   "metadata": {},
   "outputs": [
    {
     "name": "stdout",
     "output_type": "stream",
     "text": [
      "True\n",
      "False\n",
      "True\n",
      "False\n"
     ]
    }
   ],
   "source": [
    "# Create a function and determine that if the second list is the first list shifted to the right by 1\n",
    "def simon_says(l1,l2):\n",
    "    return l1[:-1] == l2[1:] if len(l1) == len(l2) else False \n",
    "\n",
    "# To print the result\n",
    "print(simon_says([1,2],[5,1]))\n",
    "print(simon_says([1, 2], [5, 5]))\n",
    "print(simon_says([1, 2, 3, 4, 5], [0, 1, 2, 3, 4])) \n",
    "print(simon_says([1, 2, 3, 4, 5], [5, 5, 1, 2, 3]))\n"
   ]
  },
  {
   "cell_type": "markdown",
   "id": "5471bb99-0f56-4b12-9ead-df8883dff938",
   "metadata": {},
   "source": [
    "# 3. A group of friends have decided to start a secret society. The name will be the first letter of each of their names, sorted in alphabetical order.\n",
    "     Create a function that takes in a list of names and returns the name of the secret society.\n",
    "     Examples :\n",
    "        society_name([\"Adam\", \"Sarah\", \"Malcolm\"]) ➞ \"AMS\"\n",
    "        society_name([\"Harry\", \"Newt\", \"Luna\", \"Cho\"]) ➞ \"CHLN\"\n",
    "        society_name([\"Phoebe\", \"Chandler\", \"Rachel\", \"Ross\", \"Monica\", \"Joey\"])"
   ]
  },
  {
   "cell_type": "code",
   "execution_count": 5,
   "id": "3925d82d-a493-4f18-accc-019e486768d6",
   "metadata": {},
   "outputs": [
    {
     "name": "stdout",
     "output_type": "stream",
     "text": [
      "AMS\n",
      "CHLN\n",
      "CJMPRR\n"
     ]
    }
   ],
   "source": [
    "# Create a function to get society name \n",
    "def society_name(names):\n",
    "    return \"\".join(sorted(name[0] for name in names))\n",
    "\n",
    "# To print the result\n",
    "print(society_name([\"Adam\", \"Sarah\", \"Malcolm\"])) \n",
    "print(society_name([\"Harry\", \"Newt\", \"Luna\", \"Cho\"])) \n",
    "print(society_name([\"Phoebe\", \"Chandler\", \"Rachel\", \"Ross\", \"Monica\", \"Joey\"]))\n"
   ]
  },
  {
   "cell_type": "markdown",
   "id": "572aec96-4305-4ead-a762-643b52fd75e6",
   "metadata": {},
   "source": [
    "# 4. An isogram is a word that has no duplicate letters. Create a function that takes a string and returns either True or False depending on whether or not it's an \"isogram\".\n",
    "        Examples:\n",
    "            is_isogram(\"Algorism\") ➞ True\n",
    "            is_isogram(\"PasSword) ➞ False\n",
    "        # Not case sensitive.\n",
    "        is_isogram(\"Consecutive\") ➞ False\n",
    "        Notes:\n",
    "          Ignore letter case (should not be case sensitive).\n",
    "          All test cases contain valid one word strings."
   ]
  },
  {
   "cell_type": "code",
   "execution_count": 7,
   "id": "d7f0a4fd-fecf-4167-8ced-0f7bce9d3682",
   "metadata": {},
   "outputs": [
    {
     "name": "stdout",
     "output_type": "stream",
     "text": [
      "True\n",
      "False\n",
      "False\n"
     ]
    }
   ],
   "source": [
    "# Create a function to check the word is isogram or not\n",
    "def is_isogram(word):\n",
    "    return len(word) == len(set(word.lower()))\n",
    "\n",
    "# To print the result \n",
    "print(is_isogram(\"Algorism\"))\n",
    "print(is_isogram(\"PasSword\"))\n",
    "print(is_isogram(\"Consecutive\"))"
   ]
  },
  {
   "cell_type": "markdown",
   "id": "4707035f-c4e9-49aa-8b39-5197ba662958",
   "metadata": {},
   "source": [
    "# 5. Create a function that takes a string and returns True or False, depending on whether the characters are in order or not.\n",
    "     Examples:\n",
    "        is_in_order(\"abc\") ➞ True\n",
    "        is_in_order(\"edabit\") ➞ False\n",
    "        is_in_order(\"123\") ➞ True\n",
    "        is_in_order(\"xyzz\") ➞ True\n",
    "    Notes :\n",
    "        You donot have to handle empty strings."
   ]
  },
  {
   "cell_type": "code",
   "execution_count": 30,
   "id": "822a9849-fd72-4947-b275-b1834c0259b2",
   "metadata": {},
   "outputs": [
    {
     "name": "stdout",
     "output_type": "stream",
     "text": [
      "True\n",
      "False\n",
      "True\n",
      "True\n"
     ]
    }
   ],
   "source": [
    "# Create a function to check w\n",
    "def is_in_order(word) :\n",
    "    return word == \"\".join(sorted(word))\n",
    "\n",
    "print(is_in_order(\"abc\"))\n",
    "print(is_in_order(\"edabit\"))\n",
    "print(is_in_order(\"123\"))\n",
    "print(is_in_order(\"xyzz\"))"
   ]
  },
  {
   "cell_type": "code",
   "execution_count": null,
   "id": "f57e5065-27c0-44fe-ad95-f89b1ec9a194",
   "metadata": {},
   "outputs": [],
   "source": []
  }
 ],
 "metadata": {
  "kernelspec": {
   "display_name": "Python [conda env:base] *",
   "language": "python",
   "name": "conda-base-py"
  },
  "language_info": {
   "codemirror_mode": {
    "name": "ipython",
    "version": 3
   },
   "file_extension": ".py",
   "mimetype": "text/x-python",
   "name": "python",
   "nbconvert_exporter": "python",
   "pygments_lexer": "ipython3",
   "version": "3.12.7"
  }
 },
 "nbformat": 4,
 "nbformat_minor": 5
}
