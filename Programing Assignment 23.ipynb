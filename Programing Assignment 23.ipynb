{
 "cells": [
  {
   "cell_type": "markdown",
   "id": "c314df4d-6cbc-4720-a2a6-1d37d43b84bd",
   "metadata": {},
   "source": [
    "# 1.Create a function that takes a number as an argument and returns True or False depending on whether the number is symmetrical or not. A number is symmetrical when it is the same as its reverse.\n",
    "    Examples : \n",
    "        is_symmetrical(7227) ➞ True\n",
    "        is_symmetrical(12567) ➞ False\n",
    "        is_symmetrical(44444444) ➞ True\n",
    "        is_symmetrical(9939) ➞ False\n",
    "        is_symmetrical(1112111) ➞ True"
   ]
  },
  {
   "cell_type": "code",
   "execution_count": 1,
   "id": "27225abd-9421-44a1-9ba6-265fa7ab9256",
   "metadata": {},
   "outputs": [
    {
     "name": "stdout",
     "output_type": "stream",
     "text": [
      "True\n",
      "False\n",
      "True\n",
      "False\n",
      "True\n"
     ]
    }
   ],
   "source": [
    "# Create a function to check number is stmmetrical or not \n",
    "def is_symmetrical(n):\n",
    "    return str(n) == str(n)[::-1]\n",
    "\n",
    "print(is_symmetrical(7227))\n",
    "print(is_symmetrical(12567))\n",
    "print(is_symmetrical(44444444)) \n",
    "print(is_symmetrical(9939))\n",
    "print(is_symmetrical(1112111)) "
   ]
  },
  {
   "cell_type": "markdown",
   "id": "d016b3e5-12aa-425f-af1b-2dc556a95a16",
   "metadata": {},
   "source": [
    "# 2.Given a string of numbers separated by a comma and space, return the product of the numbers.\n",
    "     Examples :\n",
    "        multiply_nums(\"2, 3\") ➞ 6\n",
    "        multiply_nums(\"1, 2, 3, 4\") ➞ 24\n",
    "        multiply_nums(\"54, 75, 453, 0\") ➞ 0\n",
    "        multiply_nums(\"10, -2\") ➞ -20"
   ]
  },
  {
   "cell_type": "code",
   "execution_count": 3,
   "id": "d0daf036-a7e7-4b58-a376-92750c05ab9f",
   "metadata": {},
   "outputs": [
    {
     "name": "stdout",
     "output_type": "stream",
     "text": [
      "6\n",
      "24\n",
      "0\n",
      "-20\n"
     ]
    }
   ],
   "source": [
    "# Create a funcion that return the product of numbers\n",
    "from math import prod\n",
    "def multiply_nums(s) :\n",
    "    num = map(int, s.split(\",\"))\n",
    "    return prod(num)\n",
    "\n",
    "print(multiply_nums(\"2, 3\"))\n",
    "print(multiply_nums(\"1, 2, 3, 4\"))\n",
    "print(multiply_nums(\"54, 75, 453, 0\"))\n",
    "print(multiply_nums(\"10, -2\"))"
   ]
  },
  {
   "cell_type": "markdown",
   "id": "be6ece7f-809c-4098-bbc2-0be9e466d840",
   "metadata": {},
   "source": [
    "# 3. Create a function that squares every digit of a number.\n",
    "     Examples :\n",
    "        square_digits(9119) ➞ 811181\n",
    "        square_digits(2483) ➞ 416649\n",
    "        square_digits(3212) ➞ 9414\n",
    "     Notes :\n",
    "       The function receives an integer and must return an integer."
   ]
  },
  {
   "cell_type": "code",
   "execution_count": 7,
   "id": "87e0a0b0-f59c-47e3-89f0-07c3231175e1",
   "metadata": {},
   "outputs": [
    {
     "name": "stdout",
     "output_type": "stream",
     "text": [
      "811181\n",
      "416649\n",
      "9414\n"
     ]
    }
   ],
   "source": [
    "# Create a function that returns the squares of each digit\n",
    "def square_digits(n):\n",
    "    return \"\".join(str(int(digit)**2) for digit in str(n))\n",
    "\n",
    "print(square_digits(9119))\n",
    "print(square_digits(2483))\n",
    "print(square_digits(3212))"
   ]
  },
  {
   "cell_type": "markdown",
   "id": "cd22bcf7-5ed4-4469-a2c6-cf75216bc91f",
   "metadata": {},
   "source": [
    "# 4. Create a function that sorts a list and removes all duplicate items from it.\n",
    "     Examples :\n",
    "        setify([1, 3, 3, 5, 5]) ➞ [1, 3, 5]\n",
    "        setify([4, 4, 4, 4]) ➞ [4]\n",
    "        setify([5, 7, 8, 9, 10, 15]) ➞ [5, 7, 8, 9, 10, 15]\n",
    "        setify([3, 3, 3, 2, 1]) ➞ [1, 2, 3]"
   ]
  },
  {
   "cell_type": "code",
   "execution_count": 71,
   "id": "e02432e5-6a18-49ae-bd24-94a1ceaed0b6",
   "metadata": {},
   "outputs": [
    {
     "name": "stdout",
     "output_type": "stream",
     "text": [
      "[1, 3, 5]\n",
      "[4]\n",
      "[5, 7, 8, 9, 10, 15]\n",
      "[1, 2, 3]\n"
     ]
    }
   ],
   "source": [
    "# Create a function which sort a list and remove all duplica\n",
    "def setify(l) :\n",
    "    return sorted(set(l))\n",
    "\n",
    "print(setify([1, 3, 3, 5, 5]))\n",
    "print(setify([4, 4, 4, 4]))\n",
    "print(setify([5, 7, 8, 9, 10, 15]))\n",
    "print(setify([3, 3, 3, 2, 1]))"
   ]
  },
  {
   "cell_type": "markdown",
   "id": "f9fc90fa-ae0f-401f-9280-0388ddeb4355",
   "metadata": {},
   "source": [
    "# 5. Create a function that returns the mean of all digits.\n",
    "     Examples :\n",
    "        mean(42) ➞ 3\n",
    "        mean(12345) ➞ 3\n",
    "        mean(666) ➞ 6\n",
    "     Notes :\n",
    "       The mean of all digits is the sum of digits / how many digits there are (e.g. mean of digits in 512 is (5+1+2)/3(number of digits) = 8/3=2).\n",
    "       The mean will always be an integer."
   ]
  },
  {
   "cell_type": "code",
   "execution_count": 80,
   "id": "90e6d2db-e38c-446f-916d-b46acaae98cd",
   "metadata": {},
   "outputs": [
    {
     "name": "stdout",
     "output_type": "stream",
     "text": [
      "3\n",
      "3\n",
      "6\n"
     ]
    }
   ],
   "source": [
    "def mean(n) :\n",
    "    digits = [int(d) for d in str(n)]\n",
    "    return sum(digits) // len(digits)\n",
    "\n",
    "print(mean(42))\n",
    "print(mean(12345))\n",
    "print(mean(666))"
   ]
  }
 ],
 "metadata": {
  "kernelspec": {
   "display_name": "Python [conda env:base] *",
   "language": "python",
   "name": "conda-base-py"
  },
  "language_info": {
   "codemirror_mode": {
    "name": "ipython",
    "version": 3
   },
   "file_extension": ".py",
   "mimetype": "text/x-python",
   "name": "python",
   "nbconvert_exporter": "python",
   "pygments_lexer": "ipython3",
   "version": "3.12.7"
  }
 },
 "nbformat": 4,
 "nbformat_minor": 5
}
