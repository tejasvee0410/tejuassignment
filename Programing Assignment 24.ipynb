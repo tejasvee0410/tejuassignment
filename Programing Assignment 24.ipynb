{
 "cells": [
  {
   "cell_type": "markdown",
   "id": "2c11c690-510c-4a30-9c5a-2f11b7fe7063",
   "metadata": {},
   "source": [
    "# 1. Create a function that takes an integer and returns a list from 1 to the given number, where:\n",
    "\n",
    "     1. If the number can be divided evenly by 4, amplify it by 10 (i.e. return 10 times the number).\n",
    "\n",
    "     2. If the number cannot be divided evenly by 4, simply return the number.   \n",
    "     Examples :\n",
    "\n",
    "        amplify(4) ➞ [1, 2, 3, 40]\n",
    "\n",
    "        amplify(3) ➞ [1, 2, 3]\n",
    "\n",
    "        amplify(25) ➞ [1, 2, 3, 40, 5, 6, 7, 80, 9, 10, 11, 120, 13, 14, 15, 160, 17, 18, 19, 200, 21, 22, 23, 240, 25]\n",
    "\n",
    "    Notes :\n",
    "\n",
    "     The given integer will always be equal to or greater than 1.\n",
    "        \n",
    "     Include the number (see example above).\n",
    "                          \n",
    "     To perform this problem with its intended purpose, try doing it with list comprehensions.\n",
    "\n",
    "      If that's too difficult, just solve the challenge any way you can."
   ]
  },
  {
   "cell_type": "code",
   "execution_count": 1,
   "id": "b7b1e2cd-97aa-4c26-a99b-06f307536a7a",
   "metadata": {},
   "outputs": [
    {
     "name": "stdout",
     "output_type": "stream",
     "text": [
      "[1, 2, 3, 40]\n",
      "[1, 2, 3]\n",
      "[1, 2, 3, 40, 5, 6, 7, 80, 9, 10, 11, 120, 13, 14, 15, 160, 17, 18, 19, 200, 21, 22, 23, 240]\n"
     ]
    }
   ],
   "source": [
    "# Create a function that takes an integer and returns a list from 1 to given number using list comprehensions method\n",
    "def number(n) :\n",
    "    return [i*10 if i % 4 == 0 else i for i in range(1,n)]\n",
    "    \n",
    "\n",
    "print(number(5))\n",
    "print(number(4))\n",
    "print(number(25))"
   ]
  },
  {
   "cell_type": "markdown",
   "id": "76fecefa-d8c9-4f4e-9c3d-2551231e39ea",
   "metadata": {},
   "source": [
    "# 2.Create a function that takes a list of numbers and return the number that's unique.\n",
    "\n",
    "  Examples :\n",
    "\n",
    "    unique([3, 3, 3, 7, 3, 3]) ➞ 7\n",
    "\n",
    "    unique([0, 0, 0.77, 0, 0]) ➞ 0.77\n",
    "\n",
    "    unique([0, 1, 1, 1, 1, 1, 1, 1]) ➞ 0\n",
    "\n",
    " Notes :\n",
    "\n",
    "  Test cases will always have exactly one unique number while all others are the same."
   ]
  },
  {
   "cell_type": "code",
   "execution_count": 3,
   "id": "1a3891f8-9249-4ff8-9b16-6ec2a8e6894c",
   "metadata": {},
   "outputs": [
    {
     "name": "stdout",
     "output_type": "stream",
     "text": [
      "7\n",
      "0.77\n",
      "0\n"
     ]
    }
   ],
   "source": [
    "# Create a function to get the unique number\n",
    "def unique(l) :\n",
    "    return [i for i in l if l.count(i) == 1][0]\n",
    "\n",
    "print(unique([3,3,3,7,3]))\n",
    "print(unique([0, 0, 0.77, 0, 0]))\n",
    "print(unique([0, 1, 1, 1, 1, 1, 1, 1]))"
   ]
  },
  {
   "cell_type": "markdown",
   "id": "0e346205-e467-40c9-ad85-0cac6a6a3bac",
   "metadata": {},
   "source": [
    "# 3. Your task is to create a Circle constructor that creates a circle with a radius provided by an argument. The circles constructed must have two getters getArea() (PIr^2) and getPerimeter() (2PI*r) which give both respective areas and perimeter (circumference).\n",
    "    For help with this class, I have provided you with a Rectangle constructor which you can use as a base example.\n",
    "    Examples :\n",
    "     circy = Circle(11)\n",
    "     circy.getArea()\n",
    "  # Should return 380.132711084365\n",
    "    circy = Circle(4.44)\n",
    "    circy.getPerimeter()\n",
    " # Should return 27.897342763877365\n",
    "   Notes :\n",
    "    Round results up to the nearest integer."
   ]
  },
  {
   "cell_type": "code",
   "execution_count": 5,
   "id": "9a2c12b7-4456-4b9d-977d-8d16c6505bf8",
   "metadata": {},
   "outputs": [
    {
     "name": "stdout",
     "output_type": "stream",
     "text": [
      "380\n",
      "28\n"
     ]
    }
   ],
   "source": [
    "# Import math \n",
    "import math \n",
    "# Create a class\n",
    "class Circle:\n",
    "    \n",
    "    # constructor\n",
    "    def __init__(self,r) :\n",
    "        self.r = r\n",
    "        \n",
    "     # getters   \n",
    "    def getArea(self) :\n",
    "        return round(math.pi * self.r ** 2)\n",
    "        \n",
    "    def getPerimeter(self) :\n",
    "        return round(2 * math.pi * self.r)\n",
    "\n",
    "# Example\n",
    "circy= Circle(11)\n",
    "print(circy.getArea())\n",
    "\n",
    "circy = Circle(4.44)\n",
    "print(circy.getPerimeter())"
   ]
  },
  {
   "cell_type": "markdown",
   "id": "ebe6e24f-c6aa-465b-9323-03045d6b27fb",
   "metadata": {},
   "source": [
    "# 4. Create a function that takes a list of strings and return a list, sorted from shortest to longest.\n",
    "     Examples :\n",
    "\n",
    "       sort_by_length([\"Google\", \"Apple\", \"Microsoft\"])\n",
    "         ➞ [\"Apple\", \"Google\", \"Microsoft\"]\n",
    "       sort_by_length([\"Leonardo\", \"Michelangelo\", \"Raphael\", \"Donatello\"])\n",
    "         ➞ [\"Raphael\", \"Leonardo\", \"Donatello\", \"Michelangelo\"]\n",
    "       sort_by_length([\"Turing\", \"Einstein\", \"Jung\"])\n",
    "         ➞ [\"Jung\", \"Turing\", \"Einstein\"]\n",
    "    Notes :\n",
    "     All test cases contain lists with strings of different lengths, so you won't have to deal with multiple strings of the same length."
   ]
  },
  {
   "cell_type": "code",
   "execution_count": 7,
   "id": "1bd3217a-da64-44df-a031-98bc9c6001e9",
   "metadata": {},
   "outputs": [
    {
     "name": "stdout",
     "output_type": "stream",
     "text": [
      "['Apple', 'Google', 'Microsoft']\n",
      "['Raphael', 'Leonardo', 'Donatello', 'Michelangelo']\n",
      "['Jung', 'Turing', 'Einstein']\n"
     ]
    }
   ],
   "source": [
    "# Create a function to get a list of strings in sorted from shortest to longest\n",
    "def sort_by_length(l) :\n",
    "     return  sorted(l,key = len) \n",
    "\n",
    "print(sort_by_length([\"Google\", \"Apple\", \"Microsoft\"]))\n",
    "print(sort_by_length([\"Leonardo\", \"Michelangelo\", \"Raphael\", \"Donatello\"]))\n",
    "print(sort_by_length([\"Turing\", \"Einstein\", \"Jung\"]))"
   ]
  },
  {
   "cell_type": "markdown",
   "id": "0d2a03ae-d020-447d-86f1-423cddb7dea9",
   "metadata": {},
   "source": [
    "# 5. Create a function that validates whether three given integers form a Pythagorean triplet. The sum of the squares of the two smallest integers must equal the square of the largest number to be validated.\n",
    "     Examples :\n",
    "        is_triplet(3, 4, 5) ➞ True\n",
    "        # 3² + 4² = 25\n",
    "        # 5² = 25\n",
    "        is_triplet(13, 5, 12) ➞ True\n",
    "        # 5² + 12² = 169\n",
    "        # 13² = 169\n",
    "        is_triplet(1, 2, 3) ➞ False\n",
    "        # 1² + 2² = 5\n",
    "        # 3² = 9\n",
    "   Notes :\n",
    "    Numbers may not be given in a sorted order."
   ]
  },
  {
   "cell_type": "code",
   "execution_count": 180,
   "id": "51f5012e-ff53-424e-a77f-262e88fb6c9f",
   "metadata": {},
   "outputs": [
    {
     "name": "stdout",
     "output_type": "stream",
     "text": [
      "False\n"
     ]
    }
   ],
   "source": [
    "# \n",
    "def is_triplet(a,b,c) :\n",
    "   a,b,c = sorted([a,b,c])\n",
    "   return c**2 == a**2 + b**2\n",
    "    \n",
    "print(is_triplet(3,4,5))\n",
    "print(is_triplet(13,5,12))\n",
    "print(is_"
   ]
  }
 ],
 "metadata": {
  "kernelspec": {
   "display_name": "Python [conda env:base] *",
   "language": "python",
   "name": "conda-base-py"
  },
  "language_info": {
   "codemirror_mode": {
    "name": "ipython",
    "version": 3
   },
   "file_extension": ".py",
   "mimetype": "text/x-python",
   "name": "python",
   "nbconvert_exporter": "python",
   "pygments_lexer": "ipython3",
   "version": "3.12.7"
  }
 },
 "nbformat": 4,
 "nbformat_minor": 5
}
