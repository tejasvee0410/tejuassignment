{
 "cells": [
  {
   "cell_type": "markdown",
   "id": "ddb87c9e-7441-463f-bbe9-49dda7faa3c4",
   "metadata": {},
   "source": [
    "# 1. Create a function that takes three integer arguments (a, b, c) and returns the amount of integers which are of equal value.\n",
    "     Examples :\n",
    "        equal(3, 4, 3) ➞ 2\n",
    "        equal(1, 1, 1) ➞ 3\n",
    "        equal(3, 4, 1) ➞ 0\n",
    "    Notes :\n",
    "        Your function must return 0, 2 or 3."
   ]
  },
  {
   "cell_type": "code",
   "execution_count": 1,
   "id": "85d53127-6705-4258-9843-2c45a8da6ef5",
   "metadata": {},
   "outputs": [
    {
     "name": "stdout",
     "output_type": "stream",
     "text": [
      "2\n",
      "3\n",
      "0\n"
     ]
    }
   ],
   "source": [
    "# Create a function that takes three integer arguments and returns number of integers are equal\n",
    "def equal(a,b,c) :\n",
    "     if a == b == c :\n",
    "        return 3\n",
    "     elif a == b or b == c or c == a :\n",
    "         return 2\n",
    "     else :\n",
    "         return 0\n",
    "         \n",
    "print(equal(3,4,3))\n",
    "print(equal(1,1,1))\n",
    "print(equal(3,4,1))"
   ]
  },
  {
   "cell_type": "markdown",
   "id": "fc0262b9-9f48-487e-b13a-7bd418ef8e64",
   "metadata": {},
   "source": [
    "# 2. Write a function that converts a dictionary into a list of keys-values tuples.\n",
    "     Examples :\n",
    "\n",
    "        dict_to_list({\"D\" : 1,\"B\" : 2,\"C\" : 3}) ➞ [(\"B\", 2), (\"C\", 3), (\"D\", 1)]\n",
    "        dict_to_list({\"likes\" : 2,\"dislikes\" : 3,\"followers\" : 10}) ➞ [(\"dislikes\", 3), (\"followers\", 10), (\"likes\", 2)]\n",
    "     Notes :\n",
    "         Return the elements in the list in alphabetical order."
   ]
  },
  {
   "cell_type": "code",
   "execution_count": 3,
   "id": "3da7aa26-5d23-48e7-bc29-fb6762342eb5",
   "metadata": {},
   "outputs": [
    {
     "name": "stdout",
     "output_type": "stream",
     "text": [
      "[('B', 2), ('C', 3), ('D', 1)]\n",
      "[('dislikes', 3), ('followers', 10), ('likes', 2)]\n"
     ]
    }
   ],
   "source": [
    "# Create a function that convert a dictionary into list of keys-values tuples\n",
    "def dict_to_list(d) :\n",
    "    return sorted(list(d.items()))\n",
    "    \n",
    "print(dict_to_list({\"D\" : 1,\"B\" : 2,\"C\" : 3}))\n",
    "print(dict_to_list({\"likes\" : 2,\"dislikes\" : 3,\"followers\" : 10}))"
   ]
  },
  {
   "cell_type": "markdown",
   "id": "19f19430-1a24-4e98-b319-0430ce15d3f3",
   "metadata": {},
   "source": [
    "# 3. Write a function that creates a dictionary with each (key, value) pair being the (lower case,upper case) versions of a letter, respectively.\n",
    "     Examples :\n",
    "        mapping([\"p\", \"s\"]) ➞ { \"p\": \"P\", \"s\": \"S\"; }\n",
    "        mapping([\"a\", \"b\", \"c\"]) ➞ { \"a\": \"A\", \"b\": \"B\", \"c\": \"C\" }\n",
    "        mapping([\"a\", \"v\", \"y\", \"z\"]) ➞ {\"a\": \"A\", \"v\": \"V\", \"y\": \"Y\", \"z\": \"Z\" }\n",
    "     Notes :\n",
    "        All of the letters in the input list will always be lowercase."
   ]
  },
  {
   "cell_type": "code",
   "execution_count": 6,
   "id": "427565a8-defe-4ba5-ae88-47a836ec27c2",
   "metadata": {},
   "outputs": [
    {
     "name": "stdout",
     "output_type": "stream",
     "text": [
      "{'p': 'P', 's': 'S'}\n",
      "{'a': 'A', 'b': 'B', 'c': 'C'}\n",
      "{'a': 'A', 'v': 'V', 'y': 'Y', 'z': 'Z'}\n"
     ]
    }
   ],
   "source": [
    "# Create a function that create a dictionary with (key, value) pair in (lower case, upper case) versions of letter. \n",
    "def mapping(letters : list) :\n",
    "    return {letter : letter.upper() for letter in letters}\n",
    "\n",
    "print(mapping([\"p\", \"s\"]))\n",
    "print(mapping([\"a\", \"b\", \"c\"]))\n",
    "print(mapping([\"a\", \"v\", \"y\", \"z\"]))"
   ]
  },
  {
   "cell_type": "markdown",
   "id": "deba8367-c5e3-4e7f-8cfb-a965bdb7e2f4",
   "metadata": {},
   "source": [
    "# 4. Write a function, that replaces all vowels in a string with a specified vowel.\n",
    "     Examples :\n",
    "        vow_replace(\"apples and bananas\", \"u\") ➞ \"upplus und bununus\"\n",
    "        vow_replace(\"cheese casserole\", \"o\") ➞ \"chooso cossorolo\"\n",
    "        vow_replace(\"stuffed jalapeno poppers\", \"e\") ➞ \"steffed jelepene peppers\"\n",
    "     Notes :\n",
    "        All words will be lowercase. Y is not considered a vowel."
   ]
  },
  {
   "cell_type": "code",
   "execution_count": 8,
   "id": "41592b07-edd6-44fa-8e13-b704b74323cf",
   "metadata": {},
   "outputs": [
    {
     "name": "stdout",
     "output_type": "stream",
     "text": [
      "upplus und bununus\n",
      "chooso cossorolo\n",
      "steffed jelepene peppers\n"
     ]
    }
   ],
   "source": [
    "# Create a function that replaces all vowels in a string with specified vowel\n",
    "def vow_replace(s,replacement) :\n",
    "    vowels = \"aeiouAEIOU\"\n",
    "    for v in vowels :\n",
    "        s = s.replace(v, replacement)\n",
    "    return s    \n",
    "\n",
    "print(vow_replace(\"apples and bananas\", \"u\"))\n",
    "print(vow_replace(\"cheese casserole\", \"o\"))\n",
    "print(vow_replace(\"stuffed jalapeno poppers\", \"e\"))"
   ]
  },
  {
   "cell_type": "markdown",
   "id": "3739979f-7429-45e0-889f-d7748668fc54",
   "metadata": {},
   "source": [
    "# 5.Create a function that takes a string as input and capitalizes a letter if its ASCII code is even and returns its lower case version if its ASCII code is odd.\n",
    "    Examples :\n",
    "        ascii_capitalize(\"to be or not to be!\") ➞ \"To Be oR NoT To Be!\"\n",
    "        ascii_capitalize(\"THE LITTLE MERMAID\") ➞ \"THe LiTTLe meRmaiD\"\n",
    "        ascii_capitalize(\"Oh what a beautiful morning.\") ➞ \"oH wHaT a BeauTiFuL moRNiNg.\""
   ]
  },
  {
   "cell_type": "code",
   "execution_count": 18,
   "id": "3d16abe7-0c86-4a04-bdb9-d9a33bc7c120",
   "metadata": {},
   "outputs": [
    {
     "name": "stdout",
     "output_type": "stream",
     "text": [
      "To Be oR NoT To Be!\n",
      "THe LiTTLe meRmaiD\n",
      "oH wHaT a BeauTiFuL moRNiNg.\n"
     ]
    }
   ],
   "source": [
    "# Create a function that takes a string as input and return string in upper case ,lower case accroding to even, odd AS\n",
    "def ascii_capitalize(s) :\n",
    "    result = \"\"\n",
    "    for chr in s :\n",
    "        if ord(chr) % 2 == 0 :\n",
    "            result += chr.upper()\n",
    "        else :\n",
    "           result += chr.lower()\n",
    "    return result\n",
    "\n",
    "print(ascii_capitalize(\"to be or not to be!\"))\n",
    "print(ascii_capitalize(\"THE LITTLE MERMAID\"))\n",
    "print(ascii_capitalize(\"Oh what a beautiful morning.\"))"
   ]
  }
 ],
 "metadata": {
  "kernelspec": {
   "display_name": "Python [conda env:base] *",
   "language": "python",
   "name": "conda-base-py"
  },
  "language_info": {
   "codemirror_mode": {
    "name": "ipython",
    "version": 3
   },
   "file_extension": ".py",
   "mimetype": "text/x-python",
   "name": "python",
   "nbconvert_exporter": "python",
   "pygments_lexer": "ipython3",
   "version": "3.12.7"
  }
 },
 "nbformat": 4,
 "nbformat_minor": 5
}
