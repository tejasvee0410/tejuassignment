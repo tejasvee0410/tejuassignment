{
 "cells": [
  {
   "cell_type": "markdown",
   "id": "0d56f087",
   "metadata": {},
   "source": [
    "# 1. Write a Python Program to Display Fibonacci Sequence Using Recursion."
   ]
  },
  {
   "cell_type": "code",
   "execution_count": 1,
   "id": "bade5cd2",
   "metadata": {},
   "outputs": [
    {
     "name": "stdout",
     "output_type": "stream",
     "text": [
      "0\n",
      "1\n",
      "1\n",
      "2\n",
      "3\n",
      "5\n",
      "8\n",
      "13\n",
      "21\n",
      "34\n"
     ]
    }
   ],
   "source": [
    "# A python program to Display fibonacci sequence\n",
    " \n",
    "# define function for fibonacci_squence\n",
    "\n",
    "def fibonacci_squence(n):      # n is int number for which we want to find fibonacci squeance \n",
    "    \n",
    "    for i in range(n):\n",
    "        print(fibonacci(i))\n",
    "        \n",
    " # define function for fibonacci  \n",
    "\n",
    "def fibonacci(n):\n",
    "    \n",
    "    if n <= 1:\n",
    "        return n\n",
    "    \n",
    "    else:\n",
    "        return fibonacci(n-1) + fibonacci(n-2)\n",
    "        \n",
    "n = 10\n",
    "fibonacci_squence(n)"
   ]
  },
  {
   "cell_type": "markdown",
   "id": "f2c07eb6",
   "metadata": {},
   "source": [
    "# 2.Write a Python Program to Find Factorial of Number Using Recursion?"
   ]
  },
  {
   "cell_type": "code",
   "execution_count": 2,
   "id": "361059d6",
   "metadata": {},
   "outputs": [
    {
     "data": {
      "text/plain": [
       "120"
      ]
     },
     "execution_count": 2,
     "metadata": {},
     "output_type": "execute_result"
    }
   ],
   "source": [
    "# A Python Program for Factorial of number using Recursion \n",
    "\n",
    "# Define function for factorial of number \n",
    "\n",
    "def factorial(n):      # n is integer number \n",
    "    \n",
    "    if n == 1 :\n",
    "        return n \n",
    "    \n",
    "    else :\n",
    "        return (n*factorial(n-1))\n",
    "\n",
    "\n",
    "n = 5\n",
    "\n",
    "factorial(n)"
   ]
  },
  {
   "cell_type": "markdown",
   "id": "41b8946d",
   "metadata": {},
   "source": [
    "# 3.Write a Python Program to calculate your Body Mass Index?"
   ]
  },
  {
   "cell_type": "code",
   "execution_count": 3,
   "id": "e7122e81",
   "metadata": {},
   "outputs": [
    {
     "name": "stdout",
     "output_type": "stream",
     "text": [
      "BMI: 25.390624999999996 Kg/m*2\n",
      "person is overweight\n"
     ]
    }
   ],
   "source": [
    "# A python program to calculate Body Mass Index\n",
    "\n",
    "# Define function for Body Mass Index\n",
    "\n",
    "def BMI(weight,height):\n",
    "    \n",
    "# Formula for calculating BMI\n",
    "\n",
    "    bmi = (weight/(height*height))    # weight in kg and height in meter\n",
    "    print(\"BMI:\",bmi,\"Kg/m*2\")\n",
    "    \n",
    "    if bmi <= 18.5 :\n",
    "        print(\"person is underweight\")\n",
    "        \n",
    "    elif bmi <= 25 :\n",
    "        print(\"person's bmi is normal\")\n",
    "        \n",
    "    else :\n",
    "        print(\"person is overweight\")\n",
    "    \n",
    "weight = 65\n",
    "height = 1.6\n",
    "BMI(weight,height)\n",
    "    "
   ]
  },
  {
   "cell_type": "markdown",
   "id": "daf0af82",
   "metadata": {},
   "source": [
    "# 4. Write a Python Program to calculate the natural logarithm of any number?"
   ]
  },
  {
   "cell_type": "code",
   "execution_count": 4,
   "id": "08a5bd0b",
   "metadata": {},
   "outputs": [
    {
     "name": "stdout",
     "output_type": "stream",
     "text": [
      "enter the number : 5.568\n",
      "natural logarithm of x is : 1.7170359230321184\n"
     ]
    }
   ],
   "source": [
    "# A Python program for natural logarithm\n",
    "\n",
    "# importing the math module\n",
    "\n",
    "import math\n",
    "\n",
    "# x is any positve number\n",
    "\n",
    "x = float(input(\"enter the number : \"))\n",
    "\n",
    "# conditions \n",
    "\n",
    "if x > 0 :\n",
    "    \n",
    "    natural_logarithm = math.log(x)   # method \n",
    "    \n",
    "    print(\"natural logarithm of x is :\",natural_logarithm)\n",
    "    \n",
    "else :\n",
    "    \n",
    "    print(\"please enter only positive number\")\n"
   ]
  },
  {
   "cell_type": "markdown",
   "id": "d63b2daf",
   "metadata": {},
   "source": [
    "# 5. Write a Python Program for cube sum of first n natural numbers?"
   ]
  },
  {
   "cell_type": "code",
   "execution_count": 5,
   "id": "a40501ca",
   "metadata": {},
   "outputs": [
    {
     "name": "stdout",
     "output_type": "stream",
     "text": [
      "enter the number :11\n",
      "The cube sum of first n natural number is : 4356.0\n"
     ]
    }
   ],
   "source": [
    "# A Python program for cube sum \n",
    "\n",
    "n = int(input(\"enter the number :\"))    # n is for natural number \n",
    "\n",
    "for i in range(1,n+1) :   # using loop \n",
    "    \n",
    "    sum = ((i*(i+1))/2)**2    # Formula \n",
    "    \n",
    "print(\"The cube sum of first n natural number is :\", sum)"
   ]
  }
 ],
 "metadata": {
  "kernelspec": {
   "display_name": "Python 3 (ipykernel)",
   "language": "python",
   "name": "python3"
  },
  "language_info": {
   "codemirror_mode": {
    "name": "ipython",
    "version": 3
   },
   "file_extension": ".py",
   "mimetype": "text/x-python",
   "name": "python",
   "nbconvert_exporter": "python",
   "pygments_lexer": "ipython3",
   "version": "3.9.13"
  }
 },
 "nbformat": 4,
 "nbformat_minor": 5
}
