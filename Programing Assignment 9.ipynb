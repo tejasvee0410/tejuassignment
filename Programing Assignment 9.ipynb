{
 "cells": [
  {
   "cell_type": "markdown",
   "id": "c7bc6bd6",
   "metadata": {},
   "source": [
    "# 1. Write a Python program to check if the given number is a Disarium     Number?"
   ]
  },
  {
   "cell_type": "code",
   "execution_count": 1,
   "id": "48e26ac7",
   "metadata": {},
   "outputs": [
    {
     "name": "stdout",
     "output_type": "stream",
     "text": [
      "enter the number45\n",
      "The number is not disarium\n"
     ]
    }
   ],
   "source": [
    "# Python program to check if given number is disarium or not\n",
    "\n",
    "number = int(input(\"enter the number\"))\n",
    "    \n",
    "# convert number into str\n",
    "\n",
    "str_num = str(number) \n",
    "\n",
    "# formula for disarium number\n",
    "\n",
    "sum_of_digit = 0\n",
    "\n",
    "for index , digit in enumerate(str_num):\n",
    "\n",
    "     sum_of_digit += int(digit)**(index + 1)\n",
    "\n",
    "# Condition\n",
    "\n",
    "if sum_of_digit == number :\n",
    "    print(\"The number is disarium\")\n",
    "    \n",
    "else :\n",
    "    print(\"The number is not disarium\")\n"
   ]
  },
  {
   "cell_type": "markdown",
   "id": "00653e3d",
   "metadata": {},
   "source": [
    "# 2. Write a Python program to print all disarium numbers between 1 to 100?"
   ]
  },
  {
   "cell_type": "code",
   "execution_count": 2,
   "id": "63bb0470",
   "metadata": {},
   "outputs": [
    {
     "name": "stdout",
     "output_type": "stream",
     "text": [
      "1 is disarium number\n",
      "2 is disarium number\n",
      "3 is disarium number\n",
      "4 is disarium number\n",
      "5 is disarium number\n",
      "6 is disarium number\n",
      "7 is disarium number\n",
      "8 is disarium number\n",
      "9 is disarium number\n",
      "89 is disarium number\n"
     ]
    }
   ],
   "source": [
    "# python program to print disarium number between 1 to 100\n",
    "\n",
    "for i in range(1,100):\n",
    "    \n",
    "# convert number into str\n",
    "\n",
    "    str_num = str(i) \n",
    "\n",
    "# formula for disarium number\n",
    "\n",
    "    sum_of_digit = 0\n",
    "\n",
    "    for index , digit in enumerate(str_num):\n",
    "\n",
    "        sum_of_digit += int(digit)**(index + 1)\n",
    "        \n",
    "\n",
    "# Condition\n",
    "\n",
    "    if sum_of_digit == i :\n",
    "        print(str_num, \"is disarium number\")\n",
    "    \n",
    "    i += 1\n"
   ]
  },
  {
   "cell_type": "markdown",
   "id": "a23e8e2f",
   "metadata": {},
   "source": [
    "# 3. Write a Python program to check if the given number is Happy Number?"
   ]
  },
  {
   "cell_type": "code",
   "execution_count": 3,
   "id": "64915144",
   "metadata": {},
   "outputs": [
    {
     "name": "stdout",
     "output_type": "stream",
     "text": [
      "enter the number: 78\n",
      "78 is not Happy Number\n"
     ]
    }
   ],
   "source": [
    "# Enter the  number\n",
    "\n",
    "number = int(input(\"enter the number: \"))\n",
    "\n",
    "n = number\n",
    "\n",
    "# collect all the numbers \n",
    "seen_number = set()\n",
    "\n",
    "# Check number is Happy number or not \n",
    "\n",
    "while number != 1 and number not in seen_number :\n",
    "    \n",
    "    seen_number.add(number)\n",
    "    \n",
    "# convert number into str\n",
    "\n",
    "    str_num = str(number) \n",
    "    \n",
    "# formula for Happy Number\n",
    "\n",
    "    sum_of_digit = 0\n",
    "\n",
    "    for digit in str_num:\n",
    "    \n",
    "        sum_of_digit += int(digit)**2\n",
    "\n",
    "    number = sum_of_digit\n",
    "    \n",
    "# Condition\n",
    "\n",
    "if  number == 1 :\n",
    "    print(n , \"is Happy Number\")\n",
    "\n",
    "else :\n",
    "    print(n , \"is not Happy Number\")\n",
    "     "
   ]
  },
  {
   "cell_type": "markdown",
   "id": "bf97567e",
   "metadata": {},
   "source": [
    "# 4. Write a Python program to print all happy numbers between 1 and 100?"
   ]
  },
  {
   "cell_type": "code",
   "execution_count": 4,
   "id": "2e3b4d93",
   "metadata": {},
   "outputs": [
    {
     "name": "stdout",
     "output_type": "stream",
     "text": [
      "1 is Happy Number\n",
      "7 is Happy Number\n",
      "10 is Happy Number\n",
      "13 is Happy Number\n",
      "19 is Happy Number\n",
      "23 is Happy Number\n",
      "28 is Happy Number\n",
      "31 is Happy Number\n",
      "32 is Happy Number\n",
      "44 is Happy Number\n",
      "49 is Happy Number\n",
      "68 is Happy Number\n",
      "70 is Happy Number\n",
      "79 is Happy Number\n",
      "82 is Happy Number\n",
      "86 is Happy Number\n",
      "91 is Happy Number\n",
      "94 is Happy Number\n",
      "97 is Happy Number\n",
      "100 is Happy Number\n"
     ]
    }
   ],
   "source": [
    "# Enter the  number\n",
    "\n",
    "for n in range(1,101) :\n",
    "    \n",
    "    number = n\n",
    "\n",
    "# collect all the numbers \n",
    "     \n",
    "    seen_number = set()\n",
    "\n",
    "# Check number is Happy number or not \n",
    "\n",
    "    while n != 1 and n not in seen_number :\n",
    "    \n",
    "          seen_number.add(n)\n",
    "\n",
    "# convert number into str\n",
    "\n",
    "          str_num = str(n) \n",
    "    \n",
    "# formula for Happy Number\n",
    "\n",
    "          sum_of_digit = 0\n",
    "\n",
    "          for digit in str_num:\n",
    "    \n",
    "             sum_of_digit += int(digit)**2\n",
    "\n",
    "          n = sum_of_digit\n",
    "\n",
    "# Condition\n",
    "\n",
    "    if  n == 1 :\n",
    "        print(number, \"is Happy Number\")\n",
    "    \n"
   ]
  },
  {
   "cell_type": "markdown",
   "id": "2fa91e6e",
   "metadata": {},
   "source": [
    "# 5. Write a Python program to determine whether the given number is a Harshad Number?"
   ]
  },
  {
   "cell_type": "code",
   "execution_count": 5,
   "id": "e71d0de8",
   "metadata": {},
   "outputs": [
    {
     "name": "stdout",
     "output_type": "stream",
     "text": [
      "enter the number: 22\n",
      "The number is not Harshad number\n"
     ]
    }
   ],
   "source": [
    "# enter the number\n",
    "\n",
    "n = int(input(\"enter the number: \"))\n",
    "\n",
    "# Convert the number into str\n",
    "\n",
    "str_num = str(n)\n",
    "\n",
    "# formula to find harshad number\n",
    "\n",
    "sum_of_digit = 0\n",
    "\n",
    "for digit in str_num :\n",
    "    \n",
    "    sum_of_digit += int(digit)\n",
    "    \n",
    "    sum = sum_of_digit\n",
    "    \n",
    "    number = n % sum\n",
    "    \n",
    "if number == 0 :\n",
    "    print(\"The number is Harshad number\")\n",
    "    \n",
    "else :\n",
    "    print(\"The number is not Harshad number\")\n",
    "    "
   ]
  },
  {
   "cell_type": "markdown",
   "id": "85ee9385",
   "metadata": {},
   "source": [
    "# 6. Write a Python program to print all pronic numbers between 1 and 100?"
   ]
  },
  {
   "cell_type": "code",
   "execution_count": 6,
   "id": "96fa8e4b",
   "metadata": {},
   "outputs": [
    {
     "name": "stdout",
     "output_type": "stream",
     "text": [
      "2 is pronic number\n",
      "6 is pronic number\n",
      "12 is pronic number\n",
      "20 is pronic number\n",
      "30 is pronic number\n",
      "42 is pronic number\n",
      "56 is pronic number\n",
      "72 is pronic number\n",
      "90 is pronic number\n"
     ]
    }
   ],
   "source": [
    "# Find pronic numbers between 1 and 100\n",
    "\n",
    "for n in range(1,101):\n",
    "    \n",
    "# formula for pronic number \n",
    "\n",
    "    for x in range(n):\n",
    "        y = x+1 \n",
    "        if n == x*y :\n",
    "            print(n , \"is pronic number\")"
   ]
  }
 ],
 "metadata": {
  "kernelspec": {
   "display_name": "Python 3 (ipykernel)",
   "language": "python",
   "name": "python3"
  },
  "language_info": {
   "codemirror_mode": {
    "name": "ipython",
    "version": 3
   },
   "file_extension": ".py",
   "mimetype": "text/x-python",
   "name": "python",
   "nbconvert_exporter": "python",
   "pygments_lexer": "ipython3",
   "version": "3.9.13"
  }
 },
 "nbformat": 4,
 "nbformat_minor": 5
}
