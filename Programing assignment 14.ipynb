{
 "cells": [
  {
   "cell_type": "markdown",
   "id": "7fe55c18-806c-4f3b-b69b-910d071a1e36",
   "metadata": {},
   "source": [
    "# 1.Define a class with a generator which can iterate the numbers, which are divisible by 7, between a given range 0 and n."
   ]
  },
  {
   "cell_type": "code",
   "execution_count": 1,
   "id": "dfe50832-4a08-4930-a370-ee8ea0d65778",
   "metadata": {},
   "outputs": [
    {
     "name": "stdout",
     "output_type": "stream",
     "text": [
      "0\n",
      "7\n",
      "14\n",
      "21\n",
      "28\n",
      "35\n",
      "42\n",
      "49\n",
      "56\n",
      "63\n"
     ]
    }
   ],
   "source": [
    "# A class with generator \n",
    "class Divisible :\n",
    "    def __init__(self):\n",
    "        self.n = 0\n",
    " # method \n",
    "    def Div_by_seven(self) :\n",
    "        while True :\n",
    "            if self.n % 7 == 0 :\n",
    "                yield self.n\n",
    "            self.n+= 1   \n",
    "\n",
    "divisible = Divisible()\n",
    "division = divisible.Div_by_seven()\n",
    "for i in range(0,10):\n",
    "     print(next(division))"
   ]
  },
  {
   "cell_type": "markdown",
   "id": "2bd3c660-db87-416c-a266-39f811e70aeb",
   "metadata": {},
   "source": [
    "# 2. Write a program to compute the frequency of the words from the input. The output should output after sorting the key alphanumerically.\n",
    "     Suppose the following input is supplied to the program:\n",
    "     New to Python or choosing between Python 2 and Python 3? Read Python 2 or Python 3.\n",
    "     Then, the output should be:\n",
    "     2:2\n",
    "     3.:1\n",
    "     3?:1\n",
    "     New:1\n",
    "     Python:5\n",
    "     Read:1\n",
    "     and:1\n",
    "     between:1\n",
    "     choosing:1\n",
    "     or:2\n",
    "     to:1 "
   ]
  },
  {
   "cell_type": "code",
   "execution_count": 3,
   "id": "ffd572b4-df7b-4443-a100-fcb579438e1d",
   "metadata": {},
   "outputs": [
    {
     "name": "stdout",
     "output_type": "stream",
     "text": [
      "['New', 'to', 'Python', 'or', 'choosing', 'between', 'Python', '2', 'and', 'Python', '3?', 'Read', 'Python', '2', 'or', 'Python', '3.']\n",
      "2 : 2\n",
      "3. : 1\n",
      "3? : 1\n",
      "New : 1\n",
      "Python : 5\n",
      "Read : 1\n",
      "and : 1\n",
      "between : 1\n",
      "choosing : 1\n",
      "or : 2\n",
      "to : 1\n"
     ]
    }
   ],
   "source": [
    "# To compute frequency of the words \n",
    "s = \"New to Python or choosing between Python 2 and Python 3? Read Python 2 or Python 3.\"\n",
    "s1 = s.split()  # split the words \n",
    "l = list(s1)    # convert string into list \n",
    "print(l)\n",
    "for i in sorted(set(l)) :\n",
    "    l.count(i) \n",
    "    print(i , \":\", l.count(i))\n",
    "    "
   ]
  },
  {
   "cell_type": "markdown",
   "id": "3988b691-0908-42ef-9a23-07fe7c8df991",
   "metadata": {},
   "source": [
    "# 3.Define a class Person and its two child classes: Male and Female. All classes have a method \"getGender\" which can print \"Male\" for Male class and \"Female\" for Female class"
   ]
  },
  {
   "cell_type": "code",
   "execution_count": 5,
   "id": "c6fde77c-4db6-4cf3-9d7f-1ad11d607bb9",
   "metadata": {},
   "outputs": [
    {
     "name": "stdout",
     "output_type": "stream",
     "text": [
      "Male\n",
      "Female\n"
     ]
    }
   ],
   "source": [
    "# parent class\n",
    "class Person :\n",
    "    \n",
    "    def getGender(self) :\n",
    "       print(\"Gender of this Person\")\n",
    "\n",
    "# 1st child class\n",
    "\n",
    "class Male(Person) :\n",
    "\n",
    "    def getGender(self) :\n",
    "        print(\"Male\")\n",
    "\n",
    "# 2nd child class\n",
    "class Female(Person) :\n",
    "\n",
    "    def getGender(self) :\n",
    "        print(\"Female\")\n",
    "\n",
    "male = Male()\n",
    "female = Female()\n",
    "male.getGender()\n",
    "female.getGender()"
   ]
  },
  {
   "cell_type": "markdown",
   "id": "10511c70-c488-422b-9372-6ce17bb988d0",
   "metadata": {},
   "source": [
    "# 4 Please write a program to generate all sentences where subject is in [\"I\", \"You\"] and verb is in [\"Play\", \"Love\"] and the object is in [\"Hockey\",\"Football\"]."
   ]
  },
  {
   "cell_type": "code",
   "execution_count": 7,
   "id": "7036bdb6-bee5-449b-8d1a-1d6466ca2e99",
   "metadata": {},
   "outputs": [
    {
     "name": "stdout",
     "output_type": "stream",
     "text": [
      "I Play Hockey\n",
      "I Play Football\n",
      "I Love Hockey\n",
      "I Love Football\n",
      "You Play Hockey\n",
      "You Play Football\n",
      "You Love Hockey\n",
      "You Love Football\n"
     ]
    }
   ],
   "source": [
    "# To generate sentences\n",
    "subjects = [\"I\",\"You\"]\n",
    "verbs = [\"Play\",\"Love\"]\n",
    "objects = [\"Hockey\",\"Football\"]\n",
    "for sub in subjects :\n",
    "    for verb in verbs :\n",
    "        for object in objects :\n",
    "            print(sub, verb, object)"
   ]
  },
  {
   "cell_type": "markdown",
   "id": "cd451608-b6a1-4563-8bfa-2d9b49d5db32",
   "metadata": {},
   "source": [
    "# 5 Please write a program to compress and decompress the string \"hello world!hello world!hello world!hello world!\"."
   ]
  },
  {
   "cell_type": "code",
   "execution_count": 9,
   "id": "d54f09db-5938-4416-8e6a-b664b142e6e2",
   "metadata": {},
   "outputs": [
    {
     "name": "stdout",
     "output_type": "stream",
     "text": [
      "compressed: b'x\\x9c\\xcbH\\xcd\\xc9\\xc9W(\\xcf/\\xcaIQ\\xcc \\x82\\r\\x00\\xbd[\\x11\\xf5'\n",
      "decompressed: b'hello world!hello world!hello world!hello world!'\n"
     ]
    }
   ],
   "source": [
    "# import zlib for compress and decompress\n",
    "import zlib \n",
    "\n",
    "# string \n",
    "s = b\"hello world!hello world!hello world!hello world!\"\n",
    "\n",
    "# for compress\n",
    "c = zlib.compress(s)\n",
    "print(\"compressed:\", c)\n",
    "\n",
    "# for decompress\n",
    "d = zlib.decompress(c)\n",
    "print(\"decompressed:\", d)\n"
   ]
  },
  {
   "cell_type": "markdown",
   "id": "44ca0634-ba9d-4bad-a6e9-5b0a5bad573e",
   "metadata": {},
   "source": [
    "# 6. Please write a binary search function which searches an item in a sorted list. The function should return the index of element to be searched in the list."
   ]
  },
  {
   "cell_type": "code",
   "execution_count": 11,
   "id": "a0e7e015-9f0c-4d69-9b7a-1505b914b205",
   "metadata": {},
   "outputs": [
    {
     "name": "stdout",
     "output_type": "stream",
     "text": [
      "The index of the element 15 is: 1\n"
     ]
    }
   ],
   "source": [
    "def binary_search(arr, x, low, high) :\n",
    "   while low <= high : \n",
    "     mid = (low + high) // 2 \n",
    "     if x == arr[mid] :\n",
    "         return mid\n",
    "     elif x > arr[mid] :\n",
    "         low = mid + 1 \n",
    "     else :\n",
    "         high = mid - 1 \n",
    "   return -1\n",
    "\n",
    "sorted_list = [10,15,45,55,70]\n",
    "x = 15\n",
    "result = binary_search(sorted_list, x, 0, len(sorted_list)-1)\n",
    "if result != -1 :\n",
    "   print(\"The index of the element\" , x, \"is:\", result)\n",
    "else :\n",
    "    print(\"The element not found\")"
   ]
  }
 ],
 "metadata": {
  "kernelspec": {
   "display_name": "Python [conda env:base] *",
   "language": "python",
   "name": "conda-base-py"
  },
  "language_info": {
   "codemirror_mode": {
    "name": "ipython",
    "version": 3
   },
   "file_extension": ".py",
   "mimetype": "text/x-python",
   "name": "python",
   "nbconvert_exporter": "python",
   "pygments_lexer": "ipython3",
   "version": "3.12.7"
  }
 },
 "nbformat": 4,
 "nbformat_minor": 5
}
