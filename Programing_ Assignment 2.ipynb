{
 "cells": [
  {
   "cell_type": "markdown",
   "id": "bc02046d",
   "metadata": {},
   "source": [
    "# Answer 1"
   ]
  },
  {
   "cell_type": "code",
   "execution_count": 1,
   "id": "455c8199",
   "metadata": {},
   "outputs": [
    {
     "name": "stdout",
     "output_type": "stream",
     "text": [
      "enter the distance in kilometers: 5.89\n",
      "3.6517999999999997 miles\n"
     ]
    }
   ],
   "source": [
    "k = float(input(\"enter the distance in kilometers: \")) \n",
    "n= 0.62 \n",
    "m = k*n\n",
    "print(m,\"miles\")"
   ]
  },
  {
   "cell_type": "markdown",
   "id": "0bc780fa",
   "metadata": {},
   "source": [
    "# Answer 2"
   ]
  },
  {
   "cell_type": "code",
   "execution_count": 2,
   "id": "652a2118",
   "metadata": {},
   "outputs": [
    {
     "name": "stdout",
     "output_type": "stream",
     "text": [
      "enter the temp. into celsius: 38.2\n",
      "100.76 F\n"
     ]
    }
   ],
   "source": [
    "Celsius = float(input(\"enter the temp. into celsius: \"))\n",
    "Fahrenheit= Celsius*(9/5)+32\n",
    "print(Fahrenheit,\"F\")\n"
   ]
  },
  {
   "cell_type": "markdown",
   "id": "b21075d8",
   "metadata": {},
   "source": [
    "# Answer 3"
   ]
  },
  {
   "cell_type": "code",
   "execution_count": 3,
   "id": "0ffb7023",
   "metadata": {},
   "outputs": [],
   "source": [
    "import calendar\n",
    "def year_calendar(year) :\n",
    "    cal = calendar.calendar(year)\n",
    "    print(\"the calendar of:\",cal)\n"
   ]
  },
  {
   "cell_type": "code",
   "execution_count": 4,
   "id": "93606edf",
   "metadata": {},
   "outputs": [
    {
     "name": "stdout",
     "output_type": "stream",
     "text": [
      "the calendar of:                                   2023\n",
      "\n",
      "      January                   February                   March\n",
      "Mo Tu We Th Fr Sa Su      Mo Tu We Th Fr Sa Su      Mo Tu We Th Fr Sa Su\n",
      "                   1             1  2  3  4  5             1  2  3  4  5\n",
      " 2  3  4  5  6  7  8       6  7  8  9 10 11 12       6  7  8  9 10 11 12\n",
      " 9 10 11 12 13 14 15      13 14 15 16 17 18 19      13 14 15 16 17 18 19\n",
      "16 17 18 19 20 21 22      20 21 22 23 24 25 26      20 21 22 23 24 25 26\n",
      "23 24 25 26 27 28 29      27 28                     27 28 29 30 31\n",
      "30 31\n",
      "\n",
      "       April                      May                       June\n",
      "Mo Tu We Th Fr Sa Su      Mo Tu We Th Fr Sa Su      Mo Tu We Th Fr Sa Su\n",
      "                1  2       1  2  3  4  5  6  7                1  2  3  4\n",
      " 3  4  5  6  7  8  9       8  9 10 11 12 13 14       5  6  7  8  9 10 11\n",
      "10 11 12 13 14 15 16      15 16 17 18 19 20 21      12 13 14 15 16 17 18\n",
      "17 18 19 20 21 22 23      22 23 24 25 26 27 28      19 20 21 22 23 24 25\n",
      "24 25 26 27 28 29 30      29 30 31                  26 27 28 29 30\n",
      "\n",
      "        July                     August                  September\n",
      "Mo Tu We Th Fr Sa Su      Mo Tu We Th Fr Sa Su      Mo Tu We Th Fr Sa Su\n",
      "                1  2          1  2  3  4  5  6                   1  2  3\n",
      " 3  4  5  6  7  8  9       7  8  9 10 11 12 13       4  5  6  7  8  9 10\n",
      "10 11 12 13 14 15 16      14 15 16 17 18 19 20      11 12 13 14 15 16 17\n",
      "17 18 19 20 21 22 23      21 22 23 24 25 26 27      18 19 20 21 22 23 24\n",
      "24 25 26 27 28 29 30      28 29 30 31               25 26 27 28 29 30\n",
      "31\n",
      "\n",
      "      October                   November                  December\n",
      "Mo Tu We Th Fr Sa Su      Mo Tu We Th Fr Sa Su      Mo Tu We Th Fr Sa Su\n",
      "                   1             1  2  3  4  5                   1  2  3\n",
      " 2  3  4  5  6  7  8       6  7  8  9 10 11 12       4  5  6  7  8  9 10\n",
      " 9 10 11 12 13 14 15      13 14 15 16 17 18 19      11 12 13 14 15 16 17\n",
      "16 17 18 19 20 21 22      20 21 22 23 24 25 26      18 19 20 21 22 23 24\n",
      "23 24 25 26 27 28 29      27 28 29 30               25 26 27 28 29 30 31\n",
      "30 31\n",
      "\n"
     ]
    }
   ],
   "source": [
    "year_calendar(2023)"
   ]
  },
  {
   "cell_type": "markdown",
   "id": "7932c199",
   "metadata": {},
   "source": [
    "# Answer 4"
   ]
  },
  {
   "cell_type": "code",
   "execution_count": 5,
   "id": "28d4c65b",
   "metadata": {},
   "outputs": [
    {
     "name": "stdout",
     "output_type": "stream",
     "text": [
      "enter the number for x : 5\n",
      "enter the number for a : 2\n",
      "enter the number for b : 8\n",
      "enter the number for c : 7\n",
      "97.0\n"
     ]
    }
   ],
   "source": [
    "x = float(input(\"enter the number for x : \"))\n",
    "a = float(input(\"enter the number for a : \"))\n",
    "b = float(input(\"enter the number for b : \"))\n",
    "c = float(input(\"enter the number for c : \"))\n",
    "equation = a*x**2+b*x+c\n",
    "print(equation)"
   ]
  },
  {
   "cell_type": "markdown",
   "id": "f3b60f35",
   "metadata": {},
   "source": [
    "# Answer 5 "
   ]
  },
  {
   "cell_type": "code",
   "execution_count": 6,
   "id": "eb2bfa66",
   "metadata": {},
   "outputs": [
    {
     "name": "stdout",
     "output_type": "stream",
     "text": [
      "enter the variable1 : 48494\n",
      "enter the variable2 : \"python\"\n",
      "x= \"python\" \n",
      " y= 48494\n"
     ]
    }
   ],
   "source": [
    "x = input(\"enter the variable1 : \")\n",
    "y = input(\"enter the variable2 : \")\n",
    "x,y = y,x \n",
    "print(\"x=\",x,\"\\n\",\"y=\",y)\n"
   ]
  }
 ],
 "metadata": {
  "kernelspec": {
   "display_name": "Python 3 (ipykernel)",
   "language": "python",
   "name": "python3"
  },
  "language_info": {
   "codemirror_mode": {
    "name": "ipython",
    "version": 3
   },
   "file_extension": ".py",
   "mimetype": "text/x-python",
   "name": "python",
   "nbconvert_exporter": "python",
   "pygments_lexer": "ipython3",
   "version": "3.9.13"
  }
 },
 "nbformat": 4,
 "nbformat_minor": 5
}
