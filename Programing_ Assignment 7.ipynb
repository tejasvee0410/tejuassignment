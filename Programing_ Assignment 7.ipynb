{
 "cells": [
  {
   "cell_type": "markdown",
   "id": "0a1b1cde",
   "metadata": {},
   "source": [
    "# 1. Write a Python Program to find sum of array?\n",
    "# Answer "
   ]
  },
  {
   "cell_type": "code",
   "execution_count": 1,
   "id": "100062f2",
   "metadata": {},
   "outputs": [
    {
     "name": "stdout",
     "output_type": "stream",
     "text": [
      "Sum of elements: 971\n"
     ]
    }
   ],
   "source": [
    "# import array module\n",
    "import array as arr\n",
    "\n",
    "# Define an array of integers\n",
    "num = arr.array('i', [10, 20, 45, 896])\n",
    "\n",
    "# Compute the sum of elements \n",
    "total = sum(num)\n",
    "\n",
    "# Print the sum of elements\n",
    "print(\"Sum of elements:\", total)\n"
   ]
  },
  {
   "cell_type": "markdown",
   "id": "4adea413",
   "metadata": {},
   "source": [
    "# 2. Write a Python Program to find largest element in an array?\n",
    "# Answer "
   ]
  },
  {
   "cell_type": "code",
   "execution_count": 4,
   "id": "ef29b651",
   "metadata": {},
   "outputs": [
    {
     "name": "stdout",
     "output_type": "stream",
     "text": [
      "The largest element is: 86\n"
     ]
    }
   ],
   "source": [
    "# import array module\n",
    "import array as arr\n",
    "\n",
    "# Define an array of integer\n",
    "num = arr.array('i', [50,86,42,65])\n",
    "\n",
    "# find the largest element\n",
    "largest_num = max(num)\n",
    "\n",
    "# Print the largest element\n",
    "print(\"The largest element is:\", largest_num)\n"
   ]
  },
  {
   "cell_type": "markdown",
   "id": "3dee1e47",
   "metadata": {},
   "source": [
    "# 3. Write a Python Program for array rotation?\n",
    "# Answer"
   ]
  },
  {
   "cell_type": "code",
   "execution_count": 43,
   "id": "568f58ef",
   "metadata": {},
   "outputs": [
    {
     "name": "stdout",
     "output_type": "stream",
     "text": [
      "length of array is : 5\n",
      "original array is : array('i', [45, 78, 65, 12, 39])\n",
      "rotated array is : array('i', [12, 39, 45, 78, 65])\n"
     ]
    }
   ],
   "source": [
    "# import array module\n",
    "import array as arr\n",
    "\n",
    "# Define an array of integer\n",
    "num = arr.array('i', [45,78,65,12,39])\n",
    "length = len(num)\n",
    "print(\"length of array is :\", length)\n",
    "\n",
    "# n is position from which we want to start rotation\n",
    "n = 3\n",
    "# n must be in between length of num\n",
    "n = n % length \n",
    "\n",
    "# for rotation\n",
    "rotated_array = num[n:]+num[:n]\n",
    "\n",
    "# print the rotation\n",
    "print(\"original array is :\", num)\n",
    "print(\"rotated array is :\", rotated_array)"
   ]
  },
  {
   "cell_type": "markdown",
   "id": "986e1c88",
   "metadata": {},
   "source": [
    "# 4. Write a Python Program to Split the array and add the first part to the end?\n",
    "# Answer"
   ]
  },
  {
   "cell_type": "code",
   "execution_count": 69,
   "id": "5677dc7c",
   "metadata": {},
   "outputs": [
    {
     "name": "stdout",
     "output_type": "stream",
     "text": [
      "The first part is : array('i', [25, 86, 94])\n",
      "\n",
      "The second part is : array('i', [38, 47, 120, 469])\n",
      "\n",
      "After adding first part to the end : array('i', [38, 47, 120, 469, 25, 86, 94])\n"
     ]
    }
   ],
   "source": [
    "# import the array module\n",
    "import array as arr\n",
    "\n",
    "# Define an array of integer\n",
    "num = arr.array('i', [25,86,94,38,47,120,469])\n",
    "\n",
    "# Split the interger in two part \n",
    "n1 = num[0:3]  # Part 1\n",
    "print(\"The first part is :\", n1)\n",
    "print()\n",
    "n2 = num[3:7]   # Part 2\n",
    "print(\"The second part is :\", n2)\n",
    "print()\n",
    "# add the first part to the end\n",
    "n3 = num[3:7]+num[0:3]\n",
    "\n",
    "#print the final array\n",
    "print(\"After adding first part to the end :\", n3)"
   ]
  },
  {
   "cell_type": "markdown",
   "id": "92a02e6a",
   "metadata": {},
   "source": [
    "# 5. Write a Python Program to check if given array is Monotonic?\n",
    "# Answer"
   ]
  },
  {
   "cell_type": "code",
   "execution_count": 163,
   "id": "f7bdccb1",
   "metadata": {},
   "outputs": [
    {
     "name": "stdout",
     "output_type": "stream",
     "text": [
      "array is monotonic\n"
     ]
    }
   ],
   "source": [
    "# import array module\n",
    "import array as arr\n",
    "\n",
    "# Define an array of integer \n",
    "num = arr.array('i', [45,46,47,48,49,50])\n",
    "# for integer\n",
    "increasing = True\n",
    "decreasing =  True\n",
    "\n",
    "#loop and conditions to find array is monotonic or not \n",
    "for i in range(len(num)-1) :\n",
    "    if num[i] <= num[i+1] :\n",
    "        increasing = False\n",
    "    elif num[i] >= num[i+1] :\n",
    "        decreasing = False\n",
    "if increasing :\n",
    "    print(\"array is monotonic\")\n",
    "elif decreasing :\n",
    "    print(\"array is monotonic\")\n",
    "else :\n",
    "        print(\"array is not monotonic\")"
   ]
  }
 ],
 "metadata": {
  "kernelspec": {
   "display_name": "Python 3 (ipykernel)",
   "language": "python",
   "name": "python3"
  },
  "language_info": {
   "codemirror_mode": {
    "name": "ipython",
    "version": 3
   },
   "file_extension": ".py",
   "mimetype": "text/x-python",
   "name": "python",
   "nbconvert_exporter": "python",
   "pygments_lexer": "ipython3",
   "version": "3.9.13"
  }
 },
 "nbformat": 4,
 "nbformat_minor": 5
}
