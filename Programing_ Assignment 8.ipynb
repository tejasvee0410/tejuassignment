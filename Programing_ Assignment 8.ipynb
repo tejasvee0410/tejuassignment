{
 "cells": [
  {
   "cell_type": "markdown",
   "id": "bc18275b",
   "metadata": {},
   "source": [
    "# 1. Write a Python Program to Add Two Matrices?\n",
    "# Answer "
   ]
  },
  {
   "cell_type": "code",
   "execution_count": 1,
   "id": "ddbb4752",
   "metadata": {},
   "outputs": [
    {
     "name": "stdout",
     "output_type": "stream",
     "text": [
      "m1 = [[89  2 78]\n",
      " [15 18  6]\n",
      " [73 41 78]]\n",
      "\n",
      "m2 = [[45 41 52]\n",
      " [53  2 12]\n",
      " [70 19 40]]\n",
      "\n",
      "m3 = [[134  43 130]\n",
      " [ 68  20  18]\n",
      " [143  60 118]]\n"
     ]
    }
   ],
   "source": [
    "# import numpy\n",
    "import numpy as np\n",
    "# randomly generate two matrices\n",
    "m1 = np.random.randint(1,99,(3,3))\n",
    "m2 = np.random.randint(1,99,(3,3))\n",
    "\n",
    "# Do addition of both the matrices\n",
    "m3 = m1 + m2\n",
    "\n",
    "# print all the matrics\n",
    "print('m1 =', m1)\n",
    "print()\n",
    "print('m2 =', m2)\n",
    "print()\n",
    "print('m3 =', m3)"
   ]
  },
  {
   "cell_type": "markdown",
   "id": "ecfa7991",
   "metadata": {},
   "source": [
    "# 2. Write a Python Program to Multiply Two Matrices?\n",
    "# Answer"
   ]
  },
  {
   "cell_type": "code",
   "execution_count": 2,
   "id": "55f17bbd",
   "metadata": {},
   "outputs": [
    {
     "name": "stdout",
     "output_type": "stream",
     "text": [
      "m1 = [[75 74]\n",
      " [70 79]]\n",
      "\n",
      "m2 = [[44 66]\n",
      " [89 50]]\n",
      "\n",
      "m3 = [[ 9886  8650]\n",
      " [10111  8570]]\n"
     ]
    }
   ],
   "source": [
    "# import numpy\n",
    "import numpy as np\n",
    "\n",
    "# randomaly generate two matrices\n",
    "m1 = np.random.randint(65,80,(2,2))\n",
    "m2 = np.random.randint(40,94,(2,2))\n",
    "\n",
    "# Do multiplication of both the matrices\n",
    "m3 = m1@m2\n",
    "\n",
    "# print all the matrices\n",
    "print('m1 =', m1)\n",
    "print()\n",
    "print('m2 =', m2)\n",
    "print()\n",
    "print('m3 =', m3)"
   ]
  },
  {
   "cell_type": "markdown",
   "id": "b1b8373a",
   "metadata": {},
   "source": [
    "# 3. Write a Python Program to Transpose a Matrix?\n",
    "# Answer"
   ]
  },
  {
   "cell_type": "code",
   "execution_count": 3,
   "id": "eff88a0c",
   "metadata": {},
   "outputs": [
    {
     "name": "stdout",
     "output_type": "stream",
     "text": [
      "m1 =  [[39 26 27 45 29]\n",
      " [31 31 46 44 48]\n",
      " [40 45 44 45 40]\n",
      " [42 26 36 36 26]]\n",
      "\n",
      "m2 =  [[39 31 40 42]\n",
      " [26 31 45 26]\n",
      " [27 46 44 36]\n",
      " [45 44 45 36]\n",
      " [29 48 40 26]]\n"
     ]
    }
   ],
   "source": [
    "# import numpy\n",
    "import numpy as np\n",
    "\n",
    "# randomly generate matrix\n",
    "m1 = np.random.randint(25,49,(4,5))\n",
    "\n",
    "# transpose the matrix\n",
    "m2 = m1.T\n",
    "\n",
    "# print both the matrices\n",
    "print('m1 = ', m1)\n",
    "print()\n",
    "print('m2 = ', m2)"
   ]
  },
  {
   "cell_type": "markdown",
   "id": "aa0a0c92",
   "metadata": {},
   "source": [
    "# 4. Write a Python Program to Sort Words in Alphabetic Order?\n",
    "# Answer "
   ]
  },
  {
   "cell_type": "code",
   "execution_count": 4,
   "id": "beca56d8",
   "metadata": {},
   "outputs": [
    {
     "name": "stdout",
     "output_type": "stream",
     "text": [
      "['Copy' 'Long' 'document' 'iNeuron' 'pet' 'sort' 'time' 'top' 'window']\n"
     ]
    }
   ],
   "source": [
    "# import numpy\n",
    "import numpy as np\n",
    "\n",
    "# Take a list of alphabetic words\n",
    "l = [\"top\", \"sort\", \"Long\", \"time\", \"window\", \"pet\", \"document\", \"iNeuron\", \"Copy\"]\n",
    "\n",
    "# sort the list in alphabetic order\n",
    "l1 = np.sort(l)\n",
    "\n",
    "# print the list\n",
    "print(l1)"
   ]
  },
  {
   "cell_type": "markdown",
   "id": "6ec5c252",
   "metadata": {},
   "source": [
    "# 5. Write a Python Program to Remove Punctuation From a String?\n",
    "# Answer"
   ]
  },
  {
   "cell_type": "code",
   "execution_count": 5,
   "id": "b8257ddb",
   "metadata": {},
   "outputs": [
    {
     "name": "stdout",
     "output_type": "stream",
     "text": [
      "Wow  Its an interesting topic\n"
     ]
    }
   ],
   "source": [
    "# import numpy and string\n",
    "import numpy as np\n",
    "import string\n",
    "\n",
    "# take a string\n",
    "s = \"Wow ! It's an interesting topic.\"\n",
    "translator = str.maketrans(\"\",\"\", string.punctuation)\n",
    "s1 = s.translate(translator)\n",
    "print(s1)"
   ]
  }
 ],
 "metadata": {
  "kernelspec": {
   "display_name": "Python 3 (ipykernel)",
   "language": "python",
   "name": "python3"
  },
  "language_info": {
   "codemirror_mode": {
    "name": "ipython",
    "version": 3
   },
   "file_extension": ".py",
   "mimetype": "text/x-python",
   "name": "python",
   "nbconvert_exporter": "python",
   "pygments_lexer": "ipython3",
   "version": "3.9.13"
  }
 },
 "nbformat": 4,
 "nbformat_minor": 5
}
