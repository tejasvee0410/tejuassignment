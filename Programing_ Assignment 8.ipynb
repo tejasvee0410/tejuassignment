{
 "cells": [
  {
   "cell_type": "markdown",
   "id": "13db18e9",
   "metadata": {},
   "source": [
    "# 1. Write a Python Program to Add Two Matrices?\n",
    "# Answer "
   ]
  },
  {
   "cell_type": "code",
   "execution_count": 1,
   "id": "bfa3fe62",
   "metadata": {},
   "outputs": [
    {
     "name": "stdout",
     "output_type": "stream",
     "text": [
      "m1 = [[25 30 51]\n",
      " [ 3 84 67]\n",
      " [56 26 39]]\n",
      "\n",
      "m2 = [[49 78 44]\n",
      " [43 33 61]\n",
      " [31 29 44]]\n",
      "\n",
      "m3 = [[ 74 108  95]\n",
      " [ 46 117 128]\n",
      " [ 87  55  83]]\n"
     ]
    }
   ],
   "source": [
    "# import numpy\n",
    "import numpy as np\n",
    "# randomly generate two matrices\n",
    "m1 = np.random.randint(1,99,(3,3))\n",
    "m2 = np.random.randint(1,99,(3,3))\n",
    "\n",
    "# Do addition of both the matrices\n",
    "m3 = m1 + m2\n",
    "\n",
    "# print all the matrics\n",
    "print('m1 =', m1)\n",
    "print()\n",
    "print('m2 =', m2)\n",
    "print()\n",
    "print('m3 =', m3)"
   ]
  },
  {
   "cell_type": "markdown",
   "id": "b5d97576",
   "metadata": {},
   "source": [
    "# 2. Write a Python Program to Multiply Two Matrices?\n",
    "# Answer"
   ]
  },
  {
   "cell_type": "code",
   "execution_count": 2,
   "id": "9a2f65cc",
   "metadata": {},
   "outputs": [
    {
     "name": "stdout",
     "output_type": "stream",
     "text": [
      "m1 = [[74 71]\n",
      " [78 77]]\n",
      "\n",
      "m2 = [[83 84]\n",
      " [45 62]]\n",
      "\n",
      "m3 = [[ 9337 10618]\n",
      " [ 9939 11326]]\n"
     ]
    }
   ],
   "source": [
    "# import numpy\n",
    "import numpy as np\n",
    "\n",
    "# randomaly generate two matrices\n",
    "m1 = np.random.randint(65,80,(2,2))\n",
    "m2 = np.random.randint(40,94,(2,2))\n",
    "\n",
    "# Do multiplication of both the matrices\n",
    "m3 = m1@m2\n",
    "\n",
    "# print all the matrices\n",
    "print('m1 =', m1)\n",
    "print()\n",
    "print('m2 =', m2)\n",
    "print()\n",
    "print('m3 =', m3)"
   ]
  },
  {
   "cell_type": "markdown",
   "id": "20e7742a",
   "metadata": {},
   "source": [
    "# 3. Write a Python Program to Transpose a Matrix?\n",
    "# Answer"
   ]
  },
  {
   "cell_type": "code",
   "execution_count": 3,
   "id": "b9713287",
   "metadata": {},
   "outputs": [
    {
     "name": "stdout",
     "output_type": "stream",
     "text": [
      "m1 =  [[39 29 41 29 37]\n",
      " [30 36 36 39 26]\n",
      " [44 29 40 46 47]\n",
      " [45 31 43 28 44]]\n",
      "\n",
      "m2 =  [[39 30 44 45]\n",
      " [29 36 29 31]\n",
      " [41 36 40 43]\n",
      " [29 39 46 28]\n",
      " [37 26 47 44]]\n"
     ]
    }
   ],
   "source": [
    "# import numpy\n",
    "import numpy as np\n",
    "\n",
    "# randomly generate matrix\n",
    "m1 = np.random.randint(25,49,(4,5))\n",
    "\n",
    "# transpose the matrix\n",
    "m2 = m1.T\n",
    "\n",
    "# print both the matrices\n",
    "print('m1 = ', m1)\n",
    "print()\n",
    "print('m2 = ', m2)"
   ]
  },
  {
   "cell_type": "markdown",
   "id": "3dec3cbc",
   "metadata": {},
   "source": [
    "# 4. Write a Python Program to Sort Words in Alphabetic Order?\n",
    "# Answer "
   ]
  },
  {
   "cell_type": "code",
   "execution_count": 4,
   "id": "cc6425e1",
   "metadata": {},
   "outputs": [
    {
     "name": "stdout",
     "output_type": "stream",
     "text": [
      "['Copy' 'Long' 'document' 'iNeuron' 'pet' 'sort' 'time' 'top' 'window']\n"
     ]
    }
   ],
   "source": [
    "# import numpy\n",
    "import numpy as np\n",
    "\n",
    "# Take a list of alphabetic words\n",
    "l = [\"top\", \"sort\", \"Long\", \"time\", \"window\", \"pet\", \"document\", \"iNeuron\", \"Copy\"]\n",
    "\n",
    "# sort the list in alphabetic order\n",
    "l1 = np.sort(l)\n",
    "\n",
    "# print the list\n",
    "print(l1)"
   ]
  },
  {
   "cell_type": "markdown",
   "id": "644351fd",
   "metadata": {},
   "source": [
    "# 5. Write a Python Program to Remove Punctuation From a String?\n",
    "# Answer"
   ]
  },
  {
   "cell_type": "code",
   "execution_count": 5,
   "id": "7daafb65",
   "metadata": {},
   "outputs": [
    {
     "name": "stdout",
     "output_type": "stream",
     "text": [
      "Wow  Its an interesting topic\n"
     ]
    }
   ],
   "source": [
    "# import numpy and string\n",
    "import numpy as np\n",
    "import string\n",
    "\n",
    "# take a string\n",
    "s = \"Wow ! It's an interesting topic.\"\n",
    "\n",
    "# remove the punctuation from string\n",
    "translator = str.maketrans(\"\",\"\", string.punctuation)\n",
    "s1 = s.translate(translator)\n",
    "\n",
    "# print the string after removing punctuation\n",
    "print(s1)"
   ]
  }
 ],
 "metadata": {
  "kernelspec": {
   "display_name": "Python 3 (ipykernel)",
   "language": "python",
   "name": "python3"
  },
  "language_info": {
   "codemirror_mode": {
    "name": "ipython",
    "version": 3
   },
   "file_extension": ".py",
   "mimetype": "text/x-python",
   "name": "python",
   "nbconvert_exporter": "python",
   "pygments_lexer": "ipython3",
   "version": "3.9.13"
  }
 },
 "nbformat": 4,
 "nbformat_minor": 5
}
