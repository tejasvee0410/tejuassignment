{
 "cells": [
  {
   "cell_type": "markdown",
   "id": "b1f19779-4fef-49fe-8b17-0a139f7605e2",
   "metadata": {},
   "source": [
    "# 1. Please write a program using generator to print the numbers which can be divisible by 5 and 7 between 0 and n in comma separated form while n is input by console.\n",
    "    Example:\n",
    "       If the following n is given as input to the program:\n",
    "             100\n",
    "       Then, the output of the program should be:\n",
    "              0,35,70"
   ]
  },
  {
   "cell_type": "code",
   "execution_count": 1,
   "id": "7dd9f1e1-17d1-4bae-ae5d-35d1200439fc",
   "metadata": {},
   "outputs": [
    {
     "name": "stdin",
     "output_type": "stream",
     "text": [
      "enter the number : 100\n"
     ]
    },
    {
     "name": "stdout",
     "output_type": "stream",
     "text": [
      "0,35,70\n"
     ]
    }
   ],
   "source": [
    "# Use generator to print numbers which can be divisible by 5 and 7\n",
    "def num_divisible(n) :\n",
    "        for i in range(0,n+1): \n",
    "            if (i % 5) == 0 and (i % 7) == 0 :\n",
    "                yield i\n",
    "\n",
    "n = int(input(\"enter the number :\"))  # input by console \n",
    "result = list(num_divisible(n))\n",
    "print(\",\".join(map(str,result)))\n",
    "                "
   ]
  },
  {
   "cell_type": "markdown",
   "id": "3c4d1270-57c4-471d-8af3-d786a11496c7",
   "metadata": {},
   "source": [
    "# 2. Please write a program using generator to print the even numbers between 0 and n in comma separated form while n is input by console.\n",
    "     Example:\n",
    "        If the following n is given as input to the program:\n",
    "        10\n",
    "        Then, the output of the program should be:\n",
    "        0,2,4,6,8,10       "
   ]
  },
  {
   "cell_type": "code",
   "execution_count": 3,
   "id": "5ba839b4-4b4b-4e35-adcc-c2cf7d7a9de3",
   "metadata": {},
   "outputs": [
    {
     "name": "stdin",
     "output_type": "stream",
     "text": [
      "enter the number : 10\n"
     ]
    },
    {
     "name": "stdout",
     "output_type": "stream",
     "text": [
      "0,2,4,6,8,10\n"
     ]
    }
   ],
   "source": [
    "# Using generator to print the even numbers between 0 and n \n",
    "def even_num(n):\n",
    "    for i in range (0,n+1) :\n",
    "        if i % 2 == 0 :\n",
    "            yield i\n",
    "\n",
    "n = int(input(\"enter the number :\"))\n",
    "result = list(even_num(n))\n",
    "print(\",\".join(map(str,result)))"
   ]
  },
  {
   "cell_type": "markdown",
   "id": "33f5237b-e1b5-46d7-9142-e0305bb029fc",
   "metadata": {},
   "source": [
    "# 3. The Fibonacci Sequence is computed based on the following formula:\n",
    "        f(n)=0 if n=0\n",
    "        f(n)=1 if n=1\n",
    "        f(n)=f(n-1)+f(n-2) if n>1\n",
    "\n",
    "    Please write a program using list comprehension to print the Fibonacci Sequence in comma separated form with a given n input by console.\n",
    "                \n",
    "             Example:\n",
    "                If the following n is given as input to the program:\n",
    "                7\n",
    "                Then, the output of the program should be:\n",
    "                0,1,1,2,3,5,8,13"
   ]
  },
  {
   "cell_type": "code",
   "execution_count": 5,
   "id": "a070acad-179d-4cee-82d3-b50c6875fdb6",
   "metadata": {},
   "outputs": [
    {
     "name": "stdin",
     "output_type": "stream",
     "text": [
      "enter the number:  7\n"
     ]
    },
    {
     "name": "stdout",
     "output_type": "stream",
     "text": [
      "0,1,1,2,3,5,8,13\n"
     ]
    }
   ],
   "source": [
    "def fib_sequence(n):\n",
    "    fib = [0,1]\n",
    "    [fib.append(fib[i-1]+fib[i-2]) for i in range(2,n+1)]  # list comprehension method\n",
    "    return fib[0:n+1]\n",
    "    \n",
    "n = int(input(\"enter the number: \")) # input by console\n",
    "result = list(fib_sequence(n))  # generating fibonacci sequence\n",
    "print(\",\".join(map(str,result))) # printing fibonacci sequence "
   ]
  },
  {
   "cell_type": "markdown",
   "id": "a4fcb22a-aec6-47fb-bd1a-cc858150097b",
   "metadata": {},
   "source": [
    "# 4. Assuming that we have some email addresses in the \"username@companyname.com\" format,\n",
    "     please write program to print the user name of a given email address. Both user names and company names are composed of letters only.\n",
    "        Example:\n",
    "            If the following email address is given as input to the program:\n",
    "            john@google.com\n",
    "            Then, the output of the program should be:\n",
    "            john"
   ]
  },
  {
   "cell_type": "code",
   "execution_count": 7,
   "id": "40de4ff0-eeb8-4fdb-9b2f-dd8303d19415",
   "metadata": {},
   "outputs": [
    {
     "name": "stdin",
     "output_type": "stream",
     "text": [
      "enter the email address : john@google.com\n"
     ]
    },
    {
     "name": "stdout",
     "output_type": "stream",
     "text": [
      "john\n"
     ]
    }
   ],
   "source": [
    "email = input(\"enter the email address :\")   # enter email address\n",
    "username = email.split('@')[0]  # to take only username as output\n",
    "print(username)  # print user name"
   ]
  },
  {
   "cell_type": "markdown",
   "id": "4d461893-94e9-4c0d-b0ec-38012d820c78",
   "metadata": {},
   "source": [
    "# 5. Define a class named Shape and its subclass Square. The Square class has an init function which takes a length as argument. Both classes have a area function which can print the area of the shape where Shape&#39;s area is 0 by default."
   ]
  },
  {
   "cell_type": "code",
   "execution_count": 9,
   "id": "6f088145-9261-46b2-b167-fdc841cb65c3",
   "metadata": {},
   "outputs": [
    {
     "name": "stdout",
     "output_type": "stream",
     "text": [
      "The area of Shape is : 0\n",
      "The area of Square is : 16\n"
     ]
    }
   ],
   "source": [
    "# parent class \n",
    "class Shape :\n",
    "    def area(self):\n",
    "        return 0   # default 0\n",
    "\n",
    "# subclass\n",
    "class Square(Shape) :\n",
    "    def __init__(self,length):\n",
    "        self.length = length\n",
    "\n",
    "    def area(self):\n",
    "         return self.length * self.length\n",
    "        \n",
    "shape = Shape()\n",
    "square = Square(4)\n",
    "\n",
    "print(\"The area of Shape is :\", shape.area())\n",
    "print(\"The area of Square is :\", square.area())"
   ]
  },
  {
   "cell_type": "code",
   "execution_count": null,
   "id": "fa16ee20-31f3-41d6-91af-6ae2a9ea5e63",
   "metadata": {},
   "outputs": [],
   "source": []
  }
 ],
 "metadata": {
  "kernelspec": {
   "display_name": "Python [conda env:base] *",
   "language": "python",
   "name": "conda-base-py"
  },
  "language_info": {
   "codemirror_mode": {
    "name": "ipython",
    "version": 3
   },
   "file_extension": ".py",
   "mimetype": "text/x-python",
   "name": "python",
   "nbconvert_exporter": "python",
   "pygments_lexer": "ipython3",
   "version": "3.12.7"
  }
 },
 "nbformat": 4,
 "nbformat_minor": 5
}
