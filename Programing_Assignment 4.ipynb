{
 "cells": [
  {
   "cell_type": "markdown",
   "id": "c9bf2832",
   "metadata": {},
   "source": [
    "# Answer 1"
   ]
  },
  {
   "cell_type": "code",
   "execution_count": 1,
   "id": "8fdcc24e",
   "metadata": {},
   "outputs": [
    {
     "name": "stdout",
     "output_type": "stream",
     "text": [
      "enter the number : -55\n",
      "factorial doesn't exist\n"
     ]
    }
   ],
   "source": [
    "# A python program to find the factorial of a number\n",
    "# Take the input from user\n",
    "n = int(input(\"enter the number : \"))\n",
    "i = 0\n",
    "m = 1\n",
    "# for negative number's factorial\n",
    "if n < i :\n",
    "    print(\"factorial doesn't exist\")\n",
    "# for getting positive number's and zero's factorial\n",
    "else :\n",
    "    for i in range(n) :\n",
    "        f = (n-i)\n",
    "        m = m*f\n",
    "    print(m)\n",
    "   "
   ]
  },
  {
   "cell_type": "markdown",
   "id": "0279b87d",
   "metadata": {},
   "source": [
    "# Answer 2"
   ]
  },
  {
   "cell_type": "code",
   "execution_count": 2,
   "id": "a0ceed81",
   "metadata": {},
   "outputs": [
    {
     "name": "stdout",
     "output_type": "stream",
     "text": [
      "enter the number : 55\n",
      "55 x 1 = 55\n",
      "55 x 2 = 110\n",
      "55 x 3 = 165\n",
      "55 x 4 = 220\n",
      "55 x 5 = 275\n",
      "55 x 6 = 330\n",
      "55 x 7 = 385\n",
      "55 x 8 = 440\n",
      "55 x 9 = 495\n",
      "55 x 10 = 550\n"
     ]
    }
   ],
   "source": [
    "# A pyhton program to display the Multiplication Table \n",
    "# To take input from user \n",
    "n = int(input(\"enter the number : \"))\n",
    "for i in range(1,11) :\n",
    "    print(n,\"x\",i,\"=\",n*i)"
   ]
  },
  {
   "cell_type": "markdown",
   "id": "ee68ed18",
   "metadata": {},
   "source": [
    "# Answer 3"
   ]
  },
  {
   "cell_type": "code",
   "execution_count": 3,
   "id": "6e0122ed",
   "metadata": {},
   "outputs": [
    {
     "name": "stdout",
     "output_type": "stream",
     "text": [
      "0\n",
      "1\n",
      "1\n",
      "2\n",
      "3\n",
      "5\n",
      "8\n",
      "13\n",
      "21\n",
      "34\n"
     ]
    }
   ],
   "source": [
    "# A python program to print the fibonacci sequence\n",
    "# i & j are first two numbers of the sequence\n",
    "i = 1\n",
    "j = 0\n",
    "# a is variable who control the number of iteration\n",
    "for a in range(10) :\n",
    "    i , j = j , i+j\n",
    "    print(i)"
   ]
  },
  {
   "cell_type": "markdown",
   "id": "b230f05f",
   "metadata": {},
   "source": [
    "# Answer 4"
   ]
  },
  {
   "cell_type": "code",
   "execution_count": 4,
   "id": "9e08ca7a",
   "metadata": {},
   "outputs": [
    {
     "name": "stdout",
     "output_type": "stream",
     "text": [
      "enter the n digit number  : 46497\n",
      "46497 is not Armstrong Number\n"
     ]
    }
   ],
   "source": [
    "# A python program to check Armstrong Number\n",
    "# To take input from user\n",
    "x = int(input(\"enter the n digit number  : \"))\n",
    "# To find the sum of the cube of each digit\n",
    "sum = 0\n",
    "temp = x\n",
    "while temp > 0 :\n",
    "    digit = temp % 10\n",
    "    sum += (digit)**3 \n",
    "    temp //= 10\n",
    "# for priting result check the condition \n",
    "if sum == x :\n",
    "        print(x,\"is Armstrong Number\")\n",
    "else :\n",
    "        print(x,\"is not Armstrong Number\")"
   ]
  },
  {
   "cell_type": "markdown",
   "id": "9bf986a1",
   "metadata": {},
   "source": [
    "# Answer 5"
   ]
  },
  {
   "cell_type": "code",
   "execution_count": 5,
   "id": "760de2dc",
   "metadata": {},
   "outputs": [
    {
     "name": "stdout",
     "output_type": "stream",
     "text": [
      "enter the n digit number  : 0\n",
      "enter the n digit number : 1000\n",
      "0 is Armstrong Number\n",
      "1 is Armstrong Number\n",
      "153 is Armstrong Number\n",
      "370 is Armstrong Number\n",
      "371 is Armstrong Number\n",
      "407 is Armstrong Number\n"
     ]
    }
   ],
   "source": [
    "# A python program to find Armstrong Number in an interval\n",
    "# Take the two inputs from user as a upper and lower number\n",
    "x = int(input(\"enter the n digit number  : \"))\n",
    "y = int (input(\"enter the n digit number : \"))\n",
    "# To iterate the numbers between x & y \n",
    "for i in range(x,y) :\n",
    "    temp = i\n",
    "    sum = 0\n",
    "# To find the sum of the cube of each digit\n",
    "    while temp > 0 :\n",
    "        digit = temp % 10\n",
    "        sum += (digit)**3 \n",
    "        temp //= 10\n",
    "# for priting result check the condition \n",
    "    if sum == i :\n",
    "            print(i,\"is Armstrong Number\")"
   ]
  },
  {
   "cell_type": "markdown",
   "id": "d87ee7b5",
   "metadata": {},
   "source": [
    "# Answer 6"
   ]
  },
  {
   "cell_type": "code",
   "execution_count": 6,
   "id": "bbf38c65",
   "metadata": {},
   "outputs": [
    {
     "name": "stdout",
     "output_type": "stream",
     "text": [
      "enter the number : 100\n",
      "5050.0\n"
     ]
    }
   ],
   "source": [
    "# A python program to find the sum of Natural Numbers\n",
    "# Take the inputs from users\n",
    "n = int(input(\"enter the number : \"))\n",
    "# iteration of number\n",
    "for i in range(n) :\n",
    "# formula for finding the sum of Natural Numbers\n",
    "    sum = (n*(n+1))/2\n",
    "# print the sum \n",
    "print(sum)\n"
   ]
  },
  {
   "cell_type": "code",
   "execution_count": null,
   "id": "05da1550",
   "metadata": {},
   "outputs": [],
   "source": []
  }
 ],
 "metadata": {
  "kernelspec": {
   "display_name": "Python 3 (ipykernel)",
   "language": "python",
   "name": "python3"
  },
  "language_info": {
   "codemirror_mode": {
    "name": "ipython",
    "version": 3
   },
   "file_extension": ".py",
   "mimetype": "text/x-python",
   "name": "python",
   "nbconvert_exporter": "python",
   "pygments_lexer": "ipython3",
   "version": "3.9.13"
  }
 },
 "nbformat": 4,
 "nbformat_minor": 5
}
