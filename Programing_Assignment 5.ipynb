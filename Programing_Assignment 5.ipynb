{
 "cells": [
  {
   "cell_type": "markdown",
   "id": "01a48ceb",
   "metadata": {},
   "source": [
    "# Answer 1"
   ]
  },
  {
   "cell_type": "code",
   "execution_count": 1,
   "id": "12061ef1",
   "metadata": {},
   "outputs": [
    {
     "name": "stdout",
     "output_type": "stream",
     "text": [
      "2570400\n"
     ]
    }
   ],
   "source": [
    "# A python program to find LCM of numbers\n",
    "\n",
    "# import math module\n",
    "\n",
    "# use abs function to convert -ve numbers to positive and map for float numbers to int \n",
    "\n",
    "import math\n",
    "\n",
    "print(abs(math.lcm(*map(int, (54, 68, -96, 56.23, 8.5, -50)))))\n"
   ]
  },
  {
   "cell_type": "markdown",
   "id": "be4c56a2",
   "metadata": {},
   "source": [
    "# Answer 2"
   ]
  },
  {
   "cell_type": "code",
   "execution_count": 2,
   "id": "c05fb2e8",
   "metadata": {},
   "outputs": [
    {
     "name": "stdout",
     "output_type": "stream",
     "text": [
      "2\n"
     ]
    }
   ],
   "source": [
    "# A python program to find HCF OR GCD of numbers\n",
    "\n",
    "# import math module\n",
    "\n",
    "# use abs function to convert -ve numbers to positive and map for float numbers to int \n",
    "\n",
    "import math\n",
    "\n",
    "print(abs(math.gcd(*map(int, (54, 68, -96, 56.23, 8.5, -50)))))\n"
   ]
  },
  {
   "cell_type": "markdown",
   "id": "321d1cbf",
   "metadata": {},
   "source": [
    "# Answer 3"
   ]
  },
  {
   "cell_type": "code",
   "execution_count": 3,
   "id": "68f241c4",
   "metadata": {},
   "outputs": [
    {
     "name": "stdout",
     "output_type": "stream",
     "text": [
      "enter the value : 897\n",
      "0b1110000001 in binary\n",
      "0o1601 in octal\n",
      "0x381 in hexadecimal\n"
     ]
    }
   ],
   "source": [
    "# A python program to convert Decimalto Binary, Octal and Hexadecimal \n",
    "\n",
    "    # Take input from users \n",
    "\n",
    "decimal = int(input(\"enter the value : \"))\n",
    "\n",
    "\n",
    "    # Convert into Binary\n",
    "\n",
    "print(bin(decimal),\"in binary\")\n",
    "\n",
    "\n",
    "    # Convert into Octal\n",
    "\n",
    "print(oct(decimal),\"in octal\")\n",
    "\n",
    "\n",
    "    # Convert into Hexadecimal\n",
    "\n",
    "print(hex(decimal),\"in hexadecimal\")\n"
   ]
  },
  {
   "cell_type": "markdown",
   "id": "eb02f1f5",
   "metadata": {},
   "source": [
    "# Answer 4"
   ]
  },
  {
   "cell_type": "code",
   "execution_count": 4,
   "id": "f09886e1",
   "metadata": {},
   "outputs": [
    {
     "name": "stdout",
     "output_type": "stream",
     "text": [
      "enter the character : ]\n",
      "93\n"
     ]
    }
   ],
   "source": [
    "# A python program to find the ASCII value of a character\n",
    "\n",
    "a = input(\"enter the character : \")\n",
    "\n",
    "print(ord(a))\n"
   ]
  },
  {
   "cell_type": "markdown",
   "id": "dacb6282",
   "metadata": {},
   "source": [
    "# Answer 5"
   ]
  },
  {
   "cell_type": "code",
   "execution_count": 6,
   "id": "41d02e8e",
   "metadata": {},
   "outputs": [
    {
     "name": "stdout",
     "output_type": "stream",
     "text": [
      "Enter the numbers : 56 789 -458 -589 23.56 54.85\n",
      "choose the operation you like to do (+,-,*,/) : *\n",
      "Multiplication of the numbers is: 15402730654415.328\n"
     ]
    }
   ],
   "source": [
    "# A Python program to make a simple calculator \n",
    "\n",
    "# Take input from users \n",
    "\n",
    "numbers = input(\"Enter the numbers : \").split()\n",
    "numbers = [float(num) for num in numbers]\n",
    "\n",
    "# This function performs various calculations and returns the result.\n",
    "    \n",
    "def calculator() :\n",
    "    \n",
    "    operation=input(\"choose the operation you like to do (+,-,*,/) : \" )\n",
    "    \n",
    "# Choose the operation from below\n",
    "    \n",
    "    if operation == \"+\":\n",
    "        result = sum(numbers)\n",
    "        print(\"Sum of the numbers is:\", result)\n",
    "            \n",
    "    elif operation == \"-\":\n",
    "        result = numbers[0]\n",
    "        for num in numbers[1:]:\n",
    "            result -= num\n",
    "        print(\"Subtraction of the numbers is:\", result)\n",
    "\n",
    "    elif operation == \"*\":\n",
    "        result = 1\n",
    "        for num in numbers:\n",
    "            result *= num\n",
    "        print(\"Multiplication of the numbers is:\", result)\n",
    "\n",
    "    elif operation == \"/\":\n",
    "        result = numbers[0]\n",
    "        for num in numbers[1:]:\n",
    "            if num != 0:\n",
    "                result /= num\n",
    "            else:\n",
    "                print(\"Can't divide by zero!\")\n",
    "                break\n",
    "    else:\n",
    "        print(\"Division of the numbers is:\", result)\n",
    "\n",
    "# Call the calculator function       \n",
    "calculator()\n"
   ]
  },
  {
   "cell_type": "code",
   "execution_count": null,
   "id": "9e9ca81e",
   "metadata": {},
   "outputs": [],
   "source": []
  }
 ],
 "metadata": {
  "kernelspec": {
   "display_name": "Python 3 (ipykernel)",
   "language": "python",
   "name": "python3"
  },
  "language_info": {
   "codemirror_mode": {
    "name": "ipython",
    "version": 3
   },
   "file_extension": ".py",
   "mimetype": "text/x-python",
   "name": "python",
   "nbconvert_exporter": "python",
   "pygments_lexer": "ipython3",
   "version": "3.9.13"
  }
 },
 "nbformat": 4,
 "nbformat_minor": 5
}
