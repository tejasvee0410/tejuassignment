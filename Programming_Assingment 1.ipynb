{
 "cells": [
  {
   "cell_type": "markdown",
   "id": "62c3380d",
   "metadata": {},
   "source": [
    "# Answer 1"
   ]
  },
  {
   "cell_type": "code",
   "execution_count": 1,
   "id": "fbe907f1",
   "metadata": {},
   "outputs": [
    {
     "name": "stdout",
     "output_type": "stream",
     "text": [
      "Hello Python\n"
     ]
    }
   ],
   "source": [
    "print(\"Hello Python\")"
   ]
  },
  {
   "cell_type": "markdown",
   "id": "4b86afd0",
   "metadata": {},
   "source": [
    "# Answer 2"
   ]
  },
  {
   "cell_type": "code",
   "execution_count": 2,
   "id": "2ba4a70c",
   "metadata": {},
   "outputs": [
    {
     "name": "stdout",
     "output_type": "stream",
     "text": [
      "Enter the first number :9797\n",
      "Enter the second number :6479\n",
      "16276\n",
      "1.5121160672943355\n"
     ]
    }
   ],
   "source": [
    "a = int(input(\"Enter the first number :\"))\n",
    "b = int(input(\"Enter the second number :\"))\n",
    "c = a + b\n",
    "print(c)\n",
    "d = a / b\n",
    "print(d)"
   ]
  },
  {
   "cell_type": "markdown",
   "id": "dd377d21",
   "metadata": {},
   "source": [
    "# Answer 3"
   ]
  },
  {
   "cell_type": "code",
   "execution_count": null,
   "id": "80531b21",
   "metadata": {},
   "outputs": [],
   "source": [
    "b = base = float(input(\"Enter the number :\"))\n",
    "h = hight = float(input(\"Enter the number :\"))\n",
    "A = (b*h)/2\n",
    "print(A)\n"
   ]
  },
  {
   "cell_type": "markdown",
   "id": "05efc2c5",
   "metadata": {},
   "source": [
    "# Answer 4"
   ]
  },
  {
   "cell_type": "code",
   "execution_count": 8,
   "id": "ac3bc669",
   "metadata": {},
   "outputs": [
    {
     "name": "stdout",
     "output_type": "stream",
     "text": [
      "enter first variable :8965\n",
      "enter second variable :\"start\"\n",
      "a= \"start\"\n",
      "b= 8965\n"
     ]
    }
   ],
   "source": [
    "a = input(\"enter first variable :\")\n",
    "b = input(\"enter second variable :\")\n",
    "a,b = b,a\n",
    "print(\"a=\",a)\n",
    "print(\"b=\",b)"
   ]
  },
  {
   "cell_type": "markdown",
   "id": "a96ff774",
   "metadata": {},
   "source": [
    "# Answer 5"
   ]
  },
  {
   "cell_type": "code",
   "execution_count": 10,
   "id": "2cb151cc",
   "metadata": {},
   "outputs": [
    {
     "name": "stdout",
     "output_type": "stream",
     "text": [
      "86\n"
     ]
    }
   ],
   "source": [
    "import random  \n",
    "n = random.randint(0,100)  \n",
    "print(n)  "
   ]
  }
 ],
 "metadata": {
  "kernelspec": {
   "display_name": "Python 3 (ipykernel)",
   "language": "python",
   "name": "python3"
  },
  "language_info": {
   "codemirror_mode": {
    "name": "ipython",
    "version": 3
   },
   "file_extension": ".py",
   "mimetype": "text/x-python",
   "name": "python",
   "nbconvert_exporter": "python",
   "pygments_lexer": "ipython3",
   "version": "3.9.13"
  }
 },
 "nbformat": 4,
 "nbformat_minor": 5
}
