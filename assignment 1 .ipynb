{
 "cells": [
  {
   "cell_type": "markdown",
   "id": "8db3d779",
   "metadata": {},
   "source": [
    " # Answer 1"
   ]
  },
  {
   "cell_type": "markdown",
   "id": "9daf0bd9",
   "metadata": {},
   "source": [
    "values   :    -87.8,6,'hello'                                                  \n",
    "expression  :    * , - , + , /"
   ]
  },
  {
   "cell_type": "markdown",
   "id": "f886e8e2",
   "metadata": {},
   "source": [
    "# Answer 2"
   ]
  },
  {
   "cell_type": "markdown",
   "id": "12380666",
   "metadata": {},
   "source": [
    "string : string always written in ' ' or \" \" .                                                                                          It can be any word,alphabet letter,symbol,space,paragraph or number.\n",
    "         It never change during execution of program.\n",
    "         It is immutable. \n",
    "    Ex. \"iNeuron\",\"25646\",\"f\",\"$\" etc.\n",
    "variable : variable is a value which store for temporary use.\n",
    "           It may change during execution of program. \n",
    "           It written with or without quotes.\n",
    "           It is mutable.\n",
    "    Ex. x = \"study\", z = 356979"
   ]
  },
  {
   "cell_type": "markdown",
   "id": "4746aac0",
   "metadata": {},
   "source": [
    "# Answer 3"
   ]
  },
  {
   "cell_type": "markdown",
   "id": "d2ed9681",
   "metadata": {},
   "source": [
    "Three data types are as follows :\n",
    "1) List : It store all types of items in [].It may integer,boolean,floating or string type.List are mutable so we can do change           in it.The items in list are stored index wise.so using indexing operation we can access any individual item and using           slicing operation we can extract items.we can also add list,tuple,dict into list.In python list has many in-built               function like pop,remove,append etc.\n",
    "       Ex. :  l = [46,\"grey\",53.86,True]\n",
    "            For indexing opreation l[index number of item which we want to access individually] \n",
    "            For slicing operation l[lower bound : upper bound : jump number]\n",
    "            \n",
    "2) Tuples : Tuples also store all types of items like list in ().Tuples are immutable means we can't make change in it.Like                 list in tuples we can extract items using slicing operation.In tuples also we can use indexing operation for                   accessing individual item.Tuples has two in-built function index and count.Tuple can also contain                               list,dict,string,tuple in it.\n",
    "      Ex. :   t = (2,45,\"gregre\",False,[4235,\"wtrete\"],(45,6785,\"FGFRE\",354676.3164))\n",
    "            For indexing operation t[index number of item which we want to access individually]\n",
    "            For slicing operation t[lower bound : upper bound : jump number]\n",
    "            \n",
    "3) Dict : Dict consist of unique key and value pair.It write as {\"key\" : \"value\"}.Dict are mutable so we can change values of             keys.we can use immutable data type as a key like tuples,string and for value we can use both mutable and immutable             data type.we can access value individually.In dict value is unhasable mean we can change it during program.Dict also           has many in-built function like pop,value,key etc.\n",
    "     Ex. :   d = {\"htryr\":(34,56,\"gtrg\"),\"name\":\"iNeuron\",(45,False,\"RGRRE\"):[\"HTRG\",\"345456\",65768]}\n",
    "            For accessing all keys from dict we use d.key() function and for accessing all value we use d.value() function\n",
    "            "
   ]
  },
  {
   "cell_type": "markdown",
   "id": "db47d5d9",
   "metadata": {},
   "source": [
    "# Answer 4"
   ]
  },
  {
   "cell_type": "markdown",
   "id": "571b50f3",
   "metadata": {},
   "source": [
    "Expression made up of value,variable and operator.where value can be integer,float,string,boolean.\n",
    "        Ex. : a + 2 ,3+7,89.6+67 ,x - 80,2k*7,\"Hello\" + \"world\"\n",
    "    In above example a,x,k are variables and 2,3,7,89.6,67,80 ,\"Hello\",\"world\" are values and +,*,- are operators \n",
    "All expression take input in form of value,variable,operator and accroding it gives single output."
   ]
  },
  {
   "cell_type": "markdown",
   "id": "0e424853",
   "metadata": {},
   "source": [
    "# Answer 5"
   ]
  },
  {
   "cell_type": "markdown",
   "id": "3c91d277",
   "metadata": {},
   "source": [
    "expression is combination of variable,value and operator while statement is unit of code.\n",
    "expression gives value as a output while statement perform an action.\n",
    "expression used to produce value while statement use to perform an action.\n",
    "statement may have one or more expression.\n",
    "      Ex. : 45+9 is a expression while x = 45+9 is a statement \n",
    "              Accroding to given example spam=10 is a statement while spam+2 is a expression  "
   ]
  },
  {
   "cell_type": "markdown",
   "id": "6bc4c450",
   "metadata": {},
   "source": [
    "# Answer 6 "
   ]
  },
  {
   "cell_type": "code",
   "execution_count": 4,
   "id": "c9ea27f0",
   "metadata": {},
   "outputs": [
    {
     "data": {
      "text/plain": [
       "23"
      ]
     },
     "execution_count": 4,
     "metadata": {},
     "output_type": "execute_result"
    }
   ],
   "source": [
    "bacon = 22\n",
    "bacon + 1"
   ]
  },
  {
   "cell_type": "markdown",
   "id": "98c74188",
   "metadata": {},
   "source": [
    "so, the variable bacon contain 23 "
   ]
  },
  {
   "cell_type": "markdown",
   "id": "4f10b91c",
   "metadata": {},
   "source": [
    "# Answer 7"
   ]
  },
  {
   "cell_type": "code",
   "execution_count": 7,
   "id": "175e954f",
   "metadata": {},
   "outputs": [
    {
     "data": {
      "text/plain": [
       "'spamspamspam'"
      ]
     },
     "execution_count": 7,
     "metadata": {},
     "output_type": "execute_result"
    }
   ],
   "source": [
    "'spam'+'spamspam'"
   ]
  },
  {
   "cell_type": "code",
   "execution_count": 8,
   "id": "c9401f8a",
   "metadata": {},
   "outputs": [
    {
     "data": {
      "text/plain": [
       "'spamspamspam'"
      ]
     },
     "execution_count": 8,
     "metadata": {},
     "output_type": "execute_result"
    }
   ],
   "source": [
    "'spam'*3"
   ]
  },
  {
   "cell_type": "markdown",
   "id": "cbe5a032",
   "metadata": {},
   "source": [
    "# Answer 8"
   ]
  },
  {
   "cell_type": "markdown",
   "id": "6987ab14",
   "metadata": {},
   "source": [
    "variable used to store the value in memory which we can change during the execution of program.\n",
    "for using variable there are some rules as follow :\n",
    "   1) variable start with letters,underscores,name.\n",
    "   2) variable never start with number,keyword,special chatracter.\n",
    "Here, eggs is a valid variable because it start with name while 100 is a number so it is invalid variable.\n",
    " Suppose, eggs = 10 so during the execution of program we can change the value of eggs which means we can store any value using eggs as a variable\n",
    "  but 100 is itself a value so we can't store any value using 100 as avariable."
   ]
  },
  {
   "cell_type": "markdown",
   "id": "fa41b3ac",
   "metadata": {},
   "source": [
    "# Answer 9"
   ]
  },
  {
   "cell_type": "markdown",
   "id": "f942acca",
   "metadata": {},
   "source": [
    "for interger value int function , for floating point value float and for string value str function is used."
   ]
  },
  {
   "cell_type": "markdown",
   "id": "f693debf",
   "metadata": {},
   "source": [
    "# Answer 10 "
   ]
  },
  {
   "cell_type": "markdown",
   "id": "6d0b474f",
   "metadata": {},
   "source": [
    "'I have eaten'+99+'burritos' is causing error because we can add only string value into string value.Here 'I have eaten' and 'burritos' is a string value but 99 is an integer.If we write 99 in '' ('99') then we get the output."
   ]
  },
  {
   "cell_type": "code",
   "execution_count": 14,
   "id": "2c8234b4",
   "metadata": {},
   "outputs": [
    {
     "data": {
      "text/plain": [
       "'I have eaten 99  burritos '"
      ]
     },
     "execution_count": 14,
     "metadata": {},
     "output_type": "execute_result"
    }
   ],
   "source": [
    "'I have eaten' + ' 99 ' + ' burritos '"
   ]
  },
  {
   "cell_type": "code",
   "execution_count": null,
   "id": "bef8c760",
   "metadata": {},
   "outputs": [],
   "source": []
  }
 ],
 "metadata": {
  "kernelspec": {
   "display_name": "Python 3 (ipykernel)",
   "language": "python",
   "name": "python3"
  },
  "language_info": {
   "codemirror_mode": {
    "name": "ipython",
    "version": 3
   },
   "file_extension": ".py",
   "mimetype": "text/x-python",
   "name": "python",
   "nbconvert_exporter": "python",
   "pygments_lexer": "ipython3",
   "version": "3.9.13"
  }
 },
 "nbformat": 4,
 "nbformat_minor": 5
}
