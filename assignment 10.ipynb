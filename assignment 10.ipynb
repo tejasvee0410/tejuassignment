{
 "cells": [
  {
   "cell_type": "markdown",
   "id": "0e0229b5",
   "metadata": {},
   "source": [
    "# 1. How do you distinguish between shutil.copy() and shutil.copytree()?\n",
    "# Answer\n",
    "\n",
    "     shutil.copy() copy the single file while shutil.copytree() copy the entire directory with each file in that."
   ]
  },
  {
   "cell_type": "markdown",
   "id": "ba42c5a1",
   "metadata": {},
   "source": [
    "# 2. What function is used to rename files?\n",
    "# Answer\n",
    "\n",
    "     From OS module os.rename() function and from shutil module shutil.move() function is used to rename files."
   ]
  },
  {
   "cell_type": "markdown",
   "id": "f9387316",
   "metadata": {},
   "source": [
    "# 3. What is the difference between the delete functions in the send2trash and shutil modules?\n",
    "# Answer\n",
    "\n",
    "     In the send2trash the delete function send file in recycle bin instead of permanentaly deleting the file while in shutil modules delete function permanently delete the file."
   ]
  },
  {
   "cell_type": "markdown",
   "id": "78c0d1b9",
   "metadata": {},
   "source": [
    "# 4. ZipFile objects have a close() method just like File objects’ close() method.        What ZipFile method is equivalent to File objects’ open() method?\n",
    "# Answer\n",
    "\n",
    "         zipfile.Zipfile method is equivalent to file object's open() method."
   ]
  },
  {
   "cell_type": "markdown",
   "id": "3112e6b9",
   "metadata": {},
   "source": [
    "# 5. Create a programme that searches a folder tree for files with a certain file extension (such as .pdf or .jpg). Copy these files from whatever location they are in to a new folder.\n",
    "# Answer"
   ]
  },
  {
   "cell_type": "code",
   "execution_count": 1,
   "id": "b9777a8f",
   "metadata": {},
   "outputs": [
    {
     "name": "stdout",
     "output_type": "stream",
     "text": [
      "list of all .jpg and .pdf files :\n",
      "filepath= C:\\windows\\designecologist-sYI_WSHEsXU-unsplash.jpg \n",
      " dest_directory= D:\\images\\pics\n",
      "filepath= C:\\windows\\jeans-5394561_1920.jpg \n",
      " dest_directory= D:\\images\\pics\n",
      "filepath= C:\\windows\\towels-1511875_1920.jpg \n",
      " dest_directory= D:\\images\\pics\n"
     ]
    }
   ],
   "source": [
    "# for search and copy file importing modules \n",
    "\n",
    "import os\n",
    "import shutil\n",
    "\n",
    "# source and dest directory path\n",
    "\n",
    "source_directory = 'C:\\windows'\n",
    "dest_directory = 'D:\\images\\\\pics'\n",
    "\n",
    "print(\"list of all .jpg and .pdf files :\")  # printing list of all .jpg and .pdf files\n",
    "\n",
    "os.makedirs(dest_directory)  # creating new folder \n",
    "\n",
    "# method for searching and copy file in new folder \n",
    "\n",
    "for filename in os.listdir(source_directory):\n",
    "    if filename.endswith('.jpg') or filename.endswith('.pdf'):  # file search\n",
    "        filepath = os.path.join(source_directory, filename)\n",
    "        shutil.copy(filepath , dest_directory)   # file copy \n",
    "        print('filepath=', filepath , \"\\n\",'dest_directory=' , dest_directory)\n",
    "       "
   ]
  }
 ],
 "metadata": {
  "kernelspec": {
   "display_name": "Python 3 (ipykernel)",
   "language": "python",
   "name": "python3"
  },
  "language_info": {
   "codemirror_mode": {
    "name": "ipython",
    "version": 3
   },
   "file_extension": ".py",
   "mimetype": "text/x-python",
   "name": "python",
   "nbconvert_exporter": "python",
   "pygments_lexer": "ipython3",
   "version": "3.9.13"
  }
 },
 "nbformat": 4,
 "nbformat_minor": 5
}
