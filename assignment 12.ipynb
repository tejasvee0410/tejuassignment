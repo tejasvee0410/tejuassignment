{
 "cells": [
  {
   "cell_type": "markdown",
   "id": "57b7317c",
   "metadata": {},
   "source": [
    "# 1. In what modes should the PdfFileReader() and PdfFileWriter() File objects           will be opened?"
   ]
  },
  {
   "cell_type": "markdown",
   "id": "2762cfe8",
   "metadata": {},
   "source": [
    "The PdfFileReader() file object will be opened in binary read (rb) mode and the PdfFileWrite() file object will be opened in binary write (wb) mode.\n"
   ]
  },
  {
   "cell_type": "markdown",
   "id": "c9099225",
   "metadata": {},
   "source": [
    "# 2. From a PdfFileReader object, how do you get a Page object for page 5?"
   ]
  },
  {
   "cell_type": "markdown",
   "id": "eb8d726c",
   "metadata": {},
   "source": [
    "From a PdfFileReader object to get a Page object for page 5 use getPage() method where in () enter the index number of Page you want to get."
   ]
  },
  {
   "cell_type": "markdown",
   "id": "9d29f80a",
   "metadata": {},
   "source": [
    "# 3. What PdfFileReader variable stores the number of pages in the PDF                     document?"
   ]
  },
  {
   "cell_type": "markdown",
   "id": "e5790144",
   "metadata": {},
   "source": [
    " numPages variable of PdfFileReader stores the number of pages in the PDF document."
   ]
  },
  {
   "cell_type": "markdown",
   "id": "3ef2e02d",
   "metadata": {},
   "source": [
    "# 4. If a PdfFileReader object’s PDF is encrypted with the password swordfish,               what must you do before you can obtain Page objects from it?"
   ]
  },
  {
   "cell_type": "markdown",
   "id": "0db249f9",
   "metadata": {},
   "source": [
    "If a PdfFileReader object's PDF is encrypted with the password 'swordfish', decrypt the PDF with 'swordfish' password."
   ]
  },
  {
   "cell_type": "markdown",
   "id": "01e3de8b",
   "metadata": {},
   "source": [
    "# 5. What methods do you use to rotate a page?\n"
   ]
  },
  {
   "cell_type": "markdown",
   "id": "0aa3deea",
   "metadata": {},
   "source": [
    "To rotate page we use 'rotateClockwise' and 'rotateCounterClockwise' method of pageObject class.\n",
    "\n",
    "page.rotateClockwise() and page.rotateCounterClockwise()"
   ]
  },
  {
   "cell_type": "markdown",
   "id": "b94d7431",
   "metadata": {},
   "source": [
    "# 6. What is the difference between a Run object and a Paragraph object?"
   ]
  },
  {
   "cell_type": "markdown",
   "id": "41cbbe00",
   "metadata": {},
   "source": [
    "The difference between a Run object and a Paragraph object is as follow :\n",
    "\n",
    "1) Run object :  It use for adding , accessing and formatting specific part of text within Paragraph means it allows detailed \n",
    "\n",
    "                 control over specific part of text in paragraph.\n",
    "    \n",
    "2) Paragraph object : It use for add new Paragraph in Paragraph,formatting text in Paragraph,accessing existing Pragraph,add \n",
    "\n",
    "                        text in accessing Paragraph. "
   ]
  },
  {
   "cell_type": "markdown",
   "id": "77867908",
   "metadata": {},
   "source": [
    "# 7. How do you obtain a list of Paragraph objects for a Document object that’s stored in a variable named doc?"
   ]
  },
  {
   "cell_type": "code",
   "execution_count": 1,
   "id": "a247d0ab",
   "metadata": {},
   "outputs": [
    {
     "name": "stdout",
     "output_type": "stream",
     "text": [
      "This is a new paragraph.\n"
     ]
    }
   ],
   "source": [
    "# firstly install python-docx\n",
    "# importing document from docx\n",
    "from docx import Document \n",
    "\n",
    "# variable to store document\n",
    "doc = Document()\n",
    "\n",
    "#for creating new paragraph in document\n",
    "paragraph = doc.add_paragraph(\"This is a new paragraph.\")\n",
    "\n",
    "doc.save('Pragraph_doc.docx')  # save document \n",
    "\n",
    "# obtain list of Paragraph object for Document object \n",
    "paragraphs = doc.paragraphs\n",
    "\n",
    "for paragraph in paragraphs :\n",
    "    print(paragraph.text)\n"
   ]
  },
  {
   "cell_type": "markdown",
   "id": "7417d998",
   "metadata": {},
   "source": [
    "# 8. What type of object has bold, underline, italic, strike, and outline variables?"
   ]
  },
  {
   "cell_type": "markdown",
   "id": "6d6a30d9",
   "metadata": {},
   "source": [
    "Run object has bold,underline,italic,strike and outline variables."
   ]
  },
  {
   "cell_type": "markdown",
   "id": "09f5aefd",
   "metadata": {},
   "source": [
    "# 9. What is the difference between False, True, and None for the bold variable?"
   ]
  },
  {
   "cell_type": "markdown",
   "id": "6e22b82b",
   "metadata": {},
   "source": [
    "For the bold variable the difference between False, True and None is as below :\n",
    "\n",
    "1) False : The text in the Run to not be Bold means it not change text into Bold. \n",
    "    \n",
    "2) True : The text in the Run to be Bold means it change text into Bold.\n",
    "    \n",
    "3) None : The text in the Run to be as it is without any change means if it in bold it Run to be bold and if it not in bold it \n",
    "\n",
    "            Run to not be bold."
   ]
  },
  {
   "cell_type": "markdown",
   "id": "9d88debb",
   "metadata": {},
   "source": [
    "# 10. How do you create a Document object for a new Word document?"
   ]
  },
  {
   "cell_type": "markdown",
   "id": "bd5e41d2",
   "metadata": {},
   "source": [
    "Using doc = Document we create a Document object for a new Word document."
   ]
  },
  {
   "cell_type": "code",
   "execution_count": 2,
   "id": "45eb9d54",
   "metadata": {},
   "outputs": [],
   "source": [
    "# import document from docx\n",
    "from docx import Document\n",
    "\n",
    "# Create a new Document object\n",
    "doc = Document()\n",
    "\n",
    "# add content to the document\n",
    "doc.add_paragraph(\"This is a new Word document.\")\n",
    "\n",
    "# Save the document to a file\n",
    "doc.save('new_document.docx')\n"
   ]
  },
  {
   "cell_type": "markdown",
   "id": "56e2923a",
   "metadata": {},
   "source": [
    "# 11. How do you add a paragraph with the text &#39;Hello, there!&#39; to a Document object stored in a variable named doc?"
   ]
  },
  {
   "cell_type": "markdown",
   "id": "d33c7cb1",
   "metadata": {},
   "source": [
    "Using doc.add_paragraph() we add a Paragraph with text to a Document object stored in a variable named doc."
   ]
  },
  {
   "cell_type": "code",
   "execution_count": 3,
   "id": "66bf413e",
   "metadata": {},
   "outputs": [],
   "source": [
    "# import document from docx\n",
    "from docx import Document\n",
    "\n",
    "# document object where we want to add new text\n",
    "doc = Document('new_document.docx')\n",
    "\n",
    "# new text\n",
    "doc.add_paragraph(\"Hello,there!\")\n",
    "\n",
    "# save the document to a file\n",
    "doc.save('New_add_document.docx')"
   ]
  },
  {
   "cell_type": "markdown",
   "id": "9c18ebd3",
   "metadata": {},
   "source": [
    "# 12. What integers represent the levels of headings available in Word documents?"
   ]
  },
  {
   "cell_type": "markdown",
   "id": "3345037b",
   "metadata": {},
   "source": [
    "integers 0 to 9 represent the levels of headings available in Word documents.\n",
    "\n",
    "Where level 0 represent Title ,level 1 represent Heading and level 2 to level 9 represent sub-Heading. "
   ]
  }
 ],
 "metadata": {
  "kernelspec": {
   "display_name": "Python 3 (ipykernel)",
   "language": "python",
   "name": "python3"
  },
  "language_info": {
   "codemirror_mode": {
    "name": "ipython",
    "version": 3
   },
   "file_extension": ".py",
   "mimetype": "text/x-python",
   "name": "python",
   "nbconvert_exporter": "python",
   "pygments_lexer": "ipython3",
   "version": "3.9.13"
  }
 },
 "nbformat": 4,
 "nbformat_minor": 5
}
