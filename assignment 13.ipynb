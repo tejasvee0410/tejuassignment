{
 "cells": [
  {
   "cell_type": "markdown",
   "id": "73b59dc4",
   "metadata": {},
   "source": [
    "# 1. What advantages do Excel spreadsheets have over CSV spreadsheets?"
   ]
  },
  {
   "cell_type": "markdown",
   "id": "7d8002d5",
   "metadata": {},
   "source": [
    "The Advantages of Excel spreadsheets have CSV spreadsheet are as below :\n",
    "    \n",
    "    1) In CSV spreadsheet we can store only raw data while in Excel spreadsheet we can mainpulate data ,calculate complex \n",
    "    \n",
    "            calculation through its built-in function,formulas,tools.\n",
    "    \n",
    "    2) CSV not allow any formatting option While Excel allows for rich formatting option. \n",
    "    \n",
    "    3) CSV files limited to single sheet While Excel files can contain multiple sheets within single workbook.\n",
    "    \n",
    "    4) CSV files store every type of data in plain text While Excle files conatin different data type with specific formating.\n",
    "    \n",
    "    5) CSV files can not contain any graphical element While Excel files can create and store graph and any other visual \n",
    "    \n",
    "           representation of data"
   ]
  },
  {
   "cell_type": "markdown",
   "id": "aa124adc",
   "metadata": {},
   "source": [
    "# 2.What do you pass to csv.reader() and csv.writer() to create reader and writer objects?"
   ]
  },
  {
   "cell_type": "markdown",
   "id": "716e548f",
   "metadata": {},
   "source": [
    "To create reader object we pass 'r'to csv.reader() and for writer object we pass 'w' to csv.writer()."
   ]
  },
  {
   "cell_type": "markdown",
   "id": "2c4f2c2c",
   "metadata": {},
   "source": [
    "# 3. What modes do File objects for reader and writer objects need to be opened in?"
   ]
  },
  {
   "cell_type": "markdown",
   "id": "7b37a8d7",
   "metadata": {},
   "source": [
    "For reader and writer objects need to be opened in read 'r' and write 'w' modes."
   ]
  },
  {
   "cell_type": "markdown",
   "id": "0b83fd62",
   "metadata": {},
   "source": [
    "# 4. What method takes a list argument and writes it to a CSV file?"
   ]
  },
  {
   "cell_type": "markdown",
   "id": "e0c0bd4e",
   "metadata": {},
   "source": [
    "writerow() method takes a list argument and writes it to a CSV file."
   ]
  },
  {
   "cell_type": "markdown",
   "id": "316f98ea",
   "metadata": {},
   "source": [
    "# 5. What do the keyword arguments delimiter and line terminator do?"
   ]
  },
  {
   "cell_type": "markdown",
   "id": "b7465c21",
   "metadata": {},
   "source": [
    "The keyword arguments delimiter separate the field of csv file and line terminator terminate the line of csv file.\n",
    "\n",
    "For example delimiter use ',' to separate the line of csv file while terminator use '\\n' to terminate the line.\n",
    "\n",
    "We can change the value of both keyword arguments by using csv.write()."
   ]
  },
  {
   "cell_type": "markdown",
   "id": "4199aad4",
   "metadata": {},
   "source": [
    "# 6. What function takes a string of JSON data and returns a Python data structure?"
   ]
  },
  {
   "cell_type": "markdown",
   "id": "46b0428d",
   "metadata": {},
   "source": [
    "json.loads() function takes a string of JSON data and returns a Python data structure."
   ]
  },
  {
   "cell_type": "markdown",
   "id": "5d863462",
   "metadata": {},
   "source": [
    "# 7. What function takes a Python data structure and returns a string of JSON data?"
   ]
  },
  {
   "cell_type": "markdown",
   "id": "1b68ceb1",
   "metadata": {},
   "source": [
    "json.dumps() function takes a Python data structure and returns a string of JSON."
   ]
  }
 ],
 "metadata": {
  "kernelspec": {
   "display_name": "Python 3 (ipykernel)",
   "language": "python",
   "name": "python3"
  },
  "language_info": {
   "codemirror_mode": {
    "name": "ipython",
    "version": 3
   },
   "file_extension": ".py",
   "mimetype": "text/x-python",
   "name": "python",
   "nbconvert_exporter": "python",
   "pygments_lexer": "ipython3",
   "version": "3.9.13"
  }
 },
 "nbformat": 4,
 "nbformat_minor": 5
}
