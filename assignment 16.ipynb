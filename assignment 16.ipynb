{
 "cells": [
  {
   "cell_type": "markdown",
   "id": "f18f6a2f-5b88-49d2-b9c6-ee5f309d0e69",
   "metadata": {},
   "source": [
    "# 1. Create a list called years_list, starting with the year of your birth, and each year thereafter until the year of your fifth birthday. For example, if you were born in 1980. the list would be years_list =\n",
    "        [1980, 1981, 1982, 1983, 1984, 1985]."
   ]
  },
  {
   "cell_type": "code",
   "execution_count": 25,
   "id": "05515eed-ccc7-4225-9690-826681541a1b",
   "metadata": {},
   "outputs": [
    {
     "name": "stdout",
     "output_type": "stream",
     "text": [
      "The list of years until your 5th birthday is: [1997, 1998, 1999, 2000, 2001, 2002]\n"
     ]
    }
   ],
   "source": [
    "def years_list (n):\n",
    "   for i in range(n, n+6):\n",
    "      yield n\n",
    "      n+=1\n",
    "\n",
    "result = list(years_list(1997))\n",
    "print(\"The list of years until your 5th birthday is:\", result)"
   ]
  },
  {
   "cell_type": "markdown",
   "id": "cb43bced-b296-4d8e-b198-0cdb5be77d66",
   "metadata": {},
   "source": [
    "# 2. In which year in years_list was your third birthday? Remember, you were 0 years of age for your first year."
   ]
  },
  {
   "cell_type": "code",
   "execution_count": 75,
   "id": "afeada47-1683-4760-9023-c8b67e6d4a28",
   "metadata": {},
   "outputs": [
    {
     "name": "stdout",
     "output_type": "stream",
     "text": [
      "The list of years until your 5th birthday is: [1997, 1998, 1999, 2000, 2001, 2002]\n",
      "The third birthday is in year : 2000\n"
     ]
    }
   ],
   "source": [
    "def years_list (n):\n",
    "   for i in range(n, n+6):\n",
    "      yield n\n",
    "      n+=1\n",
    "\n",
    "result = list(years_list(1997))\n",
    "print(\"The list of years until your 5th birthday is:\", result)\n",
    "\n",
    "third_birthday = result[3]\n",
    "print(\"The third birthday is in year :\", third_birthday)"
   ]
  },
  {
   "cell_type": "markdown",
   "id": "ffdd6840-4852-46de-9e0f-ef44a37dc178",
   "metadata": {},
   "source": [
    "# 3.In the years list, which year were you the oldest?"
   ]
  },
  {
   "cell_type": "code",
   "execution_count": 77,
   "id": "13c8085a-568a-48d7-9344-903abc744c38",
   "metadata": {},
   "outputs": [
    {
     "name": "stdout",
     "output_type": "stream",
     "text": [
      "oldest in year : 2002\n"
     ]
    }
   ],
   "source": [
    "oldest = result[5]\n",
    "print(\"oldest in year :\", oldest)"
   ]
  },
  {
   "cell_type": "markdown",
   "id": "c24efbf4-a943-45e6-a9de-18297ed01d66",
   "metadata": {},
   "source": [
    "# 4. Make a list called things with these three strings as elements: \"mozzarella\", \"cinderella\",\"salmonella\"."
   ]
  },
  {
   "cell_type": "code",
   "execution_count": 82,
   "id": "9166ad5c-07fa-42e8-9fc4-aa89b0aa93ac",
   "metadata": {},
   "outputs": [
    {
     "name": "stdout",
     "output_type": "stream",
     "text": [
      "['mozzarella', 'cindrella', 'salmonella']\n"
     ]
    }
   ],
   "source": [
    "things = [\"mozzarella\" , \"cindrella\" , \"salmonella\"]\n",
    "print(things)"
   ]
  },
  {
   "cell_type": "markdown",
   "id": "bf34b18b-c8b9-4cc9-8cb6-337a16df019c",
   "metadata": {},
   "source": [
    "# 5. Capitalize the element in things that refers to a person and then print the list. Did it change the element in the list?"
   ]
  },
  {
   "cell_type": "code",
   "execution_count": 93,
   "id": "7dcae1df-bc4a-4c5a-8ecb-39d3917ecbb0",
   "metadata": {},
   "outputs": [
    {
     "name": "stdout",
     "output_type": "stream",
     "text": [
      "['mozzarella', 'Cindrella', 'salmonella']\n"
     ]
    }
   ],
   "source": [
    "things = [\"mozzarella\" , \"cindrella\" , \"salmonella\"]\n",
    "things[1] = things[1].capitalize()\n",
    "print(things)"
   ]
  },
  {
   "cell_type": "code",
   "execution_count": null,
   "id": "16c28a45-06ea-4a05-a3b5-3ba120abd34f",
   "metadata": {},
   "outputs": [],
   "source": [
    "yes, it change the element in the list."
   ]
  },
  {
   "cell_type": "markdown",
   "id": "8d465017-cacc-4cce-9b35-fa3043020142",
   "metadata": {},
   "source": [
    "# 6. Make a surprise list with the elements &quot;Groucho,&quot; &quot;Chico,&quot; and &quot;Harpo.&quot;"
   ]
  },
  {
   "cell_type": "code",
   "execution_count": 113,
   "id": "b4523b75-c2b7-4ee1-a056-3932c06513cd",
   "metadata": {},
   "outputs": [
    {
     "name": "stdout",
     "output_type": "stream",
     "text": [
      "['Groucho', 'Chico', 'Harpo']\n"
     ]
    }
   ],
   "source": [
    "surprise = [\"Groucho\",  \"Chico\",  \"Harpo\"]\n",
    "print(surprise)"
   ]
  },
  {
   "cell_type": "markdown",
   "id": "2823eb54-12db-4411-ba93-13b69fa7ac65",
   "metadata": {},
   "source": [
    "# 7. Lowercase the last element of the surprise list, reverse it, and then capitalize it."
   ]
  },
  {
   "cell_type": "code",
   "execution_count": 127,
   "id": "42f1f2b5-edad-4fed-96eb-624bb6c6354d",
   "metadata": {},
   "outputs": [
    {
     "name": "stdout",
     "output_type": "stream",
     "text": [
      "last element in lowercase : ['Groucho', 'Chico', 'harpo']\n",
      "reverse the last element : ['Groucho', 'Chico', 'oprah']\n",
      "capitalize the last element : ['Groucho', 'Chico', 'Oprah']\n"
     ]
    }
   ],
   "source": [
    "surprise = [\"Groucho\", \"Chico\", \"Harpo\"]\n",
    "\n",
    "# for last element in lowercase\n",
    "surprise[2] = surprise[2].lower()\n",
    "print(\"last element in lowercase :\", surprise)\n",
    "\n",
    "# for reverse the last element\n",
    "surprise[2] = surprise[2][::-1]\n",
    "print(\"reverse the last element :\", surprise)\n",
    "\n",
    "# for capitalize the last element\n",
    "surprise[2] = surprise[2].capitalize()\n",
    "print(\"capitalize the last element :\", surprise)"
   ]
  },
  {
   "cell_type": "markdown",
   "id": "af179049-53d5-4cb7-a32e-704cb6658c8d",
   "metadata": {},
   "source": [
    "# 8. Make an English-to-French dictionary called e2f and print it. Here are your starter words: dog is chien, cat is chat, and walrus is morse."
   ]
  },
  {
   "cell_type": "code",
   "execution_count": 131,
   "id": "5544081b-a302-45f9-a39b-8f01e4d7043f",
   "metadata": {},
   "outputs": [
    {
     "name": "stdout",
     "output_type": "stream",
     "text": [
      "{'dog': 'chien', 'cat': 'chat', 'walrus': 'morse'}\n"
     ]
    }
   ],
   "source": [
    "e2f = {\"dog\" : \"chien\" , \"cat\" : \"chat\" , \"walrus\" : \"morse\"}\n",
    "print(e2f)"
   ]
  },
  {
   "cell_type": "markdown",
   "id": "e49b3973-2ab2-45a9-9a1b-ef3491ac84b2",
   "metadata": {},
   "source": [
    "# 9. Write the French word for walrus in your three-word dictionary e2f."
   ]
  },
  {
   "cell_type": "code",
   "execution_count": 134,
   "id": "0d39059d-7133-4e1f-bf0a-82f4c7b68514",
   "metadata": {},
   "outputs": [
    {
     "data": {
      "text/plain": [
       "'morse'"
      ]
     },
     "execution_count": 134,
     "metadata": {},
     "output_type": "execute_result"
    }
   ],
   "source": [
    "e2f[\"walrus\"]"
   ]
  },
  {
   "cell_type": "markdown",
   "id": "97ab1b55-03a3-445a-aa61-0330b218dc58",
   "metadata": {},
   "source": [
    "# 10. Make a French-to-English dictionary called f2e from e2f. Use the items method."
   ]
  },
  {
   "cell_type": "code",
   "execution_count": 149,
   "id": "78504c32-0063-424a-a250-19ead3b39167",
   "metadata": {},
   "outputs": [
    {
     "name": "stdout",
     "output_type": "stream",
     "text": [
      "{'chien': 'dog', 'chat': 'cat', 'morse': 'walrus'}\n"
     ]
    }
   ],
   "source": [
    "f2e = {}\n",
    "for english, french in e2f.items() :\n",
    "      f2e [french] = english\n",
    "print(f2e)"
   ]
  },
  {
   "cell_type": "markdown",
   "id": "164e99d5-368d-43ba-8fe8-05bb4240b5a9",
   "metadata": {},
   "source": [
    "# 11. Print the English version of the French word chien using f2e."
   ]
  },
  {
   "cell_type": "code",
   "execution_count": 152,
   "id": "37a30bad-7a78-4742-b490-d02f57929205",
   "metadata": {},
   "outputs": [
    {
     "data": {
      "text/plain": [
       "'dog'"
      ]
     },
     "execution_count": 152,
     "metadata": {},
     "output_type": "execute_result"
    }
   ],
   "source": [
    "f2e[\"chien\"]"
   ]
  },
  {
   "cell_type": "markdown",
   "id": "0e439496-148b-4fed-a32c-f57739b29a68",
   "metadata": {},
   "source": [
    "# 12. Make and print a set of English words from the keys in e2f."
   ]
  },
  {
   "cell_type": "code",
   "execution_count": 161,
   "id": "6a8e77a4-a8e9-46ec-810e-47c6a5990462",
   "metadata": {},
   "outputs": [
    {
     "name": "stdout",
     "output_type": "stream",
     "text": [
      "The set of English words from the keys : {'dog', 'walrus', 'cat'}\n"
     ]
    }
   ],
   "source": [
    "e2f = {\"dog\" : \"chien\" , \"cat\" : \"chat\" , \"walrus\" : \"morse\"}\n",
    "print(\"The set of English words from the keys :\" , set(e2f.keys()))"
   ]
  },
  {
   "cell_type": "markdown",
   "id": "3d9d1849-5c85-46b4-b30a-044fd52a42a4",
   "metadata": {},
   "source": [
    "# 13. Make a multilevel dictionary called life. Use these strings for the topmost keys: \"animals\", \"plants\", and \"other\". Make the \"animals\" key refer to another dictionary with the keys \"cats\", \"octopi\", and \"emus\". Make the \"cats\" key refer to a list of strings with the values \"Henri\", \"Grumpy\", and \"Lucy\". Make all the other keys refer to empty dictionaries."
   ]
  },
  {
   "cell_type": "code",
   "execution_count": 170,
   "id": "e4f192ea-a117-4eec-bb55-9c3bc1bd23f1",
   "metadata": {},
   "outputs": [
    {
     "name": "stdout",
     "output_type": "stream",
     "text": [
      "{'animals': {'cats': ['Henri', 'Grumpy', 'Lucy'], 'octopi': {}, 'emus': {}}, 'plants': {}, 'other': {}}\n"
     ]
    }
   ],
   "source": [
    "life = {\"animals\" : {\"cats\" :[\"Henri\", \"Grumpy\", \"Lucy\"] , \"octopi\" :{} , \"emus\" : {} }, \"plants\":{} , \"other\": {} } \n",
    "print(life)"
   ]
  },
  {
   "cell_type": "markdown",
   "id": "a50b0ea7-c782-409a-bd53-e7f5f0d277e6",
   "metadata": {},
   "source": [
    "# 14. Print the top-level keys of life."
   ]
  },
  {
   "cell_type": "code",
   "execution_count": 173,
   "id": "8144f69a-5e40-45dc-85d8-b9bf18e730b0",
   "metadata": {},
   "outputs": [
    {
     "name": "stdout",
     "output_type": "stream",
     "text": [
      "dict_keys(['animals', 'plants', 'other'])\n"
     ]
    }
   ],
   "source": [
    "print(life.keys())"
   ]
  },
  {
   "cell_type": "markdown",
   "id": "3cacf4c3-566d-4b18-92bb-52f7a2272c1f",
   "metadata": {},
   "source": [
    "# 15. Print the keys for life[&#39;animals&#39;]."
   ]
  },
  {
   "cell_type": "code",
   "execution_count": 180,
   "id": "01f07f03-9dbb-41e2-87e4-89d90c1d601f",
   "metadata": {},
   "outputs": [
    {
     "name": "stdout",
     "output_type": "stream",
     "text": [
      "['cats', 'octopi', 'emus']\n"
     ]
    }
   ],
   "source": [
    "print(list(life['animals'].keys()))"
   ]
  },
  {
   "cell_type": "markdown",
   "id": "bcffcd1f-57f2-410f-9444-0f2020af2f3b",
   "metadata": {},
   "source": [
    "# 16. Print the values for life[&#39;animals&#39;][&#39;cats&#39;]"
   ]
  },
  {
   "cell_type": "code",
   "execution_count": 183,
   "id": "c8e73ba7-fb19-4e15-b5ea-1e7b9a63aa41",
   "metadata": {},
   "outputs": [
    {
     "name": "stdout",
     "output_type": "stream",
     "text": [
      "['Henri', 'Grumpy', 'Lucy']\n"
     ]
    }
   ],
   "source": [
    "print(list(life['animals']['cats']))"
   ]
  }
 ],
 "metadata": {
  "kernelspec": {
   "display_name": "Python [conda env:base] *",
   "language": "python",
   "name": "conda-base-py"
  },
  "language_info": {
   "codemirror_mode": {
    "name": "ipython",
    "version": 3
   },
   "file_extension": ".py",
   "mimetype": "text/x-python",
   "name": "python",
   "nbconvert_exporter": "python",
   "pygments_lexer": "ipython3",
   "version": "3.12.7"
  }
 },
 "nbformat": 4,
 "nbformat_minor": 5
}
