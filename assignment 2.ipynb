{
 "cells": [
  {
   "cell_type": "markdown",
   "id": "1519c176",
   "metadata": {},
   "source": [
    "# Answer 1"
   ]
  },
  {
   "cell_type": "raw",
   "id": "d03cf0b7",
   "metadata": {},
   "source": [
    "Two boolean data type are true and false.we write it as True and False "
   ]
  },
  {
   "cell_type": "markdown",
   "id": "487a800e",
   "metadata": {},
   "source": [
    "# Answer 2 "
   ]
  },
  {
   "cell_type": "raw",
   "id": "49027f80",
   "metadata": {},
   "source": [
    "Three different type of boolean operator are as follow :\n",
    "1)or   2)and  3)not "
   ]
  },
  {
   "cell_type": "markdown",
   "id": "0c767468",
   "metadata": {},
   "source": [
    "# Answer 3"
   ]
  },
  {
   "cell_type": "raw",
   "id": "5c2cbc68",
   "metadata": {},
   "source": [
    "Table of operators :\n",
    "    \n",
    "          inputs                          output\n",
    "                        \n",
    "    operand1     operand 2            and    or     not  \n",
    "    \n",
    "       T            T                  T     T       F  \n",
    "       T            F                  F     T       F\n",
    "       F            T                  F     T       F\n",
    "       F            F                  F     F       T\n",
    "    \n",
    "    "
   ]
  },
  {
   "cell_type": "markdown",
   "id": "c751f5dd",
   "metadata": {},
   "source": [
    "# Answer 4"
   ]
  },
  {
   "cell_type": "code",
   "execution_count": 4,
   "id": "d7bc61dd",
   "metadata": {},
   "outputs": [
    {
     "data": {
      "text/plain": [
       "False"
      ]
     },
     "execution_count": 4,
     "metadata": {},
     "output_type": "execute_result"
    }
   ],
   "source": [
    "(5>4)and(3==5)"
   ]
  },
  {
   "cell_type": "code",
   "execution_count": 5,
   "id": "bf15ec50",
   "metadata": {},
   "outputs": [
    {
     "data": {
      "text/plain": [
       "False"
      ]
     },
     "execution_count": 5,
     "metadata": {},
     "output_type": "execute_result"
    }
   ],
   "source": [
    "not(5>4)"
   ]
  },
  {
   "cell_type": "code",
   "execution_count": 6,
   "id": "5d60dbce",
   "metadata": {},
   "outputs": [
    {
     "data": {
      "text/plain": [
       "True"
      ]
     },
     "execution_count": 6,
     "metadata": {},
     "output_type": "execute_result"
    }
   ],
   "source": [
    "(5>4)or(3==5)"
   ]
  },
  {
   "cell_type": "code",
   "execution_count": 7,
   "id": "358b4ede",
   "metadata": {},
   "outputs": [
    {
     "data": {
      "text/plain": [
       "False"
      ]
     },
     "execution_count": 7,
     "metadata": {},
     "output_type": "execute_result"
    }
   ],
   "source": [
    "not((5>4)or(3==5))"
   ]
  },
  {
   "cell_type": "code",
   "execution_count": 8,
   "id": "b16a592b",
   "metadata": {},
   "outputs": [
    {
     "data": {
      "text/plain": [
       "False"
      ]
     },
     "execution_count": 8,
     "metadata": {},
     "output_type": "execute_result"
    }
   ],
   "source": [
    "(True and True)and(True==False)"
   ]
  },
  {
   "cell_type": "code",
   "execution_count": 9,
   "id": "9207a4b8",
   "metadata": {},
   "outputs": [
    {
     "data": {
      "text/plain": [
       "True"
      ]
     },
     "execution_count": 9,
     "metadata": {},
     "output_type": "execute_result"
    }
   ],
   "source": [
    "(not False)or(not True)"
   ]
  },
  {
   "cell_type": "markdown",
   "id": "25175d99",
   "metadata": {},
   "source": [
    "# Answer 5"
   ]
  },
  {
   "cell_type": "raw",
   "id": "78a51eab",
   "metadata": {},
   "source": [
    "(1) == : If both side operand is equal it return True otherwise False.\n",
    "(2) >  : If left side operand  is greater than right side operand it returns True otherwise False.\n",
    "(3) <  : If left side operand is  less than right side operand it returns True otherwise False.\n",
    "(4) >= : If left side operand is  greater than or equal to right side operand it returns True otherwise False.\n",
    "(5) <= : If left side operand is less than or equal to right side operand it returns True otherwise False.\n",
    "(6) != : If both side operand is not equal it returns True otherwise False."
   ]
  },
  {
   "cell_type": "markdown",
   "id": "0776f539",
   "metadata": {},
   "source": [
    "# Answer 6"
   ]
  },
  {
   "cell_type": "raw",
   "id": "01c4e2ff",
   "metadata": {},
   "source": [
    "equal to operator is use to compare the bothside operands while assignment operator use to assign value to variable.\n",
    "equal operator returns True if bothside operands are equal otherwise it returns False.\n",
    " Ex. 6==6, 35==35 are example of equal to operator \n",
    "     a=5,x=\"teju\"\n"
   ]
  },
  {
   "cell_type": "code",
   "execution_count": 10,
   "id": "22b4ac7c",
   "metadata": {},
   "outputs": [
    {
     "data": {
      "text/plain": [
       "True"
      ]
     },
     "execution_count": 10,
     "metadata": {},
     "output_type": "execute_result"
    }
   ],
   "source": [
    "6==6"
   ]
  },
  {
   "cell_type": "code",
   "execution_count": 11,
   "id": "24357229",
   "metadata": {},
   "outputs": [
    {
     "data": {
      "text/plain": [
       "True"
      ]
     },
     "execution_count": 11,
     "metadata": {},
     "output_type": "execute_result"
    }
   ],
   "source": [
    "35==35"
   ]
  },
  {
   "cell_type": "code",
   "execution_count": 12,
   "id": "9b70f053",
   "metadata": {},
   "outputs": [],
   "source": [
    "a=5"
   ]
  },
  {
   "cell_type": "code",
   "execution_count": 13,
   "id": "aecc1f86",
   "metadata": {},
   "outputs": [],
   "source": [
    "x=\"teju\""
   ]
  },
  {
   "cell_type": "markdown",
   "id": "5fb8388f",
   "metadata": {},
   "source": [
    "# Answer 7"
   ]
  },
  {
   "cell_type": "raw",
   "id": "97c9e435",
   "metadata": {},
   "source": [
    "spam = 0\n",
    "# 1st block\n",
    "if spam == 10 :  \n",
    "   print('eggs')\n",
    "   \n",
    "# 2nd block\n",
    "if spam > 5 :\n",
    "   print('bacon')\n",
    "else:\n",
    "   print('ham')\n",
    "   \n",
    "# 3rd block\n",
    "print('spam')\n",
    "print('spam')"
   ]
  },
  {
   "cell_type": "markdown",
   "id": "3165616c",
   "metadata": {},
   "source": [
    "# Answer 8"
   ]
  },
  {
   "cell_type": "code",
   "execution_count": 14,
   "id": "577d51cb",
   "metadata": {},
   "outputs": [
    {
     "name": "stdout",
     "output_type": "stream",
     "text": [
      "enter a number1\n",
      "Hello\n"
     ]
    }
   ],
   "source": [
    "spam = float(input(\"enter a number\"))\n",
    "if spam == 1 :\n",
    "    print(\"Hello\")\n",
    "elif spam == 2 :\n",
    "    print(\"howdy\")\n",
    "else :\n",
    "    print(\"Greeting\")\n",
    "    \n",
    "    "
   ]
  },
  {
   "cell_type": "code",
   "execution_count": 14,
   "id": "7567801e",
   "metadata": {},
   "outputs": [
    {
     "name": "stdout",
     "output_type": "stream",
     "text": [
      "enter a number2\n",
      "howdy\n"
     ]
    }
   ],
   "source": [
    "spam = float(input(\"enter a number\"))\n",
    "if spam == 1 :\n",
    "    print(\"Hello\")\n",
    "elif spam == 2 :\n",
    "    print(\"howdy\")\n",
    "else :\n",
    "    print(\"Greeting\")\n",
    "    "
   ]
  },
  {
   "cell_type": "code",
   "execution_count": 15,
   "id": "d0e842c5",
   "metadata": {},
   "outputs": [
    {
     "name": "stdout",
     "output_type": "stream",
     "text": [
      "enter a number3364\n",
      "Greetings!\n"
     ]
    }
   ],
   "source": [
    "spam = float(input(\"enter a number\"))\n",
    "if spam == 1 :\n",
    "    print(\"Hello\")\n",
    "elif spam == 2 :\n",
    "    print(\"howdy\")\n",
    "else :\n",
    "    print(\"Greetings!\")\n",
    "    "
   ]
  },
  {
   "cell_type": "markdown",
   "id": "21325776",
   "metadata": {},
   "source": [
    "# Answer 9"
   ]
  },
  {
   "cell_type": "raw",
   "id": "8e392540",
   "metadata": {},
   "source": [
    "If my program stuck in endless loop i will press Ctrl+C keys."
   ]
  },
  {
   "cell_type": "markdown",
   "id": "59262332",
   "metadata": {},
   "source": [
    "# Answer 10"
   ]
  },
  {
   "cell_type": "raw",
   "id": "4a7bebe4",
   "metadata": {},
   "source": [
    "when we use break statement it terminate the loop or certain block of code.when we need to exit from a certain loop or block of code we use this statement.Sometime we put condition and use break statement to exit from loop or block of code and enter into new loop or block of code.\n",
    "when we want to continue the loop or certain block of code we use continue statement.When in nested loop we write certain condition before continue statement and the condition is true than it skip the next line of code of inner loop and directly go to the outer loop. \n",
    "Example of both are as follow :"
   ]
  },
  {
   "cell_type": "code",
   "execution_count": 2,
   "id": "f959119c",
   "metadata": {},
   "outputs": [
    {
     "name": "stdout",
     "output_type": "stream",
     "text": [
      "v\n",
      "l\n",
      "d\n",
      "l\n",
      "f\n",
      "j\n"
     ]
    }
   ],
   "source": [
    "s = \"vldlfjbodj\"\n",
    "for i in s :\n",
    "    if i == \"b\" :\n",
    "        break \n",
    "    print(i)"
   ]
  },
  {
   "cell_type": "raw",
   "id": "d25a2147",
   "metadata": {},
   "source": [
    "In above example when we use break statement it terminate the whole loop when condition is true."
   ]
  },
  {
   "cell_type": "code",
   "execution_count": 3,
   "id": "b930d005",
   "metadata": {},
   "outputs": [
    {
     "name": "stdout",
     "output_type": "stream",
     "text": [
      "v\n",
      "l\n",
      "d\n",
      "l\n",
      "f\n",
      "j\n",
      "o\n",
      "d\n",
      "j\n"
     ]
    }
   ],
   "source": [
    "s = \"vldlfjbodj\"\n",
    "for i in s :\n",
    "    if i == \"b\" :\n",
    "        continue \n",
    "    print(i)"
   ]
  },
  {
   "cell_type": "raw",
   "id": "acd184c6",
   "metadata": {},
   "source": [
    "In above example when we use continue statement if condition is true it skip the next line of code (means it doesnot print \"b\") and go to the outer loop and again check the condition and if condition is not true it go to the next line of code.  "
   ]
  },
  {
   "cell_type": "markdown",
   "id": "7c4ebe94",
   "metadata": {},
   "source": [
    "# Answer 11 "
   ]
  },
  {
   "cell_type": "raw",
   "id": "c44f5e80",
   "metadata": {},
   "source": [
    "There is no difference between range(10),range(0,10) and range(0,10,1) in for loop .They all give same output."
   ]
  },
  {
   "cell_type": "code",
   "execution_count": 5,
   "id": "9ed13c2f",
   "metadata": {},
   "outputs": [
    {
     "name": "stdout",
     "output_type": "stream",
     "text": [
      "0\n",
      "1\n",
      "2\n",
      "3\n",
      "4\n",
      "5\n",
      "6\n",
      "7\n",
      "8\n",
      "9\n"
     ]
    }
   ],
   "source": [
    "for i in range(10) :\n",
    "    print(i)"
   ]
  },
  {
   "cell_type": "code",
   "execution_count": 6,
   "id": "750ced5c",
   "metadata": {},
   "outputs": [
    {
     "name": "stdout",
     "output_type": "stream",
     "text": [
      "0\n",
      "1\n",
      "2\n",
      "3\n",
      "4\n",
      "5\n",
      "6\n",
      "7\n",
      "8\n",
      "9\n"
     ]
    }
   ],
   "source": [
    "for i in range(0,10) :\n",
    "    print(i)"
   ]
  },
  {
   "cell_type": "code",
   "execution_count": 7,
   "id": "7212b464",
   "metadata": {},
   "outputs": [
    {
     "name": "stdout",
     "output_type": "stream",
     "text": [
      "0\n",
      "1\n",
      "2\n",
      "3\n",
      "4\n",
      "5\n",
      "6\n",
      "7\n",
      "8\n",
      "9\n"
     ]
    }
   ],
   "source": [
    "for i in range(0,10,1) :\n",
    "    print(i)"
   ]
  },
  {
   "cell_type": "markdown",
   "id": "cab8c995",
   "metadata": {},
   "source": [
    "# Answer 12"
   ]
  },
  {
   "cell_type": "code",
   "execution_count": 9,
   "id": "166bca44",
   "metadata": {},
   "outputs": [
    {
     "name": "stdout",
     "output_type": "stream",
     "text": [
      "1\n",
      "2\n",
      "3\n",
      "4\n",
      "5\n",
      "6\n",
      "7\n",
      "8\n",
      "9\n",
      "10\n"
     ]
    }
   ],
   "source": [
    "for i in range(1,11) :\n",
    "    print(i)"
   ]
  },
  {
   "cell_type": "code",
   "execution_count": 4,
   "id": "0ef600b2",
   "metadata": {},
   "outputs": [
    {
     "name": "stdout",
     "output_type": "stream",
     "text": [
      "1\n",
      "2\n",
      "3\n",
      "4\n",
      "5\n",
      "6\n",
      "7\n",
      "8\n",
      "9\n",
      "10\n"
     ]
    }
   ],
   "source": [
    "a = 1 \n",
    "b = 11\n",
    "while a < b :\n",
    "    print(a)\n",
    "    a = a+1"
   ]
  },
  {
   "cell_type": "markdown",
   "id": "ff21f481",
   "metadata": {},
   "source": [
    "# Answer 13 "
   ]
  },
  {
   "cell_type": "raw",
   "id": "6dd3fed6",
   "metadata": {},
   "source": [
    "If i had a function named bacon() inside a module named spam, i can call it after importing spam by using spam.bacon() . "
   ]
  }
 ],
 "metadata": {
  "kernelspec": {
   "display_name": "Python 3 (ipykernel)",
   "language": "python",
   "name": "python3"
  },
  "language_info": {
   "codemirror_mode": {
    "name": "ipython",
    "version": 3
   },
   "file_extension": ".py",
   "mimetype": "text/x-python",
   "name": "python",
   "nbconvert_exporter": "python",
   "pygments_lexer": "ipython3",
   "version": "3.9.13"
  }
 },
 "nbformat": 4,
 "nbformat_minor": 5
}
