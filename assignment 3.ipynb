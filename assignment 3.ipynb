{
 "cells": [
  {
   "cell_type": "markdown",
   "id": "2e7f6e84",
   "metadata": {},
   "source": [
    "# Answer 1"
   ]
  },
  {
   "cell_type": "markdown",
   "id": "6e4bf000",
   "metadata": {},
   "source": [
    "We need to write function once and we can use it multiple time on multiple platforms.It is easy to understand."
   ]
  },
  {
   "cell_type": "markdown",
   "id": "440ca30b",
   "metadata": {},
   "source": [
    "# Answer 2"
   ]
  },
  {
   "cell_type": "markdown",
   "id": "656e0e20",
   "metadata": {},
   "source": [
    "The code in a function run when it is called."
   ]
  },
  {
   "cell_type": "markdown",
   "id": "c30e79cb",
   "metadata": {},
   "source": [
    "# Answer 3"
   ]
  },
  {
   "cell_type": "markdown",
   "id": "13d657fc",
   "metadata": {},
   "source": [
    "A \"def\" keyword as a statement creates a function."
   ]
  },
  {
   "cell_type": "markdown",
   "id": "28cd86e3",
   "metadata": {},
   "source": [
    "# Answer 4"
   ]
  },
  {
   "cell_type": "markdown",
   "id": "aa59d97e",
   "metadata": {},
   "source": [
    "Function is a block of code which perform specific task.It is a reusable piece of code.While function call execute the function.It transfer control to the function for completing specific task and return result."
   ]
  },
  {
   "cell_type": "markdown",
   "id": "c0f79055",
   "metadata": {},
   "source": [
    "# Answer 5"
   ]
  },
  {
   "cell_type": "markdown",
   "id": "6ffc97c6",
   "metadata": {},
   "source": [
    "In python there is only one global scopes per program.The local scopes are depend on how many functions are called and how many nested functions are defined in python."
   ]
  },
  {
   "cell_type": "markdown",
   "id": "6ef2d1dd",
   "metadata": {},
   "source": [
    "# Answer 6"
   ]
  },
  {
   "cell_type": "markdown",
   "id": "834019bf",
   "metadata": {},
   "source": [
    "When the function call return in local scope the local scope is destroyed and variables are forggoten."
   ]
  },
  {
   "cell_type": "markdown",
   "id": "0107c6ba",
   "metadata": {},
   "source": [
    "# Answer 7"
   ]
  },
  {
   "cell_type": "markdown",
   "id": "f717b55c",
   "metadata": {},
   "source": [
    "A return value is a value that funtion return whenever we call or execute it.Return value can be anything like list,tuple,dict,set,str,any numeric value etc.Yes,it is possible to have a return value in an expression. "
   ]
  },
  {
   "cell_type": "markdown",
   "id": "696b27c1",
   "metadata": {},
   "source": [
    "# Answer 8"
   ]
  },
  {
   "cell_type": "markdown",
   "id": "f013f4e8",
   "metadata": {},
   "source": [
    "If function does not have a return statement the return value of a call to that function in None."
   ]
  },
  {
   "cell_type": "markdown",
   "id": "ed0d48e0",
   "metadata": {},
   "source": [
    "# Answer 9 "
   ]
  },
  {
   "cell_type": "markdown",
   "id": "717ae20d",
   "metadata": {},
   "source": [
    "By using global keyword we can make a function variable refer to the global variable."
   ]
  },
  {
   "cell_type": "markdown",
   "id": "ab24dfc1",
   "metadata": {},
   "source": [
    "# Answer 10"
   ]
  },
  {
   "cell_type": "markdown",
   "id": "d429a360",
   "metadata": {},
   "source": [
    "The datatype of None is 'NoneType'."
   ]
  },
  {
   "cell_type": "markdown",
   "id": "e31b39a5",
   "metadata": {},
   "source": [
    "# Answer 11"
   ]
  },
  {
   "cell_type": "markdown",
   "id": "a580f45e",
   "metadata": {},
   "source": [
    "The sentance import areallyourpetsnamederic is import the module name areallyourpetsnamederic which cause error because there is no module name areallyourpetsnamederic."
   ]
  },
  {
   "cell_type": "code",
   "execution_count": 7,
   "id": "b1b78a70",
   "metadata": {},
   "outputs": [
    {
     "ename": "ModuleNotFoundError",
     "evalue": "No module named 'areallyourpetsnamederic'",
     "output_type": "error",
     "traceback": [
      "\u001b[1;31m---------------------------------------------------------------------------\u001b[0m",
      "\u001b[1;31mModuleNotFoundError\u001b[0m                       Traceback (most recent call last)",
      "\u001b[1;32m~\\AppData\\Local\\Temp\\ipykernel_5460\\3112267347.py\u001b[0m in \u001b[0;36m<module>\u001b[1;34m\u001b[0m\n\u001b[1;32m----> 1\u001b[1;33m \u001b[1;32mimport\u001b[0m \u001b[0mareallyourpetsnamederic\u001b[0m\u001b[1;33m\u001b[0m\u001b[1;33m\u001b[0m\u001b[0m\n\u001b[0m",
      "\u001b[1;31mModuleNotFoundError\u001b[0m: No module named 'areallyourpetsnamederic'"
     ]
    }
   ],
   "source": [
    "import areallyourpetsnamederic\n"
   ]
  },
  {
   "cell_type": "markdown",
   "id": "89f12a10",
   "metadata": {},
   "source": [
    "# Answer 12"
   ]
  },
  {
   "cell_type": "markdown",
   "id": "18b79c0c",
   "metadata": {},
   "source": [
    "If bacon() is feature in a spam module.After importing spam i will call spam.bacon(). "
   ]
  },
  {
   "cell_type": "markdown",
   "id": "ad94930a",
   "metadata": {},
   "source": [
    "# Answer 13"
   ]
  },
  {
   "cell_type": "markdown",
   "id": "b4e6ad60",
   "metadata": {},
   "source": [
    "To save a programme from crashing if it encounters an error we can use Exception handling process ."
   ]
  },
  {
   "cell_type": "markdown",
   "id": "53359967",
   "metadata": {},
   "source": [
    "# Answer 14"
   ]
  },
  {
   "cell_type": "markdown",
   "id": "1e5b3836",
   "metadata": {},
   "source": [
    "The try and except block are used in python for error handling.The try block contain a code that might raise a exception and the except block contain a code that handle the exception."
   ]
  },
  {
   "cell_type": "code",
   "execution_count": null,
   "id": "157f16dd",
   "metadata": {},
   "outputs": [],
   "source": []
  }
 ],
 "metadata": {
  "kernelspec": {
   "display_name": "Python 3 (ipykernel)",
   "language": "python",
   "name": "python3"
  },
  "language_info": {
   "codemirror_mode": {
    "name": "ipython",
    "version": 3
   },
   "file_extension": ".py",
   "mimetype": "text/x-python",
   "name": "python",
   "nbconvert_exporter": "python",
   "pygments_lexer": "ipython3",
   "version": "3.9.13"
  }
 },
 "nbformat": 4,
 "nbformat_minor": 5
}
