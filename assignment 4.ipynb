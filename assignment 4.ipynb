{
 "cells": [
  {
   "cell_type": "markdown",
   "id": "812063f6",
   "metadata": {},
   "source": [
    "# 1. What exactly is []?\n",
    "# Answer :\n",
    "exactly '[]' indicate empty list.We can add varibales in this emty list with help of various list operation like append,insert etc.With help of some opperation like remove,pop,clear etc we can convert any list which contain variables into empty list.\n",
    "example for this is as below :"
   ]
  },
  {
   "cell_type": "code",
   "execution_count": 1,
   "id": "e0c14d15",
   "metadata": {},
   "outputs": [],
   "source": [
    "l = []\n",
    "l.append(1)"
   ]
  },
  {
   "cell_type": "code",
   "execution_count": 2,
   "id": "3f6060c0",
   "metadata": {},
   "outputs": [
    {
     "data": {
      "text/plain": [
       "[1]"
      ]
     },
     "execution_count": 2,
     "metadata": {},
     "output_type": "execute_result"
    }
   ],
   "source": [
    "l"
   ]
  },
  {
   "cell_type": "code",
   "execution_count": 3,
   "id": "5c770228",
   "metadata": {},
   "outputs": [
    {
     "data": {
      "text/plain": [
       "[[1, 54, -89, (78, 'key'), 'pop']]"
      ]
     },
     "execution_count": 3,
     "metadata": {},
     "output_type": "execute_result"
    }
   ],
   "source": [
    "l = []\n",
    "l1 = [1,54,-89,(78,'key'),'pop']\n",
    "l.append(l1)\n",
    "l"
   ]
  },
  {
   "cell_type": "markdown",
   "id": "c9640671",
   "metadata": {},
   "source": [
    "# 2. In a list of values stored in a variable called spam, how would you assign            the value 'hello' as the third value? (Assume [2, 4, 6, 8, 10] are in spam.) \n",
    "# Answer :"
   ]
  },
  {
   "cell_type": "code",
   "execution_count": 4,
   "id": "7ee601d3",
   "metadata": {},
   "outputs": [
    {
     "data": {
      "text/plain": [
       "[2, 4, 'hello', 6, 8, 10]"
      ]
     },
     "execution_count": 4,
     "metadata": {},
     "output_type": "execute_result"
    }
   ],
   "source": [
    "spam = [2,4,6,8,10]\n",
    "spam.insert(2,'hello')\n",
    "spam"
   ]
  },
  {
   "cell_type": "code",
   "execution_count": 5,
   "id": "abb3a0c8",
   "metadata": {},
   "outputs": [],
   "source": [
    "# for next 3 questions :\n",
    "spam = ['a', 'b', 'c', 'd']"
   ]
  },
  {
   "cell_type": "markdown",
   "id": "120dbf98",
   "metadata": {},
   "source": [
    "# 3. What is the value of spam[int(int('3' * 2) / 11)]?\n",
    "# Answer :"
   ]
  },
  {
   "cell_type": "code",
   "execution_count": 6,
   "id": "e8982677",
   "metadata": {},
   "outputs": [
    {
     "data": {
      "text/plain": [
       "'d'"
      ]
     },
     "execution_count": 6,
     "metadata": {},
     "output_type": "execute_result"
    }
   ],
   "source": [
    " spam[int(int('3' * 2) / 11)]"
   ]
  },
  {
   "cell_type": "markdown",
   "id": "3cd312e4",
   "metadata": {},
   "source": [
    " # Answer 4 :"
   ]
  },
  {
   "cell_type": "code",
   "execution_count": 7,
   "id": "dc6c64fc",
   "metadata": {},
   "outputs": [
    {
     "data": {
      "text/plain": [
       "'d'"
      ]
     },
     "execution_count": 7,
     "metadata": {},
     "output_type": "execute_result"
    }
   ],
   "source": [
    "spam[-1]"
   ]
  },
  {
   "cell_type": "markdown",
   "id": "c5533f29",
   "metadata": {},
   "source": [
    "# Answer 5 :"
   ]
  },
  {
   "cell_type": "code",
   "execution_count": 8,
   "id": "9d786761",
   "metadata": {},
   "outputs": [
    {
     "data": {
      "text/plain": [
       "['a', 'b']"
      ]
     },
     "execution_count": 8,
     "metadata": {},
     "output_type": "execute_result"
    }
   ],
   "source": [
    "spam[:2]"
   ]
  },
  {
   "cell_type": "code",
   "execution_count": 10,
   "id": "ce171572",
   "metadata": {},
   "outputs": [],
   "source": [
    "# for next three questions :\n",
    "bacon = [3.14, 'cat', 11, 'cat', True]"
   ]
  },
  {
   "cell_type": "markdown",
   "id": "108e7b6c",
   "metadata": {},
   "source": [
    "# Answer 6 :"
   ]
  },
  {
   "cell_type": "code",
   "execution_count": 11,
   "id": "59b7d58d",
   "metadata": {},
   "outputs": [
    {
     "data": {
      "text/plain": [
       "1"
      ]
     },
     "execution_count": 11,
     "metadata": {},
     "output_type": "execute_result"
    }
   ],
   "source": [
    "bacon.index('cat')"
   ]
  },
  {
   "cell_type": "markdown",
   "id": "cd505bf3",
   "metadata": {},
   "source": [
    "# Answer 7 :"
   ]
  },
  {
   "cell_type": "code",
   "execution_count": 12,
   "id": "83a8831d",
   "metadata": {},
   "outputs": [
    {
     "data": {
      "text/plain": [
       "[3.14, 'cat', 11, 'cat', True, 99]"
      ]
     },
     "execution_count": 12,
     "metadata": {},
     "output_type": "execute_result"
    }
   ],
   "source": [
    "bacon.append(99)\n",
    "bacon"
   ]
  },
  {
   "cell_type": "markdown",
   "id": "39676f14",
   "metadata": {},
   "source": [
    "# Answer 8 :"
   ]
  },
  {
   "cell_type": "code",
   "execution_count": 13,
   "id": "8cc8b009",
   "metadata": {},
   "outputs": [
    {
     "data": {
      "text/plain": [
       "[3.14, 11, 'cat', True, 99]"
      ]
     },
     "execution_count": 13,
     "metadata": {},
     "output_type": "execute_result"
    }
   ],
   "source": [
    "bacon.remove('cat')\n",
    "bacon"
   ]
  },
  {
   "cell_type": "markdown",
   "id": "fdf075b9",
   "metadata": {},
   "source": [
    "# 9. What are the list concatenation and list replication operators?\n",
    "# Answer : \n",
    "'list concatenation operator': A operator which we use to combine two or more list together is called list concatenation \n",
    "                               \n",
    "                            operator.The sign of list concatenation operator is '+'. \n",
    "\n",
    "'list replication operator' : A operator which use to repeat same elements of list one or many times while creating new list is                               \n",
    "                              \n",
    "                            called list replication operator. The sign for this operator is '*' .\n",
    "\n",
    " Example of both of these are as follow :"
   ]
  },
  {
   "cell_type": "code",
   "execution_count": 14,
   "id": "b5970c27",
   "metadata": {},
   "outputs": [
    {
     "data": {
      "text/plain": [
       "[2,\n",
       " 3,\n",
       " -45,\n",
       " 'rudra',\n",
       " (235, 'lucky', -856),\n",
       " {'k1': 346, 'k2': '6797'},\n",
       " 45,\n",
       " 89,\n",
       " 589,\n",
       " 'lsjfofierj',\n",
       " ('greg', 3467, -34246)]"
      ]
     },
     "execution_count": 14,
     "metadata": {},
     "output_type": "execute_result"
    }
   ],
   "source": [
    "l1 = [2,3,-45,'rudra',(235,'lucky',-856),{'k1': 346, 'k2': '6797'}]\n",
    "l2 = [45,89,589,\"lsjfofierj\",(\"greg\",3467,-34246)]\n",
    "l = l1 + l2 \n",
    "l"
   ]
  },
  {
   "cell_type": "code",
   "execution_count": 15,
   "id": "49e33cdc",
   "metadata": {},
   "outputs": [
    {
     "data": {
      "text/plain": [
       "[23,\n",
       " 45,\n",
       " 89,\n",
       " (3464, 'grey', 'lost'),\n",
       " 'revenge',\n",
       " 'lucky',\n",
       " 23,\n",
       " 45,\n",
       " 89,\n",
       " (3464, 'grey', 'lost'),\n",
       " 'revenge',\n",
       " 'lucky']"
      ]
     },
     "execution_count": 15,
     "metadata": {},
     "output_type": "execute_result"
    }
   ],
   "source": [
    "l = [23,45,89,(3464,\"grey\",\"lost\"),\"revenge\",\"lucky\"]\n",
    "l1 = l*2\n",
    "l1"
   ]
  },
  {
   "cell_type": "markdown",
   "id": "22b95dbf",
   "metadata": {},
   "source": [
    "# 10. What is difference between the list methods append() and insert()? \n",
    "# Answer : \n",
    "'append()' : In append() method we add element at the end of list.To add element in list via append method we use                            \n",
    "             l.append(object).This method takes 1 argument at a time.\n",
    "    \n",
    "'insert()' : In insert() method we add element at whichever index number we want to add it in list.To add element in list via                \n",
    "             insert() method we use l.insert(index,object).This method takes 2 arguments at a time in which 1st is index number              \n",
    "             and 2nd is object.\n",
    "\n",
    "Both are in built functions. Example for both method are as follow :"
   ]
  },
  {
   "cell_type": "code",
   "execution_count": 16,
   "id": "a0619c3c",
   "metadata": {},
   "outputs": [],
   "source": [
    "l = [\"dry\",\"call\",7969,-579,\"34687\",659679]"
   ]
  },
  {
   "cell_type": "code",
   "execution_count": 17,
   "id": "1b212611",
   "metadata": {},
   "outputs": [
    {
     "data": {
      "text/plain": [
       "['dry', 'call', 7969, -579, '34687', 659679, (256, 89, '3164')]"
      ]
     },
     "execution_count": 17,
     "metadata": {},
     "output_type": "execute_result"
    }
   ],
   "source": [
    "l.append((256,89,'3164'))\n",
    "l"
   ]
  },
  {
   "cell_type": "code",
   "execution_count": 18,
   "id": "14223198",
   "metadata": {},
   "outputs": [
    {
     "data": {
      "text/plain": [
       "['dry', 'call', 7969, -579, '34687', 659679, (256, 89, '3164'), 45]"
      ]
     },
     "execution_count": 18,
     "metadata": {},
     "output_type": "execute_result"
    }
   ],
   "source": [
    "l.append(45)\n",
    "l"
   ]
  },
  {
   "cell_type": "code",
   "execution_count": 19,
   "id": "3648a77b",
   "metadata": {},
   "outputs": [
    {
     "ename": "TypeError",
     "evalue": "list.append() takes exactly one argument (2 given)",
     "output_type": "error",
     "traceback": [
      "\u001b[1;31m---------------------------------------------------------------------------\u001b[0m",
      "\u001b[1;31mTypeError\u001b[0m                                 Traceback (most recent call last)",
      "\u001b[1;32m~\\AppData\\Local\\Temp\\ipykernel_20460\\1294980709.py\u001b[0m in \u001b[0;36m<module>\u001b[1;34m\u001b[0m\n\u001b[1;32m----> 1\u001b[1;33m \u001b[0ml\u001b[0m\u001b[1;33m.\u001b[0m\u001b[0mappend\u001b[0m\u001b[1;33m(\u001b[0m\u001b[1;36m459\u001b[0m\u001b[1;33m,\u001b[0m\u001b[1;36m589\u001b[0m\u001b[1;33m)\u001b[0m\u001b[1;33m\u001b[0m\u001b[1;33m\u001b[0m\u001b[0m\n\u001b[0m\u001b[0;32m      2\u001b[0m \u001b[0ml\u001b[0m\u001b[1;33m\u001b[0m\u001b[1;33m\u001b[0m\u001b[0m\n",
      "\u001b[1;31mTypeError\u001b[0m: list.append() takes exactly one argument (2 given)"
     ]
    }
   ],
   "source": [
    "l.append(459,589)\n",
    "l"
   ]
  },
  {
   "cell_type": "code",
   "execution_count": 5,
   "id": "7acbfa65",
   "metadata": {},
   "outputs": [
    {
     "data": {
      "text/plain": [
       "['dry', 'call', '648', 7969, -579, '34687', 659679, (256, 89, '3164'), 45]"
      ]
     },
     "execution_count": 5,
     "metadata": {},
     "output_type": "execute_result"
    }
   ],
   "source": [
    "l.insert(2,'648')\n",
    "l"
   ]
  },
  {
   "cell_type": "code",
   "execution_count": 20,
   "id": "83e76186",
   "metadata": {},
   "outputs": [
    {
     "data": {
      "text/plain": [
       "[-456, 'dry', 'call', 7969, -579, '34687', 659679, (256, 89, '3164'), 45]"
      ]
     },
     "execution_count": 20,
     "metadata": {},
     "output_type": "execute_result"
    }
   ],
   "source": [
    "l.insert(0,-456)\n",
    "l"
   ]
  },
  {
   "cell_type": "code",
   "execution_count": 21,
   "id": "49b9df40",
   "metadata": {},
   "outputs": [
    {
     "ename": "TypeError",
     "evalue": "insert expected 2 arguments, got 3",
     "output_type": "error",
     "traceback": [
      "\u001b[1;31m---------------------------------------------------------------------------\u001b[0m",
      "\u001b[1;31mTypeError\u001b[0m                                 Traceback (most recent call last)",
      "\u001b[1;32m~\\AppData\\Local\\Temp\\ipykernel_20460\\2536341986.py\u001b[0m in \u001b[0;36m<module>\u001b[1;34m\u001b[0m\n\u001b[1;32m----> 1\u001b[1;33m \u001b[0ml\u001b[0m\u001b[1;33m.\u001b[0m\u001b[0minsert\u001b[0m\u001b[1;33m(\u001b[0m\u001b[1;36m4\u001b[0m\u001b[1;33m,\u001b[0m\u001b[1;36m3164\u001b[0m\u001b[1;33m,\u001b[0m\u001b[1;34m'dfre'\u001b[0m\u001b[1;33m)\u001b[0m\u001b[1;33m\u001b[0m\u001b[1;33m\u001b[0m\u001b[0m\n\u001b[0m\u001b[0;32m      2\u001b[0m \u001b[0ml\u001b[0m\u001b[1;33m\u001b[0m\u001b[1;33m\u001b[0m\u001b[0m\n",
      "\u001b[1;31mTypeError\u001b[0m: insert expected 2 arguments, got 3"
     ]
    }
   ],
   "source": [
    "l.insert(4,3164,'dfre')\n",
    "l"
   ]
  },
  {
   "cell_type": "markdown",
   "id": "769d41e9",
   "metadata": {},
   "source": [
    "# 11. What are the two methods for removing items from a list?\n",
    "# Answer : \n",
    "There are two methods for removing items from a list 1)remove 2)pop\n",
    "\n",
    "1) remove : It remove the element from the list. If there are two or many same element than it remove element which occurrence \n",
    "\n",
    "            1st.\n",
    "\n",
    "2) pop : It pop the element from list by given index number. If there is no index number given than by default it pop element   \n",
    "\n",
    "         at last of list.\n",
    "\n",
    "Both method remove one element at a time.\n",
    "\n",
    "Example for both are as below:"
   ]
  },
  {
   "cell_type": "code",
   "execution_count": 22,
   "id": "21f1fc3c",
   "metadata": {},
   "outputs": [
    {
     "data": {
      "text/plain": [
       "[-456, 'dry', 'call', 7969, -579, '34687', 659679, (256, 89, '3164')]"
      ]
     },
     "execution_count": 22,
     "metadata": {},
     "output_type": "execute_result"
    }
   ],
   "source": [
    "l.remove(45)\n",
    "l"
   ]
  },
  {
   "cell_type": "code",
   "execution_count": 23,
   "id": "b3889804",
   "metadata": {},
   "outputs": [
    {
     "data": {
      "text/plain": [
       "[-456, 'call', 7969, -579, '34687', 659679, (256, 89, '3164')]"
      ]
     },
     "execution_count": 23,
     "metadata": {},
     "output_type": "execute_result"
    }
   ],
   "source": [
    "l.remove('dry')\n",
    "l"
   ]
  },
  {
   "cell_type": "code",
   "execution_count": 24,
   "id": "f088dbf0",
   "metadata": {},
   "outputs": [
    {
     "data": {
      "text/plain": [
       "[-456, 'call', -579, '34687', 659679, (256, 89, '3164')]"
      ]
     },
     "execution_count": 24,
     "metadata": {},
     "output_type": "execute_result"
    }
   ],
   "source": [
    "l.pop(2)\n",
    "l"
   ]
  },
  {
   "cell_type": "code",
   "execution_count": 25,
   "id": "1571e3d9",
   "metadata": {},
   "outputs": [
    {
     "data": {
      "text/plain": [
       "[-456, 'call', -579, '34687', 659679]"
      ]
     },
     "execution_count": 25,
     "metadata": {},
     "output_type": "execute_result"
    }
   ],
   "source": [
    "l.pop()\n",
    "l"
   ]
  },
  {
   "cell_type": "markdown",
   "id": "e07295bb",
   "metadata": {},
   "source": [
    "# 12.  Describe how list values and string values are identical.\n",
    "# Answer :\n",
    "\n",
    "list values and string values are identical because \n",
    "\n",
    "1) Both store the data(collection of element) in specific order. Which we can access using indexing method.\n",
    "\n",
    "2) We can use concatenation and replication operation for both to create new list or string.\n",
    "\n",
    "3) We can iterator over elements of both the types of values.\n",
    "\n",
    "4) Both have some common method like: len(), count(), index() \n",
    "    \n",
    "5) We can use 'in' operator to check specific element is present or not in both.\n",
    "\n",
    "6) We can use slicing operation for both the types.\n",
    "\n",
    "Example for each are as below :"
   ]
  },
  {
   "cell_type": "markdown",
   "id": "2460de21",
   "metadata": {},
   "source": [
    "# for indexing method "
   ]
  },
  {
   "cell_type": "code",
   "execution_count": 26,
   "id": "61ba1b74",
   "metadata": {},
   "outputs": [
    {
     "data": {
      "text/plain": [
       "'yummy'"
      ]
     },
     "execution_count": 26,
     "metadata": {},
     "output_type": "execute_result"
    }
   ],
   "source": [
    "l = ['yummy', 'piller', 4566, (4646, -346, 'right')]\n",
    "l[0]"
   ]
  },
  {
   "cell_type": "code",
   "execution_count": 27,
   "id": "6dd2278f",
   "metadata": {},
   "outputs": [
    {
     "data": {
      "text/plain": [
       "'m'"
      ]
     },
     "execution_count": 27,
     "metadata": {},
     "output_type": "execute_result"
    }
   ],
   "source": [
    "s = \"someone\"\n",
    "s[2]"
   ]
  },
  {
   "cell_type": "markdown",
   "id": "2ef84509",
   "metadata": {},
   "source": [
    "# concatenation and replication operation"
   ]
  },
  {
   "cell_type": "code",
   "execution_count": 28,
   "id": "a7acbaad",
   "metadata": {},
   "outputs": [],
   "source": [
    "l1 = [789,589,-4589,('eye','maheta', 6467)]\n",
    "l2 = [(356,'rgtgtr',-466),{'k1': 'gtgtrg', 'k2': 3646},\"fggtrg\",899464]\n",
    "l = l1+l2\n",
    "l3 = l1*3"
   ]
  },
  {
   "cell_type": "code",
   "execution_count": 29,
   "id": "aa8a3d53",
   "metadata": {},
   "outputs": [
    {
     "data": {
      "text/plain": [
       "[789,\n",
       " 589,\n",
       " -4589,\n",
       " ('eye', 'maheta', 6467),\n",
       " (356, 'rgtgtr', -466),\n",
       " {'k1': 'gtgtrg', 'k2': 3646},\n",
       " 'fggtrg',\n",
       " 899464]"
      ]
     },
     "execution_count": 29,
     "metadata": {},
     "output_type": "execute_result"
    }
   ],
   "source": [
    "l"
   ]
  },
  {
   "cell_type": "code",
   "execution_count": 30,
   "id": "0407a5c2",
   "metadata": {},
   "outputs": [
    {
     "data": {
      "text/plain": [
       "[789,\n",
       " 589,\n",
       " -4589,\n",
       " ('eye', 'maheta', 6467),\n",
       " 789,\n",
       " 589,\n",
       " -4589,\n",
       " ('eye', 'maheta', 6467),\n",
       " 789,\n",
       " 589,\n",
       " -4589,\n",
       " ('eye', 'maheta', 6467)]"
      ]
     },
     "execution_count": 30,
     "metadata": {},
     "output_type": "execute_result"
    }
   ],
   "source": [
    "l3"
   ]
  },
  {
   "cell_type": "code",
   "execution_count": 33,
   "id": "c0f7ee6d",
   "metadata": {},
   "outputs": [],
   "source": [
    "s1 = 'ineuron'\n",
    "s2 = '56678'\n",
    "s = s1+s2\n",
    "s3 = s2*4"
   ]
  },
  {
   "cell_type": "code",
   "execution_count": 34,
   "id": "d3cf015e",
   "metadata": {},
   "outputs": [
    {
     "data": {
      "text/plain": [
       "'ineuron56678'"
      ]
     },
     "execution_count": 34,
     "metadata": {},
     "output_type": "execute_result"
    }
   ],
   "source": [
    "s"
   ]
  },
  {
   "cell_type": "code",
   "execution_count": 35,
   "id": "ad98c07b",
   "metadata": {},
   "outputs": [
    {
     "data": {
      "text/plain": [
       "'56678566785667856678'"
      ]
     },
     "execution_count": 35,
     "metadata": {},
     "output_type": "execute_result"
    }
   ],
   "source": [
    "s3"
   ]
  },
  {
   "cell_type": "markdown",
   "id": "44e545ce",
   "metadata": {},
   "source": [
    "# iteration "
   ]
  },
  {
   "cell_type": "code",
   "execution_count": 36,
   "id": "5d5c60c8",
   "metadata": {},
   "outputs": [
    {
     "name": "stdout",
     "output_type": "stream",
     "text": [
      "256\n",
      "789\n",
      "589\n"
     ]
    }
   ],
   "source": [
    "l = [256,789,589]\n",
    "for i in l:\n",
    "    print(i)"
   ]
  },
  {
   "cell_type": "code",
   "execution_count": 38,
   "id": "b2bfc412",
   "metadata": {},
   "outputs": [],
   "source": [
    "k = iter(l)"
   ]
  },
  {
   "cell_type": "code",
   "execution_count": 39,
   "id": "219ab8d7",
   "metadata": {},
   "outputs": [
    {
     "data": {
      "text/plain": [
       "256"
      ]
     },
     "execution_count": 39,
     "metadata": {},
     "output_type": "execute_result"
    }
   ],
   "source": [
    "next(k)"
   ]
  },
  {
   "cell_type": "code",
   "execution_count": 40,
   "id": "3aba50a8",
   "metadata": {},
   "outputs": [
    {
     "data": {
      "text/plain": [
       "789"
      ]
     },
     "execution_count": 40,
     "metadata": {},
     "output_type": "execute_result"
    }
   ],
   "source": [
    "next(k)"
   ]
  },
  {
   "cell_type": "code",
   "execution_count": 41,
   "id": "cdd7bec4",
   "metadata": {},
   "outputs": [
    {
     "data": {
      "text/plain": [
       "589"
      ]
     },
     "execution_count": 41,
     "metadata": {},
     "output_type": "execute_result"
    }
   ],
   "source": [
    "next(k)"
   ]
  },
  {
   "cell_type": "code",
   "execution_count": 42,
   "id": "05a715ba",
   "metadata": {},
   "outputs": [
    {
     "name": "stdout",
     "output_type": "stream",
     "text": [
      "D\n",
      "i\n",
      "w\n",
      "a\n",
      "l\n",
      "i\n"
     ]
    }
   ],
   "source": [
    "s = \"Diwali\"\n",
    "for i in s:\n",
    "    print(i)"
   ]
  },
  {
   "cell_type": "code",
   "execution_count": 43,
   "id": "8798fe85",
   "metadata": {},
   "outputs": [],
   "source": [
    "j = iter(s)"
   ]
  },
  {
   "cell_type": "code",
   "execution_count": 44,
   "id": "d7e72031",
   "metadata": {},
   "outputs": [
    {
     "data": {
      "text/plain": [
       "'D'"
      ]
     },
     "execution_count": 44,
     "metadata": {},
     "output_type": "execute_result"
    }
   ],
   "source": [
    "next(j)"
   ]
  },
  {
   "cell_type": "code",
   "execution_count": 45,
   "id": "fd768be9",
   "metadata": {},
   "outputs": [
    {
     "data": {
      "text/plain": [
       "'i'"
      ]
     },
     "execution_count": 45,
     "metadata": {},
     "output_type": "execute_result"
    }
   ],
   "source": [
    "next(j)"
   ]
  },
  {
   "cell_type": "code",
   "execution_count": 46,
   "id": "c6fcac19",
   "metadata": {},
   "outputs": [
    {
     "data": {
      "text/plain": [
       "'w'"
      ]
     },
     "execution_count": 46,
     "metadata": {},
     "output_type": "execute_result"
    }
   ],
   "source": [
    "next(j)"
   ]
  },
  {
   "cell_type": "markdown",
   "id": "7bddd8eb",
   "metadata": {},
   "source": [
    "# Common method"
   ]
  },
  {
   "cell_type": "code",
   "execution_count": 47,
   "id": "d0b997f0",
   "metadata": {},
   "outputs": [
    {
     "data": {
      "text/plain": [
       "3"
      ]
     },
     "execution_count": 47,
     "metadata": {},
     "output_type": "execute_result"
    }
   ],
   "source": [
    "len(l)"
   ]
  },
  {
   "cell_type": "code",
   "execution_count": 48,
   "id": "e6b1b5d4",
   "metadata": {},
   "outputs": [
    {
     "data": {
      "text/plain": [
       "6"
      ]
     },
     "execution_count": 48,
     "metadata": {},
     "output_type": "execute_result"
    }
   ],
   "source": [
    "len(s)"
   ]
  },
  {
   "cell_type": "code",
   "execution_count": 49,
   "id": "47ff5d5d",
   "metadata": {},
   "outputs": [
    {
     "data": {
      "text/plain": [
       "0"
      ]
     },
     "execution_count": 49,
     "metadata": {},
     "output_type": "execute_result"
    }
   ],
   "source": [
    "l.count(2)"
   ]
  },
  {
   "cell_type": "code",
   "execution_count": 50,
   "id": "f30baa83",
   "metadata": {},
   "outputs": [
    {
     "data": {
      "text/plain": [
       "2"
      ]
     },
     "execution_count": 50,
     "metadata": {},
     "output_type": "execute_result"
    }
   ],
   "source": [
    "s.count('i')"
   ]
  },
  {
   "cell_type": "code",
   "execution_count": 51,
   "id": "2a47fe6e",
   "metadata": {},
   "outputs": [
    {
     "data": {
      "text/plain": [
       "True"
      ]
     },
     "execution_count": 51,
     "metadata": {},
     "output_type": "execute_result"
    }
   ],
   "source": [
    "789 in l"
   ]
  },
  {
   "cell_type": "code",
   "execution_count": 52,
   "id": "7ed9542c",
   "metadata": {},
   "outputs": [
    {
     "data": {
      "text/plain": [
       "False"
      ]
     },
     "execution_count": 52,
     "metadata": {},
     "output_type": "execute_result"
    }
   ],
   "source": [
    "46464 in l"
   ]
  },
  {
   "cell_type": "code",
   "execution_count": 53,
   "id": "ff72fa5d",
   "metadata": {},
   "outputs": [
    {
     "data": {
      "text/plain": [
       "True"
      ]
     },
     "execution_count": 53,
     "metadata": {},
     "output_type": "execute_result"
    }
   ],
   "source": [
    "'l' in s"
   ]
  },
  {
   "cell_type": "code",
   "execution_count": 54,
   "id": "cf954517",
   "metadata": {},
   "outputs": [
    {
     "data": {
      "text/plain": [
       "False"
      ]
     },
     "execution_count": 54,
     "metadata": {},
     "output_type": "execute_result"
    }
   ],
   "source": [
    "'k' in s"
   ]
  },
  {
   "cell_type": "markdown",
   "id": "82576c3d",
   "metadata": {},
   "source": [
    "# Slicing operation"
   ]
  },
  {
   "cell_type": "code",
   "execution_count": 55,
   "id": "7d4b0c81",
   "metadata": {},
   "outputs": [
    {
     "data": {
      "text/plain": [
       "[256, 789]"
      ]
     },
     "execution_count": 55,
     "metadata": {},
     "output_type": "execute_result"
    }
   ],
   "source": [
    "l[:2]"
   ]
  },
  {
   "cell_type": "code",
   "execution_count": 56,
   "id": "777127d1",
   "metadata": {},
   "outputs": [
    {
     "data": {
      "text/plain": [
       "'Diwal'"
      ]
     },
     "execution_count": 56,
     "metadata": {},
     "output_type": "execute_result"
    }
   ],
   "source": [
    "s[:-1]"
   ]
  },
  {
   "cell_type": "markdown",
   "id": "167a0330",
   "metadata": {},
   "source": [
    "# 13. What's the difference between tuples and lists?\n",
    "# Answer :\n",
    "\n",
    " tuples :   1) They are indicated by ().\n",
    " \n",
    "           2) They are immutable.\n",
    "           \n",
    "           3) They are more memory efficient compare to list because they are immutable means they have fix size.\n",
    "           \n",
    "           4) They are hasable so it can use as key in dictionaries.\n",
    "           \n",
    "           5) They are slightly faster than list.\n",
    "        \n",
    "        Example : (6779, 5555, 'gen')\n",
    "        \n",
    " lists :  1) They are indicated by [].\n",
    " \n",
    "         2) They are mutable.\n",
    "         \n",
    "         3) They are less memory efficient compare to tuples as we can change them during programing.\n",
    "         \n",
    "         4) They are unhasable so it can't use as key in dictionaries.\n",
    "         \n",
    "         5) They are slightly slower than tuples.\n",
    "            \n",
    "       Example: [2346,684,'youth']\n",
    "        "
   ]
  },
  {
   "cell_type": "markdown",
   "id": "ea255eec",
   "metadata": {},
   "source": [
    "# 14. How do you type a tuple value that only contains the integer 42?\n",
    "# Answer :"
   ]
  },
  {
   "cell_type": "code",
   "execution_count": 57,
   "id": "7e9edb41",
   "metadata": {},
   "outputs": [
    {
     "data": {
      "text/plain": [
       "(42,)"
      ]
     },
     "execution_count": 57,
     "metadata": {},
     "output_type": "execute_result"
    }
   ],
   "source": [
    "t = (42,)\n",
    "t"
   ]
  },
  {
   "cell_type": "markdown",
   "id": "68a9e33d",
   "metadata": {},
   "source": [
    "# 15. How do you get a list value's tuple form? How do you get a tuple value's                                                                                                                                                      list form?\n",
    "# Answer :\n",
    " A list value's tuple form :\n"
   ]
  },
  {
   "cell_type": "code",
   "execution_count": 58,
   "id": "fb9e0b9f",
   "metadata": {},
   "outputs": [
    {
     "data": {
      "text/plain": [
       "(2, 4, 6, 8, 9)"
      ]
     },
     "execution_count": 58,
     "metadata": {},
     "output_type": "execute_result"
    }
   ],
   "source": [
    "l = [2, 4, 6, 8, 9]\n",
    "t = tuple(l)\n",
    "t"
   ]
  },
  {
   "cell_type": "markdown",
   "id": "a2d609c4",
   "metadata": {},
   "source": [
    "A tuple value's list form :"
   ]
  },
  {
   "cell_type": "code",
   "execution_count": 59,
   "id": "f6e283a0",
   "metadata": {},
   "outputs": [
    {
     "data": {
      "text/plain": [
       "['red', 23, 56, 646]"
      ]
     },
     "execution_count": 59,
     "metadata": {},
     "output_type": "execute_result"
    }
   ],
   "source": [
    "t = ('red', 23, 56, 646)\n",
    "l = list(t)\n",
    "l"
   ]
  },
  {
   "cell_type": "markdown",
   "id": "224458c3",
   "metadata": {},
   "source": [
    "# 16. Variables that \"contain\" list values are not necessarily lists themselves. Instead, what do they contain?\n",
    "# Answer :\n",
    "\n",
    "list is mutable data type so variables that \"contain\" list values are not necessarily lists themselves but \"contain\" refrences to list means they store memory address of the list.\n"
   ]
  },
  {
   "cell_type": "markdown",
   "id": "4359a749",
   "metadata": {},
   "source": [
    "# 17. How do you distinguish between copy.copy() and copy.deepcopy()?\n",
    "# Answer :\n",
    "    \n",
    "   copy.copy() use for shallow copy means it refers original list if we do any changes in shallow copy than original list will       \n",
    "         be modified.\n",
    "   \n",
    "   copy.deepcopy() use for deep copy means it create new list if we do any changes in deep copy than also it doesn't affact            \n",
    "        original list.\n",
    "  \n",
    "  Example for both are as below :"
   ]
  },
  {
   "cell_type": "code",
   "execution_count": 60,
   "id": "2f4dee8a",
   "metadata": {},
   "outputs": [
    {
     "data": {
      "text/plain": [
       "[[1, 2, 3], [4, 5, 6]]"
      ]
     },
     "execution_count": 60,
     "metadata": {},
     "output_type": "execute_result"
    }
   ],
   "source": [
    "import copy\n",
    "\n",
    "original_list = [[1, 2, 3], [4,5,6]]\n",
    "shallow_copy = copy.copy(original_list)\n",
    "shallow_copy"
   ]
  },
  {
   "cell_type": "code",
   "execution_count": 61,
   "id": "51b9b9df",
   "metadata": {},
   "outputs": [
    {
     "name": "stdout",
     "output_type": "stream",
     "text": [
      "[[1, 2, 3, 75], [4, 5, 6]]\n"
     ]
    }
   ],
   "source": [
    "shallow_copy[0].append(75)\n",
    "print(original_list)"
   ]
  },
  {
   "cell_type": "code",
   "execution_count": 62,
   "id": "0178d39f",
   "metadata": {},
   "outputs": [
    {
     "name": "stdout",
     "output_type": "stream",
     "text": [
      "[[1, 2, 3, 75], [4, 5, 6]]\n"
     ]
    }
   ],
   "source": [
    "print(shallow_copy)"
   ]
  },
  {
   "cell_type": "code",
   "execution_count": 63,
   "id": "2e355ab9",
   "metadata": {},
   "outputs": [
    {
     "data": {
      "text/plain": [
       "[[1, 2, 3], [4, 5, 6]]"
      ]
     },
     "execution_count": 63,
     "metadata": {},
     "output_type": "execute_result"
    }
   ],
   "source": [
    "import copy\n",
    "\n",
    "original_list = [[1, 2, 3], [4,5,6]]\n",
    "deep_copy = copy.deepcopy(original_list)\n",
    "deep_copy"
   ]
  },
  {
   "cell_type": "code",
   "execution_count": 64,
   "id": "d7145bb9",
   "metadata": {},
   "outputs": [
    {
     "name": "stdout",
     "output_type": "stream",
     "text": [
      "[[1, 2, 3], [4, 5, 6]]\n"
     ]
    }
   ],
   "source": [
    "deep_copy[1].append(45)\n",
    "print(original_list)"
   ]
  },
  {
   "cell_type": "code",
   "execution_count": 65,
   "id": "09086c41",
   "metadata": {},
   "outputs": [
    {
     "name": "stdout",
     "output_type": "stream",
     "text": [
      "[[1, 2, 3], [4, 5, 6, 45]]\n"
     ]
    }
   ],
   "source": [
    "print(deep_copy)"
   ]
  }
 ],
 "metadata": {
  "kernelspec": {
   "display_name": "Python 3 (ipykernel)",
   "language": "python",
   "name": "python3"
  },
  "language_info": {
   "codemirror_mode": {
    "name": "ipython",
    "version": 3
   },
   "file_extension": ".py",
   "mimetype": "text/x-python",
   "name": "python",
   "nbconvert_exporter": "python",
   "pygments_lexer": "ipython3",
   "version": "3.9.13"
  }
 },
 "nbformat": 4,
 "nbformat_minor": 5
}
