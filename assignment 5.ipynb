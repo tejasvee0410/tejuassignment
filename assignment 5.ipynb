{
 "cells": [
  {
   "cell_type": "markdown",
   "id": "6b17dbe9",
   "metadata": {},
   "source": [
    "# 1. What does an empty dictionary's code look like?\n",
    "# Answer :"
   ]
  },
  {
   "cell_type": "code",
   "execution_count": 1,
   "id": "85aafe91",
   "metadata": {},
   "outputs": [
    {
     "data": {
      "text/plain": [
       "dict"
      ]
     },
     "execution_count": 1,
     "metadata": {},
     "output_type": "execute_result"
    }
   ],
   "source": [
    "empty_dict = {}\n",
    "type(empty_dict)"
   ]
  },
  {
   "cell_type": "markdown",
   "id": "c8cc75fc",
   "metadata": {},
   "source": [
    "# 2. What is the value of a dictionary value with the key &#39;foo&#39; and the value 42?\n",
    "# Answer :"
   ]
  },
  {
   "cell_type": "code",
   "execution_count": 2,
   "id": "9a4a99c0",
   "metadata": {},
   "outputs": [
    {
     "data": {
      "text/plain": [
       "42"
      ]
     },
     "execution_count": 2,
     "metadata": {},
     "output_type": "execute_result"
    }
   ],
   "source": [
    "d = {'foo':42}\n",
    "value = d['foo']\n",
    "value"
   ]
  },
  {
   "cell_type": "markdown",
   "id": "8f246f6e",
   "metadata": {},
   "source": [
    "# 3. What is the most significant distinction between a dictionary and a list?\n",
    "# Answer :\n",
    "      \n",
    "    The significant distinction between a dictionary and a list are as follow :\n",
    "        \n",
    "        1) list is collection of elements While dict is collection of 'key':'value' pairs.\n",
    "            \n",
    "        2) list store elements in ordered while dict store 'key':'value' in unordered form .\n",
    "            \n",
    "        3) We can access list element by using index method While in dict we use 'key' to access 'value'.\n",
    "        \n",
    "        4) list contain duplicate elements while dict has unique 'key'.\n",
    "        \n",
    "        5) list is mutable While in dict 'keys' are immutable so we can't use list in dict as 'key'.\n",
    "        "
   ]
  },
  {
   "cell_type": "markdown",
   "id": "c1d97aba",
   "metadata": {},
   "source": [
    "# 4. What happens if you try to access spam['foo'] if spam is {'bar': 100}?\n",
    "# Answer :\n",
    "\n",
    "   It will give key error because here 'bar' is key."
   ]
  },
  {
   "cell_type": "code",
   "execution_count": 3,
   "id": "cfe787a8",
   "metadata": {},
   "outputs": [
    {
     "ename": "KeyError",
     "evalue": "'foo'",
     "output_type": "error",
     "traceback": [
      "\u001b[1;31m---------------------------------------------------------------------------\u001b[0m",
      "\u001b[1;31mKeyError\u001b[0m                                  Traceback (most recent call last)",
      "\u001b[1;32m~\\AppData\\Local\\Temp\\ipykernel_5552\\4026577702.py\u001b[0m in \u001b[0;36m<module>\u001b[1;34m\u001b[0m\n\u001b[0;32m      1\u001b[0m \u001b[0mspam\u001b[0m \u001b[1;33m=\u001b[0m \u001b[1;33m{\u001b[0m\u001b[1;34m'bar'\u001b[0m\u001b[1;33m:\u001b[0m\u001b[1;36m100\u001b[0m\u001b[1;33m}\u001b[0m\u001b[1;33m\u001b[0m\u001b[1;33m\u001b[0m\u001b[0m\n\u001b[1;32m----> 2\u001b[1;33m \u001b[0mspam\u001b[0m\u001b[1;33m[\u001b[0m\u001b[1;34m'foo'\u001b[0m\u001b[1;33m]\u001b[0m\u001b[1;33m\u001b[0m\u001b[1;33m\u001b[0m\u001b[0m\n\u001b[0m",
      "\u001b[1;31mKeyError\u001b[0m: 'foo'"
     ]
    }
   ],
   "source": [
    "spam = {'bar':100}\n",
    "spam['foo']"
   ]
  },
  {
   "cell_type": "code",
   "execution_count": 4,
   "id": "90f2e358",
   "metadata": {},
   "outputs": [
    {
     "data": {
      "text/plain": [
       "dict_keys(['bar'])"
      ]
     },
     "execution_count": 4,
     "metadata": {},
     "output_type": "execute_result"
    }
   ],
   "source": [
    "spam.keys()"
   ]
  },
  {
   "cell_type": "markdown",
   "id": "47df05b1",
   "metadata": {},
   "source": [
    "# 5. If a dictionary is stored in spam, what is the difference between the expressions 'cat' in spam and 'cat' in spam.keys()?\n",
    "# Answer :\n",
    "\n",
    "   The expression 'cat' in spam check whether cat is in spam as 'key' or not While 'cat' in spam.keys() check all the list of\n",
    "   \n",
    "   keys in dict to check whether 'cat' is in list of all keys of dict or not. if it present than both return True otherwise\n",
    "   \n",
    "   False.\n",
    "\n",
    " See the below example :"
   ]
  },
  {
   "cell_type": "code",
   "execution_count": 5,
   "id": "a6113845",
   "metadata": {},
   "outputs": [],
   "source": [
    "spam = {'cat':'dog'}"
   ]
  },
  {
   "cell_type": "code",
   "execution_count": 6,
   "id": "b6ed3c16",
   "metadata": {},
   "outputs": [
    {
     "data": {
      "text/plain": [
       "True"
      ]
     },
     "execution_count": 6,
     "metadata": {},
     "output_type": "execute_result"
    }
   ],
   "source": [
    "'cat' in spam"
   ]
  },
  {
   "cell_type": "code",
   "execution_count": 7,
   "id": "09106755",
   "metadata": {},
   "outputs": [
    {
     "data": {
      "text/plain": [
       "True"
      ]
     },
     "execution_count": 7,
     "metadata": {},
     "output_type": "execute_result"
    }
   ],
   "source": [
    "'cat' in spam.keys()"
   ]
  },
  {
   "cell_type": "markdown",
   "id": "cb17fc8d",
   "metadata": {},
   "source": [
    "# 6. If a dictionary is stored in spam, what is the difference between the expressions 'cat' in spam and'cat' in spam.values()?\n",
    "# Answer :\n",
    "       If the 'cat' as 'value' in dict of spam than the expression 'cat' in spam check whether 'cat' as 'key' or not if it \n",
    "    \n",
    "    not as 'key' than it will return False While for 'cat' in spam.values() it will check all the list of values of dict \n",
    "   \n",
    "    and if it present as 'value' than it will return True."
   ]
  },
  {
   "cell_type": "code",
   "execution_count": 8,
   "id": "8cd48680",
   "metadata": {},
   "outputs": [],
   "source": [
    "spam = {'rat':'cat'}"
   ]
  },
  {
   "cell_type": "code",
   "execution_count": 9,
   "id": "38d56b5c",
   "metadata": {},
   "outputs": [
    {
     "data": {
      "text/plain": [
       "False"
      ]
     },
     "execution_count": 9,
     "metadata": {},
     "output_type": "execute_result"
    }
   ],
   "source": [
    "'cat' in spam"
   ]
  },
  {
   "cell_type": "code",
   "execution_count": 10,
   "id": "152bb6a2",
   "metadata": {},
   "outputs": [
    {
     "data": {
      "text/plain": [
       "True"
      ]
     },
     "execution_count": 10,
     "metadata": {},
     "output_type": "execute_result"
    }
   ],
   "source": [
    "'cat' in spam.values()"
   ]
  },
  {
   "cell_type": "markdown",
   "id": "f46f8088",
   "metadata": {},
   "source": [
    "# 7. What is a shortcut for the following code?\n",
    "\n",
    "if 'color' not in spam:\n",
    "\n",
    "spam ['color'] = 'black'\n",
    "\n",
    "# Answer :"
   ]
  },
  {
   "cell_type": "code",
   "execution_count": 11,
   "id": "6f23571d",
   "metadata": {},
   "outputs": [],
   "source": [
    "spam = {}"
   ]
  },
  {
   "cell_type": "code",
   "execution_count": 12,
   "id": "512d25db",
   "metadata": {},
   "outputs": [
    {
     "name": "stdout",
     "output_type": "stream",
     "text": [
      "black\n"
     ]
    }
   ],
   "source": [
    "if 'color' not in spam:\n",
    "    spam ['color'] = 'black'\n",
    "print(spam['color'])"
   ]
  },
  {
   "cell_type": "code",
   "execution_count": 13,
   "id": "ef56ec17",
   "metadata": {},
   "outputs": [
    {
     "data": {
      "text/plain": [
       "'black'"
      ]
     },
     "execution_count": 13,
     "metadata": {},
     "output_type": "execute_result"
    }
   ],
   "source": [
    "spam.setdefault('color', 'black')"
   ]
  },
  {
   "cell_type": "markdown",
   "id": "0a9e8d95",
   "metadata": {},
   "source": [
    "# 8. How do you 'pretty print' dictionary values using which module and function?\n",
    "# Answer :\n",
    "   \n",
    "    Using pprint module and function of it pprint() we do 'pretty print' dictionary values.We import pprint module and than \n",
    "    \n",
    "       using its function pprint() which takes object as argument and return the output in easily readable way."
   ]
  }
 ],
 "metadata": {
  "kernelspec": {
   "display_name": "Python 3 (ipykernel)",
   "language": "python",
   "name": "python3"
  },
  "language_info": {
   "codemirror_mode": {
    "name": "ipython",
    "version": 3
   },
   "file_extension": ".py",
   "mimetype": "text/x-python",
   "name": "python",
   "nbconvert_exporter": "python",
   "pygments_lexer": "ipython3",
   "version": "3.9.13"
  }
 },
 "nbformat": 4,
 "nbformat_minor": 5
}
