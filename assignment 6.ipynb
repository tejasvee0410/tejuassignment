{
 "cells": [
  {
   "cell_type": "markdown",
   "id": "f64dab94",
   "metadata": {},
   "source": [
    "# 1. What are escape characters, and how do you use them?\n",
    "\n",
    "# Answer :\n",
    "\n",
    "   Escape characters are special type of characters which are used for different purpose with backslash.\n",
    "    Like '\\n' used for new line , '\\t' used for space between character , '\\\\' used for adding one backslash in string etc.\n",
    "    \n",
    "    Example :"
   ]
  },
  {
   "cell_type": "code",
   "execution_count": 21,
   "id": "56e86f3a",
   "metadata": {},
   "outputs": [
    {
     "name": "stdout",
     "output_type": "stream",
     "text": [
      "movie\n",
      "drama\n"
     ]
    }
   ],
   "source": [
    "print(\"movie\\ndrama\")"
   ]
  },
  {
   "cell_type": "code",
   "execution_count": 22,
   "id": "ab382fb0",
   "metadata": {},
   "outputs": [
    {
     "name": "stdout",
     "output_type": "stream",
     "text": [
      "google\tsearch\n"
     ]
    }
   ],
   "source": [
    "print(\"google\\tsearch\")"
   ]
  },
  {
   "cell_type": "markdown",
   "id": "4225cd90",
   "metadata": {},
   "source": [
    "# 2. What do the escape characters n and t stand for?\n",
    "\n",
    "# Answer :\n",
    "      The escape character n stand for new line and t stand for space between characters. \n",
    "     Examples for both are as follow :"
   ]
  },
  {
   "cell_type": "code",
   "execution_count": 1,
   "id": "6bd96a0c",
   "metadata": {},
   "outputs": [
    {
     "name": "stdout",
     "output_type": "stream",
     "text": [
      "python\n",
      "java\n"
     ]
    }
   ],
   "source": [
    "print(\"python\\njava\")"
   ]
  },
  {
   "cell_type": "code",
   "execution_count": 2,
   "id": "0402c956",
   "metadata": {},
   "outputs": [
    {
     "name": "stdout",
     "output_type": "stream",
     "text": [
      "ineuron\tassignment\n"
     ]
    }
   ],
   "source": [
    "print(\"ineuron\\tassignment\")"
   ]
  },
  {
   "cell_type": "markdown",
   "id": "437b4612",
   "metadata": {},
   "source": [
    "# 3. What is the way to include backslash characters in a string?\n",
    "\n",
    "# Answer :\n",
    "     To include backslash characters in a string we need to use double backslash at the end of string.\n",
    "     In which 1st backslash indicate escape character and 2nd backslash indicate the character we want to include.\n",
    "        Example are as below: \n",
    "        "
   ]
  },
  {
   "cell_type": "code",
   "execution_count": 3,
   "id": "d0736535",
   "metadata": {},
   "outputs": [
    {
     "name": "stdout",
     "output_type": "stream",
     "text": [
      "This string is with backslash  \\\n"
     ]
    }
   ],
   "source": [
    "print(\"This string is with backslash  \\\\\")"
   ]
  },
  {
   "cell_type": "markdown",
   "id": "5049673d",
   "metadata": {},
   "source": [
    "# 4.The string \"Howl's Moving Castle\" is a correct value. Why isn't the single            quote character in the word Howl's not escaped a problem?\n",
    "\n",
    "# Answer :\n",
    "\n",
    "     Because The string quoted in double quote and accroding to string delimiters if string start and end with double quote than if we write single quote character in between it the string not escape the problem. "
   ]
  },
  {
   "cell_type": "code",
   "execution_count": 4,
   "id": "923e5a12",
   "metadata": {},
   "outputs": [
    {
     "data": {
      "text/plain": [
       "\"Howl's Moving Castle\""
      ]
     },
     "execution_count": 4,
     "metadata": {},
     "output_type": "execute_result"
    }
   ],
   "source": [
    "\"Howl's Moving Castle\""
   ]
  },
  {
   "cell_type": "markdown",
   "id": "8563c4aa",
   "metadata": {},
   "source": [
    "# 5.How do you write a string of newlines if you don't want to use the n character?\n",
    "\n",
    "# Answer :\n",
    "\n",
    "    Using triple quote and enter key we can write string of newlines instead of using n character.\n"
   ]
  },
  {
   "cell_type": "code",
   "execution_count": 5,
   "id": "226bb6aa",
   "metadata": {},
   "outputs": [
    {
     "name": "stdout",
     "output_type": "stream",
     "text": [
      "We at iNeuron are a leading edtech company with our primary focus on providing education on emerging technologies while making tech education easily accessible.\n",
      "Our goal is to make education and experiential skills affordable and accessible to everyone regardless of their disparate economic and educational backgrounds.\n"
     ]
    }
   ],
   "source": [
    "print(\"\"\"We at iNeuron are a leading edtech company with our primary focus on providing education on emerging technologies while making tech education easily accessible.\n",
    "Our goal is to make education and experiential skills affordable and accessible to everyone regardless of their disparate economic and educational backgrounds.\"\"\")"
   ]
  },
  {
   "cell_type": "markdown",
   "id": "25423be9",
   "metadata": {},
   "source": [
    "# 6. What are the values of the given expressions?\n",
    "\n",
    "'Hello, world!'[1]\n",
    "\n",
    "'Hello, world!'[0:5]\n",
    "\n",
    "'Hello, world!'[:5]\n",
    "\n",
    "'Hello, world!'[3:]\n",
    "\n",
    "# Answer :"
   ]
  },
  {
   "cell_type": "code",
   "execution_count": 6,
   "id": "2e0bb422",
   "metadata": {},
   "outputs": [
    {
     "data": {
      "text/plain": [
       "'e'"
      ]
     },
     "execution_count": 6,
     "metadata": {},
     "output_type": "execute_result"
    }
   ],
   "source": [
    "'Hello, world!'[1]"
   ]
  },
  {
   "cell_type": "code",
   "execution_count": 7,
   "id": "a7587523",
   "metadata": {},
   "outputs": [
    {
     "data": {
      "text/plain": [
       "'Hello'"
      ]
     },
     "execution_count": 7,
     "metadata": {},
     "output_type": "execute_result"
    }
   ],
   "source": [
    "'Hello, world!'[0:5]\n"
   ]
  },
  {
   "cell_type": "code",
   "execution_count": 8,
   "id": "864b4786",
   "metadata": {},
   "outputs": [
    {
     "data": {
      "text/plain": [
       "'Hello'"
      ]
     },
     "execution_count": 8,
     "metadata": {},
     "output_type": "execute_result"
    }
   ],
   "source": [
    "'Hello, world!'[:5]"
   ]
  },
  {
   "cell_type": "code",
   "execution_count": 9,
   "id": "9c8c2735",
   "metadata": {},
   "outputs": [
    {
     "data": {
      "text/plain": [
       "'lo, world!'"
      ]
     },
     "execution_count": 9,
     "metadata": {},
     "output_type": "execute_result"
    }
   ],
   "source": [
    "'Hello, world!'[3:]"
   ]
  },
  {
   "cell_type": "markdown",
   "id": "390e27c4",
   "metadata": {},
   "source": [
    "# 7. What are the values of the following expressions?\n",
    "\n",
    "'Hello'.upper()\n",
    "\n",
    "'Hello'.upper().isupper()\n",
    "\n",
    "'Hello'.upper().lower()\n",
    "\n",
    "# Answer :"
   ]
  },
  {
   "cell_type": "code",
   "execution_count": 10,
   "id": "c6c3884e",
   "metadata": {},
   "outputs": [
    {
     "data": {
      "text/plain": [
       "'HELLO'"
      ]
     },
     "execution_count": 10,
     "metadata": {},
     "output_type": "execute_result"
    }
   ],
   "source": [
    "'Hello'.upper()"
   ]
  },
  {
   "cell_type": "code",
   "execution_count": 11,
   "id": "99190e71",
   "metadata": {},
   "outputs": [
    {
     "data": {
      "text/plain": [
       "True"
      ]
     },
     "execution_count": 11,
     "metadata": {},
     "output_type": "execute_result"
    }
   ],
   "source": [
    "'Hello'.upper().isupper()"
   ]
  },
  {
   "cell_type": "code",
   "execution_count": 12,
   "id": "33730002",
   "metadata": {},
   "outputs": [
    {
     "data": {
      "text/plain": [
       "'hello'"
      ]
     },
     "execution_count": 12,
     "metadata": {},
     "output_type": "execute_result"
    }
   ],
   "source": [
    "'Hello'.upper().lower()"
   ]
  },
  {
   "cell_type": "markdown",
   "id": "bd6249cb",
   "metadata": {},
   "source": [
    "# 8. What are the values of the following expressions?\n",
    "\n",
    "'Remember, remember, the fifth of July.'.split()\n",
    "\n",
    "'-'.join('There can only one.''.split())\n",
    "    \n",
    "# Answer :"
   ]
  },
  {
   "cell_type": "code",
   "execution_count": 13,
   "id": "289c9e7f",
   "metadata": {},
   "outputs": [
    {
     "data": {
      "text/plain": [
       "['Remember,', 'remember,', 'the', 'fifth', 'of', 'July.']"
      ]
     },
     "execution_count": 13,
     "metadata": {},
     "output_type": "execute_result"
    }
   ],
   "source": [
    "'Remember, remember, the fifth of July.'.split()    "
   ]
  },
  {
   "cell_type": "code",
   "execution_count": 14,
   "id": "ba3b4304",
   "metadata": {},
   "outputs": [
    {
     "data": {
      "text/plain": [
       "'There-can-only-one.'"
      ]
     },
     "execution_count": 14,
     "metadata": {},
     "output_type": "execute_result"
    }
   ],
   "source": [
    "'-'.join('There can only one.'.split())"
   ]
  },
  {
   "cell_type": "markdown",
   "id": "b55a6bfb",
   "metadata": {},
   "source": [
    "# 9. What are the methods for right-justifying, left-justifying, and centering a               string?\n",
    " \n",
    "# Answer :\n",
    "    \n",
    "        1) for right justifying 'str.rjust(width, fillchar)'\n",
    "        \n",
    "        2) for left justifying 'str.ljust(width, fillchar)'\n",
    "        \n",
    "        3) for center justifying 'str.center(width, fillchar)'\n",
    "          \n",
    "    Examples :\n"
   ]
  },
  {
   "cell_type": "code",
   "execution_count": 15,
   "id": "e6e3af91",
   "metadata": {},
   "outputs": [
    {
     "name": "stdout",
     "output_type": "stream",
     "text": [
      "***************Tejas\n"
     ]
    }
   ],
   "source": [
    "name = \"Tejas\"\n",
    "print(name.rjust(20, '*'))"
   ]
  },
  {
   "cell_type": "code",
   "execution_count": 16,
   "id": "e8867abf",
   "metadata": {},
   "outputs": [
    {
     "name": "stdout",
     "output_type": "stream",
     "text": [
      "Tejas---------------\n"
     ]
    }
   ],
   "source": [
    "print(name.ljust(20, '-'))"
   ]
  },
  {
   "cell_type": "code",
   "execution_count": 17,
   "id": "40aca2f9",
   "metadata": {},
   "outputs": [
    {
     "name": "stdout",
     "output_type": "stream",
     "text": [
      "\\\\\\\\\\\\\\Tejas\\\\\\\\\\\\\\\\\n"
     ]
    }
   ],
   "source": [
    "print(name.center(20, '\\\\'))"
   ]
  },
  {
   "cell_type": "markdown",
   "id": "e5ddad1a",
   "metadata": {},
   "source": [
    "# 10. What is the best way to remove whitespace characters from the start or               end?\n",
    "\n",
    "# Answer :\n",
    "   \n",
    "    To remove whitespace we use 's.strip()' method if we want to remove white space from right side we use 's.rstrip()' and for removing from left side we use 's.lstrip()' method.\n",
    "     \n",
    "    Examples :"
   ]
  },
  {
   "cell_type": "code",
   "execution_count": 18,
   "id": "e96796f1",
   "metadata": {},
   "outputs": [],
   "source": [
    "s = \"  ineuron    \""
   ]
  },
  {
   "cell_type": "code",
   "execution_count": 19,
   "id": "79ce818c",
   "metadata": {},
   "outputs": [
    {
     "data": {
      "text/plain": [
       "'ineuron    '"
      ]
     },
     "execution_count": 19,
     "metadata": {},
     "output_type": "execute_result"
    }
   ],
   "source": [
    "s.lstrip()"
   ]
  },
  {
   "cell_type": "code",
   "execution_count": 20,
   "id": "edcbce00",
   "metadata": {},
   "outputs": [
    {
     "data": {
      "text/plain": [
       "'  ineuron'"
      ]
     },
     "execution_count": 20,
     "metadata": {},
     "output_type": "execute_result"
    }
   ],
   "source": [
    "s.rstrip()"
   ]
  },
  {
   "cell_type": "code",
   "execution_count": 21,
   "id": "203c6bc8",
   "metadata": {},
   "outputs": [
    {
     "data": {
      "text/plain": [
       "'ineuron'"
      ]
     },
     "execution_count": 21,
     "metadata": {},
     "output_type": "execute_result"
    }
   ],
   "source": [
    "s.strip()"
   ]
  }
 ],
 "metadata": {
  "kernelspec": {
   "display_name": "Python 3 (ipykernel)",
   "language": "python",
   "name": "python3"
  },
  "language_info": {
   "codemirror_mode": {
    "name": "ipython",
    "version": 3
   },
   "file_extension": ".py",
   "mimetype": "text/x-python",
   "name": "python",
   "nbconvert_exporter": "python",
   "pygments_lexer": "ipython3",
   "version": "3.9.13"
  }
 },
 "nbformat": 4,
 "nbformat_minor": 5
}
