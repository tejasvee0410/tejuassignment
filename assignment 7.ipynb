{
 "cells": [
  {
   "cell_type": "markdown",
   "id": "a2c5a321",
   "metadata": {},
   "source": [
    "# 1. What is the name of the feature responsible for generating Regex objects?\n",
    "# Answer \n",
    "   The name of the feature responsible for generating Regex object is re.complie() which compile a regular expression string into regex object."
   ]
  },
  {
   "cell_type": "markdown",
   "id": "c4c9e87a",
   "metadata": {},
   "source": [
    "# 2. Why do raw strings often appear in Regex objects?\n",
    "# Answer \n",
    "     \n",
    "    Generally backslash character treated as a escape charater but raw string treat backslash as a literal character. In regular expression and in window path or in file path there are so many backslashes and that time raw string appear in picture to treat backslashes as literal character.\n",
    "    \n",
    "Example:"
   ]
  },
  {
   "cell_type": "code",
   "execution_count": 1,
   "id": "b9ce24a5",
   "metadata": {},
   "outputs": [
    {
     "name": "stdout",
     "output_type": "stream",
     "text": [
      "Hey\tAfter long time \n",
      "How are you?\n"
     ]
    }
   ],
   "source": [
    "s = \"Hey\\tAfter long time \\nHow are you?\"\n",
    "print(s)"
   ]
  },
  {
   "cell_type": "code",
   "execution_count": 2,
   "id": "fff9bc86",
   "metadata": {},
   "outputs": [
    {
     "name": "stdout",
     "output_type": "stream",
     "text": [
      "Hey\\tAfter long time \\nHow are you?\n"
     ]
    }
   ],
   "source": [
    "str = r\"Hey\\tAfter long time \\nHow are you?\"\n",
    "print(str)"
   ]
  },
  {
   "cell_type": "markdown",
   "id": "1fe73e21",
   "metadata": {},
   "source": [
    "# 3. What is the return value of the search() method?\n",
    "# Answer \n",
    "   \n",
    " search() function search the string for match and return a match object from string.If there are more than one match object than it will return the first match object.\n",
    " \n",
    "Example:"
   ]
  },
  {
   "cell_type": "code",
   "execution_count": 3,
   "id": "319a2ed3",
   "metadata": {},
   "outputs": [
    {
     "name": "stdout",
     "output_type": "stream",
     "text": [
      "11\n"
     ]
    }
   ],
   "source": [
    "import re\n",
    "txt = \"The Rock Star started singing\"\n",
    "x = re.search(\"ar\", txt)\n",
    "print(x.start())\n"
   ]
  },
  {
   "cell_type": "markdown",
   "id": "7325f7f0",
   "metadata": {},
   "source": [
    "# 4. From a Match item, how do you get the actual strings that match the       pattern?\n",
    "\n",
    "# Answer\n",
    "   \n",
    "   From match item  Using .group() method we can get the actual string that match the pattern.\n",
    "\n",
    "Example"
   ]
  },
  {
   "cell_type": "code",
   "execution_count": 4,
   "id": "162ab224",
   "metadata": {},
   "outputs": [
    {
     "name": "stdout",
     "output_type": "stream",
     "text": [
      "catch\n"
     ]
    }
   ],
   "source": [
    "import re\n",
    "\n",
    "txt = \"Try to catch bus on time and don't cry\"\n",
    "x = re.search(r\"c\\w+\",txt)\n",
    "print(x.group())"
   ]
  },
  {
   "cell_type": "markdown",
   "id": "77e26509",
   "metadata": {},
   "source": [
    "# 5. In the regex which created from the r\"(\\d\\d\\d)-(\\d\\d\\d-\\d\\d\\d\\d)\", what does group zero cover?Group 2? Group 1?\n",
    "\n",
    "# Ans.\n",
    "\n",
    "   In the regex which created from the r\"(\\d\\d\\d)-(\\d\\d\\d-\\d\\d\\d\\d)\" : \n",
    "   \n",
    "    group zero cover the entire phone number in which (\\d\\d\\d) is area code and remain is phone number.\n",
    "    \n",
    "    group 2 cover only phone number(\\d\\d\\d-\\d\\d\\d\\d).\n",
    "    \n",
    "    group 1 cover only area code(\\d\\d\\d)."
   ]
  },
  {
   "cell_type": "markdown",
   "id": "86c3d6f1",
   "metadata": {},
   "source": [
    "# 6. In standard expression syntax, parentheses and intervals have distinct   meanings. How can you tell a regex that you want it to fit real parentheses and periods?\n",
    "# Answer : \n",
    "  To fit real parentheses and periods in a regex we use backslashes which followed by parenthese and periods.\n",
    "    \n",
    "  for Example if we want to use . in regex than we write it with backslash(\\.)\n",
    "\n",
    "  \n",
    "              if we want to use () in regex than we write it as \\(\\)"
   ]
  },
  {
   "cell_type": "markdown",
   "id": "dcbc7861",
   "metadata": {},
   "source": [
    "# 7. The findall() method returns a string list or a list of string tuples. What causes it to return one of the two options?\n",
    "# Answer :\n",
    "     \n",
    "    In findall() method it return a string list or a list of string tuples depends on below reason :\n",
    "        \n",
    "    If there are no group than it will return list of string matching the whole pattern. \n",
    "    \n",
    "    If one group matching than it will return list of string matching that group.\n",
    "\n",
    "    If multiple group present than it will return tuple of string matching that group. \n",
    "    \n",
    "Example :"
   ]
  },
  {
   "cell_type": "code",
   "execution_count": 5,
   "id": "f368b186",
   "metadata": {},
   "outputs": [
    {
     "data": {
      "text/plain": [
       "['This', 'assignment', 'is', 'about', 'regex', 'method']"
      ]
     },
     "execution_count": 5,
     "metadata": {},
     "output_type": "execute_result"
    }
   ],
   "source": [
    "import re \n",
    "re.findall(r'\\w+','This assignment is about regex method ')"
   ]
  },
  {
   "cell_type": "code",
   "execution_count": 6,
   "id": "4c47141d",
   "metadata": {},
   "outputs": [
    {
     "data": {
      "text/plain": [
       "['this', 'test']"
      ]
     },
     "execution_count": 6,
     "metadata": {},
     "output_type": "execute_result"
    }
   ],
   "source": [
    "import re\n",
    "re.findall(r'\\bt[a-z]*', 'this is a test string ')"
   ]
  },
  {
   "cell_type": "code",
   "execution_count": 7,
   "id": "0fffc312",
   "metadata": {},
   "outputs": [
    {
     "name": "stdout",
     "output_type": "stream",
     "text": [
      "[('shirt', 'Rs.956'), ('pant', 'Rs.500')]\n"
     ]
    }
   ],
   "source": [
    "import re\n",
    "text = \"Price of this shirt is Rs.956and price of pant is Rs.500\"\n",
    "match_pattern = r\"(\\w+) is (Rs\\.\\d+)\"\n",
    "match_group = re.findall(match_pattern,text)\n",
    "print(match_group)"
   ]
  },
  {
   "cell_type": "markdown",
   "id": "98f18e43",
   "metadata": {},
   "source": [
    "# 8. In standard expressions, what does the | character mean?\n",
    "\n",
    "# Answer\n",
    "    \n",
    "    In standard expression the | character known as pipe charater when we have many options that time we use it.It work like OR operation in logic gate.It try to found match of any option and when match found it will return it.\n",
    "    \n",
    "    Example :"
   ]
  },
  {
   "cell_type": "code",
   "execution_count": 8,
   "id": "c3d85eed",
   "metadata": {},
   "outputs": [
    {
     "name": "stdout",
     "output_type": "stream",
     "text": [
      "['green', 'yellow', 'red']\n"
     ]
    }
   ],
   "source": [
    "import re\n",
    "text = \"Holi celebration start with green,yellow,pink,red and so many colors\"\n",
    "color = r'green|red|yellow|blue|orange'\n",
    "match = re.findall(color,text)\n",
    "print(match)"
   ]
  },
  {
   "cell_type": "markdown",
   "id": "9e3634eb",
   "metadata": {},
   "source": [
    "# 9. In regular expressions, what does the | character stand for?\n",
    "# Answer \n",
    "    \n",
    "  In regular expressions the | character stand similar as for standard expression. It used as alternative when so many option given. It match the option with string and return the match which it found.\n",
    "\n",
    "    Example :"
   ]
  },
  {
   "cell_type": "code",
   "execution_count": 9,
   "id": "d40dcde4",
   "metadata": {},
   "outputs": [
    {
     "name": "stdout",
     "output_type": "stream",
     "text": [
      "['maruti suzuki', 'tata motors', 'mahindra']\n"
     ]
    }
   ],
   "source": [
    "import re \n",
    "text = \"There are so many brands of cars in india but maruti suzuki,tata motors,hundai,mahindra are top brands.\"\n",
    "brand = r'maruti suzuki|toyoto|mahindra|tata motors|kia'\n",
    "match_brand = re.findall(brand,text)\n",
    "print(match_brand)"
   ]
  },
  {
   "cell_type": "markdown",
   "id": "b4d53506",
   "metadata": {},
   "source": [
    "# 10.In regular expressions, what is the difference between the + and * characters?\n",
    "# Answer\n",
    "   \n",
    "    In regular operation + and * both charaters used for matching the precending element but the differnce is :\n",
    "    \n",
    "    + character allows the precending element in string to occur one or more times.It will not match with empty string. \n",
    "    \n",
    "    * character allows the precending element in string to occur zero or more times.It will match with empty string.\n",
    "    \n",
    "  Example :"
   ]
  },
  {
   "cell_type": "code",
   "execution_count": 10,
   "id": "7affdf96",
   "metadata": {},
   "outputs": [
    {
     "name": "stdout",
     "output_type": "stream",
     "text": [
      "['956', '456', '464']\n"
     ]
    }
   ],
   "source": [
    "import re\n",
    "text = \"Find the addition of 956,456,dgrg,464,jth\"\n",
    "match = r'\\d+'\n",
    "match_pattern = re.findall(match,text)\n",
    "print(match_pattern)"
   ]
  },
  {
   "cell_type": "code",
   "execution_count": 11,
   "id": "2cb78056",
   "metadata": {},
   "outputs": [
    {
     "name": "stdout",
     "output_type": "stream",
     "text": [
      "['', '', '', '', '', '', '', '', '', '', '', '', '', '', '', '', '', '', '', '', '', '956', '', '456', '', '', '', '', '', '', '464', '', '', '', '', '']\n"
     ]
    }
   ],
   "source": [
    "import re\n",
    "text = \"Find the addition of 956,456,dgrg,464,jth\"\n",
    "match = r'\\d*'\n",
    "match_pattern = re.findall(match,text)\n",
    "print(match_pattern)"
   ]
  },
  {
   "cell_type": "code",
   "execution_count": 12,
   "id": "cbbd9820",
   "metadata": {},
   "outputs": [
    {
     "name": "stdout",
     "output_type": "stream",
     "text": [
      "['', '']\n"
     ]
    }
   ],
   "source": [
    "import re\n",
    "text = \" \"\n",
    "match = r'\\d*'\n",
    "match_pattern = re.findall(match,text)\n",
    "print(match_pattern)"
   ]
  },
  {
   "cell_type": "code",
   "execution_count": 13,
   "id": "ff9dcea0",
   "metadata": {},
   "outputs": [
    {
     "name": "stdout",
     "output_type": "stream",
     "text": [
      "[]\n"
     ]
    }
   ],
   "source": [
    "import re\n",
    "text = \" \"\n",
    "match = r'\\d+'\n",
    "match_pattern = re.findall(match,text)\n",
    "print(match_pattern)"
   ]
  },
  {
   "cell_type": "markdown",
   "id": "cb9afdf1",
   "metadata": {},
   "source": [
    "# 11. What is the difference between {4} and {4,5} in regular expression?\n",
    "# Answer\n",
    "   \n",
    " In regular expression {4} represent the exact count While {4,5} represent the range. {4} shows that we look for four digit number While {4,5} shows we look for number which is between 3 to 5 digit.\n",
    "    \n",
    "    Example:"
   ]
  },
  {
   "cell_type": "code",
   "execution_count": 14,
   "id": "07355dd8",
   "metadata": {},
   "outputs": [
    {
     "name": "stdout",
     "output_type": "stream",
     "text": [
      "['1256', '5869', '4258', '5698', '7548']\n"
     ]
    }
   ],
   "source": [
    "# For {4}\n",
    "\n",
    "import re\n",
    "number = \"1256 58693 4258963 5698 754860 423\" \n",
    "pattern = r'\\d{4}'\n",
    "match_pattern = re.findall(pattern, number)\n",
    "print(match_pattern)"
   ]
  },
  {
   "cell_type": "code",
   "execution_count": 15,
   "id": "45b41dee",
   "metadata": {},
   "outputs": [
    {
     "name": "stdout",
     "output_type": "stream",
     "text": [
      "['4646', '56487', '4789', '58692', '4256', '45689']\n"
     ]
    }
   ],
   "source": [
    "# For {4,5}\n",
    "\n",
    "import re\n",
    "number = \"4646 56487 536 4789 58692 4256 4568932 15 6 25\"\n",
    "pattern = r'\\d{4,5}'\n",
    "match_pattern = re.findall(pattern, number)\n",
    "print(match_pattern) "
   ]
  },
  {
   "cell_type": "markdown",
   "id": "58204728",
   "metadata": {},
   "source": [
    "# 12. What do you mean by the \\d, \\w, and \\s shorthand character classes signify in regular expression?\n",
    "# Answer \n",
    "   \n",
    "    In regular expession character :\n",
    "    \n",
    "    \\d signify the any digit between [0-9]\n",
    "    \n",
    "    \\w signify the alphabetic letters [A-Z], [a-z] and numbers from [0-9] and underscore[_]\n",
    "    \n",
    "    \\s signify the white space characters like new line, tab etc.\n",
    "    \n",
    "    Example :"
   ]
  },
  {
   "cell_type": "code",
   "execution_count": 16,
   "id": "1c39ab89",
   "metadata": {},
   "outputs": [
    {
     "name": "stdout",
     "output_type": "stream",
     "text": [
      "['564', '5', '456']\n"
     ]
    }
   ],
   "source": [
    "# for \\d\n",
    "\n",
    "import re \n",
    "pattern = \"dcbg 564 fge5 sff@456\"\n",
    "match = r'\\d+'\n",
    "match_pattern = re.findall(match,pattern)\n",
    "print(match_pattern)"
   ]
  },
  {
   "cell_type": "code",
   "execution_count": 17,
   "id": "6b350961",
   "metadata": {},
   "outputs": [
    {
     "name": "stdout",
     "output_type": "stream",
     "text": [
      "['The', 'cow', '464', '_', 'red456', 'dfggdf', '466']\n"
     ]
    }
   ],
   "source": [
    "# for \\w\n",
    "\n",
    "import re\n",
    "pattern = \"The cow 464 $%_& red456 dfggdf@466\"\n",
    "match = r'\\w+'\n",
    "match_pattern = re.findall(match,pattern)\n",
    "print(match_pattern)"
   ]
  },
  {
   "cell_type": "code",
   "execution_count": 18,
   "id": "fb25b18e",
   "metadata": {},
   "outputs": [
    {
     "name": "stdout",
     "output_type": "stream",
     "text": [
      "['\\n', '\\t', ' ', ' ', ' ']\n"
     ]
    }
   ],
   "source": [
    "# for \\s\n",
    "\n",
    "import re\n",
    "pattern = \"Sweden\\nJockey\\thour town 4667 #%%\"\n",
    "match = r'\\s+'\n",
    "match_pattern = re.findall(match,pattern)\n",
    "print(match_pattern)"
   ]
  },
  {
   "cell_type": "markdown",
   "id": "2f6637d7",
   "metadata": {},
   "source": [
    "# 13. What do means by \\D, \\W, and \\S shorthand character classes signify in regular expressions?\n",
    "# Answer \n",
    "  In regular expression character :\n",
    "        \n",
    "  \\D signify the character which are not any digit from 0-9 means character is not numeric number.\n",
    "    \n",
    "  \\W signify the character which are not alphabetic or alphanumeric or underscore means character is not from A-Z, a-z, 0-9 and _.\n",
    "    \n",
    "  \\S signify the character which are not white space character means character is like tab, new line,etc character.\n",
    "        \n",
    "    Example :    "
   ]
  },
  {
   "cell_type": "code",
   "execution_count": 19,
   "id": "cbb50e9a",
   "metadata": {},
   "outputs": [
    {
     "name": "stdout",
     "output_type": "stream",
     "text": [
      "['dcbg ', ' fge', ' sff@']\n"
     ]
    }
   ],
   "source": [
    "# for \\D\n",
    "\n",
    "import re \n",
    "pattern = \"dcbg 564 fge5 sff@456\"\n",
    "match = r'\\D+'\n",
    "match_pattern = re.findall(match,pattern)\n",
    "print(match_pattern)"
   ]
  },
  {
   "cell_type": "code",
   "execution_count": 20,
   "id": "081036ed",
   "metadata": {},
   "outputs": [
    {
     "name": "stdout",
     "output_type": "stream",
     "text": [
      "[' ', ' ', ' $%', '& ', ' ', '@']\n"
     ]
    }
   ],
   "source": [
    "# for \\w\n",
    "\n",
    "import re\n",
    "pattern = \"The cow 464 $%_& red456 dfggdf@466\"\n",
    "match = r'\\W+'\n",
    "match_pattern = re.findall(match,pattern)\n",
    "print(match_pattern)"
   ]
  },
  {
   "cell_type": "code",
   "execution_count": 21,
   "id": "dfb2c92c",
   "metadata": {},
   "outputs": [
    {
     "name": "stdout",
     "output_type": "stream",
     "text": [
      "['Sweden', 'Jockey', 'hour', 'town', '4667', '#%%']\n"
     ]
    }
   ],
   "source": [
    "# for \\S\n",
    "\n",
    "import re\n",
    "pattern = \"Sweden\\nJockey\\thour town 4667 #%%\"\n",
    "match = r'\\S+'\n",
    "match_pattern = re.findall(match,pattern)\n",
    "print(match_pattern)"
   ]
  },
  {
   "cell_type": "markdown",
   "id": "977eb352",
   "metadata": {},
   "source": [
    "# 14. What is the difference between .*? and .* ?\n",
    "# Answer \n",
    "    \n",
    "  The difference between .*? and .* is as follow :\n",
    "        \n",
    "  .*? is non-greedy or lazy matching means it try to match  few occurence of character but also allows to match entire string character.\n",
    "    \n",
    "  .* is greedy matching means it try to match as many charater as possible and also can match entire string character.\n",
    "    \n",
    "Example :"
   ]
  },
  {
   "cell_type": "code",
   "execution_count": 22,
   "id": "8a162ab7",
   "metadata": {},
   "outputs": [
    {
     "name": "stdout",
     "output_type": "stream",
     "text": [
      "['', 'a', '', 'b', '', 'd', '', 'f', '', 'd', '', 'f', '', '4', '', '6', '', '6', '']\n"
     ]
    }
   ],
   "source": [
    "import re\n",
    "str = 'abdfdf466'\n",
    "pattern = r'.*?'\n",
    "str_pattern = re.findall(pattern,str)\n",
    "print(str_pattern)"
   ]
  },
  {
   "cell_type": "code",
   "execution_count": 23,
   "id": "407e5679",
   "metadata": {},
   "outputs": [
    {
     "name": "stdout",
     "output_type": "stream",
     "text": [
      "['sdfer6464', '']\n"
     ]
    }
   ],
   "source": [
    "import re\n",
    "str = 'sdfer6464'\n",
    "pattern = r'.*'\n",
    "str_pattern = re.findall(pattern,str)\n",
    "print(str_pattern)"
   ]
  },
  {
   "cell_type": "code",
   "execution_count": 24,
   "id": "fc63ae04",
   "metadata": {},
   "outputs": [
    {
     "name": "stdout",
     "output_type": "stream",
     "text": [
      "['a', 'b', 'd', 'f', 'd', 'f', '4', '6', '6']\n"
     ]
    }
   ],
   "source": [
    "import re\n",
    "str = 'abdfdf466'\n",
    "pattern = r'.*?\\w'\n",
    "str_pattern = re.findall(pattern,str)\n",
    "print(str_pattern)"
   ]
  },
  {
   "cell_type": "code",
   "execution_count": 25,
   "id": "05d04be8",
   "metadata": {},
   "outputs": [
    {
     "name": "stdout",
     "output_type": "stream",
     "text": [
      "['sdfer6464']\n"
     ]
    }
   ],
   "source": [
    "import re\n",
    "str = 'sdfer6464'\n",
    "pattern = r'.*\\w'\n",
    "str_pattern = re.findall(pattern,str)\n",
    "print(str_pattern)"
   ]
  },
  {
   "cell_type": "code",
   "execution_count": 26,
   "id": "7a03c7c6",
   "metadata": {},
   "outputs": [
    {
     "name": "stdout",
     "output_type": "stream",
     "text": [
      "['abdfdf4', '6', '6']\n"
     ]
    }
   ],
   "source": [
    "import re\n",
    "str = 'abdfdf466'\n",
    "pattern = r'.*?\\d'\n",
    "str_pattern = re.findall(pattern,str)\n",
    "print(str_pattern)"
   ]
  },
  {
   "cell_type": "code",
   "execution_count": 27,
   "id": "7466033a",
   "metadata": {},
   "outputs": [
    {
     "name": "stdout",
     "output_type": "stream",
     "text": [
      "['sdfer6464']\n"
     ]
    }
   ],
   "source": [
    "import re\n",
    "str = 'sdfer6464'\n",
    "pattern = r'.*\\d'\n",
    "str_pattern = re.findall(pattern,str)\n",
    "print(str_pattern)"
   ]
  },
  {
   "cell_type": "markdown",
   "id": "68d9a289",
   "metadata": {},
   "source": [
    "# 15. What is the syntax for matching both numbers and lowercase letters with a character class?\n",
    "# Answer \n",
    "\n",
    "  The syntax for matching both numbers and lowercase letters with a character class is [0-9a-z].   "
   ]
  },
  {
   "cell_type": "markdown",
   "id": "701878c2",
   "metadata": {},
   "source": [
    "# 16. What is the procedure for making a normal expression in regex case insensitive?\n",
    "# Answer \n",
    "  \n",
    "    For making normal expression in regex case insensitive we use 're.IGNORECASE' flag.\n",
    "    \n",
    "Example :"
   ]
  },
  {
   "cell_type": "code",
   "execution_count": 28,
   "id": "7d63cdc8",
   "metadata": {},
   "outputs": [
    {
     "name": "stdout",
     "output_type": "stream",
     "text": [
      "HoLi\n"
     ]
    }
   ],
   "source": [
    "import re\n",
    "str = \"HoLi is FeStival Of cOlour\"\n",
    "pattern = r'\\w+'\n",
    "match = re.compile(pattern, re.IGNORECASE)\n",
    "result = match.search(str)\n",
    "print(result.group())"
   ]
  },
  {
   "cell_type": "markdown",
   "id": "a9e95550",
   "metadata": {},
   "source": [
    "# 17. What does the . character normally match? What does it match if re.DOTALL is passed as 2nd argument in re.compile()?\n",
    "# Answer \n",
    "\n",
    "  Normally the . character match any character except newline character. If re.DOTALL is passed as 2nd argument in re.compile() it will match any character including newline character.\n",
    "    \n",
    "    Example :"
   ]
  },
  {
   "cell_type": "code",
   "execution_count": 29,
   "id": "cb9078bf",
   "metadata": {},
   "outputs": [
    {
     "name": "stdout",
     "output_type": "stream",
     "text": [
      "Wow!so beautiful\n"
     ]
    }
   ],
   "source": [
    "# without re.DOTALL\n",
    "import re\n",
    "str = \"Wow!so beautiful\\npicture\"\n",
    "pattern = r'.+'\n",
    "match = re.compile(pattern)\n",
    "result = match.search(str)\n",
    "print(result.group())"
   ]
  },
  {
   "cell_type": "code",
   "execution_count": 30,
   "id": "3f0c19f9",
   "metadata": {},
   "outputs": [
    {
     "name": "stdout",
     "output_type": "stream",
     "text": [
      "Wow!so beautiful\n",
      "picture\n"
     ]
    }
   ],
   "source": [
    "# with re.DOTALL\n",
    "import re\n",
    "str = \"Wow!so beautiful\\npicture\"\n",
    "pattern = r'.+'\n",
    "match = re.compile(pattern, re.DOTALL)\n",
    "result = match.search(str)\n",
    "print(result.group())"
   ]
  },
  {
   "cell_type": "markdown",
   "id": "a1a2df5b",
   "metadata": {},
   "source": [
    "# 18. If numReg = re.compile(r'\\d+'), what will numRegex.sub('X', '11 drummers, 10 pipers, five rings, 4hen') return?\n",
    "# Answer "
   ]
  },
  {
   "cell_type": "code",
   "execution_count": 31,
   "id": "f21a5cfd",
   "metadata": {},
   "outputs": [
    {
     "name": "stdout",
     "output_type": "stream",
     "text": [
      "X drummers, X pipers, five rings, Xhen\n"
     ]
    }
   ],
   "source": [
    "import re\n",
    "text = \"11 drummers, 10 pipers, five rings, 4hen\"\n",
    "numRegex = re.compile(r'\\d+')\n",
    "result = numRegex.sub('X',text)\n",
    "print(result)"
   ]
  },
  {
   "cell_type": "markdown",
   "id": "b764dbf5",
   "metadata": {},
   "source": [
    "# 19. What does passing re.VERBOSE as the 2nd argument to re.compile() allow to do?\n",
    "# Answer \n",
    "\n",
    "  As the 2nd argument when we pass re.VERBOSE to re.compile() it allow to write regular expression in more readable manner by ignoring whitespace and comments within the pattern.\n",
    "\n",
    "Example:"
   ]
  },
  {
   "cell_type": "code",
   "execution_count": 32,
   "id": "2ad354c3",
   "metadata": {},
   "outputs": [
    {
     "name": "stdout",
     "output_type": "stream",
     "text": [
      "333-444-5555\n"
     ]
    }
   ],
   "source": [
    "import re\n",
    "text = \"333-444-5555\"\n",
    "pattern = re.compile(r\"\"\"\n",
    "^\\d{3}  # Match 3 digits\n",
    "-        # Match a hyphen\n",
    "\\d{3}  # Match 3 digits\n",
    "-        # Match a hyphen\n",
    "\\d{4}  # Match 4 digits\n",
    "$        # Match the end of the string\n",
    "\"\"\", re.VERBOSE)\n",
    "match = pattern.search(text)\n",
    "print(match.group())"
   ]
  },
  {
   "cell_type": "markdown",
   "id": "7246fb6d",
   "metadata": {},
   "source": [
    "# 20. How would you write a regex that match a number with comma for every three digits? It must match the given following:\n",
    "\n",
    "\"42\"\n",
    "\n",
    "\"1,234\"\n",
    "\n",
    "\"6,368,745\"\n",
    "\n",
    "but not the following:\n",
    "    \n",
    "\"12,34,567\" (which has only two digits between the commas)\n",
    "\n",
    "\"1234\" (which lacks commas)\n",
    "\n",
    "# Answer "
   ]
  },
  {
   "cell_type": "code",
   "execution_count": 33,
   "id": "2f1bad0a",
   "metadata": {},
   "outputs": [
    {
     "name": "stdout",
     "output_type": "stream",
     "text": [
      "42 is matching the pattern\n",
      "1,234 is matching the pattern\n",
      "6,368,745 is matching the pattern\n"
     ]
    }
   ],
   "source": [
    "import re\n",
    "num = [\"42\",\"1,234\",\"6,368,745\",\"12,34,567\",\"1234\"]\n",
    "pattern = r'^\\d{1,3}(,\\d{3})*$'\n",
    "for i in num:\n",
    "    result = re.match(pattern,i)\n",
    "    \n",
    "    if result:\n",
    "        print(result.group(),\"is matching the pattern\")"
   ]
  },
  {
   "cell_type": "markdown",
   "id": "8b2b3159",
   "metadata": {},
   "source": [
    "# 21. How would you write a regex that matches the full name of someone whose last name is Watanabe? You can assume that the first name that comes before it will always be one word thatbegins with a capital letter. The regex must match the following:\n",
    "\n",
    "\"Haruto Watanabe\"\n",
    "\n",
    "\"Alice Watanabe\"\n",
    "\n",
    "\"RoboCop Watanabe\"\n",
    "\n",
    "but not the following:\n",
    "    \n",
    "\"haruto Watanabe\" (where the first name is not capitalized)\n",
    "\n",
    "\"Mr. Watanabe\"(where the preceding word has a nonletter character)\n",
    "\n",
    "\"Watanabe\" (which has no first name)\n",
    "\n",
    "\"Haruto watanabe\" (where Watanabe is not capitalized)\n",
    "\n",
    "# Answer"
   ]
  },
  {
   "cell_type": "code",
   "execution_count": 34,
   "id": "774ba5af",
   "metadata": {},
   "outputs": [
    {
     "name": "stdout",
     "output_type": "stream",
     "text": [
      "Haruto Watanabe\n",
      "Alice Watanabe\n",
      "RoboCop Watanabe\n"
     ]
    }
   ],
   "source": [
    "import re\n",
    "name = [\"Haruto Watanabe\", \"Alice Watanabe\", \"RoboCop Watanabe\", \"haruto Watanabe\",\"Mr. Watanabe\", \"Watanabe\", \"Haruto watanabe\" ]\n",
    "pattern = r'\\b[A-Z][a-zA-Z]+ Watanabe\\b'\n",
    "for i in name :\n",
    "    result = re.match(pattern, i)\n",
    "    if result :\n",
    "        print(result.group())    "
   ]
  },
  {
   "cell_type": "markdown",
   "id": "07d41550",
   "metadata": {},
   "source": [
    "# 22. How would you write a regex that matches a sentence where the first word is either Alice, Bob,or Carol; the second word is either eats, pets, or throws; the third word is apples, cats, or baseballs;and the sentence ends with a period? This regex should be case-insensitive. It must match thefollowing:\n",
    "\n",
    "\"Alice eats apples.\"\n",
    "\n",
    "\"Bob pets cats.\"\n",
    "\n",
    "\"Carol throws baseballs.\"\n",
    "\n",
    "\"Alice throws Apples.\"\n",
    "\n",
    "\"BOB EATS CATS.\"\n",
    "\n",
    "but not the following:\n",
    "\n",
    "\"RoboCop eats apples.\"\n",
    "\n",
    "\"ALICE THROWS FOOTBALLS.\"\n",
    "\n",
    "\"Carol eats 7 cats.\"\n",
    "\n",
    "# Answer"
   ]
  },
  {
   "cell_type": "code",
   "execution_count": 35,
   "id": "c3e5fc91",
   "metadata": {},
   "outputs": [
    {
     "name": "stdout",
     "output_type": "stream",
     "text": [
      "Alice eats apples.\n",
      "Bob pets cats.\n",
      "Carol throws baseballs.\n",
      "Alice throws Apples.\n",
      "BOB EATS CATS.\n"
     ]
    }
   ],
   "source": [
    "import re\n",
    "str = [\"Alice eats apples.\", \"Bob pets cats.\", \"Carol throws baseballs.\", \"Alice throws Apples.\", \"BOB EATS CATS.\", \"RoboCop eats apples.\", \"ALICE THROWS FOOTBALLS.\", \"Carol eats 7 cats.\"]\n",
    "pattern = r'(Alice|Bob|Carol)\\s(eats|pets|throws)\\s(apples|cats|baseballs)\\.'\n",
    "for i in str :\n",
    "    result = re.match(pattern, i, re.IGNORECASE)\n",
    "    if(result):\n",
    "        print(result.group())"
   ]
  }
 ],
 "metadata": {
  "kernelspec": {
   "display_name": "Python 3 (ipykernel)",
   "language": "python",
   "name": "python3"
  },
  "language_info": {
   "codemirror_mode": {
    "name": "ipython",
    "version": 3
   },
   "file_extension": ".py",
   "mimetype": "text/x-python",
   "name": "python",
   "nbconvert_exporter": "python",
   "pygments_lexer": "ipython3",
   "version": "3.9.13"
  }
 },
 "nbformat": 4,
 "nbformat_minor": 5
}
