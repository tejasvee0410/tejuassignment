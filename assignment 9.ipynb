{
 "cells": [
  {
   "cell_type": "markdown",
   "id": "a12db7bc",
   "metadata": {},
   "source": [
    "# 1. To what does a relative path refer?\n",
    "# Answer\n",
    "   \n",
    "     A relative path refer to the location of current working directory."
   ]
  },
  {
   "cell_type": "markdown",
   "id": "2bdabc89",
   "metadata": {},
   "source": [
    "# 2. What does an absolute path start with your operating system?\n",
    "# Answer \n",
    "\n",
    "     An absolute path start with drive letter followed by colon and backslash. \n",
    "      Ex : C:\\\n",
    "    "
   ]
  },
  {
   "cell_type": "markdown",
   "id": "72181027",
   "metadata": {},
   "source": [
    "# 3. What do the functions os.getcwd() and os.chdir() do?\n",
    "# Answer \n",
    "\n",
    "        The function os.getcwd() is used to get location of a current working directory and the function os.chdir() changes the current working directory to specific path."
   ]
  },
  {
   "cell_type": "markdown",
   "id": "d51364b0",
   "metadata": {},
   "source": [
    "# 4. What are the . and .. folders?\n",
    "# Answer\n",
    "   \n",
    "       The . represent current working folder while .. represent parent folder. "
   ]
  },
  {
   "cell_type": "markdown",
   "id": "a345cf3a",
   "metadata": {},
   "source": [
    "# 5. In C:\\bacon\\eggs\\spam.txt, which part is the dir name, and which part is the base name?\n",
    "# Answer\n",
    "   \n",
    "      In C:\\bacon\\eggs\\spam.txt the dir name is C:\\bacon\\eggs and the base name is spam.txt . "
   ]
  },
  {
   "cell_type": "markdown",
   "id": "1b46fa3c",
   "metadata": {},
   "source": [
    "# 6. What are the three “mode” arguments that can be passed to the open() function?\n",
    "# Answer\n",
    "\n",
    "       The three \"mode\" arguments that can be passed to the open() function are as follow :\n",
    "        \n",
    "        1) 'r' : It is used for only reading the file. If file doesn't exist it raise the error.\n",
    "            \n",
    "        2) 'w' : It is used for only writing in the file. It can create new file if file doesn't exist.\n",
    "            \n",
    "        3) 'r+' : It is used for both reading and writing the file.It raise error if file doesn't exist.\n",
    "        "
   ]
  },
  {
   "cell_type": "markdown",
   "id": "918457a8",
   "metadata": {},
   "source": [
    "# 7. What happens if an existing file is opened in write mode?\n",
    "# Answer\n",
    "\n",
    "     If existing file is opened in write mode than we can overwrite on file.  "
   ]
  },
  {
   "cell_type": "markdown",
   "id": "69aaceec",
   "metadata": {},
   "source": [
    "# 8. How do you tell the difference between read() and readlines()?\n",
    "# Answer\n",
    "\n",
    "  read() function will read entire lines of file and return as a single string while readlines() will read entire lines file of file one by one and return as a list of strings.\n",
    "    "
   ]
  },
  {
   "cell_type": "markdown",
   "id": "8d6c0f26",
   "metadata": {},
   "source": [
    "# 9. What data structure does a shelf value resemble?\n",
    "# Answer \n",
    "\n",
    "    A shelf value resemble dictionary data structure.Just like dectionary it has key and value.\n",
    "         "
   ]
  }
 ],
 "metadata": {
  "kernelspec": {
   "display_name": "Python 3 (ipykernel)",
   "language": "python",
   "name": "python3"
  },
  "language_info": {
   "codemirror_mode": {
    "name": "ipython",
    "version": 3
   },
   "file_extension": ".py",
   "mimetype": "text/x-python",
   "name": "python",
   "nbconvert_exporter": "python",
   "pygments_lexer": "ipython3",
   "version": "3.9.13"
  }
 },
 "nbformat": 4,
 "nbformat_minor": 5
}
