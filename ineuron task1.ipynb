{
 "cells": [
  {
   "cell_type": "markdown",
   "id": "963ab40f",
   "metadata": {},
   "source": [
    "s=\"this is my first python programing class and i am learning python string\""
   ]
  },
  {
   "cell_type": "markdown",
   "id": "1b1d7aed",
   "metadata": {},
   "source": [
    "# 1"
   ]
  },
  {
   "cell_type": "code",
   "execution_count": 96,
   "id": "3b96d368",
   "metadata": {},
   "outputs": [
    {
     "data": {
      "text/plain": [
       "'h   r tnrri a d  ai tntn'"
      ]
     },
     "execution_count": 96,
     "metadata": {},
     "output_type": "execute_result"
    }
   ],
   "source": [
    "s[1:300:3]"
   ]
  },
  {
   "cell_type": "markdown",
   "id": "bd62dd0f",
   "metadata": {},
   "source": [
    "# 2"
   ]
  },
  {
   "cell_type": "code",
   "execution_count": 97,
   "id": "c3e9d512",
   "metadata": {},
   "outputs": [
    {
     "data": {
      "text/plain": [
       "'gnirts nohtyp gninrael ma i dna ssalc gnimargorp nohtyp tsrif ym si sih'"
      ]
     },
     "execution_count": 97,
     "metadata": {},
     "output_type": "execute_result"
    }
   ],
   "source": [
    "s[-1:0:-1]"
   ]
  },
  {
   "cell_type": "code",
   "execution_count": 101,
   "id": "dc5eb2eb",
   "metadata": {},
   "outputs": [
    {
     "data": {
      "text/plain": [
       "'gnirts nohtyp gninrael ma i dna ssalc gnimargorp nohtyp tsrif ym si siht'"
      ]
     },
     "execution_count": 101,
     "metadata": {},
     "output_type": "execute_result"
    }
   ],
   "source": [
    "s[::-1]"
   ]
  },
  {
   "cell_type": "markdown",
   "id": "4b5d804e",
   "metadata": {},
   "source": [
    "# 3"
   ]
  },
  {
   "cell_type": "code",
   "execution_count": 98,
   "id": "20ff8682",
   "metadata": {},
   "outputs": [
    {
     "data": {
      "text/plain": [
       "'THIS IS MY FIRST PYTHON PROGRAMING CLASS AND I AM LEARNING PYTHON STRING'"
      ]
     },
     "execution_count": 98,
     "metadata": {},
     "output_type": "execute_result"
    }
   ],
   "source": [
    "s.upper()"
   ]
  },
  {
   "cell_type": "code",
   "execution_count": 99,
   "id": "39e9a2c9",
   "metadata": {},
   "outputs": [],
   "source": [
    "k=s.upper()"
   ]
  },
  {
   "cell_type": "code",
   "execution_count": 100,
   "id": "7fe0f0d2",
   "metadata": {},
   "outputs": [
    {
     "data": {
      "text/plain": [
       "['THIS',\n",
       " 'IS',\n",
       " 'MY',\n",
       " 'FIRST',\n",
       " 'PYTHON',\n",
       " 'PROGRAMING',\n",
       " 'CLASS',\n",
       " 'AND',\n",
       " 'I',\n",
       " 'AM',\n",
       " 'LEARNING',\n",
       " 'PYTHON',\n",
       " 'STRING']"
      ]
     },
     "execution_count": 100,
     "metadata": {},
     "output_type": "execute_result"
    }
   ],
   "source": [
    "k.split()"
   ]
  },
  {
   "cell_type": "markdown",
   "id": "e968f5d8",
   "metadata": {},
   "source": [
    "# 4"
   ]
  },
  {
   "cell_type": "code",
   "execution_count": 44,
   "id": "9d360950",
   "metadata": {},
   "outputs": [
    {
     "data": {
      "text/plain": [
       "'this is my first python programing class and i am learning python string'"
      ]
     },
     "execution_count": 44,
     "metadata": {},
     "output_type": "execute_result"
    }
   ],
   "source": [
    "s.lower()"
   ]
  },
  {
   "cell_type": "markdown",
   "id": "5ae9c96a",
   "metadata": {},
   "source": [
    "# 5"
   ]
  },
  {
   "cell_type": "code",
   "execution_count": 45,
   "id": "2c23d051",
   "metadata": {},
   "outputs": [
    {
     "data": {
      "text/plain": [
       "'This is my first python programing class and i am learning python string'"
      ]
     },
     "execution_count": 45,
     "metadata": {},
     "output_type": "execute_result"
    }
   ],
   "source": [
    "s.capitalize()"
   ]
  },
  {
   "cell_type": "markdown",
   "id": "816484bf",
   "metadata": {},
   "source": [
    "# 6"
   ]
  },
  {
   "cell_type": "code",
   "execution_count": null,
   "id": "d6c66047",
   "metadata": {},
   "outputs": [],
   "source": [
    "isalnum() : It is a string function which used to check whether string is in alphabet or in number.If the string is in either alphabet or number than it is true else it is false.\n",
    "            It is false for space,/,? etc. if they are with alphabet and number.\n",
    "        y=\"ineuronstarteddatasciencecoursefrom8052022\"\n",
    "isalpha() : It is a kind of string function which is true if the string is only in alphabet otherwise it is false.\n",
    "            It is false for space or any sign and digit\n",
    "        x=\"Ijuststartedmyprograming\"\n",
    "        "
   ]
  },
  {
   "cell_type": "code",
   "execution_count": 67,
   "id": "d89b7127",
   "metadata": {},
   "outputs": [],
   "source": [
    "y=\"ineuronstarteddatasciencecoursefrom8052022\""
   ]
  },
  {
   "cell_type": "code",
   "execution_count": 68,
   "id": "812cda17",
   "metadata": {},
   "outputs": [
    {
     "data": {
      "text/plain": [
       "True"
      ]
     },
     "execution_count": 68,
     "metadata": {},
     "output_type": "execute_result"
    }
   ],
   "source": [
    "y.isalnum()"
   ]
  },
  {
   "cell_type": "code",
   "execution_count": 71,
   "id": "31b52d39",
   "metadata": {},
   "outputs": [],
   "source": [
    "x=\"Ijuststartedmyprograming\""
   ]
  },
  {
   "cell_type": "code",
   "execution_count": 72,
   "id": "81cf0261",
   "metadata": {},
   "outputs": [
    {
     "data": {
      "text/plain": [
       "True"
      ]
     },
     "execution_count": 72,
     "metadata": {},
     "output_type": "execute_result"
    }
   ],
   "source": [
    "x.isalpha()"
   ]
  },
  {
   "cell_type": "markdown",
   "id": "21774760",
   "metadata": {},
   "source": [
    "# 7"
   ]
  },
  {
   "cell_type": "code",
   "execution_count": 83,
   "id": "3bf8e6d4",
   "metadata": {},
   "outputs": [],
   "source": [
    "f=\"worker\\triya\\trest 23\""
   ]
  },
  {
   "cell_type": "code",
   "execution_count": 84,
   "id": "133220f0",
   "metadata": {},
   "outputs": [
    {
     "data": {
      "text/plain": [
       "'worker  riya    rest 23'"
      ]
     },
     "execution_count": 84,
     "metadata": {},
     "output_type": "execute_result"
    }
   ],
   "source": [
    "f.expandtabs()"
   ]
  },
  {
   "cell_type": "markdown",
   "id": "d569d814",
   "metadata": {},
   "source": [
    "# 8"
   ]
  },
  {
   "cell_type": "code",
   "execution_count": 87,
   "id": "d7b8f25e",
   "metadata": {},
   "outputs": [
    {
     "data": {
      "text/plain": [
       "'today i have to complete this work'"
      ]
     },
     "execution_count": 87,
     "metadata": {},
     "output_type": "execute_result"
    }
   ],
   "source": [
    "t=\"    today i have to complete this work      \"\n",
    "t.strip()"
   ]
  },
  {
   "cell_type": "code",
   "execution_count": 88,
   "id": "01fbb0b7",
   "metadata": {},
   "outputs": [
    {
     "data": {
      "text/plain": [
       "'your are good speaker'"
      ]
     },
     "execution_count": 88,
     "metadata": {},
     "output_type": "execute_result"
    }
   ],
   "source": [
    "r=\"       your are good speaker\"\n",
    "r.lstrip()"
   ]
  },
  {
   "cell_type": "code",
   "execution_count": 89,
   "id": "ba98f1ad",
   "metadata": {},
   "outputs": [
    {
     "data": {
      "text/plain": [
       "'where is will there is way'"
      ]
     },
     "execution_count": 89,
     "metadata": {},
     "output_type": "execute_result"
    }
   ],
   "source": [
    "w=\"where is will there is way         \"\n",
    "w.rstrip()"
   ]
  },
  {
   "cell_type": "markdown",
   "id": "709e0551",
   "metadata": {},
   "source": [
    "# 9"
   ]
  },
  {
   "cell_type": "code",
   "execution_count": 93,
   "id": "112b09ca",
   "metadata": {},
   "outputs": [
    {
     "data": {
      "text/plain": [
       "'I trying to complete this task'"
      ]
     },
     "execution_count": 93,
     "metadata": {},
     "output_type": "execute_result"
    }
   ],
   "source": [
    "i=\"I tried to complete this task\"\n",
    "i.replace(\"tried\",\"trying\")"
   ]
  },
  {
   "cell_type": "markdown",
   "id": "215afcbf",
   "metadata": {},
   "source": [
    "# 10"
   ]
  },
  {
   "cell_type": "code",
   "execution_count": 103,
   "id": "3f191cf2",
   "metadata": {},
   "outputs": [
    {
     "data": {
      "text/plain": [
       "'$$$$$$$$$$$$$$$$teju$$$$$$$$$$$$$$$'"
      ]
     },
     "execution_count": 103,
     "metadata": {},
     "output_type": "execute_result"
    }
   ],
   "source": [
    "center string : In this type of string function we add width and any character so it reserve that width using character and put the string in center\n",
    "p=\"teju\"\n",
    "p.center(35,'$')"
   ]
  },
  {
   "cell_type": "markdown",
   "id": "b4816dc1",
   "metadata": {},
   "source": [
    "# 11"
   ]
  },
  {
   "cell_type": "code",
   "execution_count": null,
   "id": "59d88525",
   "metadata": {},
   "outputs": [],
   "source": [
    "compiler: It convert human language to machine language(0,1).It convert whole program at once.It first compile the program and then execute the output\n",
    "       Ex. : c,c++,java etc.\n",
    "interpreter : It also convert  human language to machine language but it convert line by line not at once.It compile the program in less time compare to compiler and execute output.\n",
    "       Ex. : python,php etc."
   ]
  },
  {
   "cell_type": "markdown",
   "id": "f2d03bf5",
   "metadata": {},
   "source": [
    "# 12"
   ]
  },
  {
   "cell_type": "code",
   "execution_count": null,
   "id": "8cda7508",
   "metadata": {},
   "outputs": [],
   "source": [
    "Python is interpreted language because it execute output line by line not at once also it take less time compared to other language to execute otput."
   ]
  },
  {
   "cell_type": "markdown",
   "id": "48661662",
   "metadata": {},
   "source": [
    "# 13"
   ]
  },
  {
   "cell_type": "code",
   "execution_count": null,
   "id": "bc62023f",
   "metadata": {},
   "outputs": [],
   "source": [
    "use of python\n",
    "1)for web development\n",
    "2)for game development\n",
    "3)for handle big data\n",
    "4)for various application\n",
    "5)for machine learning"
   ]
  }
 ],
 "metadata": {
  "kernelspec": {
   "display_name": "Python 3 (ipykernel)",
   "language": "python",
   "name": "python3"
  },
  "language_info": {
   "codemirror_mode": {
    "name": "ipython",
    "version": 3
   },
   "file_extension": ".py",
   "mimetype": "text/x-python",
   "name": "python",
   "nbconvert_exporter": "python",
   "pygments_lexer": "ipython3",
   "version": "3.9.12"
  }
 },
 "nbformat": 4,
 "nbformat_minor": 5
}
